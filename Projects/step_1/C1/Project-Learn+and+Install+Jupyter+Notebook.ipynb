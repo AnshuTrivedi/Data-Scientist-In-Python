{
 "cells": [
  {
   "cell_type": "markdown",
   "metadata": {
    "collapsed": false
   },
   "source": [
    "# Jupyter Notebook"
   ]
  },
  {
   "cell_type": "markdown",
   "metadata": {
    "collapsed": true
   },
   "source": [
    "Using Jupyter, we can:\n",
    "\n",
    "* Type and execute code.\n",
    "* Add accompanying text to our code.\n",
    "* Add visualizations."
   ]
  },
  {
   "cell_type": "markdown",
   "metadata": {},
   "source": [
    "This `combination of code, narrative text, and visualizations` is a key element in almost any data science workflow. Jupyter makes it easy to combine these three elements, and this is what makes it a must-have tool for any data scientist."
   ]
  },
  {
   "cell_type": "markdown",
   "metadata": {},
   "source": [
    "* Jupyter Notebook is a web application, which means it can run in a browser"
   ]
  },
  {
   "cell_type": "markdown",
   "metadata": {},
   "source": [
    "# Running Code"
   ]
  },
  {
   "cell_type": "markdown",
   "metadata": {},
   "source": [
    "The Jupyter interface has a few sections, including:\n",
    "* A menu bar\n",
    "* A toolbar\n",
    "* A code cell"
   ]
  },
  {
   "cell_type": "markdown",
   "metadata": {},
   "source": [
    "To type and run code, we need to:\n",
    "\n",
    "* Click on the code cell.\n",
    "* Type the code we want to run.\n",
    "* Click the run cell, select below button on the toolbar."
   ]
  },
  {
   "cell_type": "code",
   "execution_count": 10,
   "metadata": {
    "collapsed": true
   },
   "outputs": [],
   "source": [
    "welcome_MESSAGE='Hello jupyter!'\n",
    "first_cell=True"
   ]
  },
  {
   "cell_type": "code",
   "execution_count": 11,
   "metadata": {
    "collapsed": false
   },
   "outputs": [
    {
     "name": "stdout",
     "output_type": "stream",
     "text": [
      "second cell\n"
     ]
    }
   ],
   "source": [
    "print('second cell')"
   ]
  },
  {
   "cell_type": "code",
   "execution_count": 12,
   "metadata": {
    "collapsed": false
   },
   "outputs": [
    {
     "name": "stdout",
     "output_type": "stream",
     "text": [
      "third cell\n"
     ]
    }
   ],
   "source": [
    "result=1200/5\n",
    "second_cell=True\n",
    "print('third cell')"
   ]
  },
  {
   "cell_type": "markdown",
   "metadata": {},
   "source": [
    "# Running Code Using the Keyword"
   ]
  },
  {
   "cell_type": "markdown",
   "metadata": {},
   "source": [
    "* we used the run cell, select below button to run code. It's more convenient, however, to use a keyboard shortcut to run code.\n",
    "*  The keyboard shortcut equivalent to the run cell, select below action is Shift + Enter"
   ]
  },
  {
   "cell_type": "markdown",
   "metadata": {},
   "source": [
    "* Shift + Enter: run cell, select below\n",
    "* Ctrl + Enter: run selected cell\n",
    "* Alt + Enter: run cell, insert below"
   ]
  },
  {
   "cell_type": "markdown",
   "metadata": {},
   "source": [
    "# Keyboard Shortcuts"
   ]
  },
  {
   "cell_type": "markdown",
   "metadata": {},
   "source": [
    "* When we type code, Jupyter is in edit mode — a small pencil icon appears to the right of the menu bar when edit mode is active."
   ]
  },
  {
   "cell_type": "markdown",
   "metadata": {},
   "source": [
    "* If we press Esc or click outside the cell when Jupyter is in edit mode, Jupyter enters command mode — the pencil icon disappears when command mode is active."
   ]
  },
  {
   "cell_type": "markdown",
   "metadata": {},
   "source": [
    "Some of the most useful keyboard shortcuts we can use in command mode are:\n",
    "*  Ctrl + Enter: run selected cell\n",
    "* Shift + Enter: run cell, select below\n",
    "* Alt + Enter: run cell, insert below\n",
    "* Up: select cell above\n",
    "* Down: select cell below\n",
    "* Enter: enter edit mode\n",
    "* A: insert cell abovey\n",
    "* B: insert cell below\n",
    "* D, D (press D twice): delete selected cell\n",
    "* Z: undo cell deletion\n",
    "* S: save and checkpoint\n",
    "* Y: convert to code cell\n",
    "* M: convert to Markdown cell (we'll talk about Markdown cells later in this mission)'''"
   ]
  },
  {
   "cell_type": "markdown",
   "metadata": {},
   "source": [
    "*Some of the most useful keyboard shortcuts we can use in edit mode are:\n",
    "\n",
    "* Ctrl + Enter: run selected cell\n",
    "* Shift + Enter: run cell, select below\n",
    "* Alt + Enter: run cell, insert below\n",
    "* Up: move cursor up\n",
    "* Down: move cursor down\n",
    "* Esc: enter command mode\n",
    "* Ctrl + A: select all\n",
    "* Ctrl + Z: undo\n",
    "* Ctrl + Y: redo\n",
    "* Ctrl + S: save and checkpoint\n",
    "* Tab: indent or code completion\n",
    "* Shift + Tab: tooltip (for instance, if you press Shift + Tab while the cursor is within the parentheses of a built-in function, a tooltip with documentation will pop up)"
   ]
  },
  {
   "cell_type": "markdown",
   "metadata": {},
   "source": [
    "# State"
   ]
  },
  {
   "cell_type": "markdown",
   "metadata": {},
   "source": [
    "* A variable or a function defined in a particular code cell becomes available in every other code cell."
   ]
  },
  {
   "cell_type": "markdown",
   "metadata": {},
   "source": [
    "* After we run code, the computer remembers what value is assigned to which variable, what function does what, etc. The sum of all this information that the computer remembers about our program is often called state or program state."
   ]
  },
  {
   "cell_type": "markdown",
   "metadata": {},
   "source": [
    "* All the code cells of a Jupyter notebook share the same state."
   ]
  },
  {
   "cell_type": "markdown",
   "metadata": {},
   "source": [
    "# Hidden State"
   ]
  },
  {
   "cell_type": "markdown",
   "metadata": {
    "collapsed": true
   },
   "source": [
    "* When we work in Jupyter, we usually run code cells in order (from top to bottom), and this helps us keep a clear mental picture of our program's state.\n",
    "* However, sometimes we may want to go back and add some changes to certain code cells, and then run the code in those specific cells again. \n",
    "* Jupyter is flexible enough to allow us to do that, but this is a double-edged sword — it can easily make us lose track of our program's state.\n",
    "* This most likely happened because there's something in the program's state we're not aware of — the program has some hidden state. \n",
    "* To find out what's really happening, we can start by checking the order of code execution.\n",
    "* The numbers in `In [number]:`, which we can see on left of each code cell, provide us with the order of execution."
   ]
  },
  {
   "cell_type": "markdown",
   "metadata": {},
   "source": [
    "* To find out exactly what happened, we can run the special command %history -p, which tells what code ran in what order:\n",
    "\n"
   ]
  },
  {
   "cell_type": "code",
   "execution_count": 4,
   "metadata": {
    "collapsed": false
   },
   "outputs": [
    {
     "data": {
      "text/plain": [
       "9"
      ]
     },
     "execution_count": 4,
     "metadata": {},
     "output_type": "execute_result"
    }
   ],
   "source": [
    "b=5\n",
    "a=4\n",
    "c=a+b\n",
    "c"
   ]
  },
  {
   "cell_type": "code",
   "execution_count": 5,
   "metadata": {
    "collapsed": false
   },
   "outputs": [
    {
     "name": "stdout",
     "output_type": "stream",
     "text": [
      ">>> %history -p\n",
      ">>> a=4\n",
      "... b=5\n",
      "... c=a+b\n",
      "... c\n",
      "...\n",
      ">>> %history -p\n",
      ">>> b=5\n",
      "... a=4\n",
      "... c=a+b\n",
      "... c\n",
      "...\n",
      ">>> %history -p\n"
     ]
    }
   ],
   "source": [
    "%history -p"
   ]
  },
  {
   "cell_type": "markdown",
   "metadata": {},
   "source": [
    "# 7. Text and Markdown Cells"
   ]
  },
  {
   "cell_type": "markdown",
   "metadata": {},
   "source": [
    "* One of the most useful features of Jupyter is that it allows us to accompany our code with text."
   ]
  },
  {
   "cell_type": "markdown",
   "metadata": {},
   "source": [
    "The kind of cell we use to add text is called \"Markdown\" because it supports Markdown syntax. Markdown syntax allows us to use keyboard symbols to format our text such that we can:\n",
    "\n",
    "* Add italics and bolds.\n",
    "* Add headers (titles) of various sizes.\n",
    "* Add hyperlinks and images."
   ]
  },
  {
   "cell_type": "markdown",
   "metadata": {},
   "source": [
    "You can find a useful cheat sheet on Markdown syntax at this [link](https://commonmark.org/help/)."
   ]
  },
  {
   "cell_type": "markdown",
   "metadata": {},
   "source": [
    "Use [this resource](https://www.markdownguide.org/extended-syntax/#tables) to quickly learn the syntax for adding a table."
   ]
  },
  {
   "cell_type": "markdown",
   "metadata": {},
   "source": [
    "|Name|Age|Degree|\n",
    "|---|---|---|\n",
    "|Anshu|21|B.Tech|\n",
    "|Avi|20|B.Tech|"
   ]
  },
  {
   "cell_type": "markdown",
   "metadata": {},
   "source": [
    "# 8. Installing Jupyter Locally"
   ]
  },
  {
   "cell_type": "markdown",
   "metadata": {},
   "source": [
    "* Make sure you first run  `pip3 install --upgrade pip`  in the command line to upgrade older version of pip. \n",
    "* Then, you can install Jupyter by running  `pip3 install jupyter`"
   ]
  },
  {
   "cell_type": "markdown",
   "metadata": {},
   "source": [
    "If you're new to Python, we strongly recommend installing the Anaconda distribution, which will install both Python and Jupyter on your computer. You can download the Anaconda distribution from [here](https://www.anaconda.com/distribution/)."
   ]
  },
  {
   "cell_type": "markdown",
   "metadata": {},
   "source": [
    "Before you start downloading, make sure you:\n",
    "\n",
    "* Select the right operating system — Windows, macOS, or Linux.\n",
    "* Download the Python 3 version."
   ]
  },
  {
   "cell_type": "markdown",
   "metadata": {},
   "source": [
    "After you finished installing Anaconda, open the Anaconda Navigator by following the instructions [here](https://docs.anaconda.com/anaconda/user-guide/getting-started/#open-navigator). "
   ]
  },
  {
   "cell_type": "markdown",
   "metadata": {},
   "source": [
    "# 9. Opening and Closing a Notebook File"
   ]
  },
  {
   "cell_type": "markdown",
   "metadata": {},
   "source": [
    "* As soon as you launch Jupyter, a new web page pops up in the browser.\n",
    "* Jupyter is a web application, which means it runs in the browser. A new server is created at localhost:8888, the URL you see in the browser.\n",
    "* Access to your notebook server is restricted via a token-based authentication that Jupyter runs by default.\n",
    "* You don't need to worry that random people on the Internet can access the server and run arbitrary code. \n",
    "* You can read more about the security in a Jupyter notebook server [here](https://jupyter-notebook.readthedocs.io/en/stable/security.html#security-in-the-jupyter-notebook-server), and you can find more technical details about the kind of server Jupyter runs here.\n"
   ]
  },
  {
   "cell_type": "markdown",
   "metadata": {},
   "source": [
    "* To create a new notebook file, we need to click on the New dropdown menu and then select Python3. This will automatically create and open a new notebook file which we can use to run Python 3 code. "
   ]
  },
  {
   "cell_type": "markdown",
   "metadata": {},
   "source": [
    "# 10. Absolute and Relative Paths"
   ]
  },
  {
   "cell_type": "markdown",
   "metadata": {},
   "source": [
    "* Now that we know the computer only searches within the directory of the notebook file, we can also debug our initial code by bringing the notebook file and the data set in the same directory. There are at least two ways we can do that:\n",
    "\n",
    "* We can create a new notebook at /home/alex/my_datasets (where AppleStore.csv is located) and run open('AppleStore.csv') from there.\n",
    "* We can copy the AppleStore.csv file to /home/alex."
   ]
  },
  {
   "cell_type": "markdown",
   "metadata": {},
   "source": [
    "* It is useful when we want to give only file name as input not complete file path"
   ]
  }
 ],
 "metadata": {
  "kernelspec": {
   "display_name": "Python 3",
   "language": "python",
   "name": "python3"
  },
  "language_info": {
   "codemirror_mode": {
    "name": "ipython",
    "version": 3
   },
   "file_extension": ".py",
   "mimetype": "text/x-python",
   "name": "python",
   "nbconvert_exporter": "python",
   "pygments_lexer": "ipython3",
   "version": "3.4.3"
  }
 },
 "nbformat": 4,
 "nbformat_minor": 2
}
