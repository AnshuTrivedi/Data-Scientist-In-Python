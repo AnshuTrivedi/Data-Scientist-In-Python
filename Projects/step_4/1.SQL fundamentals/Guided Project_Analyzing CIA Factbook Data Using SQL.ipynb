{
 "cells": [
  {
   "cell_type": "markdown",
   "metadata": {},
   "source": [
    "# 1. Jupyter"
   ]
  },
  {
   "cell_type": "markdown",
   "metadata": {},
   "source": [
    "You'll also need ipython-sql which you can install by starting Jupyter and in a code cell running the following code:\n",
    "\n",
    "!conda install -yc conda-forge ipython-sql"
   ]
  },
  {
   "cell_type": "markdown",
   "metadata": {},
   "source": [
    "# 2. Introduction"
   ]
  },
  {
   "cell_type": "markdown",
   "metadata": {},
   "source": [
    "In this project, we'll work with data from the [CIA World Factbook](https://www.cia.gov/library/publications/the-world-factbook/), a compendium of statistics about all of the countries on Earth. The Factbook contains demographic information like:\n",
    "\n",
    "* population - The population as of 2015.\n",
    "* population_growth - The annual population growth rate, as a percentage.\n",
    "* area - The total land and water area.\n",
    "\n",
    "In this guided project, we'll use SQL in Jupyter Notebook to explore and analyze data from this database."
   ]
  },
  {
   "cell_type": "markdown",
   "metadata": {},
   "source": [
    "We'll use the following code to connect our Jupyter Notebook to our database file:\n",
    "\n",
    "`%%capture\n",
    "%load_ext sql\n",
    "%sql sqlite:///factbook.db`"
   ]
  },
  {
   "cell_type": "markdown",
   "metadata": {},
   "source": [
    "`!conda install -yc conda-forge ipython-sql`"
   ]
  },
  {
   "cell_type": "code",
   "execution_count": 1,
   "metadata": {},
   "outputs": [],
   "source": [
    "%%capture\n",
    "%load_ext sql\n",
    "%sql sqlite:///facebook.db"
   ]
  },
  {
   "cell_type": "markdown",
   "metadata": {},
   "source": [
    "# 3. Overview of the Data"
   ]
  },
  {
   "cell_type": "code",
   "execution_count": 18,
   "metadata": {},
   "outputs": [
    {
     "name": "stdout",
     "output_type": "stream",
     "text": [
      " * sqlite:///facebook.db\n",
      "Done.\n"
     ]
    },
    {
     "data": {
      "text/html": [
       "<table>\n",
       "    <tr>\n",
       "        <th>type</th>\n",
       "        <th>name</th>\n",
       "        <th>tbl_name</th>\n",
       "        <th>rootpage</th>\n",
       "        <th>sql</th>\n",
       "    </tr>\n",
       "</table>"
      ],
      "text/plain": [
       "[]"
      ]
     },
     "execution_count": 18,
     "metadata": {},
     "output_type": "execute_result"
    }
   ],
   "source": [
    "%%sql\n",
    "\n",
    "SELECT *\n",
    "  FROM sqlite_master\n",
    " WHERE type='table'"
   ]
  },
  {
   "cell_type": "code",
   "execution_count": 19,
   "metadata": {},
   "outputs": [
    {
     "name": "stdout",
     "output_type": "stream",
     "text": [
      " * sqlite:///facebook.db\n",
      "(sqlite3.OperationalError) no such table: facts\n",
      "[SQL: SELECT *\n",
      "  FROM facts\n",
      " LIMIT 5;]\n",
      "(Background on this error at: http://sqlalche.me/e/e3q8)\n"
     ]
    }
   ],
   "source": [
    "%%sql\n",
    "SELECT *\n",
    "  FROM facts\n",
    " LIMIT 5;"
   ]
  },
  {
   "cell_type": "markdown",
   "metadata": {},
   "source": [
    "Here are the descriptions for some of the columns:\n",
    "\n",
    "* name - The name of the country.\n",
    "* area - The total land and sea area of the country.\n",
    "* population - The country's population.\n",
    "* population_growth- The country's population growth as a percentage.\n",
    "* birth_rate - The country's birth rate, or the number of births a year per 1,000 people.\n",
    "* death_rate - The country's death rate, or the number of death a year per 1,000 people.\n",
    "* area- The country's total area (both land and water).\n",
    "* area_land - The country's land area in square kilometers.\n",
    "* area_water - The country's waterarea in square kilometers.\n",
    "\n",
    "Let's start by calculating some summary statistics and see what they tell us."
   ]
  },
  {
   "cell_type": "markdown",
   "metadata": {},
   "source": [
    "# 4. Summary Statistics"
   ]
  },
  {
   "cell_type": "code",
   "execution_count": 4,
   "metadata": {},
   "outputs": [
    {
     "name": "stdout",
     "output_type": "stream",
     "text": [
      " * sqlite:///facebook.db\n",
      "(sqlite3.OperationalError) no such table: facts\n",
      "[SQL: SELECT MIN(population) AS min_pop,\n",
      "       MAX(population) AS max_pop,\n",
      "       MIN(population_growth) AS min_pop_growth,\n",
      "       MAX(population_growth) max_pop_growth \n",
      "  FROM facts;]\n",
      "(Background on this error at: http://sqlalche.me/e/e3q8)\n"
     ]
    }
   ],
   "source": [
    "%%sql\n",
    "\n",
    "SELECT MIN(population) AS min_pop,\n",
    "       MAX(population) AS max_pop,\n",
    "       MIN(population_growth) AS min_pop_growth,\n",
    "       MAX(population_growth) max_pop_growth \n",
    "  FROM facts;"
   ]
  },
  {
   "cell_type": "markdown",
   "metadata": {},
   "source": [
    "A few things stick out from the summary statistics in the last screen:\n",
    "\n",
    "There's a country with a population of 0\n",
    "There's a country with a population of 7256490011 (or more than 7.2 billion people)\n",
    "Let's use subqueries to zoom in on just these countries without using the specific values."
   ]
  },
  {
   "cell_type": "markdown",
   "metadata": {},
   "source": [
    "# 5. Exploring Outliers"
   ]
  },
  {
   "cell_type": "code",
   "execution_count": 5,
   "metadata": {},
   "outputs": [
    {
     "name": "stdout",
     "output_type": "stream",
     "text": [
      " * sqlite:///facebook.db\n",
      "(sqlite3.OperationalError) no such table: facts\n",
      "[SQL: SELECT *\n",
      "  FROM facts\n",
      " WHERE population == (SELECT MIN(population)\n",
      "                        FROM facts\n",
      "                     );]\n",
      "(Background on this error at: http://sqlalche.me/e/e3q8)\n"
     ]
    }
   ],
   "source": [
    "%%sql\n",
    "SELECT *\n",
    "  FROM facts\n",
    " WHERE population == (SELECT MIN(population)\n",
    "                        FROM facts\n",
    "                     );"
   ]
  },
  {
   "cell_type": "code",
   "execution_count": 6,
   "metadata": {},
   "outputs": [
    {
     "name": "stdout",
     "output_type": "stream",
     "text": [
      " * sqlite:///facebook.db\n",
      "(sqlite3.OperationalError) no such table: facts\n",
      "[SQL: SELECT *\n",
      "  FROM facts\n",
      " WHERE population == (SELECT MAX(population)\n",
      "                        FROM facts\n",
      "                     );]\n",
      "(Background on this error at: http://sqlalche.me/e/e3q8)\n"
     ]
    }
   ],
   "source": [
    "%%sql\n",
    "SELECT *\n",
    "  FROM facts\n",
    " WHERE population == (SELECT MAX(population)\n",
    "                        FROM facts\n",
    "                     );"
   ]
  },
  {
   "cell_type": "markdown",
   "metadata": {},
   "source": [
    "We also see that the table contains a row for the whole world, which explains the maximum population of over 7.2 billion we found earlier.\n",
    "\n",
    "Now that we know this, we should recalculate the summary statistics we calculated earlier, while excluding the row for the whole world."
   ]
  },
  {
   "cell_type": "markdown",
   "metadata": {},
   "source": [
    "**Summary Statistics Revisited**"
   ]
  },
  {
   "cell_type": "code",
   "execution_count": 7,
   "metadata": {},
   "outputs": [
    {
     "name": "stdout",
     "output_type": "stream",
     "text": [
      " * sqlite:///facebook.db\n",
      "(sqlite3.OperationalError) no such table: facts\n",
      "[SQL: SELECT MIN(population) AS min_pop,\n",
      "       MAX(population) AS max_pop,\n",
      "       MIN(population_growth) AS min_pop_growth,\n",
      "       MAX(population_growth) AS max_pop_growth \n",
      "  FROM facts\n",
      " WHERE name <> 'World';]\n",
      "(Background on this error at: http://sqlalche.me/e/e3q8)\n"
     ]
    }
   ],
   "source": [
    "%%sql\n",
    "SELECT MIN(population) AS min_pop,\n",
    "       MAX(population) AS max_pop,\n",
    "       MIN(population_growth) AS min_pop_growth,\n",
    "       MAX(population_growth) AS max_pop_growth \n",
    "  FROM facts\n",
    " WHERE name <> 'World';"
   ]
  },
  {
   "cell_type": "markdown",
   "metadata": {},
   "source": [
    "# 6. Exploring Average Population and Area"
   ]
  },
  {
   "cell_type": "markdown",
   "metadata": {},
   "source": [
    "Let's explore density. Density depends on the population and the country's area. Let's look at the average values for these two columns.\n",
    "\n",
    "We should take care of discarding the row for the whole planet."
   ]
  },
  {
   "cell_type": "code",
   "execution_count": 8,
   "metadata": {},
   "outputs": [
    {
     "name": "stdout",
     "output_type": "stream",
     "text": [
      " * sqlite:///facebook.db\n",
      "(sqlite3.OperationalError) no such table: facts\n",
      "[SQL: SELECT AVG(population) AS avg_population, AVG(area) AS avg_area\n",
      "  FROM facts\n",
      " WHERE name <> 'World';]\n",
      "(Background on this error at: http://sqlalche.me/e/e3q8)\n"
     ]
    }
   ],
   "source": [
    "%%sql\n",
    "SELECT AVG(population) AS avg_population, AVG(area) AS avg_area\n",
    "  FROM facts\n",
    " WHERE name <> 'World';"
   ]
  },
  {
   "cell_type": "markdown",
   "metadata": {},
   "source": [
    "# 7. Finding Densely Populated Countries"
   ]
  },
  {
   "cell_type": "markdown",
   "metadata": {},
   "source": [
    "\n",
    "To finish, we'll build on the query above to find countries that are densely populated. We'll identify countries that have:\n",
    "\n",
    "Above average values for population.\n",
    "Below average values for area."
   ]
  },
  {
   "cell_type": "code",
   "execution_count": 9,
   "metadata": {},
   "outputs": [
    {
     "name": "stdout",
     "output_type": "stream",
     "text": [
      " * sqlite:///facebook.db\n",
      "(sqlite3.OperationalError) no such table: facts\n",
      "[SQL: SELECT *\n",
      "  FROM facts\n",
      " WHERE population > (SELECT AVG(population)\n",
      "                       FROM facts\n",
      "                    )\n",
      "   AND area < (SELECT AVG(area)\n",
      "                 FROM facts\n",
      ");]\n",
      "(Background on this error at: http://sqlalche.me/e/e3q8)\n"
     ]
    }
   ],
   "source": [
    "%%sql\n",
    "SELECT *\n",
    "  FROM facts\n",
    " WHERE population > (SELECT AVG(population)\n",
    "                       FROM facts\n",
    "                    )\n",
    "   AND area < (SELECT AVG(area)\n",
    "                 FROM facts\n",
    ");"
   ]
  },
  {
   "cell_type": "markdown",
   "metadata": {},
   "source": [
    "Some of these countries are generally known to be densely populated, so we have confidence in our results!"
   ]
  }
 ],
 "metadata": {
  "kernelspec": {
   "display_name": "Python 3",
   "language": "python",
   "name": "python3"
  },
  "language_info": {
   "codemirror_mode": {
    "name": "ipython",
    "version": 3
   },
   "file_extension": ".py",
   "mimetype": "text/x-python",
   "name": "python",
   "nbconvert_exporter": "python",
   "pygments_lexer": "ipython3",
   "version": "3.7.7"
  }
 },
 "nbformat": 4,
 "nbformat_minor": 4
}
