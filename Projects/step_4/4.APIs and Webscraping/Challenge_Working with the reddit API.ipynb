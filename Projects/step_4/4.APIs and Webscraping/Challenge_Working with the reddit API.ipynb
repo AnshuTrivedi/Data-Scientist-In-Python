{
 "cells": [
  {
   "cell_type": "markdown",
   "metadata": {},
   "source": [
    "# 1. Reddit"
   ]
  },
  {
   "cell_type": "markdown",
   "metadata": {},
   "source": [
    "Reddit is a community-driven link-sharing site. Users submit links to articles, photos, and other content. Other users upvote the submissions they like, and downvote the ones they dislike. Users can comment on submissions, and even upvote or downvote other people's comments.\n",
    "\n",
    "Reddit consists of many smaller communities called subreddits where more focused communities can discuss niche posts. For example, /r/python is a Python-focused community, and /r/sanfrancisco is for discussing issues relating to the city of San Francisco, CA. The posts you submit to a subreddit will appear on the group's front page if enough users upvote them. Very popular subreddit posts may appear on reddit's home page.\n",
    "\n",
    "Posts only stay on the main reddit and subreddit pages for a limited time. You can search for older posts, but it can be hard to find what you're looking for.\n",
    "\n",
    "In this challenge, you'll practice:\n",
    "\n",
    "* Retrieving a list of trending posts on a particular subreddit\n",
    "* Exploring the comments on a single article\n",
    "* Posting our own comment on an article"
   ]
  },
  {
   "cell_type": "markdown",
   "metadata": {},
   "source": [
    "# 2. Authenticating with the API"
   ]
  },
  {
   "cell_type": "code",
   "execution_count": 1,
   "metadata": {},
   "outputs": [],
   "source": [
    "import requests"
   ]
  },
  {
   "cell_type": "code",
   "execution_count": null,
   "metadata": {},
   "outputs": [],
   "source": []
  }
 ],
 "metadata": {
  "kernelspec": {
   "display_name": "Python 3",
   "language": "python",
   "name": "python3"
  },
  "language_info": {
   "codemirror_mode": {
    "name": "ipython",
    "version": 3
   },
   "file_extension": ".py",
   "mimetype": "text/x-python",
   "name": "python",
   "nbconvert_exporter": "python",
   "pygments_lexer": "ipython3",
   "version": "3.7.7"
  }
 },
 "nbformat": 4,
 "nbformat_minor": 4
}
