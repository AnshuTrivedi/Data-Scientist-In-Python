{
 "cells": [
  {
   "cell_type": "markdown",
   "metadata": {},
   "source": [
    "# 1. Recap"
   ]
  },
  {
   "cell_type": "markdown",
   "metadata": {},
   "source": [
    "`Line charts were an appropriate choice for visualizing this dataset because the rows had a natural ordering to it. Each row reflected information about an event that occurred after the previous row`. Changing the order of the rows would make the line chart inaccurate. The lines from one marker to the next helped emphasize the logical connection between the data points."
   ]
  },
  {
   "cell_type": "markdown",
   "metadata": {},
   "source": [
    "**In this mission, we'll be working with a dataset that has no particular order**"
   ]
  },
  {
   "cell_type": "markdown",
   "metadata": {},
   "source": [
    "# 2. Introduction to the data"
   ]
  },
  {
   "cell_type": "markdown",
   "metadata": {},
   "source": [
    "To investigate the potential bias that movie reviews site have, [FiveThirtyEight](https://fivethirtyeight.com/) compiled data for 147 films from 2015 that have substantive reviews from both critics and consumers. Every time Hollywood releases a movie, critics from [Metacritic](https://www.metacritic.com/), [Fandango](https://www.fandango.com/), [Rotten Tomatoes](https://www.rottentomatoes.com/), and [IMDB](https://www.imdb.com/) review and rate the film. They also ask the users in their respective communities to review and rate the film. Then, they calculate the average rating from both critics and users and display them on their site. Here are screenshots from each site:"
   ]
  },
  {
   "cell_type": "markdown",
   "metadata": {},
   "source": [
    "FiveThirtyEight compiled this dataset to investigate if there was any bias to Fandango's ratings. In addition to aggregating ratings for films, Fandango is unique in that it also sells movie tickets, and so it has a direct commercial interest in showing higher ratings. After discovering that a few films that weren't good were still rated highly on Fandango, the team investigated and published an [article about bias in movie ratings](https://fivethirtyeight.com/features/fandango-movies-ratings/)."
   ]
  },
  {
   "cell_type": "markdown",
   "metadata": {},
   "source": [
    "We'll be working with the fandango_scores.csv file, which can be downloaded from the [FiveThirtEight Github repo]. Here are the columns we'll be working with in this mission:\n",
    "\n",
    "* FILM - film name\n",
    "* RT_user_norm - average user rating from Rotten Tomatoes, normalized to a 1 to 5 point scale\n",
    "* Metacritic_user_nom - average user rating from Metacritic, normalized to a 1 to 5 point scale\n",
    "* IMDB_norm - average user rating from IMDB, normalized to a 1 to 5 point scale\n",
    "* Fandango_Ratingvalue - average user rating from Fandango, normalized to a 1 to 5 point scale\n",
    "* Fandango_Stars - the rating displayed on the Fandango website (rounded to nearest star, 1 to 5 point scale)"
   ]
  },
  {
   "cell_type": "markdown",
   "metadata": {},
   "source": [
    "## TODO:\n",
    "* Read fandango_scores.csv into a Dataframe named reviews.\n",
    "* Select the following columns and assign the resulting Dataframe to norm_reviews:\n",
    "  * FILM\n",
    "  * RT_user_norm\n",
    "  * Metacritic_user_nom (note the misspelling of norm)\n",
    "  * IMDB_norm\n",
    "  * Fandango_Ratingvalue\n",
    "  * Fandango_Stars\n",
    "* Display the first row in norm_reviews"
   ]
  },
  {
   "cell_type": "code",
   "execution_count": 1,
   "metadata": {},
   "outputs": [],
   "source": [
    "import pandas as pd\n",
    "\n",
    "reviews=pd.read_csv('fandango_scores.csv')"
   ]
  },
  {
   "cell_type": "code",
   "execution_count": 2,
   "metadata": {},
   "outputs": [
    {
     "name": "stdout",
     "output_type": "stream",
     "text": [
      "<class 'pandas.core.frame.DataFrame'>\n",
      "RangeIndex: 146 entries, 0 to 145\n",
      "Data columns (total 22 columns):\n",
      "FILM                          146 non-null object\n",
      "RottenTomatoes                146 non-null int64\n",
      "RottenTomatoes_User           146 non-null int64\n",
      "Metacritic                    146 non-null int64\n",
      "Metacritic_User               146 non-null float64\n",
      "IMDB                          146 non-null float64\n",
      "Fandango_Stars                146 non-null float64\n",
      "Fandango_Ratingvalue          146 non-null float64\n",
      "RT_norm                       146 non-null float64\n",
      "RT_user_norm                  146 non-null float64\n",
      "Metacritic_norm               146 non-null float64\n",
      "Metacritic_user_nom           146 non-null float64\n",
      "IMDB_norm                     146 non-null float64\n",
      "RT_norm_round                 146 non-null float64\n",
      "RT_user_norm_round            146 non-null float64\n",
      "Metacritic_norm_round         146 non-null float64\n",
      "Metacritic_user_norm_round    146 non-null float64\n",
      "IMDB_norm_round               146 non-null float64\n",
      "Metacritic_user_vote_count    146 non-null int64\n",
      "IMDB_user_vote_count          146 non-null int64\n",
      "Fandango_votes                146 non-null int64\n",
      "Fandango_Difference           146 non-null float64\n",
      "dtypes: float64(15), int64(6), object(1)\n",
      "memory usage: 25.2+ KB\n"
     ]
    }
   ],
   "source": [
    "reviews.info()"
   ]
  },
  {
   "cell_type": "code",
   "execution_count": 3,
   "metadata": {},
   "outputs": [],
   "source": [
    "norm_reviews=reviews[['FILM','RT_user_norm','Metacritic_user_nom','IMDB_norm','Fandango_Ratingvalue','Fandango_Stars']]"
   ]
  },
  {
   "cell_type": "code",
   "execution_count": 4,
   "metadata": {},
   "outputs": [
    {
     "data": {
      "text/plain": [
       "FILM                    Avengers: Age of Ultron (2015)\n",
       "RT_user_norm                                       4.3\n",
       "Metacritic_user_nom                               3.55\n",
       "IMDB_norm                                          3.9\n",
       "Fandango_Ratingvalue                               4.5\n",
       "Fandango_Stars                                       5\n",
       "Name: 0, dtype: object"
      ]
     },
     "execution_count": 4,
     "metadata": {},
     "output_type": "execute_result"
    }
   ],
   "source": [
    "norm_reviews.iloc[0]"
   ]
  },
  {
   "cell_type": "markdown",
   "metadata": {},
   "source": [
    "# 3. Bar Plot"
   ]
  },
  {
   "cell_type": "markdown",
   "metadata": {},
   "source": [
    "These sites use different scales for ratings. Some use a 5 star scale while others use a 100 point scale. In addition, Metacritic and Rotten Tomatoes aggregate scores from both users and film critics, while IMDB and Fandango aggregate only from their users. We'll focus on just the average scores from users, because not all of the sites have scores from critics."
   ]
  },
  {
   "cell_type": "markdown",
   "metadata": {},
   "source": [
    "`The RT_user_norm, Metacritic_user_nom, IMDB_norm, and Fandango_Ratingvalue columns contain the average user rating for each movie, normalized to a 0 to 5 point scale. This allows us to compare how the users on each site rated a movie`. While using averages isn't perfect because films with a few reviews can skew the average rating, FiveThirtyEight only selected movies with a non-trivial number of ratings to ensure films with only a handful of reviews aren't included."
   ]
  },
  {
   "cell_type": "code",
   "execution_count": 5,
   "metadata": {},
   "outputs": [
    {
     "data": {
      "text/html": [
       "<img src=\"https://s3.amazonaws.com/dq-content/vertical_bar_plot.png\"/>"
      ],
      "text/plain": [
       "<IPython.core.display.Image object>"
      ]
     },
     "execution_count": 5,
     "metadata": {},
     "output_type": "execute_result"
    }
   ],
   "source": [
    "from IPython.display import Image\n",
    "Image(url='https://s3.amazonaws.com/dq-content/vertical_bar_plot.png')"
   ]
  },
  {
   "cell_type": "markdown",
   "metadata": {},
   "source": [
    "# 4. Creating Bars"
   ]
  },
  {
   "cell_type": "markdown",
   "metadata": {},
   "source": [
    "To create a useful bar plot, however, we need to specify the positions of the bars, the widths of the bars, and the positions of the axis labels. Here's a diagram that shows the various values we need to specify:"
   ]
  },
  {
   "cell_type": "code",
   "execution_count": 6,
   "metadata": {},
   "outputs": [
    {
     "data": {
      "text/html": [
       "<img src=\"https://s3.amazonaws.com/dq-content/matplotlib_barplot_positioning.png\"/>"
      ],
      "text/plain": [
       "<IPython.core.display.Image object>"
      ]
     },
     "execution_count": 6,
     "metadata": {},
     "output_type": "execute_result"
    }
   ],
   "source": [
    "from IPython.display import Image\n",
    "Image(url='https://s3.amazonaws.com/dq-content/matplotlib_barplot_positioning.png')"
   ]
  },
  {
   "cell_type": "markdown",
   "metadata": {},
   "source": [
    "* We can generate a vertical bar plot using either `pyplot.bar()` or `Axes.bar()`. We'll use Axes.bar() so we can extensively customize the bar plot more easily. We can use `pyplot.subplots() to first generate a single subplot and return both the Figure and Axes object`. This is a shortcut from the technique we used in the previous mission:\n",
    "\n",
    "`fig, ax = plt.subplots()`"
   ]
  },
  {
   "cell_type": "markdown",
   "metadata": {},
   "source": [
    "## TODO:\n",
    "* Create a single subplot and assign the returned Figure object to fig and the returned Axes object to ax.\n",
    "* Generate a bar plot with:\n",
    "  * left set to bar_positions\n",
    "  * height set to bar_heights\n",
    "  * width set to 0.5\n",
    "* Use plt.show() to display the bar plot."
   ]
  },
  {
   "cell_type": "code",
   "execution_count": 7,
   "metadata": {},
   "outputs": [
    {
     "data": {
      "text/plain": [
       "<BarContainer object of 5 artists>"
      ]
     },
     "execution_count": 7,
     "metadata": {},
     "output_type": "execute_result"
    },
    {
     "data": {
      "image/png": "[encoded data removed]",
      "text/plain": [
       "<Figure size 432x288 with 1 Axes>"
      ]
     },
     "metadata": {
      "needs_background": "light"
     },
     "output_type": "display_data"
    }
   ],
   "source": [
    "%matplotlib inline\n",
    "import matplotlib.pyplot as plt\n",
    "from numpy import arange\n",
    "num_cols = ['RT_user_norm', 'Metacritic_user_nom', 'IMDB_norm', 'Fandango_Ratingvalue', 'Fandango_Stars']\n",
    "\n",
    "fig,ax=plt.subplots()\n",
    "bar_heights = norm_reviews[num_cols].iloc[0].values\n",
    "bar_positions = arange(5) + 0.75\n",
    "ax.bar(bar_positions,bar_heights,0.5)"
   ]
  },
  {
   "cell_type": "markdown",
   "metadata": {},
   "source": [
    "# 5. Aligning Axis Ticks And Labels"
   ]
  },
  {
   "cell_type": "markdown",
   "metadata": {},
   "source": [
    "* We only need tick labels on the x-axis where the bars are positioned. We can use `Axes.set_xticks()` to change the positions of the ticks to [1, 2, 3, 4, 5]:\n",
    "* we can use `Axes.set_xticklabels()` to specify the tick labels"
   ]
  },
  {
   "cell_type": "markdown",
   "metadata": {},
   "source": [
    "## TODO:\n",
    "* Create a single subplot and assign the returned Figure object to fig and the returned Axes object to ax.\n",
    "* Generate a bar plot with:\n",
    "  * left set to bar_positions\n",
    "  * height set to bar_heights\n",
    "  * width set to 0.5\n",
    "* Set the x-axis tick positions to tick_positions.\n",
    "* Set the x-axis tick labels to num_cols and rotate by 90 degrees.\n",
    "* Set the x-axis label to \"Rating Source\".\n",
    "* Set the y-axis label to \"Average Rating\".\n",
    "* Set the plot title to \"Average User Rating For Avengers: Age of Ultron (2015)\".\n",
    "* Use plt.show() to display the bar plot."
   ]
  },
  {
   "cell_type": "code",
   "execution_count": 8,
   "metadata": {},
   "outputs": [
    {
     "data": {
      "image/png": "[encoded data removed]",
      "text/plain": [
       "<Figure size 432x288 with 1 Axes>"
      ]
     },
     "metadata": {
      "needs_background": "light"
     },
     "output_type": "display_data"
    }
   ],
   "source": [
    "num_cols = ['RT_user_norm', 'Metacritic_user_nom', 'IMDB_norm', 'Fandango_Ratingvalue', 'Fandango_Stars']\n",
    "bar_heights = norm_reviews[num_cols].iloc[0].values\n",
    "bar_positions = arange(5) + 0.75\n",
    "tick_positions = range(1,6)\\\n",
    "\n",
    "fig,ax=plt.subplots()\n",
    "ax.bar(bar_positions,bar_heights,0.5)\n",
    "\n",
    "ax.set_xticks(tick_positions)\n",
    "ax.set_xticklabels(num_cols,rotation=90)\n",
    "\n",
    "ax.set_xlabel('Rating Source')\n",
    "ax.set_ylabel('Average Rating')\n",
    "ax.set_title('Average User Rating For Avengers: Age of Ultron (2015)')\n",
    "plt.show()"
   ]
  },
  {
   "cell_type": "markdown",
   "metadata": {},
   "source": [
    "# 6. Horizontal Bar Plot"
   ]
  },
  {
   "cell_type": "markdown",
   "metadata": {},
   "source": [
    "* We can create a horizontal bar plot in matplotlib in a similar fashion. Instead of using Axes.bar(), we use `Axes.barh()`. "
   ]
  },
  {
   "cell_type": "markdown",
   "metadata": {},
   "source": [
    "## TODO:\n",
    "* Create a single subplot and assign the returned Figure object to fig and the returned Axes object to ax.\n",
    "* Generate a bar plot with:\n",
    "  * bottom set to bar_positions\n",
    "  * width set to bar_widths\n",
    "  * height set to 0.5\n",
    "* Set the y-axis tick positions to tick_positions.\n",
    "* Set the y-axis tick labels to num_cols.\n",
    "* Set the y-axis label to \"Rating Source\".\n",
    "* Set the x-axis label to \"Average Rating\".\n",
    "* Set the plot title to \"Average User Rating For Avengers: Age of Ultron (2015)\".\n",
    "* Use plt.show() to display the bar plot."
   ]
  },
  {
   "cell_type": "code",
   "execution_count": 9,
   "metadata": {},
   "outputs": [
    {
     "data": {
      "image/png": "[encoded data removed]",
      "text/plain": [
       "<Figure size 432x288 with 1 Axes>"
      ]
     },
     "metadata": {
      "needs_background": "light"
     },
     "output_type": "display_data"
    }
   ],
   "source": [
    "bar_widths = norm_reviews[num_cols].iloc[0].values\n",
    "bar_positions = arange(5) + 0.75\n",
    "tick_positions = range(1,6)\n",
    "\n",
    "fig,ax=plt.subplots()\n",
    "ax.barh(bar_positions,bar_widths,0.5)\n",
    "\n",
    "ax.set_yticks(tick_positions)\n",
    "ax.set_yticklabels(num_cols)\n",
    "\n",
    "ax.set_ylabel('Rating Source')\n",
    "ax.set_xlabel('Average Rating')\n",
    "ax.set_title('Average User Rating For Avengers: Age of Ultron (2015)')\n",
    "plt.show()"
   ]
  },
  {
   "cell_type": "markdown",
   "metadata": {},
   "source": [
    "# 7. Scatter plot"
   ]
  },
  {
   "cell_type": "markdown",
   "metadata": {},
   "source": [
    "In the previous mission, `the line charts we generated always connected points from left to right`. This helped us show the trend, up or down, between each point as we scanned visually from left to right. Instead, we can avoid using lines to connect markers and just use the underlying markers. **A plot containing just the markers is known as a scatter plot**."
   ]
  },
  {
   "cell_type": "markdown",
   "metadata": {},
   "source": [
    "To generate a scatter plot, we use `Axes.scatter()`. The scatter() method has 2 required parameters, x and y, which matches the parameters of the plot() method. `The values for these parameters need to be iterable objects` of matching lengths (lists, NumPy arrays, or pandas series)."
   ]
  },
  {
   "cell_type": "markdown",
   "metadata": {},
   "source": [
    "## TODO:\n",
    "* Create a single subplot and assign the returned Figure object to fig and the returned Axes object to ax.\n",
    "* Generate a scatter plot with the Fandango_Ratingvalue column on the x-axis and the RT_user_norm column on the y-axis.\n",
    "* Set the x-axis label to \"Fandango\" and the y-axis label to \"Rotten Tomatoes\".\n",
    "* Use plt.show() to display the resulting plot."
   ]
  },
  {
   "cell_type": "code",
   "execution_count": 10,
   "metadata": {},
   "outputs": [
    {
     "data": {
      "image/png": "[encoded data removed]",
      "text/plain": [
       "<Figure size 432x288 with 1 Axes>"
      ]
     },
     "metadata": {
      "needs_background": "light"
     },
     "output_type": "display_data"
    }
   ],
   "source": [
    "fig,ax=plt.subplots()\n",
    "ax.scatter(norm_reviews['Fandango_Ratingvalue'],norm_reviews['RT_user_norm'])\n",
    "\n",
    "ax.set_xlabel('Fandango')\n",
    "ax.set_ylabel('Rotten Tomatoes')\n",
    "plt.show()"
   ]
  },
  {
   "cell_type": "markdown",
   "metadata": {},
   "source": [
    "**A scatter plot helps us determine if 2 columns are weakly or strongly correlated. While calculating the correlation coefficient will give us a precise number, a scatter plot helps us find outliers, gain a more intuitive sense of how spread out the data is, and compare more easily.**"
   ]
  },
  {
   "cell_type": "markdown",
   "metadata": {},
   "source": [
    "# 8. Switching axes"
   ]
  },
  {
   "cell_type": "markdown",
   "metadata": {},
   "source": [
    "The scatter plot suggests that there's a weak, positive correlation between the user ratings on Fandango and the user ratings on Rotten Tomatoes. **`The correlation is weak because for many x values, there are multiple corresponding y values`**. The correlation is **`positive because, in general, as x increases, y also increases`**."
   ]
  },
  {
   "cell_type": "markdown",
   "metadata": {},
   "source": [
    "When using scatter plots to understand how 2 variables are correlated, it's usually not important which one is on the x-axis and which one is on the y-axis. This is because the relationship is still captured either way, even if the plots look a little different. `If you want to instead understand how an independent variable affects a dependent variables, you want to put the independent one on the x-axis and the dependent one on the y-axis. Doing so helps emphasize the potential cause and effect relation.`"
   ]
  },
  {
   "cell_type": "code",
   "execution_count": 11,
   "metadata": {},
   "outputs": [
    {
     "data": {
      "image/png": "[encoded data removed]",
      "text/plain": [
       "<Figure size 360x720 with 2 Axes>"
      ]
     },
     "metadata": {
      "needs_background": "light"
     },
     "output_type": "display_data"
    }
   ],
   "source": [
    "fig = plt.figure(figsize=(5,10))\n",
    "ax1 = fig.add_subplot(2,1,1)\n",
    "ax2 = fig.add_subplot(2,1,2)\n",
    "\n",
    "reviews = pd.read_csv('fandango_scores.csv')\n",
    "cols = ['FILM', 'RT_user_norm', 'Metacritic_user_nom', 'IMDB_norm', 'Fandango_Ratingvalue', 'Fandango_Stars']\n",
    "norm_reviews = reviews[cols]\n",
    "\n",
    "ax1.scatter(norm_reviews['Fandango_Ratingvalue'],norm_reviews['RT_user_norm'])\n",
    "ax2.scatter(norm_reviews['RT_user_norm'],norm_reviews['Fandango_Ratingvalue'])\n",
    "\n",
    "ax1.set_xlabel('Fandango')\n",
    "ax1.set_ylabel('Rotten Tomatoes')\n",
    "ax2.set_xlabel('Rotten Tomatoes')\n",
    "ax2.set_ylabel('Fandango')\n",
    "plt.show()"
   ]
  },
  {
   "cell_type": "markdown",
   "metadata": {},
   "source": [
    "# 9. Benchmarking correlation"
   ]
  },
  {
   "cell_type": "markdown",
   "metadata": {},
   "source": [
    "The second scatter plot is a mirror reflection of the first scatter plot. The nature of the correlation is still reflected, however, which is the important thing"
   ]
  },
  {
   "cell_type": "markdown",
   "metadata": {},
   "source": [
    "## TODO\n",
    "Let's now generate scatter plots to see how Fandango ratings correlate with all 3 of the other review sites."
   ]
  },
  {
   "cell_type": "code",
   "execution_count": 12,
   "metadata": {},
   "outputs": [
    {
     "data": {
      "image/png": "[encoded data removed]",
      "text/plain": [
       "<Figure size 360x720 with 3 Axes>"
      ]
     },
     "metadata": {
      "needs_background": "light"
     },
     "output_type": "display_data"
    }
   ],
   "source": [
    "import matplotlib.pyplot as plt\n",
    "\n",
    "fig = plt.figure(figsize=(5,10))\n",
    "ax1 = fig.add_subplot(3,1,1)\n",
    "ax2 = fig.add_subplot(3,1,2)\n",
    "ax3 = fig.add_subplot(3,1,3)\n",
    "ax1.scatter(norm_reviews['Fandango_Ratingvalue'], norm_reviews['RT_user_norm'])\n",
    "ax1.set_xlabel('Fandango')\n",
    "ax1.set_ylabel('Rotten Tomatoes')\n",
    "ax1.set_xlim(0, 5)\n",
    "ax1.set_ylim(0, 5)\n",
    "\n",
    "ax2.scatter(norm_reviews['Fandango_Ratingvalue'], norm_reviews['Metacritic_user_nom'])\n",
    "ax2.set_xlabel('Fandango')\n",
    "ax2.set_ylabel('Metacritic')\n",
    "ax2.set_xlim(0, 5)\n",
    "ax2.set_ylim(0, 5)\n",
    "\n",
    "ax3.scatter(norm_reviews['Fandango_Ratingvalue'], norm_reviews['IMDB_norm'])\n",
    "ax3.set_xlabel('Fandango')\n",
    "ax3.set_ylabel('IMDB')\n",
    "ax3.set_xlim(0, 5)\n",
    "ax3.set_ylim(0, 5)\n",
    "\n",
    "plt.show()"
   ]
  },
  {
   "cell_type": "markdown",
   "metadata": {},
   "source": [
    "### Observation:\n",
    "From the scatter plots, we can conclude that user ratings from Metacritic and Rotten Tomatoes span a larger range of values than those from IMDB or Fandango. User ratings from Metacritic and Rotten Tomatoes range from 1 to 5. User ratings from Fandango range approximately from 2.5 to 5 while those from IMDB range approximately from 2 to 4.5."
   ]
  }
 ],
 "metadata": {
  "kernelspec": {
   "display_name": "Python 3",
   "language": "python",
   "name": "python3"
  },
  "language_info": {
   "codemirror_mode": {
    "name": "ipython",
    "version": 3
   },
   "file_extension": ".py",
   "mimetype": "text/x-python",
   "name": "python",
   "nbconvert_exporter": "python",
   "pygments_lexer": "ipython3",
   "version": "3.7.3"
  }
 },
 "nbformat": 4,
 "nbformat_minor": 2
}
