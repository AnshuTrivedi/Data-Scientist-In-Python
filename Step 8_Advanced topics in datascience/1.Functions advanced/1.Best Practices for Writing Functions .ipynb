{
 "cells": [
  {
   "cell_type": "markdown",
   "metadata": {},
   "source": [
    "# 1. Introducing Docstrings"
   ]
  },
  {
   "cell_type": "markdown",
   "metadata": {},
   "source": [
    "In this mission, we'll cover some best practices that will make your code much easier to use, read, and maintain, including:\n",
    "\n",
    "* How to document your code so that others can easily understand it.\n",
    "* How to create functions that are easier to test, debug, and change.\n",
    "* How to setup default arguments in functions so that your code doesn't behave unexpectedly."
   ]
  },
  {
   "cell_type": "code",
   "execution_count": 1,
   "metadata": {},
   "outputs": [],
   "source": [
    "#Let's start by looking at this split_and_stack() function:\n",
    "\n",
    "def split_and_stack(df, new_names):\n",
    "    half = int(len(df.columns) / 2)\n",
    "    left = df.iloc[:, :half]\n",
    "    right = df.iloc[:, half:]\n",
    "    return pd.DataFrame(\n",
    "      data=np.vstack([left.values, right.values]),\n",
    "       columns=new_names)"
   ]
  },
  {
   "cell_type": "markdown",
   "metadata": {},
   "source": [
    "* If we wanted to understand what the function does, what the arguments are supposed to be, and what it returns, we would have to spend some time deciphering the code.\n",
    "\n",
    "**With a docstring though, it is much easier to tell what the expected inputs and outputs should be, as well as what the function does. A docstring is a string written as the first line of a function.**"
   ]
  },
  {
   "cell_type": "code",
   "execution_count": 2,
   "metadata": {},
   "outputs": [],
   "source": [
    "def split_and_stack(df, new_names):\n",
    "    \"\"\"Splits a DataFrame's columns into two halves and then stack\n",
    "    them vertically, returning a new DataFrame with `new_names` as the\n",
    "    column names.\n",
    "\n",
    "    Args:\n",
    "      df (DataFrame): The DataFrame to split.\n",
    "      new_names (iterable of str): The column names for the new DataFrame.\n",
    "\n",
    "    Returns:\n",
    "      DataFrame\n",
    "    \"\"\"\n",
    "    half = int(len(df.columns) / 2)\n",
    "    left = df.iloc[:, :half]\n",
    "    right = df.iloc[:, half:]\n",
    "    return pd.DataFrame(\n",
    "      data=np.vstack([left.values, right.values]),\n",
    "      columns=new_names\n",
    "    )"
   ]
  },
  {
   "cell_type": "markdown",
   "metadata": {},
   "source": [
    "Every docstring has some (although usually not all) of these five key pieces of information:\n",
    "\n",
    "* Description of what the function does.\n",
    "* Description of the arguments, if any.\n",
    "* Description of the return value(s), if any.\n",
    "* Description of errors raised, if any.\n",
    "* Optional extra notes or examples of usage."
   ]
  },
  {
   "cell_type": "markdown",
   "metadata": {},
   "source": [
    "# 2. Retrieving Docstrings"
   ]
  },
  {
   "cell_type": "markdown",
   "metadata": {},
   "source": [
    "**Every function in Python comes with a` __doc__` attribute that holds the contents of the function's docstring.**"
   ]
  },
  {
   "cell_type": "code",
   "execution_count": 3,
   "metadata": {},
   "outputs": [
    {
     "data": {
      "text/plain": [
       "\"Splits a DataFrame's columns into two halves and then stack\\n    them vertically, returning a new DataFrame with `new_names` as the\\n    column names.\\n\\n    Args:\\n      df (DataFrame): The DataFrame to split.\\n      new_names (iterable of str): The column names for the new DataFrame.\\n\\n    Returns:\\n      DataFrame\\n    \""
      ]
     },
     "execution_count": 3,
     "metadata": {},
     "output_type": "execute_result"
    }
   ],
   "source": [
    "split_and_stack.__doc__"
   ]
  },
  {
   "cell_type": "markdown",
   "metadata": {},
   "source": [
    "* Notice that the `__doc__ `attribute contains the raw docstring, including any tabs or spaces that were added to make the words visually line up."
   ]
  },
  {
   "cell_type": "markdown",
   "metadata": {},
   "source": [
    "**To get a cleaner version, with those leading spaces removed, we can use the getdoc() function from the inspect module.**"
   ]
  },
  {
   "cell_type": "code",
   "execution_count": 4,
   "metadata": {},
   "outputs": [
    {
     "name": "stdout",
     "output_type": "stream",
     "text": [
      "Splits a DataFrame's columns into two halves and then stack\n",
      "them vertically, returning a new DataFrame with `new_names` as the\n",
      "column names.\n",
      "\n",
      "Args:\n",
      "  df (DataFrame): The DataFrame to split.\n",
      "  new_names (iterable of str): The column names for the new DataFrame.\n",
      "\n",
      "Returns:\n",
      "  DataFrame\n"
     ]
    }
   ],
   "source": [
    "import inspect\n",
    "print(inspect.getdoc(split_and_stack))"
   ]
  },
  {
   "cell_type": "markdown",
   "metadata": {},
   "source": [
    "**The inspect module contains a lot of useful methods for gathering information about functions**"
   ]
  },
  {
   "cell_type": "markdown",
   "metadata": {},
   "source": [
    "* In jupyter notebooks, we can use to access the docstrings for built-in functions - just press Shift + Tab while the cursor is within the parentheses of a built-in function."
   ]
  },
  {
   "cell_type": "markdown",
   "metadata": {},
   "source": [
    "# 3. Google Style Docstrings"
   ]
  },
  {
   "cell_type": "markdown",
   "metadata": {},
   "source": [
    "* Consistent style makes a project easier to read, and the Python community has evolved several standards for how to format docstrings. `Google style` and `Numpydoc` are the most popular formats.\n",
    "* However, since Numpydoc takes up more vertical space, we'll focus on Google style in this mission to keep the examples compact and legible."
   ]
  },
  {
   "cell_type": "markdown",
   "metadata": {},
   "source": [
    "**Description of what the function does**\n",
    "\n",
    "In Google style, the docstring starts with a concise description of what the function does. This should be in imperative language."
   ]
  },
  {
   "cell_type": "markdown",
   "metadata": {},
   "source": [
    "**Description of the arguments, if any**\n",
    "\n",
    "Next comes the \"Args\" section where you list each argument name, followed by its expected type in parentheses, and then its role in the function. "
   ]
  },
  {
   "cell_type": "markdown",
   "metadata": {},
   "source": [
    "**Description of the return value(s), if any**\n",
    "\n",
    "The next section is the \"Returns\" section, where you list the expected type or types of what gets returned. You can also provide some comment about what gets returned, but often the name of the function and the description will make this clear. Additional lines should not be indented."
   ]
  },
  {
   "cell_type": "code",
   "execution_count": 5,
   "metadata": {},
   "outputs": [],
   "source": [
    "def count_letter(content, letter):\n",
    "    \"\"\"Counts the number of times `letter` appears in `content`.        ## description what function does\n",
    "\n",
    "    Args:\n",
    "      content (str): The string to search.                              ## Description of arguments\n",
    "      letter (str): The letter to search for.\n",
    "\n",
    "    Returns:                                                            ## Description of return value(s)            \n",
    "      int\n",
    "    \"\"\"\n",
    "    if (not isinstance(letter, str)) or len(letter) != 1:\n",
    "        raise ValueError('`letter` must be a single character string.')\n",
    "    return len([char for char in content if char == letter])"
   ]
  },
  {
   "cell_type": "markdown",
   "metadata": {},
   "source": [
    "# 4. Google Style Docstrings Continued"
   ]
  },
  {
   "cell_type": "code",
   "execution_count": 6,
   "metadata": {},
   "outputs": [
    {
     "name": "stdout",
     "output_type": "stream",
     "text": [
      "Counts the number of times `letter` appears in `content`.        ## description what function does\n",
      "\n",
      "Args:\n",
      "  content (str): The string to search.                              ## Description of arguments\n",
      "  letter (str): The letter to search for.\n",
      "\n",
      "Returns:                                                            ## Description of return value(s)            \n",
      "  int\n",
      "  \n",
      "Raises:\n",
      "  ValueError: If `letter` is not a one-character string.            ##  Description of error raised\n"
     ]
    }
   ],
   "source": [
    "def count_letter(content, letter):\n",
    "    \"\"\"Counts the number of times `letter` appears in `content`.        ## description what function does\n",
    "\n",
    "    Args:\n",
    "      content (str): The string to search.                              ## Description of arguments\n",
    "      letter (str): The letter to search for.\n",
    "\n",
    "    Returns:                                                            ## Description of return value(s)            \n",
    "      int\n",
    "      \n",
    "    Raises:\n",
    "      ValueError: If `letter` is not a one-character string.            ##  Description of error raised\n",
    "    \"\"\"\n",
    "    if (not isinstance(letter, str)) or len(letter) != 1:\n",
    "        raise ValueError('`letter` must be a single character string.')\n",
    "    return len([char for char in content if char == letter])\n",
    "print(inspect.getdoc(count_letter))"
   ]
  },
  {
   "cell_type": "markdown",
   "metadata": {},
   "source": [
    "# 5. Don't Repeat Yourself"
   ]
  },
  {
   "cell_type": "markdown",
   "metadata": {},
   "source": [
    "**The `Don't repeat yourself` principle, also known as DRY, and the` Do One Thing` principle are good ways to ensure that our functions are well designed and easy to test.**"
   ]
  },
  {
   "cell_type": "markdown",
   "metadata": {},
   "source": [
    "<block><pre> #Suppose we wrote the code for the train dataset, then copied it and pasted it into the next two blocks, updating the paths and the variable names:\n",
    "\n",
    "def function(arg_1, arg_2=42):\n",
    "    \"\"\"Description of what the function does.\n",
    "    \"\"\"\n",
    "train = pd.read_csv('train.csv')\n",
    "train_y = train['labels'].values\n",
    "train_X = train[col for col in train.columns if col != 'labels'].values\n",
    "train_pca = PCA(n_components=2).fit_transform(train_X)\n",
    "plt.scatter(train_pca[:,0], train_pca[:,1])\n",
    "\n",
    "\n",
    "\n",
    "val = pd.read_csv('validation.csv')\n",
    "val_y = val['labels'].values\n",
    "val_X = train[col for col in val.columns if col != 'labels'].values\n",
    "val_pca = PCA(n_components=2).fit_transform(val_X)\n",
    "plt.scatter(val_pca[:,0], val_pca[:,1])\n",
    "\n",
    "\n",
    "test = pd.read_csv('test.csv')\n",
    "test_y = test['labels'].values\n",
    "test_X = test[col for col in test.columns if col != 'labels'].values\n",
    "test_pca = PCA(n_components=2).fit_transform(train_X)\n",
    "plt.scatter(test_pca[:,0], test_pca[:,1])\n",
    "</block></pre>"
   ]
  },
  {
   "cell_type": "markdown",
   "metadata": {},
   "source": [
    "* But one of the problems with copying and pasting is that it is easy to accidentally introduce errors that are hard to spot.\n",
    "  Notice in the last block, we accidentally took the principal components of the train data instead of the test data.\n",
    "* Another problem with repeated code is that if we want to change something, we often have to do it in multiple places. For instance, if we realized that our CSVs used the column name \"label\" instead of \"labels,\" we would have to change our code in six places. Repeated code like this is a good sign that we should write a function."
   ]
  },
  {
   "cell_type": "markdown",
   "metadata": {},
   "source": [
    "## TODO:\n",
    "While you were developing a model to predict the likelihood of a student graduating from college, you wrote this bit of code in the code editor to get the z-scores of students' yearly GPAs. Now you're ready to turn it into a production-quality system, so you need to do something about the repetition. Writing a function to calculate the z-scores would improve this code.\n",
    "\n",
    "* Write a function named standardize() that returns the z-scores of a column.\n",
    "* Use the function to calculate df['y1_z'], df['y2_z'], df['y3_z'], and df[y4_z'] (i.e. the z-scores for each year), just like the commented code in the code editor.\n",
    "* Optional Exercise: Add a docstring to the function."
   ]
  },
  {
   "cell_type": "code",
   "execution_count": 7,
   "metadata": {},
   "outputs": [],
   "source": [
    "## calculating z scores for each year \n",
    "# df['y1_z'] = (df['y1_gpa'] - df['y1_gpa'].mean()) / df['y1_gpa'].std()\n",
    "# df['y2_z'] = (df['y2_gpa'] - df['y2_gpa'].mean()) / df['y2_gpa'].std()\n",
    "# df['y3_z'] = (df['y3_gpa'] - df['y3_gpa'].mean()) / df['y3_gpa'].std()\n",
    "# df['y4_z'] = (df['y4_gpa'] - df['y4_gpa'].mean()) / df['y4_gpa'].std()"
   ]
  },
  {
   "cell_type": "code",
   "execution_count": 8,
   "metadata": {},
   "outputs": [],
   "source": [
    "def standardize(column):\n",
    "    \"\"\"Standardizes the values in a column.\n",
    "\n",
    "    Args:\n",
    "      column (pandas Series): The data to standardize.\n",
    "\n",
    "    Returns:\n",
    "      pandas Series: the values as z-scores\n",
    "    \"\"\"\n",
    "    # Finish the function so that it returns the z-scores\n",
    "    z_score = (column - column.mean()) / column.std()\n",
    "    return z_score"
   ]
  },
  {
   "cell_type": "markdown",
   "metadata": {},
   "source": [
    "# 6. Do One Thing"
   ]
  },
  {
   "cell_type": "code",
   "execution_count": 9,
   "metadata": {},
   "outputs": [],
   "source": [
    "def mean_and_median(values):\n",
    "    \"\"\"Gets the mean and median of a list of `values`\n",
    "\n",
    "    Args:\n",
    "      values (iterable of float): A list of numbers\n",
    "\n",
    "    Returns:\n",
    "      tuple (float, float): The mean and median\n",
    "    \"\"\"\n",
    "    mean = sum(values) / len(values)\n",
    "    midpoint = int(len(values) / 2)\n",
    "    if len(values) % 2 == 0:\n",
    "        median = (values[midpoint - 1] + values[midpoint]) / 2\n",
    "    else:\n",
    "        median = values[midpoint]\n",
    "\n",
    "    return mean, median"
   ]
  },
  {
   "cell_type": "markdown",
   "metadata": {},
   "source": [
    "## This function violates another software engineering principle: Do One Thing. Every function should have a single responsibility."
   ]
  },
  {
   "cell_type": "markdown",
   "metadata": {},
   "source": [
    "**Instead of one big function, we could have a more nimble function that just find mean a second one for median.**\n",
    "\n",
    "We get several advantages from splitting the mean_and_median() function into two smaller functions. Our code becomes:\n",
    "\n",
    "* More flexible\n",
    "* More easily understood\n",
    "* Simpler to test\n",
    "* Simpler to debug\n",
    "* Easier to change"
   ]
  },
  {
   "cell_type": "code",
   "execution_count": 10,
   "metadata": {},
   "outputs": [],
   "source": [
    "def find_mean(values):\n",
    "    \"\"\"Gets the mean of a list of values\n",
    "\n",
    "    Args:\n",
    "      values (iterable of float): A list of numbers\n",
    "\n",
    "    Returns:\n",
    "      float\n",
    "    \"\"\"\n",
    "    mean = sum(values) / len(values)\n",
    "    return mean"
   ]
  },
  {
   "cell_type": "code",
   "execution_count": 11,
   "metadata": {},
   "outputs": [],
   "source": [
    "def find_median(values):\n",
    "    \"\"\"Gets the median of a list of values\n",
    "\n",
    "    Args:\n",
    "      values (iterable of float): A list of numbers\n",
    "\n",
    "    Returns:\n",
    "      float\n",
    "    \"\"\"\n",
    "    midpoint = int(len(values) / 2)\n",
    "    if len(values) % 2 == 0:\n",
    "        median = (values[midpoint - 1] + values[midpoint]) / 2\n",
    "    else:\n",
    "        median = values[midpoint]\n",
    "    return median"
   ]
  },
  {
   "cell_type": "markdown",
   "metadata": {},
   "source": [
    "# 7. Pass by Assignment"
   ]
  },
  {
   "cell_type": "markdown",
   "metadata": {},
   "source": [
    "**Another important thing to keep in mind when writing functions is that the way that Python passes information to functions is different from many other languages. It is referred to as pass by assignment.**"
   ]
  },
  {
   "cell_type": "code",
   "execution_count": 12,
   "metadata": {},
   "outputs": [
    {
     "name": "stdout",
     "output_type": "stream",
     "text": [
      "[1, 2, 3, 4]\n",
      "[1, 2, 3, 4, 5]\n",
      "42\n"
     ]
    }
   ],
   "source": [
    "a = [1, 2, 3]\n",
    "b = a\n",
    "a.append(4)\n",
    "print(b)\n",
    "b.append(5)\n",
    "print(a)\n",
    "a=42\n",
    "print(a)"
   ]
  },
  {
   "cell_type": "markdown",
   "metadata": {},
   "source": [
    "# 8. Pass by Assignment Continued"
   ]
  },
  {
   "cell_type": "markdown",
   "metadata": {},
   "source": [
    "**if we type b = a, the interpreter says, \"Okay, now b points to whatever a is pointing to**."
   ]
  },
  {
   "attachments": {
    "image.png": {
     "image/png": "[encoded data removed]"
    }
   },
   "cell_type": "markdown",
   "metadata": {},
   "source": [
    "![image.png](attachment:image.png)"
   ]
  },
  {
   "cell_type": "markdown",
   "metadata": {},
   "source": [
    "* So if we were to append 4 to the end of a, both variables get it because there is only one list.\n",
    "* Likewise, if we append 5 to b, both variables get it."
   ]
  },
  {
   "cell_type": "markdown",
   "metadata": {},
   "source": [
    "# 9. Mutable and Immutable Variables"
   ]
  },
  {
   "cell_type": "code",
   "execution_count": 13,
   "metadata": {},
   "outputs": [],
   "source": [
    "def foo(x):\n",
    "    x[0] = 99"
   ]
  },
  {
   "cell_type": "code",
   "execution_count": 14,
   "metadata": {},
   "outputs": [
    {
     "data": {
      "text/plain": [
       "[99, 2, 3]"
      ]
     },
     "execution_count": 14,
     "metadata": {},
     "output_type": "execute_result"
    }
   ],
   "source": [
    "my_list = [1, 2, 3]\n",
    "\n",
    "foo(my_list)\n",
    "my_list"
   ]
  },
  {
   "cell_type": "markdown",
   "metadata": {},
   "source": [
    "* When we assign a list to the variable my_list, it sets up a location in memory for it. Then, when we pass my_list to the function foo(), the parameter x gets assigned to that same location.\n",
    "* `So when the function modifies the thing that x points to, it is also modifying the thing that my_list points to.`"
   ]
  },
  {
   "cell_type": "code",
   "execution_count": 15,
   "metadata": {},
   "outputs": [],
   "source": [
    "def bar(x):\n",
    "    x = x + 90"
   ]
  },
  {
   "cell_type": "code",
   "execution_count": 16,
   "metadata": {},
   "outputs": [
    {
     "data": {
      "text/plain": [
       "3"
      ]
     },
     "execution_count": 16,
     "metadata": {},
     "output_type": "execute_result"
    }
   ],
   "source": [
    "my_var = 3\n",
    "\n",
    "bar(my_var)\n",
    "my_var"
   ]
  },
  {
   "cell_type": "markdown",
   "metadata": {},
   "source": [
    "* In the other example, we created a variable my_var and assigned it the value 3. Then we passed it to the function bar(), which caused the argument x to point to the same place my_var is pointing.\n",
    "* But the bar() function assigns x to a new value, so the `my_var` variable isn't touched. In fact, there is no way in Python to have changed x or my_var directly, because integers are immutable variables, meaning they can't be changed."
   ]
  },
  {
   "cell_type": "markdown",
   "metadata": {},
   "source": [
    "### Immutable\n",
    "\n",
    "* int\n",
    "* float\n",
    "* bool\n",
    "* string\n",
    "* bytes\n",
    "* tuple\n",
    "* frozenset\n",
    "\n",
    "### Mutable\n",
    "\n",
    "* list\n",
    "* dict\n",
    "* set\n",
    "* bytearray\n",
    "* objects\n",
    "* functions</br>\n",
    "\n",
    "almost everything else!"
   ]
  },
  {
   "cell_type": "markdown",
   "metadata": {},
   "source": [
    "## The only way to tell if something is mutable is to see if there is a function or method that will change the object without assigning it to a new variable."
   ]
  },
  {
   "cell_type": "markdown",
   "metadata": {},
   "source": [
    "# 10. Mutable and Immutable Variables Continued"
   ]
  },
  {
   "cell_type": "markdown",
   "metadata": {},
   "source": [
    "In the last exercise, we saw something that can get us into trouble. foo() is a function that appends the value 1 to the end of a list:"
   ]
  },
  {
   "cell_type": "code",
   "execution_count": 17,
   "metadata": {},
   "outputs": [],
   "source": [
    "def foo(var=[]):\n",
    "    var.append(1)\n",
    "    return var"
   ]
  },
  {
   "cell_type": "markdown",
   "metadata": {},
   "source": [
    "But, whoever wrote this function gave the argument an empty list as a default value. When we call foo() the first time, we get what you would expect — a list with one entry"
   ]
  },
  {
   "cell_type": "code",
   "execution_count": 18,
   "metadata": {},
   "outputs": [
    {
     "data": {
      "text/plain": [
       "[1]"
      ]
     },
     "execution_count": 18,
     "metadata": {},
     "output_type": "execute_result"
    }
   ],
   "source": [
    "foo()"
   ]
  },
  {
   "cell_type": "code",
   "execution_count": 19,
   "metadata": {},
   "outputs": [
    {
     "data": {
      "text/plain": [
       "[1, 1]"
      ]
     },
     "execution_count": 19,
     "metadata": {},
     "output_type": "execute_result"
    }
   ],
   "source": [
    "foo()"
   ]
  },
  {
   "cell_type": "markdown",
   "metadata": {},
   "source": [
    "### If you really want a `mutable variable as a default value,` consider defaulting to None and setting the argument in the function:"
   ]
  },
  {
   "cell_type": "code",
   "execution_count": 20,
   "metadata": {},
   "outputs": [],
   "source": [
    "def foo(var=None):\n",
    "    if var is None:\n",
    "        var = []\n",
    "    var.append(1)\n",
    "    return var"
   ]
  },
  {
   "cell_type": "code",
   "execution_count": 21,
   "metadata": {},
   "outputs": [
    {
     "data": {
      "text/plain": [
       "[1]"
      ]
     },
     "execution_count": 21,
     "metadata": {},
     "output_type": "execute_result"
    }
   ],
   "source": [
    "foo()"
   ]
  },
  {
   "cell_type": "code",
   "execution_count": 22,
   "metadata": {},
   "outputs": [
    {
     "data": {
      "text/plain": [
       "[1]"
      ]
     },
     "execution_count": 22,
     "metadata": {},
     "output_type": "execute_result"
    }
   ],
   "source": [
    "foo()"
   ]
  },
  {
   "cell_type": "markdown",
   "metadata": {},
   "source": [
    "In this mission, \n",
    "* you learned how to make high quality functions by giving them docstrings and by making sure that they only do one thing. \n",
    "* Remembering the acronym DRY, or \"Don't Repeat Yourself\", helped you notice when you needed to pull part of your code into a reusable function. \n",
    "* You also learned about how Python passes arguments to functions and the difference between mutable and immutable variables."
   ]
  }
 ],
 "metadata": {
  "kernelspec": {
   "display_name": "Python 3",
   "language": "python",
   "name": "python3"
  },
  "language_info": {
   "codemirror_mode": {
    "name": "ipython",
    "version": 3
   },
   "file_extension": ".py",
   "mimetype": "text/x-python",
   "name": "python",
   "nbconvert_exporter": "python",
   "pygments_lexer": "ipython3",
   "version": "3.7.3"
  }
 },
 "nbformat": 4,
 "nbformat_minor": 2
}
