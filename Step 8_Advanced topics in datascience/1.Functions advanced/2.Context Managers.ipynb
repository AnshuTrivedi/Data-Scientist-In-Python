{
 "cells": [
  {
   "cell_type": "markdown",
   "metadata": {},
   "source": [
    "# 1. Introduction"
   ]
  },
  {
   "cell_type": "markdown",
   "metadata": {},
   "source": [
    "In this mission, we'll learn how to use and write context managers, a type of function that sets up a context for your code to run in, runs your code, and then removes the context"
   ]
  },
  {
   "cell_type": "markdown",
   "metadata": {},
   "source": [
    "Context managers:\n",
    "\n",
    "* Set up a context\n",
    "* Run your code\n",
    "* Remove the context"
   ]
  },
  {
   "cell_type": "markdown",
   "metadata": {},
   "source": [
    "First, the caterers set up a context for your party, which was a room full of food and drinks. Then they let you and your friends do whatever you want. This is like you being able to run your code inside the context manager's context. Finally, when the party is over, the caterers clean up and remove the context in which the party happened."
   ]
  },
  {
   "cell_type": "markdown",
   "metadata": {},
   "source": [
    "# 2. Using Context Managers"
   ]
  },
  {
   "cell_type": "markdown",
   "metadata": {},
   "source": [
    "**open() function is a context manager. open() does three things:**\n",
    "\n",
    "* Sets up a context by opening a file\n",
    "* Lets you run any code you want on that file\n",
    "* Removes the context by closing the file"
   ]
  },
  {
   "cell_type": "markdown",
   "metadata": {},
   "source": [
    "* When we write` with open()`, it opens a file that we can read from or write to. Then, it gives control back to our code, so that we can perform operations on the file object."
   ]
  },
  {
   "cell_type": "code",
   "execution_count": 1,
   "metadata": {},
   "outputs": [
    {
     "name": "stdout",
     "output_type": "stream",
     "text": [
      "The file is 11 characters long\n"
     ]
    }
   ],
   "source": [
    "with open('my_file.txt') as my_file:\n",
    "    text = my_file.read()\n",
    "    length = len(text)\n",
    "\n",
    "print('The file is {} characters long'.format(length))"
   ]
  },
  {
   "cell_type": "markdown",
   "metadata": {},
   "source": [
    "In the example above, we read the text of the file, store the contents of the file in the variable text, and store the length of the contents in the variable length. When the code inside the indented block is done, the open() function makes sure that the file is closed before continuing on in the script. The print statement is outside of the context, so by the time it runs, the file is closed."
   ]
  },
  {
   "cell_type": "code",
   "execution_count": 2,
   "metadata": {},
   "outputs": [
    {
     "name": "stdout",
     "output_type": "stream",
     "text": [
      "\n",
      "Hey Anshu\n",
      "\n"
     ]
    }
   ],
   "source": [
    "with open('my_file.txt') as my_file:\n",
    "    content=my_file.read()\n",
    "    \n",
    "print(content)"
   ]
  },
  {
   "cell_type": "markdown",
   "metadata": {},
   "source": [
    "# 3. Using Context Managers Continued"
   ]
  },
  {
   "cell_type": "markdown",
   "metadata": {},
   "source": [
    "**1.**  Any time we use a context manager, it will look like this. `The keyword with` lets Python know that we are trying to enter a context:\n",
    "\n",
    "with\n",
    "\n",
    "**2.**  Then we call a function. We can call any function that is built to work as a context manager.\n",
    "\n",
    "`with <context-manager>()`\n",
    "\n",
    "**3.**  A context manager can also take arguments like any normal function:\n",
    "\n",
    "`with <context-manager>(<args>)`\n",
    "\n",
    "**4.** We end the with statement with a colon, as if we were writing a for loop or an if statement:\n",
    "\n",
    "`with <context-manager>(<args>):`"
   ]
  },
  {
   "cell_type": "markdown",
   "metadata": {},
   "source": [
    "Statements in Python that have an indented block after them, like for loops, if/else statements, function definitions, etc. are called compound statements. The with statement is another type of compound statement. Any code that we want to run inside the context that the context manager created needs to be indented."
   ]
  },
  {
   "cell_type": "markdown",
   "metadata": {},
   "source": [
    "**Some context managers want to return a value that you can use inside the context. By adding as and a variable name at the end of the with statement, we can assign the returned value to the variable name.**"
   ]
  },
  {
   "cell_type": "code",
   "execution_count": 3,
   "metadata": {},
   "outputs": [
    {
     "data": {
      "text/plain": [
       "'\\n\\nwith <context-manager>(<args>) as <variable-name>:\\n  # Run your code here\\n  # This code is running \"inside the context\"\\n\\n# This code runs after the context is removed\\n\\n\\n'"
      ]
     },
     "execution_count": 3,
     "metadata": {},
     "output_type": "execute_result"
    }
   ],
   "source": [
    "'''\n",
    "\n",
    "with <context-manager>(<args>) as <variable-name>:\n",
    "  # Run your code here\n",
    "  # This code is running \"inside the context\"\n",
    "\n",
    "# This code runs after the context is removed\n",
    "\n",
    "\n",
    "'''"
   ]
  },
  {
   "cell_type": "markdown",
   "metadata": {},
   "source": [
    "## TODO:\n",
    "You are working on a natural language processing project to determine what makes great writers so great. Your current hypothesis is that great writers talk about cats a lot. To prove it, you want to count the number of times the word \"cat\" appears in \"Alice's Adventures in Wonderland\" by Lewis Carroll."
   ]
  },
  {
   "cell_type": "code",
   "execution_count": 4,
   "metadata": {},
   "outputs": [
    {
     "name": "stdout",
     "output_type": "stream",
     "text": [
      "Lewis Caroll uses the word \"cat\" 15 times\n"
     ]
    }
   ],
   "source": [
    "with open('alice.txt') as file:\n",
    "    text=file.read()\n",
    "    n = 0\n",
    "    for word in text.split():\n",
    "        if word.lower() in ['cat', 'cats']:\n",
    "            n += 1\n",
    "print('Lewis Caroll uses the word \"cat\" {} times'.format(n))"
   ]
  },
  {
   "cell_type": "markdown",
   "metadata": {},
   "source": [
    "# 4. Writing Context Managers"
   ]
  },
  {
   "cell_type": "markdown",
   "metadata": {},
   "source": [
    "## There are two ways to define a context manager in Python:\n",
    "\n",
    "* **By using a class that has special `__enter__()` and` __exit__()` methods**\n",
    "* **By decorating a certain kind of function**"
   ]
  },
  {
   "cell_type": "markdown",
   "metadata": {},
   "source": [
    "### There are five parts to create a context manager:\n",
    "\n",
    "* Define a function.\n",
    "* (optional) Add any setup code your context needs.\n",
    "* Use the` yield keyword `to signal to Python that this is a special kind of function.\n",
    "* (optional) Add any teardown code needed to clean up the context.\n",
    "* Add the` @contextlib.contextmanager` decorator."
   ]
  },
  {
   "cell_type": "code",
   "execution_count": 5,
   "metadata": {},
   "outputs": [
    {
     "data": {
      "text/plain": [
       "'\\n@contextlib.contextmanager\\ndef my_context():\\n  # Add any set up code you need\\n\\n  yield\\n\\n  # Add any teardown code you need\\n  \\n'"
      ]
     },
     "execution_count": 5,
     "metadata": {},
     "output_type": "execute_result"
    }
   ],
   "source": [
    "'''\n",
    "@contextlib.contextmanager\n",
    "def my_context():\n",
    "  # Add any set up code you need\n",
    "\n",
    "  yield\n",
    "\n",
    "  # Add any teardown code you need\n",
    "  \n",
    "'''"
   ]
  },
  {
   "cell_type": "markdown",
   "metadata": {},
   "source": [
    "**In the last step, we must decorate the function with the `contextmanager` decorator from the` contextlib module.`**"
   ]
  },
  {
   "cell_type": "markdown",
   "metadata": {},
   "source": [
    "* The `yield keyword` When we write this word, it means that we are going to return a value, but we expect to finish the rest of the function at some point in the future.\n",
    "\n",
    "* The value that our context manager yields can be assigned to a variable in the with statement by adding as "
   ]
  },
  {
   "cell_type": "code",
   "execution_count": 6,
   "metadata": {},
   "outputs": [
    {
     "name": "stdout",
     "output_type": "stream",
     "text": [
      "hello\n",
      "foo is 42\n",
      "goodbye\n"
     ]
    }
   ],
   "source": [
    "import contextlib \n",
    "\n",
    "@contextlib.contextmanager\n",
    "def my_context():\n",
    "    print('hello')\n",
    "\n",
    "    yield 42\n",
    "\n",
    "    print('goodbye')\n",
    "################################################################    \n",
    "    \n",
    "with my_context() as foo:\n",
    "    print('foo is {}'.format(foo))"
   ]
  },
  {
   "cell_type": "markdown",
   "metadata": {},
   "source": [
    "`Some context managers don't yield an explicit value. `For example, in_dir() below is a context manager that changes the current working directory to a specific path and then changes it back after the context block is done. It does not need to return anything with its yield statement."
   ]
  },
  {
   "cell_type": "code",
   "execution_count": 7,
   "metadata": {},
   "outputs": [
    {
     "name": "stdout",
     "output_type": "stream",
     "text": [
      "['.git', 'Datasets', 'Projects', 'README.md', 'Step 1_ Introduction to Python', 'Step 2_ Intermediate Python and Pandas', 'Step 3_ The Command Line', 'Step 4_ Working with data sources', 'Step 5_Probability and Statistics', 'Step 6_ Advanced topics in data analysis']\n"
     ]
    }
   ],
   "source": [
    "import os\n",
    "\n",
    "@contextlib.contextmanager\n",
    "def in_dir(path):\n",
    "    # save current working directory\n",
    "    old_dir = os.getcwd()\n",
    "\n",
    "    # switch to new working directory\n",
    "    os.chdir(path)\n",
    "\n",
    "    yield\n",
    "\n",
    "    # change back to previous\n",
    "    # working directory\n",
    "    os.chdir(old_dir)\n",
    "    \n",
    "with in_dir('C:\\\\Users\\\\krishna\\\\Desktop\\\\Github repos\\\\Data-Analyst-In-Python'):\n",
    "    project_files = os.listdir()\n",
    "print(project_files)"
   ]
  },
  {
   "cell_type": "markdown",
   "metadata": {},
   "source": [
    "## TODO:\n",
    "A colleague of yours is working on a web service that processes images. It's taking too long to process the data, so your colleague has come to you for help. You decide to write a context manager that they can use to time how long their functions take to run.\n",
    "* Add a decorator from the contextlib module to the timer() function that will make it act like a context manager.\n",
    "* Send control from the timer() function to the context block."
   ]
  },
  {
   "cell_type": "code",
   "execution_count": 8,
   "metadata": {},
   "outputs": [
    {
     "name": "stdout",
     "output_type": "stream",
     "text": [
      "This should take approximately 0.25 seconds\n",
      "Elapsed: 0.25s\n"
     ]
    }
   ],
   "source": [
    "import time\n",
    "\n",
    "@contextlib.contextmanager\n",
    "def timer():\n",
    "    \"\"\"Time the execution of a context block.\n",
    "\n",
    "    Yields:\n",
    "      None\n",
    "    \"\"\"\n",
    "    start = time.time()\n",
    "    # Send control back to the context block\n",
    "    yield\n",
    "    end = time.time()\n",
    "    print('Elapsed: {:.2f}s'.format(end - start))\n",
    "\n",
    "with timer():\n",
    "    print('This should take approximately 0.25 seconds')\n",
    "    time.sleep(0.25)"
   ]
  },
  {
   "cell_type": "markdown",
   "metadata": {},
   "source": [
    "# 5. Writing Context Managers Continued"
   ]
  },
  {
   "cell_type": "markdown",
   "metadata": {},
   "source": [
    "* the ability for a function to yield control and know that it will get to finish running later is what makes context managers so useful"
   ]
  },
  {
   "cell_type": "markdown",
   "metadata": {},
   "source": [
    "The context manager below is an example of code that accesses a database."
   ]
  },
  {
   "cell_type": "code",
   "execution_count": 9,
   "metadata": {},
   "outputs": [],
   "source": [
    "@contextlib.contextmanager\n",
    "def database(url):\n",
    "    # set up database connection\n",
    "    db = postgres.connect(url)\n",
    "\n",
    "    yield db\n",
    "\n",
    "    # tear down database connection\n",
    "    db.disconnect()"
   ]
  },
  {
   "cell_type": "markdown",
   "metadata": {},
   "source": [
    "Most context managers also have some teardown or cleanup code when they get control back after yielding. This one uses the teardown section to disconnect from the database.\n",
    "\n",
    "This setup/teardown behavior allows a context manager to hide things like connecting and disconnecting from a database, so that a programmer using the context manager can just perform operations on the database without worrying about the underlying details."
   ]
  },
  {
   "cell_type": "markdown",
   "metadata": {},
   "source": [
    "## TODO:\n",
    "You have a bunch of data files for your next deep learning project that took you months to collect and clean. It would be terrible if you accidentally overwrote one of those files when trying to read it in for training, so you decide to create a read-only version of the open() context manager to use in your project.\n",
    "\n",
    "**The regular open() context manager:**\n",
    "  * takes a filename and a mode ('r' for read, 'w' for write, or 'a' for append)\n",
    "  * opens the file for reading, writing, or appending\n",
    "  * sends control back to the context, along with a reference to the file\n",
    "  * waits for the context to finish\n",
    "  * and then closes the file before exiting\n",
    "  \n",
    "**Your context manager will do the same thing, except it will only take the filename as an argument and it will only open the file for reading**.\n",
    "\n",
    "* Create a function named open_read_only() with one argument named filename. Inside the function's body:\n",
    "* Use the open() function to open filename for reading and assign it to read_only_file.\n",
    "* Use the yield keyword to send control from open_read_only() to the context block, ensuring that read_only_file is yielded.\n",
    "* Use read_only_file's .close() method to close read_only_file.\n",
    "* Optional Exercise: Add a docstring to the function.\n",
    "* Add the @contextlib.contextmanager decorator to the open_read_only() function so that it will act like a context manager.\n",
    "* Use the open_read_only() context manager to open my_file.txt. Assign the file to the my_file variable.\n",
    "* Use read_only_file's read() method to read the file's contents. Print the result."
   ]
  },
  {
   "cell_type": "code",
   "execution_count": 10,
   "metadata": {},
   "outputs": [
    {
     "name": "stdout",
     "output_type": "stream",
     "text": [
      "\n",
      "Hey Anshu\n",
      "\n"
     ]
    }
   ],
   "source": [
    "@contextlib.contextmanager\n",
    "def open_read_only(filename):\n",
    "    \"\"\"Open a file in read-only mode.\n",
    "\n",
    "    Args:\n",
    "      filename (str): The location of the file to read\n",
    "\n",
    "    Yields:\n",
    "      file object\n",
    "    \"\"\"\n",
    "    read_only_file = open(filename, mode='r')\n",
    "    # Yield read_only_file so it can be assigned to my_file\n",
    "    yield read_only_file\n",
    "    # Close read_only_file\n",
    "    read_only_file.close()\n",
    "\n",
    "with open_read_only('my_file.txt') as my_file:\n",
    "    print(my_file.read())"
   ]
  },
  {
   "cell_type": "markdown",
   "metadata": {},
   "source": [
    "# 6. Nested Contexts"
   ]
  },
  {
   "cell_type": "markdown",
   "metadata": {},
   "source": [
    "Imagine we are implementing a function that copies the contents of one file to another file. One way we could write this function would be to open the source file, store the contents of the file in the contents variable, then open the destination file and write the contents to it."
   ]
  },
  {
   "cell_type": "code",
   "execution_count": 11,
   "metadata": {},
   "outputs": [],
   "source": [
    "def copy(src, dst):\n",
    "    \"\"\"Copy the contents of one file to another.\n",
    "\n",
    "    Args:\n",
    "      src (str): File name of the file to be copied.\n",
    "      dst (str): Where to write the new file.\n",
    "    \"\"\"\n",
    "    # Open the source file and read in the contents\n",
    "    with open(src) as f_src:\n",
    "        contents = f_src.read()\n",
    "\n",
    "    # Open the destination file and write out the contents\n",
    "    with open(dst, 'w') as f_dst:\n",
    "        f_dst.write(contents)"
   ]
  },
  {
   "cell_type": "markdown",
   "metadata": {},
   "source": [
    "This approach works fine until we try to copy a file that is too large to fit in memory.\n",
    "\n",
    "`What would be ideal is if we could open both files at once and copy over one line at a time.`"
   ]
  },
  {
   "cell_type": "markdown",
   "metadata": {},
   "source": [
    "## TODO:\n",
    "You're working on a project to pick the best time to invest in NVIDIA stock, so you are going to collect and analyze data on how their stock is doing. The context manager stock('NVDA') will connect to the NASDAQ and return an object that you can use to get the latest price by calling its .price() method.\n",
    "\n",
    "   * You want to connect to stock('NVDA') and record 10 timesteps of price data by writing it to the file NVDA.txt. We've        already provided the code to write the price data to the file. \n",
    "\n",
    "\n",
    " * Use the stock('NVDA') context manager. Assign the result to nvda.\n",
    "   Open NVDA.txt for writing. Assign the file object to f_out so you can record the price over time."
   ]
  },
  {
   "cell_type": "code",
   "execution_count": 12,
   "metadata": {},
   "outputs": [
    {
     "ename": "NameError",
     "evalue": "name 'nvda' is not defined",
     "output_type": "error",
     "traceback": [
      "\u001b[1;31m---------------------------------------------------------------------------\u001b[0m",
      "\u001b[1;31mNameError\u001b[0m                                 Traceback (most recent call last)",
      "\u001b[1;32m<ipython-input-12-5142965ef14e>\u001b[0m in \u001b[0;36m<module>\u001b[1;34m\u001b[0m\n\u001b[0;32m      1\u001b[0m \u001b[1;32mfor\u001b[0m \u001b[0m_\u001b[0m \u001b[1;32min\u001b[0m \u001b[0mrange\u001b[0m\u001b[1;33m(\u001b[0m\u001b[1;36m10\u001b[0m\u001b[1;33m)\u001b[0m\u001b[1;33m:\u001b[0m\u001b[1;33m\u001b[0m\u001b[1;33m\u001b[0m\u001b[0m\n\u001b[1;32m----> 2\u001b[1;33m     \u001b[0mvalue\u001b[0m \u001b[1;33m=\u001b[0m \u001b[0mnvda\u001b[0m\u001b[1;33m.\u001b[0m\u001b[0mprice\u001b[0m\u001b[1;33m(\u001b[0m\u001b[1;33m)\u001b[0m\u001b[1;33m\u001b[0m\u001b[1;33m\u001b[0m\u001b[0m\n\u001b[0m\u001b[0;32m      3\u001b[0m     \u001b[0mprint\u001b[0m\u001b[1;33m(\u001b[0m\u001b[1;34m'Logging ${:.2f} for NVDA'\u001b[0m\u001b[1;33m.\u001b[0m\u001b[0mformat\u001b[0m\u001b[1;33m(\u001b[0m\u001b[0mvalue\u001b[0m\u001b[1;33m)\u001b[0m\u001b[1;33m)\u001b[0m\u001b[1;33m\u001b[0m\u001b[1;33m\u001b[0m\u001b[0m\n\u001b[0;32m      4\u001b[0m     \u001b[0mf_out\u001b[0m\u001b[1;33m.\u001b[0m\u001b[0mwrite\u001b[0m\u001b[1;33m(\u001b[0m\u001b[1;34m'{:.2f}\\n'\u001b[0m\u001b[1;33m.\u001b[0m\u001b[0mformat\u001b[0m\u001b[1;33m(\u001b[0m\u001b[0mvalue\u001b[0m\u001b[1;33m)\u001b[0m\u001b[1;33m)\u001b[0m\u001b[1;33m\u001b[0m\u001b[1;33m\u001b[0m\u001b[0m\n\u001b[0;32m      5\u001b[0m \u001b[1;33m\u001b[0m\u001b[0m\n",
      "\u001b[1;31mNameError\u001b[0m: name 'nvda' is not defined"
     ]
    }
   ],
   "source": [
    "for _ in range(10):\n",
    "    value = nvda.price()\n",
    "    print('Logging ${:.2f} for NVDA'.format(value))\n",
    "    f_out.write('{:.2f}\\n'.format(value))\n",
    "\n",
    "\n",
    "with stock('NVDA') as nvda:\n",
    "    # Open 'NVDA.txt' for writing as f_out\n",
    "    with open('NVDA.txt', 'w') as f_out:\n",
    "        for _ in range(10):\n",
    "            value = nvda.price()\n",
    "            print('Logging ${:.2f} for NVDA'.format(value))\n",
    "            f_out.write('{:.2f}\\n'.format(value))"
   ]
  },
  {
   "cell_type": "markdown",
   "metadata": {},
   "source": [
    "# 7. Handling Errors"
   ]
  },
  {
   "cell_type": "markdown",
   "metadata": {},
   "source": [
    "Imagine we've written this function that lets someone connect to the printer. The printer only allows one connection at a time, so it is imperative that p.disconnect() gets called, or else no one else will be able to print!"
   ]
  },
  {
   "cell_type": "code",
   "execution_count": 13,
   "metadata": {},
   "outputs": [],
   "source": [
    "def get_printer(ip):\n",
    "    p = connect_to_printer(ip)\n",
    "\n",
    "    yield\n",
    "\n",
    "    # This MUST be called or no one else will\n",
    "    # be able to connect to the printer \n",
    "    p.disconnect()"
   ]
  },
  {
   "cell_type": "markdown",
   "metadata": {},
   "source": [
    "Someone decides to use our get_printer() function to print the text of their document. However, they weren't paying attention and accidentally typed txt instead of text."
   ]
  },
  {
   "cell_type": "code",
   "execution_count": 14,
   "metadata": {},
   "outputs": [
    {
     "ename": "AttributeError",
     "evalue": "__enter__",
     "output_type": "error",
     "traceback": [
      "\u001b[1;31m---------------------------------------------------------------------------\u001b[0m",
      "\u001b[1;31mAttributeError\u001b[0m                            Traceback (most recent call last)",
      "\u001b[1;32m<ipython-input-14-52307a6efd07>\u001b[0m in \u001b[0;36m<module>\u001b[1;34m\u001b[0m\n\u001b[0;32m      1\u001b[0m \u001b[0mdoc\u001b[0m \u001b[1;33m=\u001b[0m \u001b[1;33m{\u001b[0m\u001b[1;34m'text'\u001b[0m\u001b[1;33m:\u001b[0m \u001b[1;34m'This is my text.'\u001b[0m\u001b[1;33m}\u001b[0m\u001b[1;33m\u001b[0m\u001b[1;33m\u001b[0m\u001b[0m\n\u001b[0;32m      2\u001b[0m \u001b[1;33m\u001b[0m\u001b[0m\n\u001b[1;32m----> 3\u001b[1;33m \u001b[1;32mwith\u001b[0m \u001b[0mget_printer\u001b[0m\u001b[1;33m(\u001b[0m\u001b[1;34m'10.0.34.111'\u001b[0m\u001b[1;33m)\u001b[0m \u001b[1;32mas\u001b[0m \u001b[0mprinter\u001b[0m\u001b[1;33m:\u001b[0m\u001b[1;33m\u001b[0m\u001b[1;33m\u001b[0m\u001b[0m\n\u001b[0m\u001b[0;32m      4\u001b[0m     \u001b[0mprinter\u001b[0m\u001b[1;33m.\u001b[0m\u001b[0mprint_page\u001b[0m\u001b[1;33m(\u001b[0m\u001b[0mdoc\u001b[0m\u001b[1;33m[\u001b[0m\u001b[1;34m'txt'\u001b[0m\u001b[1;33m]\u001b[0m\u001b[1;33m)\u001b[0m\u001b[1;33m\u001b[0m\u001b[1;33m\u001b[0m\u001b[0m\n",
      "\u001b[1;31mAttributeError\u001b[0m: __enter__"
     ]
    }
   ],
   "source": [
    "doc = {'text': 'This is my text.'}\n",
    "\n",
    "with get_printer('10.0.34.111') as printer:\n",
    "    printer.print_page(doc['txt'])"
   ]
  },
  {
   "cell_type": "markdown",
   "metadata": {},
   "source": [
    "This will raise a KeyError because txt is not in the doc dictionary. And that means p.disconnect() doesn't get called."
   ]
  },
  {
   "cell_type": "markdown",
   "metadata": {},
   "source": [
    "So what can we do? You may be familiar with the try statement. **It allows us `to write code that might raise an error inside the try block` and `catch that error inside the except block`. We can choose to ignore the error or re-raise it**."
   ]
  },
  {
   "cell_type": "markdown",
   "metadata": {},
   "source": [
    "<block><pre>\n",
    "**try**:\n",
    "   code that might raise an error\n",
    "**except**:\n",
    "   do something about the error\n",
    "<block></pre>"
   ]
  },
  {
   "cell_type": "markdown",
   "metadata": {},
   "source": [
    "#### The try statement also allows us to add a finally block. This is code that runs no matter what, whether an exception occured or not."
   ]
  },
  {
   "cell_type": "markdown",
   "metadata": {},
   "source": [
    "<block><pre>\n",
    "**try**:\n",
    "   code that might raise an error\n",
    "**except**:\n",
    "   do something about the error\n",
    "**finally**:\n",
    "   this code runs no matter what\n",
    "  \n",
    "<block></pre>"
   ]
  },
  {
   "cell_type": "markdown",
   "metadata": {},
   "source": [
    "The solution then is to put a try statement before the yield statement in our get_printer() function and a finally statement before p.disconnect()."
   ]
  },
  {
   "cell_type": "code",
   "execution_count": null,
   "metadata": {},
   "outputs": [],
   "source": [
    "def get_printer(ip):\n",
    "    p = connect_to_printer(ip)\n",
    "\n",
    "    try:\n",
    "        yield\n",
    "    finally:\n",
    "        p.disconnect()"
   ]
  },
  {
   "cell_type": "markdown",
   "metadata": {},
   "source": [
    "When the sloppy programmer runs their code, they still get the KeyError, but finally ensures that p.disconnect() is called before the error is raised."
   ]
  },
  {
   "cell_type": "markdown",
   "metadata": {},
   "source": [
    "# 8. When to Create Context Managers"
   ]
  },
  {
   "cell_type": "markdown",
   "metadata": {},
   "source": [
    "**If you notice that your code is following any of these patterns, consider using a context manager:**\n",
    "\n",
    "* OPEN/CLOSE\n",
    "* LOCK/RELEASE\n",
    "* CHANGE/RESET\n",
    "* ENTER/EXIT\n",
    "* START/STOP\n",
    "* SETUP/TEARDOWN\n",
    "* CONNECT/DISCONNECT"
   ]
  },
  {
   "cell_type": "markdown",
   "metadata": {},
   "source": [
    "For instance, in this mission we've talked about open(), which uses the open/close pattern, and get_printer(), which uses the connect/disconnect pattern. See if you can find other instances of these patterns in code you are familiar with."
   ]
  }
 ],
 "metadata": {
  "kernelspec": {
   "display_name": "Python 3",
   "language": "python",
   "name": "python3"
  },
  "language_info": {
   "codemirror_mode": {
    "name": "ipython",
    "version": 3
   },
   "file_extension": ".py",
   "mimetype": "text/x-python",
   "name": "python",
   "nbconvert_exporter": "python",
   "pygments_lexer": "ipython3",
   "version": "3.7.3"
  }
 },
 "nbformat": 4,
 "nbformat_minor": 2
}
