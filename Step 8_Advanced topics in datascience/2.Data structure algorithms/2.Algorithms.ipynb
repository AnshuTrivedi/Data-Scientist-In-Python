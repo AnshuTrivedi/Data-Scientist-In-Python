{
 "cells": [
  {
   "cell_type": "markdown",
   "metadata": {},
   "source": [
    "# 1. What is an algorithm?"
   ]
  },
  {
   "cell_type": "markdown",
   "metadata": {},
   "source": [
    "`An algorithm is a well-defined series of steps for performing a task`, such as making calculations or processing data. An algorithm usually has an input and an output. In reality, any code we write performs an algorithm, whether it be simple or complicated."
   ]
  },
  {
   "cell_type": "markdown",
   "metadata": {},
   "source": [
    "# 2. Implementing an Algorithm"
   ]
  },
  {
   "cell_type": "markdown",
   "metadata": {},
   "source": [
    "## TODO:\n",
    "You'll be working with nba, a data set containing the names and ages of National Basketball Association (NBA) players from 2013, along with some statistics.\n",
    "\n",
    "* Write a linear search algorithm to find \"Kobe Bryant\" in the nba data set.\n",
    "The first column (index 0) contains each player's name.\n",
    "* Once the algorithm finds \"Kobe Bryant\", store his position (from the second column) in the variable kobe_position."
   ]
  },
  {
   "cell_type": "markdown",
   "metadata": {},
   "source": [
    "**Linear search checks a list of items for a particular value by reviewing each item in the list until it finds the one it's looking for. If it doesn't find a matching item, we can conclude that there's no matching item in the list.**"
   ]
  },
  {
   "cell_type": "code",
   "execution_count": 1,
   "metadata": {},
   "outputs": [
    {
     "name": "stdout",
     "output_type": "stream",
     "text": [
      "[['player', 'pos', 'age', 'bref_team_id', 'g', 'gs', 'mp', 'fg', 'fga', 'fg.', 'x3p', 'x3pa', 'x3p.', 'x2p', 'x2pa', 'x2p.', 'efg.', 'ft', 'fta', 'ft.', 'orb', 'drb', 'trb', 'ast', 'stl', 'blk', 'tov', 'pf', 'pts', 'season', 'season_end'], ['Quincy Acy', 'SF', '23', 'TOT', '63', '0', '847', '66', '141', '0.468', '4', '15', '0.266666666666667', '62', '126', '0.492063492063492', '0.482', '35', '53', '0.66', '72', '144', '216', '28', '23', '26', '30', '122', '171', '2013-2014', '2013'], ['Steven Adams', 'C', '20', 'OKC', '81', '20', '1197', '93', '185', '0.503', '0', '0', 'NA', '93', '185', '0.502702702702703', '0.503', '79', '136', '0.581', '142', '190', '332', '43', '40', '57', '71', '203', '265', '2013-2014', '2013']]\n"
     ]
    }
   ],
   "source": [
    "import csv\n",
    "nba=list(csv.reader(open('nba_2013.csv')))\n",
    "print(nba[0:3])"
   ]
  },
  {
   "cell_type": "code",
   "execution_count": 2,
   "metadata": {},
   "outputs": [
    {
     "data": {
      "text/plain": [
       "'SG'"
      ]
     },
     "execution_count": 2,
     "metadata": {},
     "output_type": "execute_result"
    }
   ],
   "source": [
    "kobe_position=\"\"\n",
    "for row in nba:\n",
    "    name=row[0]\n",
    "    if name =='Kobe Bryant':\n",
    "        kobe_position=row[1]\n",
    "kobe_position"
   ]
  },
  {
   "cell_type": "markdown",
   "metadata": {},
   "source": [
    "# 3. The Importance of Modularity and Abstraction"
   ]
  },
  {
   "cell_type": "markdown",
   "metadata": {},
   "source": [
    "**Modular code** consists of smaller chunks that we can reuse for other things. The most common way to make code modular is to use functions.\n",
    "\n",
    "**Abstraction** is the idea that someone can use our code to perform an operation without having to worry about how we wrote or implemented it.\n",
    "\n",
    "The sum() function exhibits both modularity and abstraction. We don't know exactly how the function is implemented, and we don't need to; we only need to know what it does. That makes it abstract. It also saves us the work of having to manually compute sums in many parts of our code. That makes it modular."
   ]
  },
  {
   "cell_type": "markdown",
   "metadata": {},
   "source": [
    "# 4. Linear Search with Modular Code "
   ]
  },
  {
   "cell_type": "markdown",
   "metadata": {},
   "source": [
    "## TODO:\n",
    "* Write a function called player_age that takes in a name parameter.\n",
    "\n",
    "The function should return the player's age from the nba data set, which we've loaded in for you.\n",
    "* If the function doesn't find the player, it should return -1.\n",
    "The third column of nba (index 2) contains the players' ages.\n",
    "* Store the age of \"Ray Allen\" in the variable allen_age.\n",
    "\n",
    "* Store the age of \"Kevin Durant\" in the variable durant_age.\n",
    "\n",
    "* Store the age of \"Shaquille O'Neal\" in the variable shaq_age."
   ]
  },
  {
   "cell_type": "markdown",
   "metadata": {},
   "source": [
    "try writing a modular search function that can find the age of any player in our data set without having to repeat code."
   ]
  },
  {
   "cell_type": "code",
   "execution_count": 3,
   "metadata": {},
   "outputs": [],
   "source": [
    " def player_age(name):\n",
    "        for row in nba:\n",
    "            if row[0]==name:\n",
    "                return row[2]\n",
    "        return -1\n",
    "             "
   ]
  },
  {
   "cell_type": "code",
   "execution_count": 4,
   "metadata": {},
   "outputs": [
    {
     "data": {
      "text/plain": [
       "'38'"
      ]
     },
     "execution_count": 4,
     "metadata": {},
     "output_type": "execute_result"
    }
   ],
   "source": [
    "allen_age=player_age(\"Ray Allen\")\n",
    "allen_age"
   ]
  },
  {
   "cell_type": "code",
   "execution_count": 5,
   "metadata": {},
   "outputs": [
    {
     "data": {
      "text/plain": [
       "'25'"
      ]
     },
     "execution_count": 5,
     "metadata": {},
     "output_type": "execute_result"
    }
   ],
   "source": [
    "durant_age=player_age(\"Kevin Durant\")\n",
    "durant_age"
   ]
  },
  {
   "cell_type": "code",
   "execution_count": 6,
   "metadata": {},
   "outputs": [
    {
     "data": {
      "text/plain": [
       "-1"
      ]
     },
     "execution_count": 6,
     "metadata": {},
     "output_type": "execute_result"
    }
   ],
   "source": [
    "shaq_age=player_age(\"Shaquille O'Neal\")\n",
    "shaq_age"
   ]
  },
  {
   "cell_type": "markdown",
   "metadata": {},
   "source": [
    "# 5. What Makes an Algorithm Smart?"
   ]
  },
  {
   "cell_type": "markdown",
   "metadata": {},
   "source": [
    "With multiple algorithms to choose from, a programmer has to make trade-offs and decide which algorithm best suits his or her needs. The most common factor to consider is time complexity.\n",
    "\n",
    "**Time complexity is a measurement of how much time an algorithm takes with respect to its input size. Algorithms with smaller time complexities generally take less time and are more desirable.**"
   ]
  },
  {
   "cell_type": "markdown",
   "metadata": {},
   "source": [
    "# 6. Constant Time Algorithms"
   ]
  },
  {
   "cell_type": "markdown",
   "metadata": {},
   "source": [
    "#### A constant algorithm takes the same amount of time to complete, regardless of the input size."
   ]
  },
  {
   "cell_type": "markdown",
   "metadata": {},
   "source": [
    "`We tend to think of algorithms in terms of steps.` We consider any basic operation like setting a variable or performing arithmetic a step. **Algorithms that take a constant number of steps are always constant time, even if that constant number is not 1.**"
   ]
  },
  {
   "cell_type": "markdown",
   "metadata": {},
   "source": [
    "# 7. Exercise: Recognizing Constant Time Algorithms"
   ]
  },
  {
   "cell_type": "code",
   "execution_count": 7,
   "metadata": {},
   "outputs": [],
   "source": [
    "# Implementation A: Convert degrees Celcius to degrees Fahrenheit\n",
    "def celcius_to_fahrenheit(degrees):\n",
    "    step_1 = degrees * 1.8\n",
    "    step_2 = step_1 + 32\n",
    "    return step_2\n",
    "\n",
    "# Implementation B: Reverse a list\n",
    "def reverse(ls):\n",
    "    length = len(ls)\n",
    "    new_list = []\n",
    "    for i in range(length):\n",
    "        new_list[i] = ls[length - i - 1]\n",
    "    return new_list\n",
    "\n",
    "# Implementation C: Print a blastoff message after a countdown\n",
    "def blastoff(message):\n",
    "    count = 10\n",
    "    for i in range(count):\n",
    "        print(count - i)\n",
    "    print(message)\n",
    "\n",
    "not_constant = \"B\""
   ]
  },
  {
   "cell_type": "markdown",
   "metadata": {},
   "source": [
    "# 8. A Common Pitfall"
   ]
  },
  {
   "cell_type": "code",
   "execution_count": 8,
   "metadata": {},
   "outputs": [],
   "source": [
    "def has_milk(fridge_items):\n",
    "    if \"milk\" in fridge_items:\n",
    "        return True\n",
    "    else:\n",
    "        return False"
   ]
  },
  {
   "cell_type": "markdown",
   "metadata": {},
   "source": [
    "It's easy to mistake the function above for a constant time algorithm. However, Python's in operator has to search through the list we passed in to check whether the element \"milk\" exists. This can take more or less time, depending on the size of the list. Therefore, this algorithm is not constant time."
   ]
  },
  {
   "cell_type": "markdown",
   "metadata": {},
   "source": [
    "# 9. Linear Time Algorithms"
   ]
  },
  {
   "cell_type": "code",
   "execution_count": 9,
   "metadata": {},
   "outputs": [],
   "source": [
    "def player_age(name):\n",
    "    for row in nba:\n",
    "        if row[0] == name:\n",
    "            return row[2]\n",
    "    return -1"
   ]
  },
  {
   "cell_type": "markdown",
   "metadata": {},
   "source": [
    "The code above stops executing and returns immediately when it finds the NBA player. If the algorithm performs a linear search and the element we're looking for happens to be first on the list, then the search is very quick.\n",
    "\n",
    "However, that case isn't very interesting, and it doesn't tell us very much about what trade-offs we're really making by choosing that specific algorithm.\n",
    "\n",
    "The opposite scenario occurs when the element is very far down on the list, or doesn't exist at all. This is the case we care about, **because accounting for the worst case scenario will ensure that the algorithm we choose or build is more robust.**\n",
    "\n",
    "In the worst case scenario for a list of size n, the algorithm has to check n elements.**We refer to this time complexity as linear time because the runtime grows at a constant rate with respect to the size of the input.**"
   ]
  },
  {
   "cell_type": "markdown",
   "metadata": {},
   "source": [
    "**It's also worth noting that we only care about performance at a large scale. At a small scale, most algorithms will run pretty quickly, and it's only when n becomes large that we worry about time complexity.**\n",
    "\n",
    "`Consequently, we only consider the highest order of n for time complexity. That means that an algorithm that runs in 9n + 20 time is linear, because the constant component is negligible for large values of n.`"
   ]
  },
  {
   "cell_type": "markdown",
   "metadata": {},
   "source": [
    "# 10. Some Other Algorithms"
   ]
  },
  {
   "cell_type": "markdown",
   "metadata": {},
   "source": [
    "So far, we've only seen` linear time and constant time algorithms`. While there are infinitely many categories of algorithms and time complexities, these two cover a large variety of possibilities."
   ]
  },
  {
   "cell_type": "markdown",
   "metadata": {},
   "source": [
    "## TODO:\n",
    "So far, we've only seen linear time and constant time algorithms. While there are infinitely many categories of algorithms and time complexities, these two cover a large variety of possibilities."
   ]
  },
  {
   "cell_type": "code",
   "execution_count": 10,
   "metadata": {},
   "outputs": [],
   "source": [
    "# Find the length of a list\n",
    "def length(ls):\n",
    "    count = 0\n",
    "    for elem in ls:\n",
    "        count = count + 1\n",
    "length_time_complexity = \"linear\"\n",
    "\n",
    "# Check whether a list is empty -- Implementation 1\n",
    "def is_empty_1(ls):\n",
    "    if length(ls) == 0:\n",
    "        return True\n",
    "    else:\n",
    "        return False\n",
    "is_empty_1_complexity = \"linear\"\n",
    "\n",
    "# Check whether a list is empty -- Implementation 2\n",
    "def is_empty_2(ls):\n",
    "    for element in ls:\n",
    "        return False\n",
    "    return True\n",
    "is_empty_2_complexity = \"constant\""
   ]
  },
  {
   "cell_type": "markdown",
   "metadata": {},
   "source": [
    "# 11. Notation for Time Complexity"
   ]
  },
  {
   "cell_type": "markdown",
   "metadata": {},
   "source": [
    "* **To denote constant time, we would write O(1), because 1 is a constant (and a simple constant).**\n",
    "\n",
    "* **To denote linear time, we would write O(n), because n is the simplest example of linearity.**\n",
    "\n",
    "Bi|g-O Notation follows a similar pattern for other time complexities. For example, O(n^2), O(2^n), and O(log(n)) are all valid notation. The algorithms with these complexities are probably rather complicated"
   ]
  },
  {
   "cell_type": "markdown",
   "metadata": {},
   "source": [
    "# 12. Why Time Complexity Matters"
   ]
  },
  {
   "cell_type": "markdown",
   "metadata": {},
   "source": [
    "* Time complexity is an important consideration when we're analyzing real-world data. An inefficient algorithm will perform very slowly on a large data set.\n",
    "\n",
    "\n",
    "* **Algorithms with lower-order time complexities are more efficient.** Constant time algorithms, which we denote with O(1), are more efficient than linear time algorithms, which we denote with O(n). Similarly, an algorithm with complexity O(n^2) is more efficient than one with complexity O(n^3).\n",
    "\n",
    "\n",
    "* When considering algorithms, we always want to choose the one with the lowest time complexity. It may not always be the easiest one to implement, but the extra effort is usually worth the resulting efficiency."
   ]
  }
 ],
 "metadata": {
  "kernelspec": {
   "display_name": "Python 3",
   "language": "python",
   "name": "python3"
  },
  "language_info": {
   "codemirror_mode": {
    "name": "ipython",
    "version": 3
   },
   "file_extension": ".py",
   "mimetype": "text/x-python",
   "name": "python",
   "nbconvert_exporter": "python",
   "pygments_lexer": "ipython3",
   "version": "3.7.3"
  }
 },
 "nbformat": 4,
 "nbformat_minor": 2
}
