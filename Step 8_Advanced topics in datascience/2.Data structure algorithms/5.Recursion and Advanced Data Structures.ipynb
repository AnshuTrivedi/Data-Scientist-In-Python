{
 "cells": [
  {
   "cell_type": "markdown",
   "metadata": {},
   "source": [
    "# 1. Recursion"
   ]
  },
  {
   "cell_type": "markdown",
   "metadata": {},
   "source": [
    "Recursion is a method of repeating code without using loops. It usually takes the form of a function that calls itself during its execution.\n",
    "\n",
    "The basic mechanism has given rise to many interesting algorithms. Recursive algorithms often seem lazy when we write them, and can appear magical when they work. It's important to understand recursion so you can think about problems in new ways and write satisfying code that performs logic succinctly.\n",
    "\n",
    "The best way to understand recursion is through an example. One example is the factorial function that exists in mathematics. Here are some examples of the factorial function:\n",
    "\n",
    "3! = 3 * 2 * 1\n",
    "5! = 5 * 4 * 3 * 2 * 1"
   ]
  },
  {
   "cell_type": "markdown",
   "metadata": {},
   "source": [
    "# 2. A Recursive look at Factorials"
   ]
  },
  {
   "cell_type": "markdown",
   "metadata": {},
   "source": [
    "Upon inspection, we can see a pattern in the factorial function. Let's break down the evaluation of 5!.\n",
    "\n",
    "5! = 5 * 4 * 3 * 2 * 1 = 5 * (4 * 3 * 2 * 1) = 5 * (4!)\n",
    "We can see that 5! is really 5 * (4!). Let's pretend we already know how to evaluate 4!. Then suddenly, 5! becomes a very easy thing to calculate.\n",
    "\n",
    "But how do we know how to calculate 4!? Well, it's just 4 * (3!).\n",
    "\n",
    "How about 3!? That's just 3 * (2!).\n",
    "\n",
    "This pattern of evaluation continues, and we're never really doing much difficult computation. Notice that with each step of the calculation, we're actually using the factorial function to help us compute a factorial. All we need to know now is where to stop."
   ]
  },
  {
   "cell_type": "markdown",
   "metadata": {},
   "source": [
    "# 3. Base Cases"
   ]
  },
  {
   "cell_type": "markdown",
   "metadata": {},
   "source": [
    "The last component we need to define for our recursive function is a \"base case\" that tells it when to stop; otherwise it will keep calling itself forever. In the case of our factorial function, we want to stop at 0, so we'll make that our base case."
   ]
  },
  {
   "cell_type": "code",
   "execution_count": 1,
   "metadata": {},
   "outputs": [],
   "source": [
    "# Recursive factorial function\n",
    "def factorial(n):\n",
    "    # Check the base case\n",
    "    if n == 0:\n",
    "        return 1\n",
    "    # Recursive case\n",
    "    return n * factorial(n - 1)\n",
    "\n",
    "factorial1 = factorial(1)\n",
    "factorial5 = factorial(5)\n",
    "factorial25 = factorial(25)"
   ]
  },
  {
   "cell_type": "markdown",
   "metadata": {},
   "source": [
    "# 4. Visualization of Recursion"
   ]
  },
  {
   "cell_type": "markdown",
   "metadata": {},
   "source": [
    "So recursion works, but you may not be entirely convinced of how and why it works. To illustrate, we'll use a real-life example of a recursive algorithm.\n",
    "\n",
    "Suppose you're sitting in an auditorium and would like to know which row you're in (let's assume the rows aren't labelled).\n",
    "\n",
    "You could count all of the rows in front of you, but that would take quite a while. This strategy is analogous to the iterative approach (using a loop). You're doing a lot of work. However, you realize there's a way to delegate that work to other people.\n",
    "\n",
    "You ask the person in front of you what row she's in. When she responds, you can simply add one to that row number. That person does the same thing. She asks the person in front of her, and that person asks the person in front of him, and so on.\n",
    "\n",
    "Each of these requests represents a function call. You're the first function call, and the woman in front of you is the next. However, none of the function calls have finished executing yet, since they're still waiting for responses. When the man in the front row is finally asked what row he's in, we've reached our base case. There's nobody ahead of him, so he knows that he's in row one.\n",
    "\n",
    "He responds with that information. The person behind him knows she's in row two, and this information bubbles back up to you, with each person in the chain adding one to the response they receive. This bubbling-up is analogous to reaching the base case, and then each recursive call resolving itself one by one, with the most recently called functions ending first.\n",
    "\n",
    "Finally, the man in front of you tells you his row number, you add one, and you've found your answer! Each function call did very little work, and you still achieved a correct answer."
   ]
  },
  {
   "cell_type": "markdown",
   "metadata": {},
   "source": [
    "# 5. Fibonacci"
   ]
  },
  {
   "cell_type": "markdown",
   "metadata": {},
   "source": [
    "The Fibonacci sequence is a famous series of numbers that starts out as follows:\n",
    "\n",
    "1, 1, 2, 3, 5, 8, 13, 21, 34, 55, ..."
   ]
  },
  {
   "cell_type": "markdown",
   "metadata": {},
   "source": [
    "The only exceptions are the first two numbers. Because the sequence is too short to calculate them, the first two numbers of the sequence are ones by definition. These two numbers are the base cases for the Fibonacci sequence."
   ]
  },
  {
   "cell_type": "code",
   "execution_count": 2,
   "metadata": {},
   "outputs": [],
   "source": [
    "def fib(n):\n",
    "    # Check the base case\n",
    "    if n == 0 or n == 1:\n",
    "        return 1\n",
    "    # Recursive case\n",
    "    return fib(n - 1) + fib(n - 2)\n",
    "\n",
    "fib1 = fib(1)\n",
    "fib5 = fib(5)\n",
    "fib25 = fib(25)"
   ]
  },
  {
   "cell_type": "markdown",
   "metadata": {},
   "source": [
    "# 6. Linked Lists - A Recursive Data Structure"
   ]
  },
  {
   "cell_type": "markdown",
   "metadata": {},
   "source": [
    "Linked lists are very similar to arrays, but they differ in how we implement them. A linked list is made up of many nodes, each of which contains a few pieces of information. This information depends on the type of linked list we're using. For this mission, we'll implement a singly linked list.\n",
    "\n",
    "In a singly linked list, each node contains its data, as well as the next node. Let's think about how this works. Suppose we want to access the data in the third node. From the first node, we can access its next node, which is the second. From that node, we can access its next node, which is the third node. We now have access to the data we're looking for. Each node is like an element in an array, except that it has some extra information (the next node) in addition to the data itself.\n",
    "\n",
    "`Linked lists are a recursive data structure. Each node contains the data, and then points to another linked list (the next node). The base case is our empty linked list, which we'll represent with the Python None value.`\n",
    "\n",
    "Because linked lists are recursive, we can write a lot of interesting algorithms to work with them. While looping through a linked list is awkward, we'll see that recursing on them feels more natural."
   ]
  },
  {
   "cell_type": "markdown",
   "metadata": {},
   "source": [
    "# 7. Exercise: Find the Length of a Linked List"
   ]
  },
  {
   "cell_type": "code",
   "execution_count": 4,
   "metadata": {},
   "outputs": [],
   "source": [
    "# Getting the length of the linked list using iteration\n",
    "def length_iterative(ls):\n",
    "    count = 0\n",
    "    while not ls.is_empty():\n",
    "        count = count + 1\n",
    "        ls = ls.tail()\n",
    "    return count\n",
    "\n",
    "# Getting the length of the linked list using recursion\n",
    "def length_recursive(ls):\n",
    "    if ls.is_empty():\n",
    "        return 0\n",
    "    return 1 + length_recursive(ls.tail())\n"
   ]
  },
  {
   "cell_type": "markdown",
   "metadata": {},
   "source": [
    "# 8. Linked List Insertion and Deletion"
   ]
  },
  {
   "cell_type": "markdown",
   "metadata": {},
   "source": [
    "Because linked lists don't maintain a central index of any kind, searching for a specific node means starting from the first node and accessing the next one until our code either finds what we're looking for or returns the Boolean value false. This is inefficient, but linked lists do have some advantages.\n",
    "\n",
    "One is that we need to modify very few nodes when inserting or deleting, because the update only requires a constant number of changes.\n",
    "\n",
    "To understand linked list insertion and deletion, imagine a line of people in which each person has his or her hands on the back of the person in front of them. To add someone to this line, only one person would need to remove his or her hands and place them on the new person's shoulders. The new person would then put his hands on the shoulders of the person in front of him. Nobody else would need to detach from their neighbors.\n",
    "\n",
    "Similarly, if we want to remove someone from the line, the person behind him or her must let go, and then hold the shoulders of the next person. However, no one else needs to do anything.\n",
    "\n",
    "In a linked list, very few other nodes need to change when we insert or delete one. Because these processes only require a constant number of changes, they're very quick. In contrast, arrays have to shift many elements around when we perform insertions or deletions.\n",
    "\n",
    "It's important to note that when we're discussing the time complexity of insertion and deletion, we already have immediate access to the node we're working with. Searching for a node to delete, however, or for the location where we'd like to insert one would require more time, because we'd first need to find the node."
   ]
  },
  {
   "cell_type": "markdown",
   "metadata": {},
   "source": [
    "# 9. Exercise: Linked List Time Complexity"
   ]
  },
  {
   "cell_type": "code",
   "execution_count": 5,
   "metadata": {},
   "outputs": [],
   "source": [
    "# Retrieving an item in the linked list by index\n",
    "retrieval_by_index = \"\"\n",
    "\n",
    "# Retrieving an item in the linked list by value\n",
    "retrieval_by_value = \"\"\n",
    "\n",
    "# Deleting an item from the linked list, with access to the item and \n",
    "#     the item before it\n",
    "deletion = \"\"\n",
    "\n",
    "# Inserting an item into the linked list, with access to the location\n",
    "#     where we are inserting\n",
    "insertion = \"\"\n",
    "\n",
    "# Calculating the length of a linked list using a loop\n",
    "length_iterative = \"\"\n",
    "\n",
    "# Calculating the length of a linked list using recursion\n",
    "length_recursive = \"\"\n",
    "retrieval_by_index = \"linear\"\n",
    "retrieval_by_value = \"linear\"\n",
    "deletion = \"constant\"\n",
    "insertion = \"constant\"\n",
    "length_iterative = \"linear\"\n",
    "length_recursive = \"linear\""
   ]
  },
  {
   "cell_type": "code",
   "execution_count": null,
   "metadata": {},
   "outputs": [],
   "source": []
  }
 ],
 "metadata": {
  "kernelspec": {
   "display_name": "Python 3",
   "language": "python",
   "name": "python3"
  },
  "language_info": {
   "codemirror_mode": {
    "name": "ipython",
    "version": 3
   },
   "file_extension": ".py",
   "mimetype": "text/x-python",
   "name": "python",
   "nbconvert_exporter": "python",
   "pygments_lexer": "ipython3",
   "version": "3.7.7"
  }
 },
 "nbformat": 4,
 "nbformat_minor": 4
}
