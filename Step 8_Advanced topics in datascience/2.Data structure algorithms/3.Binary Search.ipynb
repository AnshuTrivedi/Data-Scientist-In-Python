{
 "cells": [
  {
   "cell_type": "markdown",
   "metadata": {},
   "source": [
    "# 1. Let's Play a Game"
   ]
  },
  {
   "cell_type": "markdown",
   "metadata": {},
   "source": [
    "Imagine you and I are playing a game. You have to guess a number between 1 and 100, and after each guess I'll tell you whether the answer is higher or lower than your guess.\n",
    "\n",
    "Perhaps your strategy is to start at 1. If 1 isn't the answer, you guess 2, then 3, and so on. This strategy resembles the linear search we learned in our last mission. However, since I'm giving you helpful hints, I'll tell you that a linear search is a naive approach to this game."
   ]
  },
  {
   "cell_type": "markdown",
   "metadata": {},
   "source": [
    "# 2. A Better Strategy"
   ]
  },
  {
   "cell_type": "markdown",
   "metadata": {},
   "source": [
    "Instead, imagine guessing 50 first. I tell you the answer is higher. Suddenly, you've removed half of the original possibilities for consideration. You then guess 75, and I tell you the answer is lower. In only two guesses, you've eliminated 3/4 of the possibilities, and you now know that the answer lies between 50 and 75. That's a significant reduction, and your strategy is very efficient."
   ]
  },
  {
   "cell_type": "markdown",
   "metadata": {},
   "source": [
    "**A binary search can help us find an item in a list efficiently if we know the list is ordered. We can check the middle element of the list, compare it to the item we're looking for, and continue narrowing our search in this manner.**"
   ]
  },
  {
   "cell_type": "markdown",
   "metadata": {},
   "source": [
    "# 3. When can we use binary search?"
   ]
  },
  {
   "cell_type": "markdown",
   "metadata": {},
   "source": [
    "* So if binary search is more efficient than linear search, why ever bother with linear search at all?\n",
    "\n",
    "The answer is that we can `only perform a binary search on ordered data`. \n",
    "\n",
    "* `To order data, we must be able to compare two elements and determine which is greater`, or if they're equal. We can compare two strings the same way we compare integers. For instance, \"A\" is less than \"Z\", and \"A\" < \"Z\" would evaluate to True."
   ]
  },
  {
   "cell_type": "markdown",
   "metadata": {},
   "source": [
    "# 4. Implementing Binary Search: Part 1"
   ]
  },
  {
   "cell_type": "markdown",
   "metadata": {},
   "source": [
    "## TODO:\n",
    "* Write the function player_age, which takes in name as a parameter.\n",
    "\n",
    "For now, start your guess at the middle of the list. Return \"later\" if the name we want is later in the list, \"earlier\" if it's earlier in the list, and \"found\" if you've found the right name.\n",
    "Store the result of calling player_age on \"Darius Johnson-Odom\" in johnson_odom_age.\n",
    "\n",
    "* Store the result of calling player_age on \"Nick Young\" in young_age.\n",
    "\n",
    "* Store the result of calling player_age on \"Jeff Adrien\" in adrien_age."
   ]
  },
  {
   "cell_type": "code",
   "execution_count": 1,
   "metadata": {},
   "outputs": [
    {
     "name": "stdout",
     "output_type": "stream",
     "text": [
      "[['player', 'pos', 'age', 'bref_team_id', 'g', 'gs', 'mp', 'fg', 'fga', 'fg.', 'x3p', 'x3pa', 'x3p.', 'x2p', 'x2pa', 'x2p.', 'efg.', 'ft', 'fta', 'ft.', 'orb', 'drb', 'trb', 'ast', 'stl', 'blk', 'tov', 'pf', 'pts', 'season', 'season_end'], ['Quincy Acy', 'SF', '23', 'TOT', '63', '0', '847', '66', '141', '0.468', '4', '15', '0.266666666666667', '62', '126', '0.492063492063492', '0.482', '35', '53', '0.66', '72', '144', '216', '28', '23', '26', '30', '122', '171', '2013-2014', '2013'], ['Steven Adams', 'C', '20', 'OKC', '81', '20', '1197', '93', '185', '0.503', '0', '0', 'NA', '93', '185', '0.502702702702703', '0.503', '79', '136', '0.581', '142', '190', '332', '43', '40', '57', '71', '203', '265', '2013-2014', '2013']]\n"
     ]
    }
   ],
   "source": [
    "import csv\n",
    "import math\n",
    "\n",
    "nba=list(csv.reader(open('nba_2013.csv')))\n",
    "print(nba[:3])"
   ]
  },
  {
   "cell_type": "code",
   "execution_count": 2,
   "metadata": {},
   "outputs": [],
   "source": [
    "# A function to extract a player's last name\n",
    "def format_name(name):\n",
    "    return name.split(\" \")[1] + \", \" + name.split(\" \")[0]\n",
    "\n",
    "# The length of the data set\n",
    "length = len(nba)\n",
    "\n",
    "# Implement the player_age function. For now, just return what the instructions specify\n",
    "def player_age(name):\n",
    "    # We need to format our name appropriately for successful comparison\n",
    "    name = format_name(name)\n",
    "    # First guess halfway through the list\n",
    "    first_guess_index = math.floor(length/2)\n",
    "    first_guess = format_name(nba[first_guess_index][0])\n",
    "    # Check where we should continue searching\n",
    "def player_age(name):\n",
    "    name = format_name(name)\n",
    "    first_guess_index = math.floor(length/2)\n",
    "    first_guess = format_name(nba[first_guess_index][0])\n",
    "    if name < first_guess:\n",
    "        return \"earlier\"\n",
    "    elif name > first_guess:\n",
    "        return \"later\"\n",
    "    else:\n",
    "        return \"found\"\n",
    "    \n",
    "johnson_odom_age = player_age(\"Darius Johnson-Odom\")\n",
    "young_age = player_age(\"Nick Young\")\n",
    "adrien_age = player_age(\"Jeff Adrien\")"
   ]
  },
  {
   "cell_type": "markdown",
   "metadata": {},
   "source": [
    "# 5. Implementing Binary Search: Part 2"
   ]
  },
  {
   "cell_type": "markdown",
   "metadata": {},
   "source": [
    "We've found our first guess and figured out where to keep looking. The next step is to continue our binary search.\n",
    "\n",
    "Let's imagine a round of our game from before. You guess 50, and I tell you the answer is higher. Now what do you do? You guess 75 - but how did you calculate that value? This is the step we'll focus on in part two of our implementation.\n",
    "\n",
    "We can calculate the index of the next split in several ways. Whichever method we use, we must keep track of the upper and lower bounds of our search. At the beginning of our game, the lower bound is 1, and the upper bound is 100. After I tell you the answer is greater than 50, the lower bound becomes 51 while the upper bound remains 100.\n",
    "\n",
    "The bounds will look slightly different in our binary search implementation, but only because the data set's index starts at 0 instead of 1. It's important to note that our bounds are inclusive."
   ]
  },
  {
   "cell_type": "code",
   "execution_count": 3,
   "metadata": {},
   "outputs": [],
   "source": [
    "# A function to extract a player's last name\n",
    "def format_name(name):\n",
    "    return name.split(\" \")[1] + \", \" + name.split(\" \")[0]\n",
    "\n",
    "# The length of the data set\n",
    "length = len(nba)\n",
    "\n",
    "# Implement the player_age function. For now, just return what the instructions specify\n",
    "\n",
    "def player_age(name):\n",
    "    # We need to format our name appropriately for successful comparison\n",
    "    name = format_name(name)\n",
    "    upper_bound = length - 1\n",
    "    lower_bound = 0\n",
    "    first_guess_index = math.floor(length/2)\n",
    "    first_guess = format_name(nba[first_guess_index][0])\n",
    "    if name < first_guess:\n",
    "        upper_bound = first_guess_index - 1\n",
    "    elif name > first_guess:\n",
    "        lower_bound = first_guess_index + 1\n",
    "    else:\n",
    "        return first_guess\n",
    "    second_guess_index = math.floor((lower_bound + upper_bound) / 2)\n",
    "    second_guess = format_name(nba[second_guess_index][0])\n",
    "    return second_guess\n",
    "    \n",
    "gasol_age = player_age(\"Pau Gasol\")\n",
    "pierce_age = player_age(\"Paul Pierce\")"
   ]
  },
  {
   "cell_type": "markdown",
   "metadata": {},
   "source": [
    "# 6. Pseudo-Code"
   ]
  },
  {
   "cell_type": "markdown",
   "metadata": {},
   "source": [
    "`Writing algorithms is less an exercise in coding than an exercise in reasoning.` It's important to train your ability to develop and visualize algorithms. pseudo-code is a powerful, easy-to-use tool that will help you do this. You've already seen plenty of pseudo-code, even in this mission.\n",
    "\n",
    "Pseudo-code comments reflect the code we want to write, but describe it in a high-level human language. For example, we saw the following code snippet on the previous screen:\n",
    "\n",
    "\n",
    "#If the name comes before our guess\n",
    "    # Adjust the bounds as needed\n",
    "#Else if the name comes after our guess\n",
    "    # Adjust the bounds as needed\n",
    "#Else\n",
    "    # Player found, so return first guess\n",
    "    \n",
    "    \n",
    "The comments in this snippet serve as placeholders for code we haven't written yet.` Writing pseudo-code like this can often help us plan and visualize an algorithm before worrying about syntactic details.`\n",
    "\n",
    "`Pseudo-code is a great tool for all aspects of programming, and we'll use it in this mission to indicate where we need to write certain code.`"
   ]
  },
  {
   "cell_type": "markdown",
   "metadata": {},
   "source": [
    "# 7. Implementing Binary Search: Part 3"
   ]
  },
  {
   "cell_type": "markdown",
   "metadata": {},
   "source": [
    "We've implemented a binary search function that runs for two iterations. It guesses twice, but if it doesn't find the answer in those two guesses, it gives up. This isn't robust, and we shouldn't stop until we've found our answer.\n",
    "\n",
    "We've also seen that the guessing code is very repetitive. After each guess, we check whether it's correct, adjust our bounds as needed, and then guess again. This is precisely the logic we need, and we can run that logic over and over again. Next, we'll translate it into a loop."
   ]
  },
  {
   "cell_type": "code",
   "execution_count": 4,
   "metadata": {},
   "outputs": [],
   "source": [
    "# A function to extract a player's last name\n",
    "def format_name(name):\n",
    "    return name.split(\" \")[1] + \", \" + name.split(\" \")[0]\n",
    "\n",
    "# The length of the data set\n",
    "length = len(nba)\n",
    "\n",
    "# Implement the player_age function. For now, just return what the instructions specify\n",
    "\n",
    "def player_age(name):\n",
    "    # We need to format our name appropriately for successful comparison\n",
    "    name = format_name(name)\n",
    "    # Bounds of the search\n",
    "    upper_bound = length - 1\n",
    "    lower_bound = 0\n",
    "    # Index of first split\n",
    "    index = math.floor((lower_bound + upper_bound) / 2)\n",
    "    # First guess halfways through the list\n",
    "    guess = format_name(nba[index][0])\n",
    "    # Search until it finds the name\n",
    "    while name != guess:\n",
    "        if name < guess:\n",
    "            upper_bound = index - 1\n",
    "        else:\n",
    "            lower_bound = index + 1\n",
    "        index = math.floor((lower_bound + upper_bound) / 2)\n",
    "        guess = format_name(nba[index][0])\n",
    "    return \"found\"\n",
    "\n",
    "carmelo_age = player_age(\"Carmelo Anthony\")"
   ]
  },
  {
   "cell_type": "markdown",
   "metadata": {},
   "source": [
    "# 8. Implementing Binary Search: Part 4"
   ]
  },
  {
   "cell_type": "markdown",
   "metadata": {},
   "source": [
    "We're almost finished implementing our binary search. We still have to retrieve the player's age if we find him, and return -1 if we don't. We can tell when the function doesn't find a player by adding a small condition to our search.\n",
    "\n",
    "We should continue to search until we find the player, or until our list of possible answers is depleted. If we deplete all possible answers, the final step of our search, when upper_bound is equal to lower_bound (and also equal to index), will result in either upper_bound being decremented, or lower_bound being incremented. When this happens, lower_bound will be above upper_bound. We can easily check for this in our loop. It's very important to understand this nuance of our algorithm in order to take advantage of it.\n",
    "\n",
    "Because these additions are short, we've also left it up to you to fill in the missing components of our algorithm."
   ]
  },
  {
   "cell_type": "code",
   "execution_count": 5,
   "metadata": {},
   "outputs": [],
   "source": [
    "# A function to extract a player's last name\n",
    "def format_name(name):\n",
    "    return name.split(\" \")[1] + \", \" + name.split(\" \")[0]\n",
    "\n",
    "# The length of the data set\n",
    "length = len(nba)\n",
    "\n",
    "# Implement the player_age function. For now, just return what the instructions specify\n",
    "\n",
    "def player_age(name):\n",
    "    name = format_name(name)\n",
    "    upper_bound = length - 1\n",
    "    lower_bound = 0\n",
    "    index = math.floor((upper_bound + lower_bound) / 2)\n",
    "    guess = format_name(nba[index][0])\n",
    "    while name != guess and upper_bound >= lower_bound:\n",
    "        if name < guess:\n",
    "            upper_bound = index - 1\n",
    "        else:\n",
    "            lower_bound = index + 1\n",
    "        index = math.floor((lower_bound + upper_bound) / 2)\n",
    "        guess = format_name(nba[index][0])\n",
    "    if name == guess:\n",
    "        return nba[index][2]\n",
    "    else:\n",
    "        return -1\n",
    "    \n",
    "curry_age = player_age(\"Stephen Curry\")\n",
    "griffin_age = player_age(\"Blake Griffin\")\n",
    "jordan_age = player_age(\"Michael Jordan\")"
   ]
  },
  {
   "cell_type": "markdown",
   "metadata": {},
   "source": [
    "# 9. Binary Search Time Complexity Analysis"
   ]
  },
  {
   "cell_type": "markdown",
   "metadata": {},
   "source": [
    "We've established that every iteration of the algorithm reduces the size of our problem by a factor of two. Because the algorithm's time complexity depends on the input size, we can conclude that it's not constant time. It's not linear time either, though, because it's more efficient than a linear search.\n",
    "\n",
    "It turns out that binary search runs in logarithmic time, which we denote as O(log(n)). Logarithms are the mathematical counterpart to exponents. It makes sense that an algorithm that cuts its problem size in half (or by any fraction) with each iteration will be logarithmic. Here's a graph of constant, linear, and logarithmic time:"
   ]
  }
 ],
 "metadata": {
  "kernelspec": {
   "display_name": "Python 3",
   "language": "python",
   "name": "python3"
  },
  "language_info": {
   "codemirror_mode": {
    "name": "ipython",
    "version": 3
   },
   "file_extension": ".py",
   "mimetype": "text/x-python",
   "name": "python",
   "nbconvert_exporter": "python",
   "pygments_lexer": "ipython3",
   "version": "3.7.7"
  }
 },
 "nbformat": 4,
 "nbformat_minor": 2
}
