{
 "cells": [
  {
   "cell_type": "markdown",
   "metadata": {},
   "source": [
    "# 1. What is a Data Structure?"
   ]
  },
  {
   "cell_type": "markdown",
   "metadata": {},
   "source": [
    "* `A data structure is a way of organizing data.` \n",
    "* Specifically, data structures are concerned with organization of data within a program, rather than the raw data we read into a program.\n",
    "\n",
    "\n",
    "* The choice of data structure depends on a few factors. The first and most important consideration is the **`structure of the data we're storing.`** If we want to store a batch of strings with no other related data, we would just use a list.\n",
    "\n",
    "\n",
    "* Another factor to weigh when choosing a data structure is **time efficiency**. `Inserting, deleting, or finding items in data structures may take different amounts of time for different data structures`, which is important to consider when we want to process data efficiently."
   ]
  },
  {
   "cell_type": "markdown",
   "metadata": {},
   "source": [
    "# 2. An Overview of Arrays"
   ]
  },
  {
   "cell_type": "markdown",
   "metadata": {},
   "source": [
    "* The most basic data structure is an array. An array is a list that contains items.\n",
    "\n",
    "\n",
    "* We can think of computer memory as a long chain of memory slots. Computers store arrays in memory in a very intuitive way. They store the first element of an array right next to the second element, which is next to the third, and so on. Each element in an array occupies a slot in that array. So, in an array of 10 elements, we can say definitively which item is in the first slot, the second slot, etc.\n",
    "\n",
    "**Because this storage pattern is very predictable, it's very easy to access a given element by its index. However, elements all have to be shifted when we delete or add an element to the middle of the list, which can make those operations quite costly.**\n",
    "\n",
    "We typically can't expand an array beyond its initial size. So, if we create an array of size 10, it can only hold 10 elements."
   ]
  },
  {
   "cell_type": "markdown",
   "metadata": {},
   "source": [
    "# 3. Exercise: Dynamic Arrays"
   ]
  },
  {
   "cell_type": "markdown",
   "metadata": {},
   "source": [
    "* Many languages have built-in primitive arrays. We can use a primitive data structure without having to implement it manually or include any external libraries.\n",
    "\n",
    "* Python doesn't have a primitive, fixed-size array implementation built into the language. However, the Python list primitive is really just a dynamic array, so we'll be using lists to become familiar with array operations.\n",
    "\n",
    "\n",
    "* **Dynamic arrays are a flavor of array that we can expand to fit as many elements as we'd like**. These are much more useful in data science than fixed-size arrays."
   ]
  },
  {
   "cell_type": "markdown",
   "metadata": {},
   "source": [
    "## TODO:\n",
    "Based on the description and your knowledge of time complexity, set the variable below to` \"constant\", \"logarithmic\", or \"linear\",` depending on the complexity you believe the operation has."
   ]
  },
  {
   "cell_type": "code",
   "execution_count": 2,
   "metadata": {},
   "outputs": [],
   "source": [
    "# Retrieving an item in an array by index\n",
    "retrieval_by_index = \"constant\"\n",
    "\n",
    "# Searching for a value in an unordered array\n",
    "search = \"linear\"\n",
    "\n",
    "# Deleting an item from an array, and filling the gap\n",
    "#     by shifting all later items back by one\n",
    "deletion = \"linear\"\n",
    "\n",
    "# Inserting an item into the array, and shifting forward\n",
    "#     every item that comes after it\n",
    "insertion = \"linear\""
   ]
  },
  {
   "cell_type": "markdown",
   "metadata": {},
   "source": [
    "# 4. Exercise: Practice Inserting Into an Array"
   ]
  },
  {
   "cell_type": "markdown",
   "metadata": {},
   "source": [
    "## TODO:\n",
    "* Use the list insert function to insert \"Evan Turner\" and \"Quincy Acy\" into players so that players is in alphabetical order by last name.\n",
    "\n",
    "* The first argument to insert is the index at which we want to insert the value, and the second is the value itself. For instance, players.insert(1, \"C.J. Watson\") inserts \"C.J. Watson\" at index 1 of players.\n",
    "* The items in players that come after index 0 must shift over to make room for \"C.J. Watson\".\n",
    "Print the list after you perform each operation so you can visualize how the operation affects it."
   ]
  },
  {
   "cell_type": "code",
   "execution_count": 4,
   "metadata": {},
   "outputs": [
    {
     "name": "stdout",
     "output_type": "stream",
     "text": [
      "['Reggie Jackson']\n",
      "['Reggie Jackson', 'C.J. Watson']\n",
      "['Jeff Adrien', 'Reggie Jackson', 'C.J. Watson']\n",
      "['Jeff Adrien', 'C.J. Watson']\n",
      "['Quincy Acy', 'Jeff Adrien', 'Evan Turner', 'C.J. Watson']\n"
     ]
    }
   ],
   "source": [
    "players = [\"Reggie Jackson\"]\n",
    "print(players)\n",
    "players.insert(1, \"C.J. Watson\")\n",
    "print(players)\n",
    "players.insert(0, \"Jeff Adrien\")\n",
    "print(players)\n",
    "players.remove(\"Reggie Jackson\")\n",
    "print(players)\n",
    "\n",
    "players.insert(0, \"Quincy Acy\")\n",
    "players.insert(2, \"Evan Turner\")\n",
    "print(players)"
   ]
  },
  {
   "cell_type": "markdown",
   "metadata": {},
   "source": [
    "# 5. Two-Dimensional Arrays"
   ]
  },
  {
   "cell_type": "markdown",
   "metadata": {},
   "source": [
    "**A two-dimensional array has a height and a width. Consequently, it also has two indexes. The element in the third row and fourth column of the array arr can be accessed like so**\n",
    "\n",
    "arr[2][3]"
   ]
  },
  {
   "cell_type": "markdown",
   "metadata": {},
   "source": [
    "**In data science, we call 1D arrays `vectors` and 2D arrays `matrices`**"
   ]
  },
  {
   "cell_type": "markdown",
   "metadata": {},
   "source": [
    "# 6. 2D Array Implementation"
   ]
  },
  {
   "cell_type": "code",
   "execution_count": null,
   "metadata": {},
   "outputs": [],
   "source": []
  }
 ],
 "metadata": {
  "kernelspec": {
   "display_name": "Python 3",
   "language": "python",
   "name": "python3"
  },
  "language_info": {
   "codemirror_mode": {
    "name": "ipython",
    "version": 3
   },
   "file_extension": ".py",
   "mimetype": "text/x-python",
   "name": "python",
   "nbconvert_exporter": "python",
   "pygments_lexer": "ipython3",
   "version": "3.7.3"
  }
 },
 "nbformat": 4,
 "nbformat_minor": 2
}
