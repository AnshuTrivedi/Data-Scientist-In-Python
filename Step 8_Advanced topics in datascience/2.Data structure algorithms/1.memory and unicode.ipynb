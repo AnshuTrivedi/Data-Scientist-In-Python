{
 "cells": [
  {
   "cell_type": "markdown",
   "metadata": {},
   "source": [
    "# 1. Introduction"
   ]
  },
  {
   "cell_type": "markdown",
   "metadata": {},
   "source": [
    "* **Computers store files on hard drives.** A hard drive allows us to save data, turn the computer off, and then access the data again later. The tech community commonly refers to hard drives as **magnetic storage**\n",
    ", because they store data on magnetic strips."
   ]
  },
  {
   "cell_type": "markdown",
   "metadata": {},
   "source": [
    "* Magnetic strips can only contain a series of two values - up and down. Our entire CSV file saves to a hard drive the same way. We can't directly write strings such as the letter a to a hard disk; **we need to convert them to a series of magnetic ups and downs first.**"
   ]
  },
  {
   "cell_type": "markdown",
   "metadata": {},
   "source": [
    "* We can do this with an `encoding system called binary`. With binary, the only valid numbers are 0 and 1. This constraint makes it easy to store binary values on a hard disk."
   ]
  },
  {
   "cell_type": "markdown",
   "metadata": {},
   "source": [
    "# 2. The Basics of Binary"
   ]
  },
  {
   "cell_type": "markdown",
   "metadata": {},
   "source": [
    "* Computers can't store values like strings or integers directly. Instead, they store information in binary, where the only valid numbers are 0 and 1. This system makes storing data on devices like hard drives possible."
   ]
  },
  {
   "cell_type": "markdown",
   "metadata": {},
   "source": [
    "* **To work with binary in Python, we need to enter it as a string.**\n",
    "eg- '101001'"
   ]
  },
  {
   "cell_type": "markdown",
   "metadata": {},
   "source": [
    "* we can convert string to a binary number with the int function.\n",
    "* We'll need to set the optional second argument, base, to 2 (binary is base two)"
   ]
  },
  {
   "cell_type": "code",
   "execution_count": 1,
   "metadata": {},
   "outputs": [
    {
     "name": "stdout",
     "output_type": "stream",
     "text": [
      "11\n",
      "0b1011\n"
     ]
    },
    {
     "data": {
      "text/plain": [
       "'0b1011'"
      ]
     },
     "execution_count": 1,
     "metadata": {},
     "output_type": "execute_result"
    }
   ],
   "source": [
    "b='1011'\n",
    "print(int(b,2))\n",
    "\n",
    "print(bin(11))\n",
    "\n",
    "bin(int(b,2))"
   ]
  },
  {
   "cell_type": "markdown",
   "metadata": {},
   "source": [
    "# 3. Binary Addition"
   ]
  },
  {
   "cell_type": "code",
   "execution_count": 2,
   "metadata": {},
   "outputs": [
    {
     "data": {
      "text/plain": [
       "'10110'"
      ]
     },
     "execution_count": 2,
     "metadata": {},
     "output_type": "execute_result"
    }
   ],
   "source": [
    "def binary_add(a, b):\n",
    "    return bin(int(a, 2) + int(b, 2))[2:]\n",
    "binary_add(\"10001\",\"101\")\n",
    "# The bin function adds \"0b\" to the beginning of a string to indicate that it contains binary values."
   ]
  },
  {
   "cell_type": "markdown",
   "metadata": {},
   "source": [
    "# 4. Converting Binary Values to Other Bases"
   ]
  },
  {
   "cell_type": "code",
   "execution_count": 3,
   "metadata": {},
   "outputs": [
    {
     "data": {
      "text/plain": [
       "138"
      ]
     },
     "execution_count": 3,
     "metadata": {},
     "output_type": "execute_result"
    }
   ],
   "source": [
    "# binary to int\n",
    "\n",
    "int(\"10001010\",2)"
   ]
  },
  {
   "cell_type": "markdown",
   "metadata": {},
   "source": [
    "# 5. Converting Characters to Binary"
   ]
  },
  {
   "cell_type": "markdown",
   "metadata": {},
   "source": [
    "**Computers store strings in binary, just like they do with integers.` First, they split them into single characters, then convert those characters to integers. Finally, they convert those integers to binary and store them.`**"
   ]
  },
  {
   "cell_type": "markdown",
   "metadata": {},
   "source": [
    "* There are `256 different ASCII symbols`, because the largest amount of storage any single ASCII character can take up is one byte."
   ]
  },
  {
   "cell_type": "markdown",
   "metadata": {},
   "source": [
    "## TODO:\n",
    "* Convert \"w\" to binary and assign the result to binary_w.\n",
    "\n",
    "* Convert \"}\" to binary and assign the result to binary_bracket."
   ]
  },
  {
   "cell_type": "code",
   "execution_count": 4,
   "metadata": {},
   "outputs": [
    {
     "data": {
      "text/plain": [
       "'0b1110111'"
      ]
     },
     "execution_count": 4,
     "metadata": {},
     "output_type": "execute_result"
    }
   ],
   "source": [
    "binary_w=bin(ord(\"w\"))\n",
    "binary_w"
   ]
  },
  {
   "cell_type": "code",
   "execution_count": 5,
   "metadata": {},
   "outputs": [
    {
     "data": {
      "text/plain": [
       "'0b1111101'"
      ]
     },
     "execution_count": 5,
     "metadata": {},
     "output_type": "execute_result"
    }
   ],
   "source": [
    "binary_bracket=bin(ord(\"}\"))\n",
    "binary_bracket"
   ]
  },
  {
   "cell_type": "markdown",
   "metadata": {},
   "source": [
    "# 6. Introduction to Unicode"
   ]
  },
  {
   "cell_type": "markdown",
   "metadata": {},
   "source": [
    "You might be wondering what happened to all of the other characters and alphabets in the world. ASCII can't handle them, because it only supports 255 characters. The tech community realized it needed a new standard, and created Unicode."
   ]
  },
  {
   "cell_type": "markdown",
   "metadata": {},
   "source": [
    "**Unicode assigns \"code points\" to characters. In Python, code points look like this:**\n",
    "\n",
    "\"\\u3232\""
   ]
  },
  {
   "cell_type": "markdown",
   "metadata": {},
   "source": [
    "* We can use an encoding system to convert these code points to binary integers. \n",
    "* The most common encoding system `for Unicode is UTF-8`.\n",
    "* This encoding tells a computer which code points are associated with which integers."
   ]
  },
  {
   "cell_type": "markdown",
   "metadata": {},
   "source": [
    "UTF-8 can encode values that are longer that one byte, which enables it to store all Unicode characters. It encodes characters using a variable number of bytes, which means that it also supports regular ASCII characters (which are one byte each)."
   ]
  },
  {
   "cell_type": "code",
   "execution_count": 6,
   "metadata": {},
   "outputs": [
    {
     "name": "stdout",
     "output_type": "stream",
     "text": [
      "⟶\n"
     ]
    }
   ],
   "source": [
    "code_point = \"\\u27f6\"\n",
    "print(code_point)"
   ]
  },
  {
   "cell_type": "code",
   "execution_count": 7,
   "metadata": {},
   "outputs": [
    {
     "data": {
      "text/plain": [
       "10230"
      ]
     },
     "execution_count": 7,
     "metadata": {},
     "output_type": "execute_result"
    }
   ],
   "source": [
    "ord(code_point)"
   ]
  },
  {
   "cell_type": "code",
   "execution_count": 8,
   "metadata": {},
   "outputs": [
    {
     "data": {
      "text/plain": [
       "'0b10011111110110'"
      ]
     },
     "execution_count": 8,
     "metadata": {},
     "output_type": "execute_result"
    }
   ],
   "source": [
    "bin(ord(code_point))"
   ]
  },
  {
   "cell_type": "markdown",
   "metadata": {},
   "source": [
    "# 7. Strings with Unicode"
   ]
  },
  {
   "cell_type": "markdown",
   "metadata": {},
   "source": [
    "* `ASCII is a subset of Unicode.` Unicode implements all of the ASCII characters, as well as the additional characters that code points allow.\n",
    "* This lets us create Unicode strings that combine both ASCII and Unicode characters.\n",
    "* By default, Python 3 uses Unicode for all strings, and encodes them with UTF-8. That means we can enter the Unicode code points or the actual characters."
   ]
  },
  {
   "cell_type": "code",
   "execution_count": 9,
   "metadata": {},
   "outputs": [
    {
     "name": "stdout",
     "output_type": "stream",
     "text": [
      "True\n"
     ]
    }
   ],
   "source": [
    "s1 = \"café\"\n",
    "# The \\u prefix means \"the next four digits are a Unicode code point\"\n",
    "# It doesn't change the value at all (the last character in the string below is \\u00e9)\n",
    "s2 = \"café\"\n",
    "\n",
    "# These strings are the same, because code points are equal to their corresponding Unicode characters.\n",
    "# \\u00e9 and é are equivalent.\n",
    "print(s1 == s2)\n",
    "s3=s1+s2\n"
   ]
  },
  {
   "cell_type": "markdown",
   "metadata": {},
   "source": [
    "# 8. The Bytes Data Type"
   ]
  },
  {
   "cell_type": "markdown",
   "metadata": {},
   "source": [
    "* Python includes a `data type called \"bytes.\"` It's similar to a string, except that it `contains encoded bytes values.`\n",
    "\n",
    "* When we create an object with a bytes type from a string, we specify an encoding system (usually UTF-8).\n",
    "* Then, we can use the .encode() method to encode the string into bytes."
   ]
  },
  {
   "cell_type": "code",
   "execution_count": 10,
   "metadata": {},
   "outputs": [
    {
     "name": "stdout",
     "output_type": "stream",
     "text": [
      "Clark Kent␦\n",
      "<class 'bytes'>\n"
     ]
    },
    {
     "data": {
      "text/plain": [
       "b'Clark Kent\\xe2\\x90\\xa6'"
      ]
     },
     "execution_count": 10,
     "metadata": {},
     "output_type": "execute_result"
    }
   ],
   "source": [
    "# We can make a string with some Unicode values\n",
    "superman = \"Clark Kent␦\"\n",
    "print(superman)\n",
    "\n",
    "# This tells Python to encode the string superman as Unicode using the UTF-8 encoding system\n",
    "# We end up with a sequence of bytes instead of a string\n",
    "superman_bytes = \"Clark Kent␦\".encode(\"utf-8\")\n",
    "print(type(superman_bytes))\n",
    "superman_bytes"
   ]
  },
  {
   "cell_type": "code",
   "execution_count": 11,
   "metadata": {},
   "outputs": [
    {
     "data": {
      "text/plain": [
       "b'anshu8,'"
      ]
     },
     "execution_count": 11,
     "metadata": {},
     "output_type": "execute_result"
    }
   ],
   "source": [
    "s=\"anshu8,\"\n",
    "b=\"anshu8,\".encode(\"utf-8\")\n",
    "b"
   ]
  },
  {
   "cell_type": "markdown",
   "metadata": {},
   "source": [
    "# 9. Introduction to HexaDecimal"
   ]
  },
  {
   "cell_type": "markdown",
   "metadata": {},
   "source": [
    "**Similar to the` \\u `prefix for a Unicode code point, `\\x` is the prefix for a hexadecimal character.**"
   ]
  },
  {
   "cell_type": "markdown",
   "metadata": {},
   "source": [
    "* Just like binary is base 2 and our normal counting system is base 10, hexadecimal is base 16. \n",
    "* The valid digits in hexadecimal are 0-9 and A-F. Here are the values corresponding to each character:\n",
    "\n",
    "  * A - 10 \n",
    "  * B - 11\n",
    "  * C - 12\n",
    "  * D - 13\n",
    "  * E - 14\n",
    "  * F - 15"
   ]
  },
  {
   "cell_type": "markdown",
   "metadata": {},
   "source": [
    "**We use hexadecimal because it represents a byte efficiently**\n",
    "* Programmers often use hexadecimal to display bytes instead of binary because it's more compact and easier to write out."
   ]
  },
  {
   "cell_type": "markdown",
   "metadata": {},
   "source": [
    "# 10. Hexadecimal Conversions"
   ]
  },
  {
   "cell_type": "markdown",
   "metadata": {},
   "source": [
    "**The \\x prefix means \"the next two digits are in hexadecimal**"
   ]
  },
  {
   "cell_type": "markdown",
   "metadata": {},
   "source": [
    "* Two hexadecimal digits equal eight binary digits, because digits can have higher values in hexadecimal (base 16). For instance, \"F\" is 15 in hexadecimal, but 1111 is 15 in binary.\n",
    "\n",
    "Because it's shorter to display, and four binary digits always equal one hexadecimal digit, programs often use hexadecimal to print out values. This is purely for convenience."
   ]
  },
  {
   "cell_type": "markdown",
   "metadata": {},
   "source": [
    "## TODO:\n",
    "Add \"2\" to \"ea\" in hexadecimal, and assign the result to hex_ea.\n",
    "\n",
    "Add \"e\" to \"f\" in hexadecimal, and assign the result to hex_ef."
   ]
  },
  {
   "cell_type": "code",
   "execution_count": 12,
   "metadata": {},
   "outputs": [
    {
     "name": "stdout",
     "output_type": "stream",
     "text": [
      "15\n"
     ]
    }
   ],
   "source": [
    "print(int(\"F\",16))"
   ]
  },
  {
   "cell_type": "code",
   "execution_count": 13,
   "metadata": {},
   "outputs": [
    {
     "data": {
      "text/plain": [
       "'0xf'"
      ]
     },
     "execution_count": 13,
     "metadata": {},
     "output_type": "execute_result"
    }
   ],
   "source": [
    "hex(15)"
   ]
  },
  {
   "cell_type": "code",
   "execution_count": 14,
   "metadata": {},
   "outputs": [
    {
     "data": {
      "text/plain": [
       "'f'"
      ]
     },
     "execution_count": 14,
     "metadata": {},
     "output_type": "execute_result"
    }
   ],
   "source": [
    "hex(15)[2:]"
   ]
  },
  {
   "cell_type": "code",
   "execution_count": 15,
   "metadata": {},
   "outputs": [],
   "source": [
    "def hex_add(a,b):\n",
    "    return hex(int(a,16)+int(b,16))[2:]"
   ]
  },
  {
   "cell_type": "code",
   "execution_count": 16,
   "metadata": {},
   "outputs": [
    {
     "data": {
      "text/plain": [
       "'ec'"
      ]
     },
     "execution_count": 16,
     "metadata": {},
     "output_type": "execute_result"
    }
   ],
   "source": [
    "hex_ea=hex_add(\"2\",\"ea\")\n",
    "hex_ea"
   ]
  },
  {
   "cell_type": "code",
   "execution_count": 17,
   "metadata": {},
   "outputs": [
    {
     "data": {
      "text/plain": [
       "'1d'"
      ]
     },
     "execution_count": 17,
     "metadata": {},
     "output_type": "execute_result"
    }
   ],
   "source": [
    "hex_ef=hex_add(\"e\",\"f\")\n",
    "hex_ef"
   ]
  },
  {
   "cell_type": "markdown",
   "metadata": {},
   "source": [
    "# 11. Hex to Binary"
   ]
  },
  {
   "cell_type": "markdown",
   "metadata": {},
   "source": [
    "## TODO\n",
    "Convert the hexadecimal byte \"\\xaa\" to binary, and assign the result to binary_aa.\n"
   ]
  },
  {
   "cell_type": "code",
   "execution_count": 18,
   "metadata": {},
   "outputs": [
    {
     "data": {
      "text/plain": [
       "'10101010'"
      ]
     },
     "execution_count": 18,
     "metadata": {},
     "output_type": "execute_result"
    }
   ],
   "source": [
    "binary_aa=bin(ord('\\xaa'))[2:]\n",
    "binary_aa"
   ]
  },
  {
   "cell_type": "code",
   "execution_count": 19,
   "metadata": {},
   "outputs": [
    {
     "data": {
      "text/plain": [
       "'10101010'"
      ]
     },
     "execution_count": 19,
     "metadata": {},
     "output_type": "execute_result"
    }
   ],
   "source": [
    "bin(int('aa',16))[2:]"
   ]
  },
  {
   "cell_type": "markdown",
   "metadata": {},
   "source": [
    "# 12. Bytes and Strings"
   ]
  },
  {
   "cell_type": "markdown",
   "metadata": {},
   "source": [
    "**There's no encoding system associated with the bytes data type. That means if we have an object with that data type, Python won't know how to display the (encoded) code points in it. For this reason, we can't mix bytes objects and strings together.**"
   ]
  },
  {
   "cell_type": "code",
   "execution_count": 20,
   "metadata": {},
   "outputs": [
    {
     "name": "stdout",
     "output_type": "stream",
     "text": [
      "TypeError with replacement\n"
     ]
    },
    {
     "data": {
      "text/plain": [
       "b'Bruce '"
      ]
     },
     "execution_count": 20,
     "metadata": {},
     "output_type": "execute_result"
    }
   ],
   "source": [
    "hulk_bytes = \"Bruce Banner␦\".encode(\"utf-8\")\n",
    "\n",
    "# We can't mix strings and bytes\n",
    "# For instance, if we try to replace the Unicode ␦ character as a string, it won't work, because that value has been encoded to bytes\n",
    "try:\n",
    "    hulk_bytes.replace(\"Banner\", \"\")\n",
    "except Exception:\n",
    "    print(\"TypeError with replacement\")\n",
    "\n",
    "# We can create objects of the bytes data type by putting a b in front of the quotation marks in a string\n",
    "hulk_bytes = b\"Bruce Banner\"\n",
    "\n",
    "# Now, instead of mixing strings and bytes, we can use the replace method with bytes objects instead\n",
    "hulk_bytes.replace(b\"Banner\", b\"\")"
   ]
  },
  {
   "cell_type": "markdown",
   "metadata": {},
   "source": [
    "### We can create objects of the bytes data type by putting a `b in front of the quotation marks in a string`"
   ]
  },
  {
   "cell_type": "markdown",
   "metadata": {},
   "source": [
    "# 13. Decode Bytes to Strings"
   ]
  },
  {
   "cell_type": "markdown",
   "metadata": {},
   "source": [
    "* Once we have a bytes object, we can decode it into a string using an encoding system.` We use the .decode() method` to do this."
   ]
  },
  {
   "cell_type": "code",
   "execution_count": 21,
   "metadata": {},
   "outputs": [
    {
     "name": "stdout",
     "output_type": "stream",
     "text": [
      "Who knows?\n",
      "<class 'str'>\n"
     ]
    }
   ],
   "source": [
    "# Make a bytes object with aquaman's secret identity\n",
    "aquaman_bytes = b\"Who knows?\"\n",
    "\n",
    "# Now, we can use the decode method, along with the encoding system (UTF-8) to turn it into a string\n",
    "aquaman = aquaman_bytes.decode(\"utf-8\")\n",
    "\n",
    "# We can print the value and type to verify that it's a string\n",
    "print(aquaman)\n",
    "print(type(aquaman))"
   ]
  },
  {
   "cell_type": "markdown",
   "metadata": {},
   "source": [
    "# 14. Read in File Data"
   ]
  },
  {
   "cell_type": "code",
   "execution_count": 22,
   "metadata": {},
   "outputs": [
    {
     "name": "stdout",
     "output_type": "stream",
     "text": [
      "1997\n",
      "The FBI information included that al-Mairi's brother \"traveled to Afghanistan in 1997-1998 to train in Bin - Ladencamps.\"\n"
     ]
    }
   ],
   "source": [
    "# We can read our data in using csvreader\n",
    "import csv\n",
    "# When we open a file, we can specify the system used to encode it (in this case, UTF-8).\n",
    "f = open(\"sentences_cia.csv\", 'r', encoding=\"utf-8\")\n",
    "csvreader = csv.reader(f)\n",
    "sentences_cia = list(csvreader)\n",
    "\n",
    "# The data consists of two columns\n",
    "# The first column contains the year, and the second contains a sentence from a CIA report written in that year\n",
    "# Print the first column of the second row\n",
    "print(sentences_cia[1][0])\n",
    "\n",
    "# Print the second column of the second row\n",
    "print(sentences_cia[1][1])\n",
    "sentences_ten=sentences_cia[9][1]"
   ]
  },
  {
   "cell_type": "markdown",
   "metadata": {},
   "source": [
    "# 15. Convert to a dataframe"
   ]
  },
  {
   "cell_type": "markdown",
   "metadata": {},
   "source": [
    "Having a dataframe will make processing and analysis much simpler because we can use the .apply() method."
   ]
  },
  {
   "cell_type": "code",
   "execution_count": 23,
   "metadata": {},
   "outputs": [
    {
     "name": "stdout",
     "output_type": "stream",
     "text": [
      "0     last_name\n",
      "1    first_name\n",
      "2      birthday\n",
      "3        gender\n",
      "4          type\n",
      "5         state\n",
      "6         party\n",
      "Name: 0, dtype: object\n",
      "last_name                 Bassett\n",
      "first_name                Richard\n",
      "birthday               1745-04-02\n",
      "gender                          M\n",
      "type                          sen\n",
      "state                          DE\n",
      "party         Anti-Administration\n",
      "Name: 0, dtype: object\n",
      "   year                                          statement      \n",
      "0  1997  The FBI information included that al-Mairi's b...      \n",
      "1  1997  The FBI information included that al-Mairi's b...      \n"
     ]
    }
   ],
   "source": [
    "import csv\n",
    "# Let's read in the legislators data from a few missions ago\n",
    "f = open(\"legislators.csv\", 'r', encoding=\"utf-8\")\n",
    "csvreader = csv.reader(f)\n",
    "legislators = list(csvreader)\n",
    "\n",
    "# Now, we can import pandas and use the DataFrame class to convert the list of lists to a dataframe.\n",
    "import pandas as pd\n",
    "\n",
    "legislators_df = pd.DataFrame(legislators)\n",
    "\n",
    "# As you can see, the first row contains the headers, which we don't want (because they're not actually data)\n",
    "print(legislators_df.iloc[0,:])\n",
    "\n",
    "# To remove the headers, we'll subset the df and pass them in separately\n",
    "# This code removes the headers from legislators, and instead passes them into the columns argument\n",
    "# The columns argument specifies column names\n",
    "legislators_df = pd.DataFrame(legislators[1:], columns=legislators[0])\n",
    "# We now have the right data in the first row, as well as the proper headers\n",
    "print(legislators_df.iloc[0,:])\n",
    "\n",
    "\n",
    "sentences_cia=pd.DataFrame(sentences_cia[1:],columns=sentences_cia[0])\n",
    "print(sentences_cia[:2])"
   ]
  },
  {
   "cell_type": "markdown",
   "metadata": {},
   "source": [
    "# 16. Clean up Sentences"
   ]
  },
  {
   "cell_type": "code",
   "execution_count": 24,
   "metadata": {},
   "outputs": [],
   "source": [
    "# The integer codes for all the characters we want to keep\n",
    "good_characters = [48, 49, 50, 51, 52, 53, 54, 55, 56, 57, 65, 66, 67, 68, 69, 70, 71, 72, 73, 74, 75, 76, 77, 78, 79, 80, 81, 82, 83, 84, 85, 86, 87, 88, 89, 90, 97, 98, 99, 100, 101, 102, 103, 104, 105, 106, 107, 108, 109, 110, 111, 112, 113, 114, 115, 116, 117, 118, 119, 120, 121, 122, 32]\n",
    "\n",
    "sentence_15 = sentences_cia[\"statement\"][14]\n",
    "\n",
    "# Iterate over the characters in the sentence, and only take those whose integer representations are in good_characters\n",
    "# This will construct a list of single characters\n",
    "cleaned_sentence_15_list = [s for s in sentence_15 if ord(s) in good_characters]\n",
    "\n",
    "# Join the list together, separated by \"\" (no space), which creates a string again\n",
    "cleaned_sentence_15 = \"\".join(cleaned_sentence_15_list)"
   ]
  },
  {
   "cell_type": "markdown",
   "metadata": {},
   "source": [
    "## TODO:\n",
    "Make a function that takes a dataframe row and then returns the clean version of the \"statement\" column.\n",
    "\n",
    "Use the .apply() method on dataframe to apply the function to each row of sentences_cia.\n",
    "\n",
    "Assign the resulting vector to the cleaned_statement column of sentences_cia."
   ]
  },
  {
   "cell_type": "code",
   "execution_count": 25,
   "metadata": {},
   "outputs": [],
   "source": [
    "def clean_statement(row):\n",
    "    good_characters = [48, 49, 50, 51, 52, 53, 54, 55, 56, 57, 65, 66, 67, 68, 69, 70, 71, 72, 73, 74, 75, 76, 77,\n",
    "                       78, 79, 80, 81, 82, 83, 84, 85, 86, 87, 88, 89, 90, 97, 98, 99, 100, 101, 102, 103, 104, 105,\n",
    "                       106, 107, 108, 109, 110, 111, 112, 113, 114, 115, 116, 117, 118, 119, 120, 121, 122, 32]\n",
    "    statement = row[\"statement\"]\n",
    "    clean_statement_list = [s for s in statement if ord(s) in good_characters]\n",
    "    return \"\".join(clean_statement_list)\n",
    "\n",
    "sentences_cia[\"cleaned_statement\"] = sentences_cia.apply(clean_statement, axis=1)"
   ]
  },
  {
   "cell_type": "markdown",
   "metadata": {},
   "source": [
    "## 17. Tokenize Statements"
   ]
  },
  {
   "cell_type": "markdown",
   "metadata": {},
   "source": [
    "## TODO:\n",
    "Tokenize combined_statements by splitting it into words on the spaces.\n",
    "You should end up with a list of all the words in combined_statements.\n",
    "Assign the result to statement_tokens."
   ]
  },
  {
   "cell_type": "code",
   "execution_count": 26,
   "metadata": {},
   "outputs": [],
   "source": [
    "combined_statements = \" \".join(sentences_cia[\"cleaned_statement\"])\n",
    "statement_tokens=combined_statements.split(\" \")"
   ]
  },
  {
   "cell_type": "markdown",
   "metadata": {},
   "source": [
    "# 18. Filter the Tokens"
   ]
  },
  {
   "cell_type": "markdown",
   "metadata": {},
   "source": [
    "## TODO:\n",
    "Filter the statement_tokens list so that it only contains tokens that are at least five characters long.\n",
    "Assign the result to filtered_tokens."
   ]
  },
  {
   "cell_type": "code",
   "execution_count": 27,
   "metadata": {},
   "outputs": [
    {
     "data": {
      "text/plain": [
       "['information',\n",
       " 'included',\n",
       " 'alMairis',\n",
       " 'brother',\n",
       " 'traveled',\n",
       " 'Afghanistan',\n",
       " '19971998',\n",
       " 'train',\n",
       " 'Ladencamps',\n",
       " 'information']"
      ]
     },
     "execution_count": 27,
     "metadata": {},
     "output_type": "execute_result"
    }
   ],
   "source": [
    "filtered_tokens=[]\n",
    "for token in statement_tokens:\n",
    "    if len(token)>=5:\n",
    "        filtered_tokens.append(token)\n",
    "        \n",
    "filtered_tokens[:10]"
   ]
  },
  {
   "cell_type": "markdown",
   "metadata": {},
   "source": [
    "# 19. Count the Tokens"
   ]
  },
  {
   "cell_type": "markdown",
   "metadata": {},
   "source": [
    "## TODO:\n",
    "Count the items in filtered_tokens and assign the result to filtered_token_counts."
   ]
  },
  {
   "cell_type": "markdown",
   "metadata": {},
   "source": [
    "`Counter` takes a list as input. It creates a dictionary where the keys are list items, and the values are the number of times those items appear in the list."
   ]
  },
  {
   "cell_type": "code",
   "execution_count": 28,
   "metadata": {},
   "outputs": [
    {
     "data": {
      "text/plain": [
       "Counter({'information': 375,\n",
       "         'included': 49,\n",
       "         'alMairis': 4,\n",
       "         'brother': 9,\n",
       "         'traveled': 25,\n",
       "         'Afghanistan': 39,\n",
       "         '19971998': 4,\n",
       "         'train': 6,\n",
       "         'Ladencamps': 4,\n",
       "         'example': 41,\n",
       "         'October': 138,\n",
       "         'another': 22,\n",
       "         'detainee': 128,\n",
       "         'explained': 6,\n",
       "         'alKuwaiti': 177,\n",
       "         'guesthouse': 2,\n",
       "         'operated': 4,\n",
       "         'Shaykh': 27,\n",
       "         'alLibi': 6,\n",
       "         'Zubaydah': 328,\n",
       "         'email': 104,\n",
       "         'officer': 39,\n",
       "         'tracking': 5,\n",
       "         'since': 26,\n",
       "         'stated': 96,\n",
       "         'although': 13,\n",
       "         'proof': 4,\n",
       "         'needed': 9,\n",
       "         'believe': 24,\n",
       "         'mastermind': 14,\n",
       "         'behind': 7,\n",
       "         'attacks': 66,\n",
       "         'Interrogators': 13,\n",
       "         'Disagree': 3,\n",
       "         'Headquarters': 72,\n",
       "         'About': 13,\n",
       "         'AlNashiris': 3,\n",
       "         'Level': 4,\n",
       "         'Cooperation': 3,\n",
       "         'Oppose': 3,\n",
       "         'Continued': 3,\n",
       "         'Enhanced': 33,\n",
       "         'Interrogation': 207,\n",
       "         'Techniques': 49,\n",
       "         'alRahim': 17,\n",
       "         'alNashiri': 26,\n",
       "         'assessed': 22,\n",
       "         'Qaida': 8,\n",
       "         'terrorist': 84,\n",
       "         'operations': 30,\n",
       "         'planner': 3,\n",
       "         'intimately': 3,\n",
       "         'involved': 39,\n",
       "         'planning': 24,\n",
       "         'bombing': 5,\n",
       "         'Africa': 3,\n",
       "         'Embassy': 4,\n",
       "         'bombings': 6,\n",
       "         'captured': 39,\n",
       "         'United': 101,\n",
       "         'ArabEmiratesinmidOctober2002': 3,\n",
       "         'Heprovidedinformationwhileinthecustodyofa': 3,\n",
       "         'foreign': 99,\n",
       "         'government': 101,\n",
       "         'including': 90,\n",
       "         'plotting': 29,\n",
       "         'Persian': 3,\n",
       "         'rendered': 27,\n",
       "         'which': 131,\n",
       "         'expressed': 11,\n",
       "         'concern': 6,\n",
       "         'SWIGERT': 12,\n",
       "         'DUNBAR': 22,\n",
       "         'would': 87,\n",
       "         'interfere': 3,\n",
       "         'onsite': 6,\n",
       "         'psychologists': 5,\n",
       "         'these': 55,\n",
       "         'their': 53,\n",
       "         'there': 53,\n",
       "         'should': 16,\n",
       "         'effort': 13,\n",
       "         'define': 3,\n",
       "         'roles': 4,\n",
       "         'responsibilitieeforharrogancniarcisivolvntounpro': 3,\n",
       "         'contlic': 3,\n",
       "         'field': 7,\n",
       "         'There': 6,\n",
       "         'reporting': 209,\n",
       "         'close': 27,\n",
       "         'reported': 29,\n",
       "         'Khaled': 5,\n",
       "         'actively': 7,\n",
       "         'recruiting': 8,\n",
       "         'people': 10,\n",
       "         'travel': 14,\n",
       "         'outside': 9,\n",
       "         'States': 55,\n",
       "         'where': 14,\n",
       "         'colleagues': 7,\n",
       "         'reportedly': 8,\n",
       "         'already': 32,\n",
       "         'country': 5,\n",
       "         'carry': 4,\n",
       "         'terroristrelated': 4,\n",
       "         'activities': 36,\n",
       "         'Prior': 15,\n",
       "         'Zubaydahs': 66,\n",
       "         'capture': 66,\n",
       "         'considered': 5,\n",
       "         'Hassan': 76,\n",
       "         'First': 9,\n",
       "         'Priority': 1,\n",
       "         'Target': 9,\n",
       "         'based': 30,\n",
       "         '97470281317ZMAR02InNovember1998': 1,\n",
       "         'Muhammad': 36,\n",
       "         'Ramzi': 50,\n",
       "         'Binalshibh': 1,\n",
       "         'Bahaji': 1,\n",
       "         'moved': 4,\n",
       "         'Marienstrasse': 1,\n",
       "         'apartment': 11,\n",
       "         'Hamburg': 3,\n",
       "         'became': 19,\n",
       "         '0213I9ZQCT04HEADQUARTERSlHm40023ZNOV05': 2,\n",
       "         '171225Z': 4,\n",
       "         '140915Z': 2,\n",
       "         '06I620Z': 2,\n",
       "         '22071113I9Z': 2,\n",
       "         '05IHl2210a7Z': 2,\n",
       "         'APR05H2535': 2,\n",
       "         '051805Z': 4,\n",
       "         'JUL05': 2,\n",
       "         '120857ZJUL05n2830': 2,\n",
       "         '29I304Z': 2,\n",
       "         '040rB89300831Z': 2,\n",
       "         'document': 77,\n",
       "         'entitled': 80,\n",
       "         'Detainee': 72,\n",
       "         'Talking': 6,\n",
       "         'Points': 4,\n",
       "         'Rebuttal': 2,\n",
       "         'April2007TBIB2210141507Z': 2,\n",
       "         '25051805Z': 2,\n",
       "         '141507Z': 4,\n",
       "         'APR05rHB225': 2,\n",
       "         '291304Z': 2,\n",
       "         '061620Z': 2,\n",
       "         '2210141507Z': 2,\n",
       "         '081609Z': 2,\n",
       "         'SEP04': 3,\n",
       "         '151735Z': 2,\n",
       "         '282019Z': 2,\n",
       "         '291750Z': 4,\n",
       "         '17I6180742Z': 2,\n",
       "         '051805ZJUL05': 2,\n",
       "         '1716180742Z': 2,\n",
       "         '301946Z': 2,\n",
       "         '041358Z': 2,\n",
       "         '301235Z': 2,\n",
       "         '29i304Z': 2,\n",
       "         '020752Z': 2,\n",
       "         '111600Z': 2,\n",
       "         'AUG04': 2,\n",
       "         '111700Z': 2,\n",
       "         '211558ZJAN05BPHIHi': 2,\n",
       "         '031835Z': 2,\n",
       "         '052309Z': 2,\n",
       "         'Reportingfrom1998indicatedthatSheikhKhalidKSM': 1,\n",
       "         'along': 5,\n",
       "         'switched': 1,\n",
       "         'allegiance': 1,\n",
       "         'Ladin': 61,\n",
       "         'organization': 4,\n",
       "         'lHm09': 1,\n",
       "         '022030ZJUN03': 1,\n",
       "         'ALECB': 1,\n",
       "         '052206ZJUN': 1,\n",
       "         'REDACTED': 375,\n",
       "         '94931': 1,\n",
       "         'individual': 32,\n",
       "         'IssaprovidedMoazz': 1,\n",
       "         'vyith': 1,\n",
       "         'telephone': 8,\n",
       "         'numbers': 3,\n",
       "         'lawyer': 1,\n",
       "         'known': 31,\n",
       "         'Sulyman': 4,\n",
       "         'Dhiren': 8,\n",
       "         'Barot': 8,\n",
       "         'other': 84,\n",
       "         'anested': 6,\n",
       "         'August': 307,\n",
       "         'found': 45,\n",
       "         'especially': 4,\n",
       "         'wellknown': 32,\n",
       "         'among': 24,\n",
       "         'extremist': 13,\n",
       "         'community': 4,\n",
       "         'having': 14,\n",
       "         'written': 14,\n",
       "         'popular': 4,\n",
       "         'expounding': 4,\n",
       "         'virtues': 4,\n",
       "         'jihad': 6,\n",
       "         'Kashmir': 8,\n",
       "         'under': 35,\n",
       "         'alias': 8,\n",
       "         'alHindi': 11,\n",
       "         'Intelligence': 188,\n",
       "         'Community': 26,\n",
       "         'review': 45,\n",
       "         'Buildings': 5,\n",
       "         'records': 117,\n",
       "         'references': 7,\n",
       "         'Russia': 3,\n",
       "         'September': 299,\n",
       "         'against': 62,\n",
       "         'buildings': 4,\n",
       "         'using': 47,\n",
       "         'traditionsd': 1,\n",
       "         'explosives': 18,\n",
       "         'VBIEDs': 3,\n",
       "         'Accordingtoopensourcesthe1999bookadvocatedworldwidejihadinordertobringnationsto': 1,\n",
       "         'SSIFIED': 37,\n",
       "         'InformationconcerningaboowritteiyDhirenBarot': 1,\n",
       "         'appeared': 5,\n",
       "         'intelligence': 169,\n",
       "         'early': 87,\n",
       "         'December': 189,\n",
       "         'authorities': 52,\n",
       "         'number': 71,\n",
       "         'UKbased': 7,\n",
       "         'extremists': 12,\n",
       "         'investigation': 27,\n",
       "         'Moazzem': 7,\n",
       "         'Ahmed': 22,\n",
       "         'Ressam': 9,\n",
       "         'federal': 4,\n",
       "         'prison': 8,\n",
       "         'arrested': 24,\n",
       "         'border': 1,\n",
       "         'patrol': 1,\n",
       "         'vehicle': 1,\n",
       "         'national': 19,\n",
       "         'named': 29,\n",
       "         'attended': 7,\n",
       "         'training': 72,\n",
       "         'associated': 32,\n",
       "         'alQaida': 126,\n",
       "         'attorney': 26,\n",
       "         'described': 74,\n",
       "         'striking': 3,\n",
       "         'similarities': 4,\n",
       "         'between': 53,\n",
       "         'public': 17,\n",
       "         'debate': 3,\n",
       "         'surrounding': 2,\n",
       "         'McCain': 10,\n",
       "         'amendment': 2,\n",
       "         'situation': 5,\n",
       "         'Israel': 2,\n",
       "         'Israeli': 8,\n",
       "         'Supreme': 2,\n",
       "         'Court': 8,\n",
       "         'ruled': 3,\n",
       "         'several': 41,\n",
       "         'techniques': 322,\n",
       "         'possibly': 12,\n",
       "         'permissible': 4,\n",
       "         'require': 4,\n",
       "         'legislative': 2,\n",
       "         'sanction': 3,\n",
       "         'INTERROGATION': 2,\n",
       "         'PROGRAM': 2,\n",
       "         'DRAFT': 5,\n",
       "         'PRESS': 2,\n",
       "         'BRIEFING': 2,\n",
       "         'April': 175,\n",
       "         'Rizzo': 57,\n",
       "         'ProgramGoing': 2,\n",
       "         'Public': 7,\n",
       "         'Draft': 10,\n",
       "         'PointsCommentsDuetoBiTie': 2,\n",
       "         'TODAY': 2,\n",
       "         'Thanks': 2,\n",
       "         '51010': 2,\n",
       "         'CIJ62213Z': 1,\n",
       "         'cable': 72,\n",
       "         'referencing': 8,\n",
       "         'collected': 26,\n",
       "         '49612': 1,\n",
       "         '281213Z': 1,\n",
       "         'JUL03': 1,\n",
       "         'REDACTED72330': 1,\n",
       "         'tablediscusseshistoricalreporting': 1,\n",
       "         'assessments': 6,\n",
       "         'called': 8,\n",
       "         'question': 3,\n",
       "         'loosely': 1,\n",
       "         'conducted': 24,\n",
       "         'Moscow': 1,\n",
       "         'conventional': 1,\n",
       "         'traditional': 2,\n",
       "         'jaarly': 1,\n",
       "         'alGhuraba': 2,\n",
       "         'student': 1,\n",
       "         'group': 11,\n",
       "         'established': 13,\n",
       "         'Jemaah': 8,\n",
       "         'Islamiyah': 8,\n",
       "         'leaders': 11,\n",
       "         'primarily': 7,\n",
       "         'educate': 1,\n",
       "         'jailed': 1,\n",
       "         'groom': 1,\n",
       "         'studentsforpotentialleadershipandoperationalrolesinJI': 1,\n",
       "         'include': 39,\n",
       "         'reference': 11,\n",
       "         'description': 25,\n",
       "         'author': 3,\n",
       "         'England': 1,\n",
       "         'Hindu': 1,\n",
       "         'MuslimwhooUraininihanistaiails': 1,\n",
       "         'disseminated': 66,\n",
       "         '123199': 1,\n",
       "         'pailner': 1,\n",
       "         'later': 64,\n",
       "         'report': 31,\n",
       "         'tliat': 40,\n",
       "         'frequently': 17,\n",
       "         'involvement': 8,\n",
       "         'Jihad': 1,\n",
       "         'occupied': 2,\n",
       "         'Pakistan': 50,\n",
       "         'Malaysia': 1,\n",
       "         'tliroughout': 1,\n",
       "         '1990s': 1,\n",
       "         'OnMarch': 5,\n",
       "         '2001theFBI': 4,\n",
       "         'openedaninternationalterrorisminvestigationtargetinglymanFaris': 4,\n",
       "         'AccordingtoCIA': 4,\n",
       "         'predication': 4,\n",
       "         'Faris': 14,\n",
       "         'provided': 241,\n",
       "         'revealed': 15,\n",
       "         'Islamic': 8,\n",
       "         'operating': 5,\n",
       "         'France': 7,\n",
       "         'Belgium': 8,\n",
       "         'Turkey': 4,\n",
       "         'Canada': 4,\n",
       "         'millennium': 4,\n",
       "         'bomber': 6,\n",
       "         'Ahmad': 229,\n",
       "         'currently': 4,\n",
       "         'serving': 4,\n",
       "         '65year': 4,\n",
       "         'route': 4,\n",
       "         'Angeles': 5,\n",
       "         'International': 12,\n",
       "         'Airport': 9,\n",
       "         'trunk': 4,\n",
       "         'tiaditional': 1,\n",
       "         'According': 28,\n",
       "         'reports': 17,\n",
       "         'stayed': 1,\n",
       "         'Maktabah': 2,\n",
       "         'alAnsar': 1,\n",
       "         'bookstore': 4,\n",
       "         'Birmingham': 1,\n",
       "         'contact': 25,\n",
       "         'extremistsAccording': 1,\n",
       "         'operatives': 31,\n",
       "         'AlMuhajirs': 1,\n",
       "         'formdated': 1,\n",
       "         '2000listed': 1,\n",
       "         'identifying': 16,\n",
       "         '101870': 1,\n",
       "         'birth': 8,\n",
       "         'language': 9,\n",
       "         'skills': 1,\n",
       "         'English': 3,\n",
       "         'Spanish': 1,\n",
       "         'Arabic': 2,\n",
       "         'travels': 1,\n",
       "         'Egypt': 1,\n",
       "         'Saudi': 3,\n",
       "         'Arabia': 3,\n",
       "         'individuals': 38,\n",
       "         'marital': 1,\n",
       "         'status': 16,\n",
       "         'Padilla': 93,\n",
       "         'codefendants': 6,\n",
       "         'Adham': 6,\n",
       "         'Hassoun': 6,\n",
       "         'Kifah': 6,\n",
       "         'Jayyousi': 6,\n",
       "         'guilty': 6,\n",
       "         'three': 33,\n",
       "         'criminal': 21,\n",
       "         'offenses': 7,\n",
       "         'relating': 17,\n",
       "         'support': 34,\n",
       "         'November': 127,\n",
       "         'centered': 6,\n",
       "         'attendance': 6,\n",
       "         '2000specifically': 6,\n",
       "         'application': 13,\n",
       "         'acquired': 59,\n",
       "         'providedtotheFBIinDecember2001': 6,\n",
       "         'least': 42,\n",
       "         'occasion': 2,\n",
       "         'Maosooan': 2,\n",
       "         'Karachi': 24,\n",
       "         'approximatelyl999or2000his': 2,\n",
       "         'alsosentonMarch182003inALECHH180200ZMAR03': 2,\n",
       "         'raided': 5,\n",
       "         'Beggs': 3,\n",
       "         'invoice': 1,\n",
       "         'copies': 1,\n",
       "         'Madina': 1,\n",
       "         'product': 6,\n",
       "         'AlQaida': 15,\n",
       "         'Watch': 7,\n",
       "         'title': 7,\n",
       "         'Probable': 6,\n",
       "         'Identification': 26,\n",
       "         'Suspected': 7,\n",
       "         'Facilitator': 39,\n",
       "         'details': 26,\n",
       "         'debriefings': 10,\n",
       "         'claimed': 21,\n",
       "         'Kuwait': 6,\n",
       "         'Kuwaiti': 22,\n",
       "         'breakthrough': 6,\n",
       "         'leading': 6,\n",
       "         'likely': 24,\n",
       "         'identification': 12,\n",
       "         'Habib': 14,\n",
       "         'alRahman': 9,\n",
       "         'SeealsoopensourcereportingonUKraids': 1,\n",
       "         'subsequentraids': 1,\n",
       "         'referenced': 18,\n",
       "         'House': 40,\n",
       "         'Permanent': 16,\n",
       "         'Select': 102,\n",
       "         'Committee': 327,\n",
       "         'Senate': 109,\n",
       "         'investigations': 11,\n",
       "         'Twelfth': 2,\n",
       "         'Hearing': 2,\n",
       "         'National': 32,\n",
       "         'Commission': 10,\n",
       "         'Terrorist': 29,\n",
       "         'Attacks': 36,\n",
       "         'Zacarias': 4,\n",
       "         'Moussaoui': 7,\n",
       "         '162001': 1,\n",
       "         'Faruq': 4,\n",
       "         'alTunisi': 3,\n",
       "         'remains': 3,\n",
       "         '151618Z': 1,\n",
       "         'Although': 5,\n",
       "         'operation': 55,\n",
       "         'disrupted': 9,\n",
       "         'arrest': 20,\n",
       "         'Arshad': 25,\n",
       "         'officers': 61,\n",
       "         'halted': 1,\n",
       "         'prior': 145,\n",
       "         'detention': 129,\n",
       "         'specifically': 13,\n",
       "         'Richard': 48,\n",
       "         'Reids': 3,\n",
       "         'shoebomb': 6,\n",
       "         'explosive': 7,\n",
       "         'concealment': 1,\n",
       "         'method': 1,\n",
       "         'uncovered': 2,\n",
       "         'Hambaliwho': 1,\n",
       "         'Malaysiansstated': 1,\n",
       "         'cancelled': 1,\n",
       "         'surmised': 2,\n",
       "         'might': 10,\n",
       "         'because': 23,\n",
       "         'becauseZainiZakariagotcoldfeet': 1,\n",
       "         'During': 13,\n",
       "         'interrogation': 391,\n",
       "         'debriefer': 2,\n",
       "         'suggesting': 7,\n",
       "         'Zakaria': 8,\n",
       "         'funded': 2,\n",
       "         'flight': 5,\n",
       "         'lessons': 2,\n",
       "         'Backgrounder': 4,\n",
       "         'Chronology': 4,\n",
       "         'Approvals': 5,\n",
       "         '20012003': 8,\n",
       "         'noting': 21,\n",
       "         'documentation': 4,\n",
       "         'discussions': 11,\n",
       "         'Presidential': 15,\n",
       "         'briefers': 4,\n",
       "         'program': 50,\n",
       "         'suggest': 6,\n",
       "         'enhanced': 241,\n",
       "         'shared': 7,\n",
       "         'President': 57,\n",
       "         'timeframe': 4,\n",
       "         'Topic': 4,\n",
       "         'Waterboarding': 5,\n",
       "         'indicates': 10,\n",
       "         'briefed': 26,\n",
       "         'regarding': 84,\n",
       "         'specific': 27,\n",
       "         'until': 49,\n",
       "         'himonthesevenEITsproposedatthattimeforthepostDetaineeTreatmentActCIAinterrogationprogram': 4,\n",
       "         'UnderquestioningHjjjHPerson1': 4,\n",
       "         'Gunawan': 4,\n",
       "         'encouraged': 4,\n",
       "         'Person': 4,\n",
       "         'pursue': 5,\n",
       "         'interest': 11,\n",
       "         'aucraft': 4,\n",
       "         'attempted': 12,\n",
       "         'recruit': 5,\n",
       "         'pilot': 10,\n",
       "         'trainingeMhecablejBPer': 4,\n",
       "         'deflected': 4,\n",
       "         'requests': 6,\n",
       "         'UNCLASSIFIED': 221,\n",
       "         'heawareofwhetherthePresidenthadbeenbriefedbyhisstaff': 2,\n",
       "         'TheMay2004CIA': 2,\n",
       "         'Inspector': 73,\n",
       "         'General': 175,\n",
       "         'Special': 38,\n",
       "         'Review': 46,\n",
       "         'recommendation': 3,\n",
       "         'Brief': 4,\n",
       "         'implementation': 2,\n",
       "         'Agencys': 4,\n",
       "         'intenogation': 33,\n",
       "         'pursuant': 3,\n",
       "         'detainees': 224,\n",
       "         'While': 25,\n",
       "         'indicate': 52,\n",
       "         'provide': 32,\n",
       "         'initial': 20,\n",
       "         'Issas': 4,\n",
       "         'tasking': 2,\n",
       "         'conduct': 20,\n",
       "         'casings': 1,\n",
       "         'address': 23,\n",
       "         'related': 35,\n",
       "         'wasprovidedwithinalargerbodyoffabricatedreportingKSMprovidedonIssa': 1,\n",
       "         'SECRET': 122,\n",
       "         'NOFORN': 105,\n",
       "         'again': 10,\n",
       "         'March': 127,\n",
       "         'tasked': 17,\n",
       "         'collect': 3,\n",
       "         'economic': 2,\n",
       "         'targets': 7,\n",
       "         'Assessment': 16,\n",
       "         'Countering': 8,\n",
       "         'Misconceptions': 8,\n",
       "         'Training': 28,\n",
       "         'Camps': 8,\n",
       "         '19902001': 8,\n",
       "         'Office': 89,\n",
       "         'Countertenorism': 3,\n",
       "         'Detention': 147,\n",
       "         'Inteixogation': 6,\n",
       "         'Activities': 51,\n",
       "         '20037123IG': 24,\n",
       "         '20042710': 12,\n",
       "         'KSMthen': 1,\n",
       "         'statedthathehadtalkedwith': 1,\n",
       "         'aboutcontactingAfricanAmericanMuslimgroupspriorto': 1,\n",
       "         'waterboarded': 8,\n",
       "         'failing': 1,\n",
       "         'recruitment': 2,\n",
       "         'African': 1,\n",
       "         'American': 11,\n",
       "         'Muslims': 6,\n",
       "         'draft': 5,\n",
       "         'memorandum': 58,\n",
       "         'addressed': 15,\n",
       "         'Israeh': 1,\n",
       "         'lyman': 5,\n",
       "         'Paris': 3,\n",
       "         'IntelligenceCommunitypriortotheattacksofSeptember112001': 1,\n",
       "         'Legal': 83,\n",
       "         'Appendix': 8,\n",
       "         'Hostile': 5,\n",
       "         'Interrogations': 20,\n",
       "         'Considerations': 6,\n",
       "         'Officers': 6,\n",
       "         'result': 15,\n",
       "         'interviewed': 8,\n",
       "         'shortlyafterdieattacksofSeptember112001': 1,\n",
       "         'OnNovember': 2,\n",
       "         '2001theFBIclosedits': 1,\n",
       "         'invesrigation': 1,\n",
       "         'unknown': 4,\n",
       "         'reasons': 1,\n",
       "         'iSECRET': 2,\n",
       "         'Further': 8,\n",
       "         'Details': 14,\n",
       "         'Sajid': 38,\n",
       "         'selected': 3,\n",
       "         'alMasri': 8,\n",
       "         'alAdl': 1,\n",
       "         'attack': 32,\n",
       "         'Western': 1,\n",
       "         'airliner': 7,\n",
       "         'withRichardReidusingashoebombexplosivedeviceinDecember2001': 1,\n",
       "         'SajidBadat': 1,\n",
       "         'returned': 6,\n",
       "         'Kingdom': 30,\n",
       "         'message': 2,\n",
       "         'handler': 1,\n",
       "         'Ammar': 31,\n",
       "         'alBaluchi': 11,\n",
       "         'stating': 33,\n",
       "         'withdrawing': 1,\n",
       "         'Kingdombased': 1,\n",
       "         'associates': 18,\n",
       "         'Badat': 53,\n",
       "         'common': 3,\n",
       "         'aliases': 1,\n",
       "         'alBritani': 3,\n",
       "         'Britain': 2,\n",
       "         'andor': 3,\n",
       "         'alPakistanl': 1,\n",
       "         'prepared': 14,\n",
       "         'president': 11,\n",
       "         'highlighted': 12,\n",
       "         'waterboard': 18,\n",
       "         'technique': 12,\n",
       "         'enabling': 1,\n",
       "         'learn': 3,\n",
       "         'operative': 25,\n",
       "         'slated': 9,\n",
       "         'launch': 12,\n",
       "         'simultaneous': 7,\n",
       "         '50November72001DraftofLegalAppendixHandlingIntenogationSeealsoVolumeI': 1,\n",
       "         'Counterterrorism': 36,\n",
       "         'AccordingtoaCIAoperationalupdateinearlyDecember2001aunilateralCIAsourcereported': 1,\n",
       "         'aknown': 1,\n",
       "         'indicated': 13,\n",
       "         'either': 5,\n",
       "         'British': 3,\n",
       "         'originating': 2,\n",
       "         'FranceGermanyorBritainwiththeuseofexplosivesconcealedinshoes': 1,\n",
       "         'AccordingtoCIArecordsan': 1,\n",
       "         'unclassified': 4,\n",
       "         'notice': 1,\n",
       "         'distnbuted': 1,\n",
       "         'airlines': 1,\n",
       "         'concerning': 20,\n",
       "         'source': 27,\n",
       "         'credited': 5,\n",
       "         'alerted': 6,\n",
       "         'personnel': 51,\n",
       "         'theii': 1,\n",
       "         'reacted': 1,\n",
       "         'swiftly': 1,\n",
       "         'actions': 7,\n",
       "         'aboard': 1,\n",
       "         'Flight': 1,\n",
       "         'states': 176,\n",
       "         'after': 114,\n",
       "         'applying': 1,\n",
       "         'learned': 13,\n",
       "         'proposed': 18,\n",
       "         'partner': 11,\n",
       "         'backed': 7,\n",
       "         'launchashoebombattacksimultaneouslywithRichardReidinDecember2001': 1,\n",
       "         'Conomittee': 2,\n",
       "         'Study': 123,\n",
       "         'documents': 36,\n",
       "         'abuses': 2,\n",
       "         'countless': 2,\n",
       "         'mistakes': 3,\n",
       "         'alPakistanias': 1,\n",
       "         'volume': 2,\n",
       "         'addresses': 6,\n",
       "         'programs': 4,\n",
       "         'authorization': 6,\n",
       "         'official': 16,\n",
       "         'January': 98,\n",
       "         'conditions': 11,\n",
       "         'confinement': 15,\n",
       "         'Briefingfor': 3,\n",
       "         'Obama': 3,\n",
       "         'Security': 29,\n",
       "         'Renditions': 18,\n",
       "         'Detentions': 7,\n",
       "         'Intenogations': 7,\n",
       "         'Briefing': 12,\n",
       "         'Program': 89,\n",
       "         'Leads': 5,\n",
       "         'directly': 9,\n",
       "         'anest': 8,\n",
       "         'SeeCIAInspectorGeneralSpecialReviewCounterteriorismDetention': 3,\n",
       "         'Bolten': 3,\n",
       "         'Rendition': 9,\n",
       "         'Programs': 3,\n",
       "         'dated': 95,\n",
       "         'TalkingPointsfor': 3,\n",
       "         '10March2005DCIMeeting': 3,\n",
       "         'PCEffectiveness': 3,\n",
       "         'theHighValue': 3,\n",
       "         'Clecord': 4,\n",
       "         'Incoming': 10,\n",
       "         'Outgoing': 10,\n",
       "         'calling': 11,\n",
       "         'activity': 15,\n",
       "         'phone': 44,\n",
       "         'orcer': 4,\n",
       "         '20133152': 20,\n",
       "         'collecting': 6,\n",
       "         'alKuwaitis': 25,\n",
       "         'collection': 14,\n",
       "         'voice': 17,\n",
       "         'comparisons': 4,\n",
       "         'targeting': 28,\n",
       "         'briefing': 60,\n",
       "         'Bomber': 3,\n",
       "         'identified': 54,\n",
       "         'Zubaydali': 8,\n",
       "         'wltli': 4,\n",
       "         'aiTested': 4,\n",
       "         'matched': 7,\n",
       "         'previous': 9,\n",
       "         'European': 4,\n",
       "         'Saajid': 6,\n",
       "         'Gloucester': 4,\n",
       "         'person': 9,\n",
       "         'suspected': 25,\n",
       "         'being': 69,\n",
       "         'activityAdditional': 4,\n",
       "         'analysis': 17,\n",
       "         'connecting': 4,\n",
       "         'Reidas': 4,\n",
       "         'intelligenceplaced': 4,\n",
       "         'together': 6,\n",
       "         'linked': 8,\n",
       "         'transcript': 19,\n",
       "         '20020611': 4,\n",
       "         'Intelligenctabriefing': 4,\n",
       "         '20020615': 4,\n",
       "         'Germany': 1,\n",
       "         'concealed': 2,\n",
       "         'shoes': 2,\n",
       "         'notified': 4,\n",
       "         'about': 84,\n",
       "         'understanding': 5,\n",
       "         'location': 13,\n",
       "         'lines': 4,\n",
       "         'divulgedtotheCommittee': 4,\n",
       "         'Thenotificationandsubsequentinformationprovidedtothe': 4,\n",
       "         'Transcript': 19,\n",
       "         'staff': 38,\n",
       "         '20020629': 7,\n",
       "         'investigators': 2,\n",
       "         'confirmed': 17,\n",
       "         'withdrew': 3,\n",
       "         'detailed': 40,\n",
       "         'account': 7,\n",
       "         'investigative': 2,\n",
       "         'efforts': 12,\n",
       "         'aspects': 5,\n",
       "         'ofreportincquircronIAS': 2,\n",
       "         'attorneys': 14,\n",
       "         'Counsel': 105,\n",
       "         'circulated': 2,\n",
       "         'legal': 41,\n",
       "         'describing': 10,\n",
       "         'prohibition': 5,\n",
       "         'torture': 13,\n",
       "         'potential': 15,\n",
       "         'novel': 2,\n",
       "         'defense': 11,\n",
       "         'engaged': 10,\n",
       "         'foreignpartnerreportliighlightshowtheanamedforeign': 1,\n",
       "         'Nizar': 1,\n",
       "         'Trabelsi': 2,\n",
       "         'alleged': 1,\n",
       "         'connected': 6,\n",
       "         'recovered': 6,\n",
       "         'Colvin': 1,\n",
       "         'After': 33,\n",
       "         'sought': 13,\n",
       "         'target': 6,\n",
       "         'hijacked': 1,\n",
       "         'aircraft': 5,\n",
       "         'Heathrow': 15,\n",
       "         'building': 3,\n",
       "         'Canary': 3,\n",
       "         'Wharf': 3,\n",
       "         'major': 5,\n",
       "         'business': 14,\n",
       "         'district': 1,\n",
       "         'London': 3,\n",
       "         'powerfuleconomicsymbols': 1,\n",
       "         'TheinitialplanwasforalQaidaoperativestohijackmultiple': 1,\n",
       "         'airplanes': 1,\n",
       "         'departing': 2,\n",
       "         'around': 2,\n",
       "         'crash': 1,\n",
       "         'airport': 1,\n",
       "         'itself': 2,\n",
       "         'Hambali': 19,\n",
       "         'played': 13,\n",
       "         'supporting': 9,\n",
       "         'Yousef': 7,\n",
       "         'Bojinka': 1,\n",
       "         'place': 11,\n",
       "         'Statesflagged': 2,\n",
       "         'destroy': 2,\n",
       "         'midflightBy': 1,\n",
       "         'playing': 7,\n",
       "         'helping': 8,\n",
       "         'enroll': 1,\n",
       "         'Zacaiias': 1,\n",
       "         'ofAppealsAugustTe': 1,\n",
       "         'vRamzi': 2,\n",
       "         'DIRECTOR': 69,\n",
       "         'JAN02': 1,\n",
       "         'Document': 3,\n",
       "         'Highlights': 1,\n",
       "         'custody': 156,\n",
       "         'Mohammed': 14,\n",
       "         'Mansour': 7,\n",
       "         'Jabarah': 6,\n",
       "         '50000': 12,\n",
       "         'Hambalidirected': 4,\n",
       "         'interests': 14,\n",
       "         '10000': 4,\n",
       "         'contrast': 7,\n",
       "         'proposals': 2,\n",
       "         'expected': 2,\n",
       "         'facility': 29,\n",
       "         'standards': 10,\n",
       "         'guidelines': 11,\n",
       "         'signed': 13,\n",
       "         'forth': 2,\n",
       "         'minimal': 2,\n",
       "         'Questions': 11,\n",
       "         'ofDetainee': 2,\n",
       "         'Recommends': 2,\n",
       "         'Release': 21,\n",
       "         'Transferred': 2,\n",
       "         'Military': 12,\n",
       "         'Custody': 20,\n",
       "         'Heldfor': 2,\n",
       "         'Additional': 6,\n",
       "         'Years': 2,\n",
       "         'interrogated': 9,\n",
       "         'Arsala': 5,\n",
       "         'Afghan': 8,\n",
       "         'midfifties': 2,\n",
       "         'believed': 17,\n",
       "         'assisted': 2,\n",
       "         'Usama': 16,\n",
       "         'Laden': 5,\n",
       "         'escape': 4,\n",
       "         'throughtheToraBoraMountainsinlate2001': 2,\n",
       "         'After56hoursofstandingsleepdeprivation': 2,\n",
       "         'barely': 2,\n",
       "         'enunciate': 2,\n",
       "         'visibly': 3,\n",
       "         'shaken': 2,\n",
       "         'hallucinations': 2,\n",
       "         'depicting': 2,\n",
       "         'mauling': 2,\n",
       "         'killing': 4,\n",
       "         'family': 27,\n",
       "         'Masran': 9,\n",
       "         'while': 42,\n",
       "         'connections': 9,\n",
       "         'Second': 20,\n",
       "         'abandoned': 4,\n",
       "         'deliver': 5,\n",
       "         'HambaH': 4,\n",
       "         'cables': 28,\n",
       "         'explain': 8,\n",
       "         'basis': 3,\n",
       "         'detaining': 2,\n",
       "         'requirements': 7,\n",
       "         'oftheSeptember172001MON': 1,\n",
       "         'These': 4,\n",
       "         'representations': 53,\n",
       "         'listed': 13,\n",
       "         'below': 5,\n",
       "         'Attributed': 5,\n",
       "         'Effectiveness': 14,\n",
       "         'ofthe': 37,\n",
       "         'Khalid': 26,\n",
       "         'Mohammad': 25,\n",
       "         'Mastermind': 10,\n",
       "         'Mukhtar': 15,\n",
       "         'Alias': 4,\n",
       "         'Capture': 16,\n",
       "         'alShibh': 73,\n",
       "         'Majid': 28,\n",
       "         'Thwarting': 5,\n",
       "         'Lemonier': 15,\n",
       "         'Plotting': 4,\n",
       "         'Assertion': 4,\n",
       "         'Validate': 4,\n",
       "         'Sources': 4,\n",
       "         'Arrests': 6,\n",
       "         'Uzhair': 5,\n",
       "         'Saifullah': 10,\n",
       "         'Paracha': 12,\n",
       "         'Critical': 8,\n",
       "         'Alerting': 4,\n",
       "         'Jaffar': 18,\n",
       "         'alTayyar': 22,\n",
       "         'Arrest': 8,\n",
       "         'Saleh': 9,\n",
       "         'alMarri': 13,\n",
       "         'Collection': 4,\n",
       "         'Tactical': 4,\n",
       "         'Shkai': 25,\n",
       "         'Information': 54,\n",
       "         'Operation': 11,\n",
       "         '050744Z': 4,\n",
       "         '051248Z': 4,\n",
       "         'Response': 237,\n",
       "         'showed': 5,\n",
       "         'failed': 10,\n",
       "         'examples': 6,\n",
       "         'important': 25,\n",
       "         'cited': 24,\n",
       "         'prominently': 6,\n",
       "         'cases': 12,\n",
       "         'autliors': 4,\n",
       "         'chose': 4,\n",
       "         'Despite': 16,\n",
       "         'statements': 10,\n",
       "         'coercive': 13,\n",
       "         'physical': 15,\n",
       "         'psychological': 2,\n",
       "         'false': 2,\n",
       "         'answers': 7,\n",
       "         'proven': 2,\n",
       "         'ineffective': 2,\n",
       "         'aforementioned': 2,\n",
       "         'eaily': 2,\n",
       "         'determination': 8,\n",
       "         'sjpecific': 1,\n",
       "         'methods': 10,\n",
       "         'generally': 3,\n",
       "         'comport': 2,\n",
       "         'commonly': 2,\n",
       "         'accepted': 2,\n",
       "         'practices': 4,\n",
       "         'deemed': 3,\n",
       "         'lawful': 5,\n",
       "         'courts': 2,\n",
       "         'begun': 5,\n",
       "         'researching': 1,\n",
       "         'defenses': 2,\n",
       "         'governments': 6,\n",
       "         'nongovernmental': 1,\n",
       "         'Mastennind': 2,\n",
       "         'represented': 21,\n",
       "         'vital': 4,\n",
       "         'Director': 49,\n",
       "         'Hayden': 18,\n",
       "         'IIIIIEP': 2,\n",
       "         'Report': 59,\n",
       "         'Central': 52,\n",
       "         'Agency': 51,\n",
       "         'Accountability': 7,\n",
       "         'Regarding': 10,\n",
       "         'Findings': 16,\n",
       "         'Conclusions': 16,\n",
       "         'Joint': 18,\n",
       "         'Inquiry': 19,\n",
       "         'Before': 13,\n",
       "         '20053477': 4,\n",
       "         'Final': 3,\n",
       "         'StatesT': 2,\n",
       "         '64626': 2,\n",
       "         '131842Z': 2,\n",
       "         '64627': 2,\n",
       "         '131843Z': 2,\n",
       "         'Respect': 5,\n",
       "         'fromHPI': 2,\n",
       "         'mHfREDACTED': 2,\n",
       "         'subject': 147,\n",
       "         'RAMZI': 3,\n",
       "         'LEADS': 3,\n",
       "         ...})"
      ]
     },
     "execution_count": 28,
     "metadata": {},
     "output_type": "execute_result"
    }
   ],
   "source": [
    "from collections import Counter\n",
    "\n",
    "filtered_token_counts=Counter(filtered_tokens)\n",
    "filtered_token_counts"
   ]
  },
  {
   "cell_type": "markdown",
   "metadata": {},
   "source": [
    "# 20. Most Common Tokens"
   ]
  },
  {
   "cell_type": "markdown",
   "metadata": {},
   "source": [
    "## TODO:\n",
    "Get the three most common items in filtered_token_counts, and assign the result to common_tokens."
   ]
  },
  {
   "cell_type": "code",
   "execution_count": 29,
   "metadata": {},
   "outputs": [
    {
     "data": {
      "text/plain": [
       "[('interrogation', 391), ('information', 375), ('REDACTED', 375)]"
      ]
     },
     "execution_count": 29,
     "metadata": {},
     "output_type": "execute_result"
    }
   ],
   "source": [
    "common_tokens=filtered_token_counts.most_common(3)\n",
    "common_tokens"
   ]
  },
  {
   "cell_type": "markdown",
   "metadata": {},
   "source": [
    "# 21. Finding the Most Common Tokens by Year"
   ]
  },
  {
   "cell_type": "markdown",
   "metadata": {},
   "source": [
    "## TODO:\n",
    "Write a function that finds the two most common terms in sentences_cia for a given year (the \"year\" column).\n",
    "\n",
    "* The \"year\" column in sentences_cia stores strings, so you'll need to pass strings into the function.\n",
    "* Select the rows in sentences_cia that match that year, combine the clean statements, split them into a list on the space character (\" \"), filter out words less than five characters long, make a counter object with the results, and find the two most common items in the counter.\n",
    "Use the function to find the most common terms for \"2000\". Assign the result to common_2000.\n",
    "\n",
    "Use the function to find the most common terms for \"2002\". Assign the result to common_2002.\n",
    "\n",
    "Use the function to find the most common terms for \"2013\". Assign the result to common_2013."
   ]
  },
  {
   "cell_type": "code",
   "execution_count": 30,
   "metadata": {},
   "outputs": [],
   "source": [
    "def find_most_common_by_year(year, sentences_cia):\n",
    "    data = sentences_cia[sentences_cia[\"year\"] == year]\n",
    "    combined_statement = \" \".join(data[\"cleaned_statement\"])\n",
    "    statement_split = combined_statement.split(\" \")\n",
    "    counter = Counter([s for s in statement_split if len(s) > 4])\n",
    "    return counter.most_common(2)\n",
    "\n",
    "common_2000 = find_most_common_by_year(\"2000\", sentences_cia)\n",
    "common_2002 = find_most_common_by_year(\"2002\", sentences_cia)\n",
    "common_2013 = find_most_common_by_year(\"2013\", sentences_cia)"
   ]
  }
 ],
 "metadata": {
  "kernelspec": {
   "display_name": "Python 3",
   "language": "python",
   "name": "python3"
  },
  "language_info": {
   "codemirror_mode": {
    "name": "ipython",
    "version": 3
   },
   "file_extension": ".py",
   "mimetype": "text/x-python",
   "name": "python",
   "nbconvert_exporter": "python",
   "pygments_lexer": "ipython3",
   "version": "3.7.3"
  }
 },
 "nbformat": 4,
 "nbformat_minor": 2
}
