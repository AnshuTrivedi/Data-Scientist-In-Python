{
 "cells": [
  {
   "cell_type": "markdown",
   "metadata": {},
   "source": [
    "# 1. Solving Problems with Code"
   ]
  },
  {
   "cell_type": "markdown",
   "metadata": {},
   "source": [
    "Computer programming is an engineering discipline. A successful engineer must be able to think through complex problems and choose an optimal solution. This involves careful planning, some trial and error, and above all else, experience.` It's important to practice programming so you can build an intuition for the tools and approaches that fit a situation best.`"
   ]
  },
  {
   "cell_type": "markdown",
   "metadata": {},
   "source": [
    "# 2. Defining Custom Classes"
   ]
  },
  {
   "cell_type": "markdown",
   "metadata": {},
   "source": [
    "\n",
    "The statistics are in a CSV file with a header and some rows of data. It looks like this:\n",
    "\n",
    "|player|\t  pos|\tage|team|\n",
    "|------|---------|-----|----|\n",
    "|Quincy Acy|\t SF| 23\t|  TOT|\n",
    "|Steven Adams|\t C\t|    20\t|  Oklahoma City Thunder|\n",
    "|Jeff Adrien|\tPF|\t 27\t |  TOT|\n",
    "|Arron Afflalo|\t SG\t|  28| Orlando Magic|\n"
   ]
  },
  {
   "cell_type": "markdown",
   "metadata": {},
   "source": [
    "We need an easy way to represent both the players and the teams. Let's focus on how we can use custom classes to compare the average ages of the players on each team."
   ]
  },
  {
   "cell_type": "markdown",
   "metadata": {},
   "source": [
    "## TODO\n",
    "* Create a `Team` class, initialize it with a team name, and store that team name in the instance property `team_name`.\n",
    "\n",
    "* Create an instance of the `Team class` with the team name `\"San Antonio Spurs\"`, and assign it to `spurs`."
   ]
  },
  {
   "cell_type": "markdown",
   "metadata": {},
   "source": [
    "You can see in the starter code that we've defined a Player class and set up the default __init__ method to accept a data row as an argument. We made a deliberate choice to split up the logic of players and teams so our code is easy to read and maintain. We also made the convenient choice to initialize our Player instances using a data row. That's because all of the information is present in a row, and it will make it easier to create Player objects from the data set later on."
   ]
  },
  {
   "cell_type": "code",
   "execution_count": 1,
   "metadata": {},
   "outputs": [
    {
     "name": "stdout",
     "output_type": "stream",
     "text": [
      "          player pos  age                   team\n",
      "0     Quincy Acy  SF   23                    TOT\n",
      "1   Steven Adams   C   20  Oklahoma City Thunder\n",
      "2    Jeff Adrien  PF   27                    TOT\n",
      "3  Arron Afflalo  SG   28          Orlando Magic\n",
      "TOT\n",
      "Oklahoma City Thunder\n",
      "TOT\n",
      "Orlando Magic\n",
      "New Orleans Pelicans\n"
     ]
    }
   ],
   "source": [
    "import pandas as pd\n",
    "nba=pd.read_csv('nba_players_2013.csv')\n",
    "nba.head()\n",
    "nba=nba[['player','pos','age','team']]\n",
    "\n",
    "print(nba[:4])\n",
    "for index in range(5):\n",
    "    print(nba.iloc[index][3])\n"
   ]
  },
  {
   "cell_type": "code",
   "execution_count": 2,
   "metadata": {},
   "outputs": [
    {
     "name": "stdout",
     "output_type": "stream",
     "text": [
      "<__main__.Player object at 0x000002A43A69E5C8>\n",
      "Quincy Acy\n",
      "SF\n"
     ]
    }
   ],
   "source": [
    "class Player():\n",
    "    # The special __init__ function runs whenever a class is instantiated\n",
    "    # The init function can take arguments, but self is always the first one\n",
    "    # Self is just a reference to the instance of the class\n",
    "    # It is automatically passed in when you instantiate an instance of the class\n",
    "    def __init__(self, data_row):\n",
    "        self.player_name = data_row[0]\n",
    "        self.position = data_row[1]\n",
    "        self.age = data_row[2]\n",
    "        self.team = data_row[3]\n",
    "\n",
    "# Initialize a player using the first row of our data set\n",
    "first_player = Player(nba.iloc[0])\n",
    "print(first_player)\n",
    "print(first_player.player_name)\n",
    "print(first_player.position)\n",
    "\n",
    "\n",
    "# Implement the Team class\n",
    "\n",
    "class Team():\n",
    "    def __init__(self,teamName):\n",
    "        self.team_name=teamName\n",
    "        \n",
    "        \n",
    "spurs=Team('San ANtonio SPurs')"
   ]
  },
  {
   "cell_type": "markdown",
   "metadata": {},
   "source": [
    "# 3. More Interesting Instance Properties"
   ]
  },
  {
   "cell_type": "markdown",
   "metadata": {},
   "source": [
    "## TODO\n",
    "* Modify the __init__ method of the Team class to loop through our data set and add a player to the roster every time the row's team name matches the instance's team_name.\n",
    "\n",
    "* You can add an item to a list using .append(item).\n",
    "* Store the \"San Antonio Spurs\" team in spurs."
   ]
  },
  {
   "cell_type": "code",
   "execution_count": 3,
   "metadata": {},
   "outputs": [
    {
     "name": "stdout",
     "output_type": "stream",
     "text": [
      "<__main__.Team object at 0x000002A43A69E708>\n"
     ]
    }
   ],
   "source": [
    "class Team():\n",
    "    def __init__(self,teamName):\n",
    "        self.team_name=teamName\n",
    "        # Team roster initially empty\n",
    "        self.roster = []\n",
    "        # Find the players for the roster in the data set\n",
    "        for index in range(len(nba)):\n",
    "            if nba.iloc[index][3]==self.team_name:\n",
    "                self.roster.append(Player(nba.iloc[index]))\n",
    "                \n",
    "spurs=Team(\"San Antonio Spurs\")       \n",
    "print(spurs)"
   ]
  },
  {
   "cell_type": "markdown",
   "metadata": {},
   "source": [
    "# 4. Instance Methods"
   ]
  },
  {
   "cell_type": "markdown",
   "metadata": {},
   "source": [
    "The Player and Team classes we've defined serve as blueprints that we can use to create instances of these classes.` Classes and the instances of those classes, which are collectively known as objects`, are fundamental to object-oriented programming."
   ]
  },
  {
   "cell_type": "markdown",
   "metadata": {},
   "source": [
    "We can define some of our own methods on a class. For example, if we want to compute the average age of the players on a team, we would write a method for the Team class that does this. However, because this number can be different for each team, we want to make sure the method acts individually on specific instances of the Team class.**We call these methods instance methods**."
   ]
  },
  {
   "cell_type": "markdown",
   "metadata": {},
   "source": [
    "## TODO:\n",
    "* Write an average_age() method for the Team class that computes the average age of the Team instance.\n",
    "\n",
    "* We've provided a method, num_players, that returns the total number of players on a Team instance.\n",
    "* Store the result of calling average_age() on the \"San Antonio Spurs\" team in spurs_avg_age."
   ]
  },
  {
   "cell_type": "code",
   "execution_count": 4,
   "metadata": {},
   "outputs": [],
   "source": [
    "class Player():\n",
    "    # The special __init__ function runs whenever a class is instantiated\n",
    "    # The init function can take arguments, but self is always the first one\n",
    "    # Self is just a reference to the instance of the class \n",
    "    # It's automatically passed in when you instantiate an instance of the class\n",
    "    def __init__(self, data_row):\n",
    "        self.player_name = data_row[0]\n",
    "        self.position = data_row[1]\n",
    "        self.age = int(data_row[2])\n",
    "        self.team = data_row[3]\n",
    "        \n",
    "\n",
    "class Team():\n",
    "    def __init__(self, team_name):\n",
    "        self.team_name = team_name\n",
    "        # Team roster initially empty\n",
    "        self.roster = []\n",
    "        # Find the players for the roster in the data set\n",
    "        for index in range(len(nba)):\n",
    "            if nba.iloc[index][3]==self.team_name:\n",
    "                self.roster.append(Player(nba.iloc[index]))\n",
    "                \n",
    "    def num_players(self):\n",
    "        count = 0\n",
    "        for player in self.roster:\n",
    "            count += 1\n",
    "        return count\n",
    "    # Implement the average_age() instance method\n",
    "    def average_age(self):\n",
    "        total_age = 0\n",
    "        \n",
    "        for player in self.roster:\n",
    "            total_age += player.age\n",
    "        return total_age / self.num_players()\n",
    "\n",
    "    \n",
    "    \n",
    "spurs = Team(\"San Antonio Spurs\")\n",
    "spurs_num_players = spurs.num_players()\n",
    "spurs_avg_age = spurs.average_age()"
   ]
  },
  {
   "cell_type": "markdown",
   "metadata": {},
   "source": [
    "# 5. Class Methods"
   ]
  },
  {
   "cell_type": "markdown",
   "metadata": {},
   "source": [
    "**Class methods act on an entire class, rather than a particular instance of one. We often use them as utility functions.**"
   ]
  },
  {
   "cell_type": "markdown",
   "metadata": {},
   "source": [
    "The @classmethod line that appears above it tells the Python interpreter that the method is a class method."
   ]
  },
  {
   "cell_type": "code",
   "execution_count": 5,
   "metadata": {},
   "outputs": [],
   "source": [
    "import math\n",
    "\n",
    "class Player():\n",
    "    # The special __init__ function runs whenever a class is instantiated\n",
    "    # The init function can take arguments, but self is always the first one\n",
    "    # Self is just a reference to the instance of the class\n",
    "    # It's automatically passed in when you instantiate an instance of the class\n",
    "    def __init__(self, data_row):\n",
    "        self.player_name = data_row[0]\n",
    "        self.position = data_row[1]\n",
    "        self.age = int(data_row[2])\n",
    "        self.team = data_row[3]\n",
    "\n",
    "class Team():\n",
    "    def __init__(self, team_name):\n",
    "        self.team_name = team_name\n",
    "        self.roster = []\n",
    "        for row in range(len(nba)):\n",
    "            if nba.iloc[row][3] == self.team_name:\n",
    "                self.roster.append(Player(nba.iloc[row]))\n",
    "    \n",
    "    def num_players(self):\n",
    "        count = 0\n",
    "        for player in self.roster:\n",
    "            count += 1\n",
    "        return count\n",
    "   \n",
    "    def average_age(self):\n",
    "        return math.fsum([player.age for player in self.roster]) / self.num_players()\n",
    "    \n",
    "    @classmethod\n",
    "    def older_team(self, team1, team2):\n",
    "        return \"Not yet implemented\"\n",
    "class Team():\n",
    "    def __init__(self, team_name):\n",
    "        self.team_name = team_name\n",
    "        self.roster = []\n",
    "        for row in range(len(nba)):\n",
    "            if nba.iloc[row][3] == self.team_name:\n",
    "                self.roster.append(Player(nba.iloc[row]))\n",
    "    \n",
    "    def num_players(self):\n",
    "        count = 0\n",
    "        for player in self.roster:\n",
    "            count += 1\n",
    "        return count\n",
    "    \n",
    "    def average_age(self):\n",
    "        return math.fsum([player.age for player in self.roster]) / self.num_players()\n",
    "    \n",
    "    @classmethod\n",
    "    def older_team(self, team1, team2):\n",
    "        if team1.average_age() > team2.average_age():\n",
    "            return team1\n",
    "        else:\n",
    "            return team2\n",
    "\n",
    "old_team = Team.older_team(Team(\"New York Knicks\"), Team(\"Miami Heat\"))"
   ]
  },
  {
   "cell_type": "markdown",
   "metadata": {},
   "source": [
    "# 6. Understanding Inheritance"
   ]
  },
  {
   "cell_type": "markdown",
   "metadata": {},
   "source": [
    "In object-oriented programming, the concept of inheritance enables us to organize classes in a tree-like hierarchy, where the `parent class has some traits that it passes on to its descendants`. When we define a class, we specify a parent class from which it inherits. `Inheriting from a class means that the behavior of the parent also exists in the child, but that the child can still define its own additional behavior.`"
   ]
  },
  {
   "cell_type": "markdown",
   "metadata": {},
   "source": [
    "**In Python 3, every class is a subclass of a generic object class. While this happens automatically when we don't specify an ancestor, it's sometimes good practice to be explicit.**"
   ]
  },
  {
   "cell_type": "markdown",
   "metadata": {},
   "source": [
    "**`we'll specify when a class has object as its parent while we code. This is a good programming practice -- if we get into the habit of specifying a class's ancestry, we won't forget to specify a parent when it's something other than object. It's simply a way to form good habits.`**"
   ]
  },
  {
   "cell_type": "markdown",
   "metadata": {},
   "source": [
    "# 7. Overloading Inherited Behavior"
   ]
  },
  {
   "cell_type": "markdown",
   "metadata": {},
   "source": [
    "`When a class inherits from a parent class, it acquires all of the behavior of that parent class. There are times when we don't want all of that behavior, though, or want to modify it slightly for our custom class. We use a technique called` **overloading** `to accomplish this.`"
   ]
  },
  {
   "cell_type": "markdown",
   "metadata": {},
   "source": [
    "`Overloading inherited behavior involves assigning new behavior to our custom class. To accomplish this, we just redefine the method on our new class.`"
   ]
  },
  {
   "cell_type": "markdown",
   "metadata": {},
   "source": [
    "However, the integer and float classes define their own addition method (thus overloading the object's addition method), and the sum() function will add the values together properly. This architecture is very powerful, because even though sum() only had to be defined once, we can call it on a multitude of classes and it will result in proper behavior. This is an example of the power of inheritance and overloading."
   ]
  },
  {
   "cell_type": "markdown",
   "metadata": {},
   "source": [
    "## TODO:\n",
    "* Read the implementation of the __lt__ (less than, or <) method of our Player class. In this exercise, we'll use comparisons to compare players by age.\n",
    "\n",
    "* Implement __gt__ (greater than, or >), __le__ (<=), __ge__ (>=), __eq__ (==), and __ne__ (!=).\n",
    "\n",
    "* Store the result of evaluating carmelo != kobe in result."
   ]
  },
  {
   "cell_type": "code",
   "execution_count": 6,
   "metadata": {},
   "outputs": [],
   "source": [
    "class Player(object):\n",
    "    # The special __init__ function runs whenever a class is instantiated\n",
    "    # The init function can take arguments, but self is always the first one\n",
    "    # Self is just a reference to the instance of the class\n",
    "    # It is automatically passed in when you instantiate an instance of the class\n",
    "    def __init__(self, data_row):\n",
    "        self.player_name = data_row[0]\n",
    "        self.position = data_row[1]\n",
    "        self.age = int(data_row[2])\n",
    "        self.team = data_row[3]\n",
    "    def __lt__(self, other):\n",
    "        return self.age < other.age\n",
    "    # Implement the rest of the comparison operators here\n",
    "    \n",
    "\n",
    "carmelo = Player(nba.iloc[17])\n",
    "kobe = Player(nba.iloc[68])\n",
    "class Player(object):\n",
    "    # The special __init__ function runs whenever a class is instantiated\n",
    "    # The init function can take arguments, but self is always the first one\n",
    "    # Self is just a reference to the instance of the class\n",
    "    # It is automatically passed in when you instantiate an instance of the class\n",
    "    def __init__(self, data_row):\n",
    "        self.player_name = data_row[0]\n",
    "        self.position = data_row[1]\n",
    "        self.age = int(data_row[2])\n",
    "        self.team = data_row[3]\n",
    "    def __lt__(self, other):\n",
    "        return self.age < other.age\n",
    "    def __gt__(self, other):\n",
    "        return self.age > other.age\n",
    "    def __le__(self, other):\n",
    "        return self.age <= other.age\n",
    "    def __ge__(self, other):\n",
    "        return self.age >= other.age\n",
    "    def __eq__(self, other):\n",
    "        return self.age == other.age\n",
    "    def __ne__(self, other):\n",
    "        return self.age != other.age\n",
    "carmelo = Player(nba.iloc[17])\n",
    "kobe = Player(nba.iloc[68])\n",
    "result = carmelo != kobe"
   ]
  },
  {
   "cell_type": "markdown",
   "metadata": {},
   "source": [
    "# 8. Comparing Average Ages"
   ]
  },
  {
   "cell_type": "markdown",
   "metadata": {},
   "source": [
    "## TODO:\n",
    "* Overload the same six methods we wrote for the Player class on the Team class, this time comparing average ages for teams.\n",
    "\n",
    "* The methods are __lt__ (<), __gt__ (>), __le__ (<=), __ge__ (>=), __eq__ (==), and __ne__ (!=).\n",
    "\n",
    "  * Each should take a self parameter and an other parameter.\n",
    "  * self and other are two instances of the Team class, whose average ages we want to compare.\n",
    "* Compare the \"Utah Jazz\" and \"Detroit Pistons\". Store the older team in older_team.\n",
    "\n",
    "* Now that we've implemented comparison operators, we can take advantage of the max function to get our maximum value."
   ]
  },
  {
   "cell_type": "code",
   "execution_count": 7,
   "metadata": {},
   "outputs": [],
   "source": [
    "import math\n",
    "\n",
    "class Team(object):\n",
    "    def __init__(self, team_name):\n",
    "        self.team_name = team_name\n",
    "        self.roster = []\n",
    "        for row in range(len(nba)):\n",
    "            if nba.iloc[row][3] == self.team_name:\n",
    "                self.roster.append(Player(nba.iloc[row]))\n",
    "    def num_players(self):\n",
    "        count = 0\n",
    "        for player in self.roster:\n",
    "            count += 1\n",
    "        return count\n",
    "    def average_age(self):\n",
    "        return math.fsum([player.age for player in self.roster]) / self.num_players()\n",
    "    # Define operators here\n",
    "class Team(object):\n",
    "    def __init__(self, team_name):\n",
    "        self.team_name = team_name\n",
    "        self.roster = []\n",
    "        for row in range(len(nba)):\n",
    "            if nba.iloc[row][3] == self.team_name:\n",
    "                self.roster.append(Player(nba.iloc[row]))\n",
    "    def num_players(self):\n",
    "        count = 0\n",
    "        for player in self.roster:\n",
    "            count += 1\n",
    "        return count\n",
    "    def average_age(self):\n",
    "        return math.fsum([player.age for player in self.roster]) / self.num_players()\n",
    "    def __lt__(self, other):\n",
    "        return self.average_age() < other.average_age()\n",
    "    def __gt__(self, other):\n",
    "        return self.average_age() > other.average_age()\n",
    "    def __le__(self, other):\n",
    "        return self.average_age() <= other.average_age()\n",
    "    def __ge__(self, other):\n",
    "        return self.average_age() >= other.average_age()\n",
    "    def __eq__(self, other):\n",
    "        return self.average_age() == other.average_age()\n",
    "    def __ne__(self, other):\n",
    "        return self.average_age() != other.average_age()\n",
    "\n",
    "jazz = Team(\"Utah Jazz\")\n",
    "pistons = Team(\"Detroit Pistons\")\n",
    "older_team = max([jazz, pistons])"
   ]
  },
  {
   "cell_type": "markdown",
   "metadata": {},
   "source": [
    "# 9. Oldest NBA Team"
   ]
  },
  {
   "cell_type": "markdown",
   "metadata": {},
   "source": [
    "`A lot of interesting information is readily available to us now that we've implemented the comparison operations. That's because Python uses these comparisons to implement many utility functions. Now we're able to use those functions to analyze data in a new setting. By overloading methods, we've given ourselves access to powerful functions without having to implement tedious logic.`"
   ]
  },
  {
   "cell_type": "markdown",
   "metadata": {},
   "source": [
    "## TODO:\n",
    "* Alter the list comprehension we've indicated below so that the teams variable contains a list of all the teams in team_names.\n",
    "\n",
    "* Use max to store the oldest team in oldest_team.\n",
    "\n",
    "* Use min to store the youngest team in youngest_team.\n",
    "\n",
    "* Use sorted to store a list of teams (ordered from youngest to oldest) in sorted_t"
   ]
  },
  {
   "cell_type": "code",
   "execution_count": 8,
   "metadata": {},
   "outputs": [],
   "source": [
    "import math\n",
    "\n",
    "class Team(object):\n",
    "    def __init__(self, team_name):\n",
    "        self.team_name = team_name\n",
    "        self.roster = []\n",
    "        for row in range(len(nba)):\n",
    "            if nba.iloc[row][3] == self.team_name:\n",
    "                self.roster.append(Player(nba.iloc[row]))\n",
    "    def num_players(self):\n",
    "        count = 0\n",
    "        for player in self.roster:\n",
    "            count += 1\n",
    "        return count\n",
    "    def average_age(self):\n",
    "        return math.fsum([player.age for player in self.roster]) / self.num_players()\n",
    "    def __lt__(self, other):\n",
    "        return self.average_age() < other.average_age()\n",
    "    def __gt__(self, other):\n",
    "        return self.average_age() > other.average_age()\n",
    "    def __le__(self, other):\n",
    "        return self.average_age() <= other.average_age()\n",
    "    def __ge__(self, other):\n",
    "        return self.average_age() >= other.average_age()\n",
    "    def __eq__(self, other):\n",
    "        return self.average_age() == other.average_age()\n",
    "    def __ne__(self, other):\n",
    "        return self.average_age() != other.average_age()\n",
    "\n",
    "team_names = [\"Boston Celtics\", \"Brooklyn Nets\", \"New York Knicks\", \"Philadelphia 76ers\", \"Toronto Raptors\", \n",
    "         \"Chicago Bulls\", \"Cleveland Cavaliers\", \"Detroit Pistons\", \"Indiana Pacers\", \"Milwaukee Bucks\",\n",
    "         \"Atlanta Hawks\", \"Charlotte Hornets\", \"Miami Heat\", \"Orlando Magic\", \"Washington Wizards\",\n",
    "         \"Dallas Mavericks\", \"Houston Rockets\", \"Memphis Grizzlies\", \"New Orleans Pelicans\", \"San Antonio Spurs\",\n",
    "         \"Denver Nuggets\", \"Minnesota Timberwolves\", \"Oklahoma City Thunder\", \"Portland Trail Blazers\", \"Utah Jazz\",\n",
    "         \"Golden State Warriors\", \"Los Angeles Clippers\", \"Los Angeles Lakers\", \"Phoenix Suns\", \"Sacramento Kings\"]\n",
    "\n",
    "# Alter this list comprehension\n",
    "teams = list([\"Change this expression\" for name in team_names])\n",
    "teams = [Team(name) for name in team_names]\n",
    "\n",
    "oldest_team = max(teams)\n",
    "youngest_team = min(teams)\n",
    "sorted_teams = sorted(teams)"
   ]
  },
  {
   "cell_type": "markdown",
   "metadata": {},
   "source": [
    "To solve our problem, we chose an implementation that cleanly separated the idea of a Player vs. a Team. By doing so, we wrote organized and sensible code that wasn't too difficult to keep track of.\n",
    "\n",
    "By implementing comparison operators, we were able to identify the oldest and youngest teams in a very efficient manner. We could even rank NBA teams by age with a single line of code. This is the power of object-oriented programming, and it highlights the importance of choosing our implementation wisely."
   ]
  }
 ],
 "metadata": {
  "kernelspec": {
   "display_name": "Python 3",
   "language": "python",
   "name": "python3"
  },
  "language_info": {
   "codemirror_mode": {
    "name": "ipython",
    "version": 3
   },
   "file_extension": ".py",
   "mimetype": "text/x-python",
   "name": "python",
   "nbconvert_exporter": "python",
   "pygments_lexer": "ipython3",
   "version": "3.7.7"
  }
 },
 "nbformat": 4,
 "nbformat_minor": 2
}
