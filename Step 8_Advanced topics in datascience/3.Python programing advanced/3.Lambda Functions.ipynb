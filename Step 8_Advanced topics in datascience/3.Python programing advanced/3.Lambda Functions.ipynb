{
 "cells": [
  {
   "cell_type": "markdown",
   "metadata": {},
   "source": [
    "# 1. Introduction to String Manipulation"
   ]
  },
  {
   "cell_type": "markdown",
   "metadata": {},
   "source": [
    "In this mission, we'll dive into string manipulation, which is essential to working with data that's represented as text. Similar to a list, string objects are indexed so we can access specific characters quickly. If we want to access the first character in my_string, we write my_string[0], just like we would to get the first element in a list.\n"
   ]
  },
  {
   "cell_type": "markdown",
   "metadata": {},
   "source": [
    "`We can also use the index to slice string objects, or select the fragments we want and pull them out. When we slice a string, we select a chunk or substring from the original string. To select a specific character, we only need to specify one number -- the character's index. When slicing a string, we specify a range of values for the indices instead of just a single number.`"
   ]
  },
  {
   "cell_type": "markdown",
   "metadata": {},
   "source": [
    "## TODO:\n",
    "* Select the fifth character of \"password\", and store the result in the variable fifth.\n",
    "* Select the last four characters of \"password\", and store the result in the variable last_four."
   ]
  },
  {
   "cell_type": "code",
   "execution_count": 1,
   "metadata": {},
   "outputs": [
    {
     "name": "stdout",
     "output_type": "stream",
     "text": [
      "string\n"
     ]
    }
   ],
   "source": [
    "hello = \"hello world\"[0:5]\n",
    "foo = \"some string\"\n",
    "password = \"password\"\n",
    "\n",
    "print(foo[5:11])\n",
    "\n",
    "fifth = password[4]\n",
    "last_four = password[4:8]"
   ]
  },
  {
   "cell_type": "markdown",
   "metadata": {},
   "source": [
    "# 2. Omitting Starting or Ending Indices"
   ]
  },
  {
   "cell_type": "markdown",
   "metadata": {},
   "source": [
    "`We can also take advantage of Python's flexibility with ranges to omit the starting or ending index to create interesting effects. If we omit the first index, the Python interpreter will assume you want to start at the beginning, or index 0, and stop at the ending index. If we omit the ending index, the interpreter will assume you want to grab all the characters from the starting index all the way until the end of the string.`"
   ]
  },
  {
   "cell_type": "markdown",
   "metadata": {},
   "source": [
    "## TODO:\n",
    "* Select the first nine characters of \"string slicing is fun!\", and store the result in first_nine.\n",
    "* Select the substring from the 10th character to the end of the string, and store the result in remainder."
   ]
  },
  {
   "cell_type": "code",
   "execution_count": 2,
   "metadata": {},
   "outputs": [
    {
     "name": "stdout",
     "output_type": "stream",
     "text": [
      "string\n"
     ]
    }
   ],
   "source": [
    "hello = \"hello world\"[:5]\n",
    "foo = \"some string\"\n",
    "print(foo[5:])\n",
    "\n",
    "my_string = \"string slicing is fun!\"\n",
    "\n",
    "\n",
    "first_nine = my_string[:9]\n",
    "remainder = my_string[9:]"
   ]
  },
  {
   "cell_type": "markdown",
   "metadata": {},
   "source": [
    "# 3. Skipping Indices in a Slice with Steps"
   ]
  },
  {
   "cell_type": "markdown",
   "metadata": {},
   "source": [
    "`We can enter a third number in our range that controls the distance between each character we want to select. This value is known as the step value, which is 1 by default.`"
   ]
  },
  {
   "cell_type": "markdown",
   "metadata": {},
   "source": [
    "## TODO:\n",
    "* Slice \"string slicing is fun!\". Extract every character in the string that has an even index, beginning at index 0.\n",
    "\n",
    "  * Store the result in gibberish.\n",
    "* Slice \"string slicing is fun!\" again. Extract every third character, starting at the first character of \"slicing\".\n",
    "\n",
    "  * Store the result in worse_gibberish."
   ]
  },
  {
   "cell_type": "code",
   "execution_count": 3,
   "metadata": {},
   "outputs": [
    {
     "data": {
      "text/plain": [
       "'scgsu'"
      ]
     },
     "execution_count": 3,
     "metadata": {},
     "output_type": "execute_result"
    }
   ],
   "source": [
    "hlo = \"hello world\"[:5:2]\n",
    "\n",
    "my_string = \"string slicing is fun!\"\n",
    "\n",
    "gibberish = my_string[::2]\n",
    "worse_gibberish = my_string[7::3]\n",
    "worse_gibberish"
   ]
  },
  {
   "cell_type": "markdown",
   "metadata": {},
   "source": [
    "# 4. Negative Indexing"
   ]
  },
  {
   "cell_type": "markdown",
   "metadata": {},
   "source": [
    "We can also use negative values to index and slice string objects. The index -1, for example, refers to the last character of a string. \"word\"[-1] would evaluate to \"d\", while \"word\"[-2] would evaluate to \"r\". Now, how exactly does negative indexing benefit us?\n",
    "\n",
    "`Negative indexing allows us to step backwards by specifying a negative number for the step value`. For example, \"backwards\"[3::-1] starts at index 3, steps backwards in increments of 1 until it gets to the first character, wraps around to the end of the string, and stops. The result of that slice is \"kcab\"."
   ]
  },
  {
   "cell_type": "markdown",
   "metadata": {},
   "source": [
    "## TODO:\n",
    "A palindrome is a word or string that's spelled the same way forwards and backwards. \"racecar\" is a palindrome because reading it from left to right gives you the same result as reading it from right to left.\n",
    "* Write a function named is_palindrome() that takes my_string as an argument and returns True if my_string is a palindrome, and False if it isn't.\n",
    "  * Store the result of calling is_palindrome() on \"able was I ere I saw elba\" in phrase_palindrome."
   ]
  },
  {
   "cell_type": "code",
   "execution_count": 4,
   "metadata": {},
   "outputs": [],
   "source": [
    "olleh = \"hello world\"[4::-1]\n",
    "able_string = \"able was I ere I saw elba\"\n",
    "\n",
    "\n",
    "def is_palindrome(my_string):\n",
    "    return my_string == my_string[::-1]\n",
    "\n",
    "phrase_palindrome = is_palindrome(able_string)"
   ]
  },
  {
   "cell_type": "markdown",
   "metadata": {},
   "source": [
    "# 5. Overview of the Password Data"
   ]
  },
  {
   "cell_type": "markdown",
   "metadata": {},
   "source": [
    "Now we'll explore some of the techniques we've learned by working with a user password list. Each item in the list is a string containing an individual's expired password. We'll use our password list to find some interesting trends in how people select their passwords. We've loaded this list into the passwords variable."
   ]
  },
  {
   "cell_type": "markdown",
   "metadata": {},
   "source": [
    "# 6. Searching for Substrings"
   ]
  },
  {
   "cell_type": "markdown",
   "metadata": {},
   "source": [
    "If we want to check whether the characters in one string (inner_substring) exist in another string (big_string), we can use Python's in operator. For example, if inner_substring contained the value \"hello\" and big_string contained the value \"hello world\", the following code segment would return True:\n",
    "\n",
    "inner_substring in big_string"
   ]
  },
  {
   "cell_type": "markdown",
   "metadata": {},
   "source": [
    "## TODO:\n",
    "Write a function called easy_patterns() that takes a string argument corresponding to a pattern.\n",
    "* The function should count the number of passwords in passwords that contain that pattern as a substring, and return that count.\n",
    "\n",
    "After you've written the function, call easy_patterns() with the argument \"1234\", and store the result as countup_passwords."
   ]
  },
  {
   "cell_type": "code",
   "execution_count": 5,
   "metadata": {},
   "outputs": [],
   "source": [
    "import pandas as pd\n",
    "passwords=pd.read_csv('passwords.txt',delimiter='\\t')"
   ]
  },
  {
   "cell_type": "code",
   "execution_count": 6,
   "metadata": {},
   "outputs": [],
   "source": [
    "theres_no = \"I\" in \"team\"\n",
    "\n",
    "\n",
    "def easy_patterns(pattern):\n",
    "    count = 0\n",
    "    for password in passwords:\n",
    "        if pattern in password:\n",
    "            count += 1\n",
    "    return count\n",
    "\n",
    "countup_passwords = easy_patterns(\"1234\")"
   ]
  },
  {
   "cell_type": "markdown",
   "metadata": {},
   "source": [
    "# 7. First-Class Functions"
   ]
  },
  {
   "cell_type": "markdown",
   "metadata": {},
   "source": [
    "## TODO:\n",
    "The variable not_floats contains a list of string objects that represent floating point numbers (e.g. \"12.0\").\n",
    "   * Use Python's map() function to convert every string in the list into a floating point number, and store the result in floats."
   ]
  },
  {
   "cell_type": "code",
   "execution_count": 7,
   "metadata": {},
   "outputs": [
    {
     "name": "stdout",
     "output_type": "stream",
     "text": [
      "[1, 2, 199, 56]\n"
     ]
    }
   ],
   "source": [
    "ints = list(map(int, [1.5, 2.4, 199.7, 56.0]))\n",
    "print(ints)\n",
    "\n",
    "not_floats=[1.5, 2.4, 199.7, 56.0]\n",
    "\n",
    "floats = list(map(float, not_floats))"
   ]
  },
  {
   "cell_type": "markdown",
   "metadata": {},
   "source": [
    "# 8. Average Password Length"
   ]
  },
  {
   "cell_type": "markdown",
   "metadata": {},
   "source": [
    "Recall that string objects are indexed like list objects, so we can treat them the same way when it comes to selecting values.\n",
    "\n",
    "That means that we can use the len() function to calculate the length of a string, just like we can use it to calculate the length of a list"
   ]
  },
  {
   "cell_type": "markdown",
   "metadata": {},
   "source": [
    "## TODO:\n",
    "* Use the map() function to perform a length calculation for each element in our passwords list.\n",
    "\n",
    "  * Cast the result as a list object (containing the lengths of every password).\n",
    "  * Store the result in password_lengths.\n",
    "* Then, calculate the average password length with help from the sum() function, which takes a list as the argument.\n",
    "\n",
    "  * Store the result in avg_password_length."
   ]
  },
  {
   "cell_type": "code",
   "execution_count": 8,
   "metadata": {},
   "outputs": [],
   "source": [
    "password_lengths = list(map(len, passwords))\n",
    "avg_password_length = sum(password_lengths) / len(passwords)"
   ]
  },
  {
   "cell_type": "markdown",
   "metadata": {},
   "source": [
    "# 9. More Uses for First-Class Functions"
   ]
  },
  {
   "cell_type": "markdown",
   "metadata": {},
   "source": [
    "## TODO:\n",
    "Use our is_palindrome() function to find a list of all of the passwords that are palindromes, and store the result in palindrome_passwords."
   ]
  },
  {
   "cell_type": "code",
   "execution_count": 9,
   "metadata": {},
   "outputs": [],
   "source": [
    "def is_palindrome(my_string):\n",
    "    return my_string == my_string[::-1]\n",
    "\n",
    "\n",
    "palindrome_passwords = list(filter(is_palindrome, passwords))"
   ]
  },
  {
   "cell_type": "markdown",
   "metadata": {},
   "source": [
    "# 10. Lambda Functions"
   ]
  },
  {
   "cell_type": "markdown",
   "metadata": {},
   "source": [
    "`Now let's talk about lambda functions, which we also call anonymous functions. We use lambda functions when we only want to run a function once, and don't need to save it for reuse. `"
   ]
  },
  {
   "cell_type": "markdown",
   "metadata": {},
   "source": [
    "## TODO:\n",
    "Use a lambda function to filter through the passwords list and produce a list of palindrome passwords.\n",
    "  * Store this list in palindrome_passwords."
   ]
  },
  {
   "cell_type": "code",
   "execution_count": 10,
   "metadata": {},
   "outputs": [
    {
     "name": "stdout",
     "output_type": "stream",
     "text": [
      "[2, 4, 6, 8, 10]\n"
     ]
    }
   ],
   "source": [
    "numbers = [1, 2, 3, 4, 5, 6, 7, 8, 9, 10]\n",
    "evens = list(filter(lambda x : x % 2 == 0, numbers))\n",
    "print(evens)\n",
    "\n",
    "\n",
    "palindrome_passwords = list(filter(lambda my_string : my_string[::-1] == my_string, passwords))"
   ]
  },
  {
   "cell_type": "markdown",
   "metadata": {},
   "source": [
    "# 11. Password Strengths"
   ]
  },
  {
   "cell_type": "markdown",
   "metadata": {},
   "source": [
    "## TODO:\n",
    "Using only one line of code each, calculate and store:\n",
    "* The list of all weak passwords in the weak_passwords variable\n",
    "* The list of all medium passwords in the medium_passwords variable\n",
    "* The list of all strong passwords in the strong_passwords variable"
   ]
  },
  {
   "cell_type": "code",
   "execution_count": 11,
   "metadata": {},
   "outputs": [
    {
     "name": "stdout",
     "output_type": "stream",
     "text": [
      "[2, 4, 6, 8, 10]\n"
     ]
    }
   ],
   "source": [
    "numbers = [1, 2, 3, 4, 5, 6, 7, 8, 9, 10]\n",
    "evens = list(filter(lambda x : x % 2 == 0, numbers))\n",
    "print(evens)\n",
    "\n",
    "\n",
    "weak_passwords = list(filter(lambda x : len(x) < 6, passwords))\n",
    "medium_passwords = list(filter(lambda x : len(x) >= 6 and len(x) <= 10, passwords))\n",
    "strong_passwords = list(filter(lambda x : len(x) > 10, passwords))"
   ]
  }
 ],
 "metadata": {
  "kernelspec": {
   "display_name": "Python 3",
   "language": "python",
   "name": "python3"
  },
  "language_info": {
   "codemirror_mode": {
    "name": "ipython",
    "version": 3
   },
   "file_extension": ".py",
   "mimetype": "text/x-python",
   "name": "python",
   "nbconvert_exporter": "python",
   "pygments_lexer": "ipython3",
   "version": "3.7.7"
  }
 },
 "nbformat": 4,
 "nbformat_minor": 4
}
