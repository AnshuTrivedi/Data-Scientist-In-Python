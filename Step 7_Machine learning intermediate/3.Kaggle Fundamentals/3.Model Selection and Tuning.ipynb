{
 "cells": [
  {
   "cell_type": "markdown",
   "metadata": {},
   "source": [
    "# 1. Introducing Model Selection"
   ]
  },
  {
   "cell_type": "markdown",
   "metadata": {},
   "source": [
    "* In the previous mission, `we worked to optimize our predictions by creating and selecting the features used to train our model.` The other half of the optimization puzzle is to `optimize the model itself— or more specifically, the algorithm used to train our model.`"
   ]
  },
  {
   "cell_type": "markdown",
   "metadata": {},
   "source": [
    "* There are hundreds of different machine learning algorithms from which we can choose. Each algorithm has different strengths and weaknesses, and so we need to select the algorithm that works best with our specific data— in this case our Kaggle competition.\n",
    "\n",
    "**`The process of selecting the algorithm which gives the best predictions for your data is called model selection.`**"
   ]
  },
  {
   "cell_type": "markdown",
   "metadata": {},
   "source": [
    "* To save time, we have saved the features we created in the previous mission as CSV files, `train_modified.csv` and `holdout_modified.csv`."
   ]
  },
  {
   "cell_type": "markdown",
   "metadata": {},
   "source": [
    "## TODO:\n",
    "* Import train_modified.csv into a pandas dataframe and assign the result to train.\n",
    "* Import holdout_modified.csv into a pandas dataframe and assign the result to holdout."
   ]
  },
  {
   "cell_type": "code",
   "execution_count": 1,
   "metadata": {},
   "outputs": [],
   "source": [
    "import pandas as pd\n",
    "\n",
    "train=pd.read_csv('train_modified.csv')\n",
    "holdout=pd.read_csv('holdout_modified.csv')"
   ]
  },
  {
   "cell_type": "markdown",
   "metadata": {},
   "source": [
    "# 2. Training a Baseline Model"
   ]
  },
  {
   "cell_type": "markdown",
   "metadata": {},
   "source": [
    "## TODO:\n",
    "* Instantiate a linear_model.LogisticRegression class.\n",
    "* Use the model_selection.cross_val_score() function to train and test a model assigning the result to scores, using:\n",
    "* The LogisticRegression object you just created.\n",
    "   * all_X and all_y as the X and y parameters\n",
    "   * 10 folds.\n",
    "* Calculate the mean of scores and assign the result to accuracy_lr."
   ]
  },
  {
   "cell_type": "code",
   "execution_count": 2,
   "metadata": {},
   "outputs": [
    {
     "data": {
      "text/plain": [
       "0.8250025536261492"
      ]
     },
     "execution_count": 2,
     "metadata": {},
     "output_type": "execute_result"
    }
   ],
   "source": [
    "from sklearn.linear_model import LogisticRegression\n",
    "from sklearn.model_selection import cross_val_score\n",
    "\n",
    "all_x = train.drop(['Survived','PassengerId'],axis=1)\n",
    "all_y = train['Survived']\n",
    "\n",
    "lr=LogisticRegression(solver='lbfgs')\n",
    "scores=cross_val_score(lr,all_x,all_y,cv=10)\n",
    "\n",
    "accuracy_lr=scores.mean()\n",
    "accuracy_lr"
   ]
  },
  {
   "cell_type": "markdown",
   "metadata": {},
   "source": [
    "# 3. Training a Model using K-Nearest Neighbors"
   ]
  },
  {
   "cell_type": "markdown",
   "metadata": {},
   "source": [
    "**`The k-nearest neighbors algorithm` finds the observations in our training set most similar to the observation in our test set, and uses the average outcome of those 'neighbor' observations to make a prediction. The 'k' is the number of neighbor observations used to make the prediction.**"
   ]
  },
  {
   "cell_type": "markdown",
   "metadata": {},
   "source": [
    "## TODO:\n",
    "* Instantiate a neighbors.KNeighborsClassifier object, setting the n_neighbors argument to 1.\n",
    "* Use the model_selection.cross_val_score() function to train and test a model assigning the result to scores, using:\n",
    "* The KNeighborsClassifier object you just created.\n",
    "  * all_X and all_y as the the X and y parameters.\n",
    "  * 10 folds.\n",
    "* Calculate the mean of scores and assign the result to accuracy_knn."
   ]
  },
  {
   "cell_type": "code",
   "execution_count": 3,
   "metadata": {},
   "outputs": [
    {
     "data": {
      "text/plain": [
       "0.7857382816933379"
      ]
     },
     "execution_count": 3,
     "metadata": {},
     "output_type": "execute_result"
    }
   ],
   "source": [
    "from sklearn.neighbors import KNeighborsClassifier\n",
    "\n",
    "knn=KNeighborsClassifier(n_neighbors=1)\n",
    "scores=cross_val_score(knn,all_x,all_y,cv=10)\n",
    "accuracy_knn=scores.mean()\n",
    "accuracy_knn"
   ]
  },
  {
   "cell_type": "markdown",
   "metadata": {},
   "source": [
    "# 4. Exploring Different K Values"
   ]
  },
  {
   "cell_type": "markdown",
   "metadata": {},
   "source": [
    "* Besides pure model selection, we can vary the settings of each model— for instance the value of k in our k-nearest neighbors model. This is called **`hyperparameter optimization`.**"
   ]
  },
  {
   "cell_type": "markdown",
   "metadata": {},
   "source": [
    "* We can use a loop and Python's inbuilt range() class to iterate through different values for k and calculate the accuracy score for each different value. We will only want to test odd values for k to avoid ties, where both 'survived' and 'died' outcomes would have the same number of neighbors."
   ]
  },
  {
   "cell_type": "markdown",
   "metadata": {},
   "source": [
    "## TODO:\n",
    "* Use a for loop and the range class to iterate over odd values of k from 1-49, and in each iteration:\n",
    "  * Instantiate a KNeighborsClassifier object with the value of k for the n_neighbors argument.\n",
    "  * Use cross_val_score to create a list of scores using the newly created KNeighborsClassifier object, using all_X, all_y, and    cv=10 as the arguments.\n",
    "  * Calculate the mean of the list of scores.\n",
    "  * Add the mean of the scores to the dictionary knn_scores, using k for the key.\n",
    "* Use the plot_dict() helper function to plot the knn_scores dictionary."
   ]
  },
  {
   "cell_type": "code",
   "execution_count": 4,
   "metadata": {},
   "outputs": [],
   "source": [
    "import matplotlib.pyplot as plt \n",
    "def plot_dict(dictionary):\n",
    "    pd.Series(dictionary).plot.bar(figsize=(9,6),ylim=(0.78,0.83),rot=0)\n",
    "    print(pd.Series(dictionary))\n",
    "    plt.show()"
   ]
  },
  {
   "cell_type": "code",
   "execution_count": 5,
   "metadata": {},
   "outputs": [],
   "source": [
    "knn_scores={}\n",
    "for k in range(1,50,2):\n",
    "    knn=KNeighborsClassifier(n_neighbors=k)\n",
    "    scores=cross_val_score(knn,all_x,all_y,cv=10)\n",
    "    knn_scores[k]=scores.mean()"
   ]
  },
  {
   "cell_type": "code",
   "execution_count": 6,
   "metadata": {},
   "outputs": [
    {
     "name": "stdout",
     "output_type": "stream",
     "text": [
      "1     0.785738\n",
      "3     0.804841\n",
      "5     0.822718\n",
      "7     0.820459\n",
      "9     0.821582\n",
      "11    0.811507\n",
      "13    0.817125\n",
      "15    0.811494\n",
      "17    0.814940\n",
      "19    0.823891\n",
      "21    0.817099\n",
      "23    0.819334\n",
      "25    0.815963\n",
      "27    0.810358\n",
      "29    0.800245\n",
      "31    0.803629\n",
      "33    0.804727\n",
      "35    0.797960\n",
      "37    0.793515\n",
      "39    0.794665\n",
      "41    0.792430\n",
      "43    0.798048\n",
      "45    0.796899\n",
      "47    0.794664\n",
      "49    0.784601\n",
      "dtype: float64\n"
     ]
    },
    {
     "data": {
      "image/png": "[encoded data removed]",
      "text/plain": [
       "<Figure size 648x432 with 1 Axes>"
      ]
     },
     "metadata": {
      "needs_background": "light"
     },
     "output_type": "display_data"
    }
   ],
   "source": [
    "plot_dict(knn_scores)"
   ]
  },
  {
   "cell_type": "markdown",
   "metadata": {},
   "source": [
    "# 5. Automating Hyperparameter Optimization with Grid Search"
   ]
  },
  {
   "cell_type": "markdown",
   "metadata": {},
   "source": [
    "|Model\t|Cross-validation score|\tKaggle score|\n",
    "|-------|----------------------|----------------|\n",
    "|Previous best Kaggle score|\t82.3%|\t78.0%|\n",
    "|Logistic regression baseline|\t82.4%|\t|\n",
    "|K-nearest neighbors, k == 1|\t78.6%||\t\n",
    "|K-nearest neighbors,k == 19|\t82.4%||"
   ]
  },
  {
   "cell_type": "markdown",
   "metadata": {},
   "source": [
    "**The technique we just used is called `grid search - we train a number of models across a 'grid' of values and then searched for the model that gave us the highest accuracy`.**"
   ]
  },
  {
   "cell_type": "markdown",
   "metadata": {},
   "source": [
    "* Scikit-learn has a class to perform grid search, model_selection.GridSearchCV(). The 'CV' in the name indicates that we're `performing both grid search and cross validation at the same time.`"
   ]
  },
  {
   "cell_type": "markdown",
   "metadata": {},
   "source": [
    "* Our final step is to print the `GridSearchCV.best_params_` and `GridSearchCV.best_score_` attributes to retrieve the parameters of the best-performing model, and the score it achieved."
   ]
  },
  {
   "cell_type": "markdown",
   "metadata": {},
   "source": [
    "## TODO:\n",
    "* Instantiate a KNeighborsClassifier object.\n",
    "* Instantiate a GridSearchCV object, using:\n",
    "  * The KNeighborsClassifier object you just created as the first (unnamed) argument.\n",
    "  * The hyperparameters dictionary for the param_grid.\n",
    "  * A cv of 10.\n",
    "* Fit the GridSearchCV object using all_X and all_y.\n",
    "* Assign the parameters of the best performing model to best_params.\n",
    "* Assign the score of the best performing model to best_score."
   ]
  },
  {
   "cell_type": "code",
   "execution_count": 7,
   "metadata": {},
   "outputs": [
    {
     "data": {
      "text/plain": [
       "0.8282828282828283"
      ]
     },
     "execution_count": 7,
     "metadata": {},
     "output_type": "execute_result"
    }
   ],
   "source": [
    "from sklearn.model_selection import GridSearchCV\n",
    "hyperparameters = {\n",
    "    \"n_neighbors\": range(1,20,2),\n",
    "    \"weights\": [\"distance\", \"uniform\"],\n",
    "    \"algorithm\": ['brute'],\n",
    "    \"p\": [1,2]\n",
    "}\n",
    "knn=KNeighborsClassifier()\n",
    "grid=GridSearchCV(knn,param_grid=hyperparameters,cv=10)\n",
    "grid.fit(all_x,all_y)\n",
    "best_params=grid.best_params_\n",
    "best_score=grid.best_score_\n",
    "best_score"
   ]
  },
  {
   "cell_type": "code",
   "execution_count": 8,
   "metadata": {},
   "outputs": [
    {
     "data": {
      "text/plain": [
       "{'algorithm': 'brute', 'n_neighbors': 5, 'p': 1, 'weights': 'uniform'}"
      ]
     },
     "execution_count": 8,
     "metadata": {},
     "output_type": "execute_result"
    }
   ],
   "source": [
    "best_params"
   ]
  },
  {
   "cell_type": "markdown",
   "metadata": {},
   "source": [
    "# 6. Submitting K-Nearest Neighbors Predictions to Kaggle"
   ]
  },
  {
   "cell_type": "markdown",
   "metadata": {},
   "source": [
    "* We can use the GridSearchCV.best_estimator_ attribute to retrieve a trained model with the best-performing hyperparameters. This code:\n",
    "\n",
    "`best_knn = grid.best_estimator_`\n",
    "\n",
    "is equivalent to this code where we manually specify the hyperparameters and train the model:\n",
    "\n",
    "`best_knn = KNeighborsClassifier(p=1,algorithm='brute',n_neighbors=5,\n",
    "                     weights='uniform')\n",
    "best_knn.fit(all_X,all_y)`"
   ]
  },
  {
   "cell_type": "markdown",
   "metadata": {},
   "source": [
    "## TODO:\n",
    "* Make predictions on the data from holdout_no_id using the best_knn model, and assign the result to holdout_predictions.\n",
    "* Create a dataframe submission with two columns:\n",
    "  * PassengerId, with the values from the PassengerId column of the holdout dataframe.\n",
    "  * Survived, with the values from holdout_predictions.\n",
    "* Use the DataFrame.to_csv method to save the submission dataframe to the filename submission_1.csv."
   ]
  },
  {
   "cell_type": "code",
   "execution_count": 9,
   "metadata": {},
   "outputs": [],
   "source": [
    "hold_no_id=holdout.drop(['PassengerId'],axis=1)\n",
    "best_knn=grid.best_estimator_\n",
    "holdout_predictions=best_knn.predict(hold_no_id)\n",
    "submission=pd.DataFrame({'PassengerId':holdout['PassengerId'],'Survived':holdout_predictions})\n",
    "submission.to_csv('submission_1.csv',index=False)"
   ]
  },
  {
   "cell_type": "markdown",
   "metadata": {},
   "source": [
    "# 7. Introducing Random Forests"
   ]
  },
  {
   "cell_type": "markdown",
   "metadata": {},
   "source": [
    "* Random forests is a specific type of decision tree algorithm. "
   ]
  },
  {
   "cell_type": "markdown",
   "metadata": {},
   "source": [
    "* Decision tree algorithms attempt to build the most efficient decision tree based on the training data, and then use that tree to make future predictions.\n",
    "* Scikit-learn contains a class for classification using the random forest algorithm, `ensemble.RandomForestClassifier`"
   ]
  },
  {
   "cell_type": "markdown",
   "metadata": {},
   "source": [
    "## TODO:\n",
    "* Instantiate a RandomForestClassifier object, setting the random_state parameter to 1.\n",
    "* Use the cross_val_score() function to generate a set of scores and assign the result to scores, using:\n",
    "  * The RandomForestClassifier object you just created as the estimator\n",
    "  * all_X and all_y for the train and test data\n",
    "  * A cv value of 10\n",
    "* Calculate the mean of scores and assign the result to accuracy_rf"
   ]
  },
  {
   "cell_type": "code",
   "execution_count": 10,
   "metadata": {},
   "outputs": [
    {
     "data": {
      "text/plain": [
       "0.7846013505844966"
      ]
     },
     "execution_count": 10,
     "metadata": {},
     "output_type": "execute_result"
    }
   ],
   "source": [
    "import warnings\n",
    "warnings.filterwarnings('ignore')\n",
    "\n",
    "from sklearn.ensemble import RandomForestClassifier\n",
    "rfc=RandomForestClassifier(random_state=1)\n",
    "scors=cross_val_score(rfc,all_x,all_y,cv=10)\n",
    "accuracy_rf=scores.mean()\n",
    "accuracy_rf"
   ]
  },
  {
   "cell_type": "markdown",
   "metadata": {},
   "source": [
    "# 8. Tuning our Random Forests Model with GridSearch"
   ]
  },
  {
   "cell_type": "markdown",
   "metadata": {},
   "source": [
    "## TODO:\n",
    "* Instantiate a RandomForestClassifier object, setting the random_state parameter to 1.\n",
    "* Instantiate a GridSearchCV object, using:\n",
    "  * The RandomForestClassifier object you just created as the first (unnamed) argument.\n",
    "  * A dictionary of hyperparameters that matches the list above for the param_grid argument\n",
    "  * A cv of 10.\n",
    "  * Fit the GridSearchCV object using all_X or all_y.\n",
    "* Assign the parameters of the best performing model to best_params\n",
    "* Assign the score of the best performing model to best_score."
   ]
  },
  {
   "cell_type": "code",
   "execution_count": 11,
   "metadata": {},
   "outputs": [
    {
     "data": {
      "text/plain": [
       "0.8428731762065096"
      ]
     },
     "execution_count": 11,
     "metadata": {},
     "output_type": "execute_result"
    }
   ],
   "source": [
    "hyperparameters = {\"criterion\": [\"entropy\", \"gini\"],\n",
    "                   \"max_depth\": [5, 10],\n",
    "                   \"max_features\": [\"log2\", \"sqrt\"],\n",
    "                   \"min_samples_leaf\": [1, 5],\n",
    "                   \"min_samples_split\": [3, 5],\n",
    "                   \"n_estimators\": [6, 9]}\n",
    "\n",
    "clf=RandomForestClassifier(random_state=1)\n",
    "grid=GridSearchCV(clf,param_grid=hyperparameters,cv=10)\n",
    "grid.fit(all_x,all_y)\n",
    "best_params=grid.best_params_\n",
    "best_score=grid.best_score_\n",
    "best_score"
   ]
  },
  {
   "cell_type": "markdown",
   "metadata": {},
   "source": [
    "# 9. Submitting Random Forest Predictions to Kaggle"
   ]
  },
  {
   "cell_type": "markdown",
   "metadata": {},
   "source": [
    "## TODO:\n",
    "* Assign the best performing model from the GridSearchCV object grid to best_rf.\n",
    "* Make predictions on the data from holdout_no_id using the best_rf model, and assign the result to holdout_predictions.\n",
    "* Create a dataframe submission with two columns:\n",
    "  * PassengerId, with the values from the PassengerId column of the holdout dataframe.\n",
    "  * Survived, with the values from holdout_predictions.\n",
    "* Use the DataFrame.to_csv method to save the submission dataframe to the filename submission_2.csv."
   ]
  },
  {
   "cell_type": "code",
   "execution_count": 12,
   "metadata": {},
   "outputs": [],
   "source": [
    "best_rf=grid.best_estimator_"
   ]
  },
  {
   "cell_type": "code",
   "execution_count": 13,
   "metadata": {},
   "outputs": [],
   "source": [
    "holdout_predictions=best_rf.predict(hold_no_id)"
   ]
  },
  {
   "cell_type": "code",
   "execution_count": 14,
   "metadata": {},
   "outputs": [],
   "source": [
    "submission=pd.DataFrame({'PassengerId':holdout['PassengerId'],'Survived':holdout_predictions})"
   ]
  },
  {
   "cell_type": "code",
   "execution_count": 15,
   "metadata": {},
   "outputs": [],
   "source": [
    "submission.to_csv('submission_2.csv',index=False)"
   ]
  },
  {
   "cell_type": "markdown",
   "metadata": {},
   "source": [
    "## Improved score summary"
   ]
  },
  {
   "cell_type": "markdown",
   "metadata": {},
   "source": [
    "\n",
    "|Model|\tCross-validation score\t|Kaggle score|\n",
    "|--------------------------|----------|-------|\n",
    "|Previous best Kaggle score|\t82.3%|\t78.0%|\n",
    "|Logistic regression baseline|\t82.4%|\t-|\n",
    "|K-nearest neighbors, k == 1\t|78.6%|- |\t\n",
    "|K-nearest neighbors, k == 19|\t82.4%\t|-|\n",
    "|K-nearest neighbors, best model from grid search|\t82.8%\t|75.6%|\n",
    "|Random forests, default hyperparameters|\t80.7%\t|-|\n",
    "|Random forests, best model from grid search|\t84.3%|\t77.1%|"
   ]
  }
 ],
 "metadata": {
  "kernelspec": {
   "display_name": "Python 3",
   "language": "python",
   "name": "python3"
  },
  "language_info": {
   "codemirror_mode": {
    "name": "ipython",
    "version": 3
   },
   "file_extension": ".py",
   "mimetype": "text/x-python",
   "name": "python",
   "nbconvert_exporter": "python",
   "pygments_lexer": "ipython3",
   "version": "3.7.3"
  }
 },
 "nbformat": 4,
 "nbformat_minor": 2
}
