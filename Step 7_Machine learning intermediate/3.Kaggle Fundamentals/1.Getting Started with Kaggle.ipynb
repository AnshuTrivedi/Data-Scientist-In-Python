{
 "cells": [
  {
   "cell_type": "markdown",
   "metadata": {},
   "source": [
    "# 1. Introduction to Kaggle"
   ]
  },
  {
   "cell_type": "markdown",
   "metadata": {},
   "source": [
    "* `Kaggle is a site where people create algorithms and compete against machine learning practitioners around the world.` Your algorithm wins the competition if it's the most accurate on a particular data set. Kaggle is a fun way to practice your machine learning skills."
   ]
  },
  {
   "cell_type": "markdown",
   "metadata": {},
   "source": [
    "* In this mission and the ones that follow, we're going to learn how to compete in Kaggle competitions. In this introductory mission we'll learn how to:\n",
    "\n",
    "  * Approach a Kaggle competition\n",
    "  * Explore the competition data and learn about the competition topic\n",
    "  * Prepare data for machine learning\n",
    "  * Train a model\n",
    "  * Measure the accuracy of your model\n",
    "  * Prepare and make your first Kaggle submission."
   ]
  },
  {
   "cell_type": "markdown",
   "metadata": {},
   "source": [
    "* This course presumes you have an understanding of Python and the pandas library."
   ]
  },
  {
   "cell_type": "markdown",
   "metadata": {},
   "source": [
    "* Kaggle has created a number of competitions designed for beginners. The most popular of these competitions, and the one we'll be looking at, is about predicting which passengers survived the [sinking of the Titanic](https://en.wikipedia.org/wiki/Sinking_of_the_RMS_Titanic)."
   ]
  },
  {
   "cell_type": "markdown",
   "metadata": {},
   "source": [
    "* In this competition, we have a data set of different information about passengers onboard the Titanic, and `we want to see if we can use that information to predict whether those people survived or not.`"
   ]
  },
  {
   "cell_type": "markdown",
   "metadata": {},
   "source": [
    "* Each Kaggle competition has **two key data files that you will work with - a training set and a testing set.**"
   ]
  },
  {
   "cell_type": "markdown",
   "metadata": {},
   "source": [
    "* The **training set** contains data we can use to train our model. It has a number of **feature columns** which contain various descriptive data, as well as a **column of the target values** we are trying to predict: in this case, Survival."
   ]
  },
  {
   "cell_type": "markdown",
   "metadata": {},
   "source": [
    "* The **testing set** contains all of the same feature columns, but is **missing the target value column.** Additionally, the testing set usually has fewer observations (rows) than the training set."
   ]
  },
  {
   "cell_type": "markdown",
   "metadata": {},
   "source": [
    "## TODO:\n",
    "* Use pandas.read_csv() to import train.csv and assign it to the variable train.\n",
    "* Use DataFrame.shape to calculate the number of rows and columns in train, and assign the result to train_shape."
   ]
  },
  {
   "cell_type": "code",
   "execution_count": 1,
   "metadata": {},
   "outputs": [],
   "source": [
    "import pandas as pd \n",
    "train=pd.read_csv('train.csv')\n",
    "train.shape\n",
    "\n",
    "test=pd.read_csv('test.csv')"
   ]
  },
  {
   "cell_type": "markdown",
   "metadata": {},
   "source": [
    "# 2. Exploring the Data"
   ]
  },
  {
   "cell_type": "code",
   "execution_count": 2,
   "metadata": {},
   "outputs": [
    {
     "data": {
      "text/html": [
       "<div>\n",
       "<style scoped>\n",
       "    .dataframe tbody tr th:only-of-type {\n",
       "        vertical-align: middle;\n",
       "    }\n",
       "\n",
       "    .dataframe tbody tr th {\n",
       "        vertical-align: top;\n",
       "    }\n",
       "\n",
       "    .dataframe thead th {\n",
       "        text-align: right;\n",
       "    }\n",
       "</style>\n",
       "<table border=\"1\" class=\"dataframe\">\n",
       "  <thead>\n",
       "    <tr style=\"text-align: right;\">\n",
       "      <th></th>\n",
       "      <th>PassengerId</th>\n",
       "      <th>Survived</th>\n",
       "      <th>Pclass</th>\n",
       "      <th>Name</th>\n",
       "      <th>Sex</th>\n",
       "      <th>Age</th>\n",
       "      <th>SibSp</th>\n",
       "      <th>Parch</th>\n",
       "      <th>Ticket</th>\n",
       "      <th>Fare</th>\n",
       "      <th>Cabin</th>\n",
       "      <th>Embarked</th>\n",
       "    </tr>\n",
       "  </thead>\n",
       "  <tbody>\n",
       "    <tr>\n",
       "      <th>0</th>\n",
       "      <td>1</td>\n",
       "      <td>0</td>\n",
       "      <td>3</td>\n",
       "      <td>Braund, Mr. Owen Harris</td>\n",
       "      <td>male</td>\n",
       "      <td>22.0</td>\n",
       "      <td>1</td>\n",
       "      <td>0</td>\n",
       "      <td>A/5 21171</td>\n",
       "      <td>7.2500</td>\n",
       "      <td>NaN</td>\n",
       "      <td>S</td>\n",
       "    </tr>\n",
       "    <tr>\n",
       "      <th>1</th>\n",
       "      <td>2</td>\n",
       "      <td>1</td>\n",
       "      <td>1</td>\n",
       "      <td>Cumings, Mrs. John Bradley (Florence Briggs Th...</td>\n",
       "      <td>female</td>\n",
       "      <td>38.0</td>\n",
       "      <td>1</td>\n",
       "      <td>0</td>\n",
       "      <td>PC 17599</td>\n",
       "      <td>71.2833</td>\n",
       "      <td>C85</td>\n",
       "      <td>C</td>\n",
       "    </tr>\n",
       "    <tr>\n",
       "      <th>2</th>\n",
       "      <td>3</td>\n",
       "      <td>1</td>\n",
       "      <td>3</td>\n",
       "      <td>Heikkinen, Miss. Laina</td>\n",
       "      <td>female</td>\n",
       "      <td>26.0</td>\n",
       "      <td>0</td>\n",
       "      <td>0</td>\n",
       "      <td>STON/O2. 3101282</td>\n",
       "      <td>7.9250</td>\n",
       "      <td>NaN</td>\n",
       "      <td>S</td>\n",
       "    </tr>\n",
       "    <tr>\n",
       "      <th>3</th>\n",
       "      <td>4</td>\n",
       "      <td>1</td>\n",
       "      <td>1</td>\n",
       "      <td>Futrelle, Mrs. Jacques Heath (Lily May Peel)</td>\n",
       "      <td>female</td>\n",
       "      <td>35.0</td>\n",
       "      <td>1</td>\n",
       "      <td>0</td>\n",
       "      <td>113803</td>\n",
       "      <td>53.1000</td>\n",
       "      <td>C123</td>\n",
       "      <td>S</td>\n",
       "    </tr>\n",
       "    <tr>\n",
       "      <th>4</th>\n",
       "      <td>5</td>\n",
       "      <td>0</td>\n",
       "      <td>3</td>\n",
       "      <td>Allen, Mr. William Henry</td>\n",
       "      <td>male</td>\n",
       "      <td>35.0</td>\n",
       "      <td>0</td>\n",
       "      <td>0</td>\n",
       "      <td>373450</td>\n",
       "      <td>8.0500</td>\n",
       "      <td>NaN</td>\n",
       "      <td>S</td>\n",
       "    </tr>\n",
       "  </tbody>\n",
       "</table>\n",
       "</div>"
      ],
      "text/plain": [
       "   PassengerId  Survived  Pclass  \\\n",
       "0            1         0       3   \n",
       "1            2         1       1   \n",
       "2            3         1       3   \n",
       "3            4         1       1   \n",
       "4            5         0       3   \n",
       "\n",
       "                                                Name     Sex   Age  SibSp  \\\n",
       "0                            Braund, Mr. Owen Harris    male  22.0      1   \n",
       "1  Cumings, Mrs. John Bradley (Florence Briggs Th...  female  38.0      1   \n",
       "2                             Heikkinen, Miss. Laina  female  26.0      0   \n",
       "3       Futrelle, Mrs. Jacques Heath (Lily May Peel)  female  35.0      1   \n",
       "4                           Allen, Mr. William Henry    male  35.0      0   \n",
       "\n",
       "   Parch            Ticket     Fare Cabin Embarked  \n",
       "0      0         A/5 21171   7.2500   NaN        S  \n",
       "1      0          PC 17599  71.2833   C85        C  \n",
       "2      0  STON/O2. 3101282   7.9250   NaN        S  \n",
       "3      0            113803  53.1000  C123        S  \n",
       "4      0            373450   8.0500   NaN        S  "
      ]
     },
     "execution_count": 2,
     "metadata": {},
     "output_type": "execute_result"
    }
   ],
   "source": [
    "train.head()"
   ]
  },
  {
   "cell_type": "markdown",
   "metadata": {},
   "source": [
    "* The type of machine learning we will be doing is called **classification,** because when we make predictions we are classifying each passenger as a survivor or not. More specifically, we are performing **binary classification,** which means that there are only two different states we are classifying."
   ]
  },
  {
   "cell_type": "markdown",
   "metadata": {},
   "source": [
    "* In any machine learning exercise, **thinking about the topic you are predicting is very important. We call this step acquiring domain knowledge,** and it's one of the most important determinants for success in machine learning."
   ]
  },
  {
   "cell_type": "markdown",
   "metadata": {},
   "source": [
    "* **In this case, understanding the Titanic disaster and `specifically what variables might affect the outcome of survival is important`**"
   ]
  },
  {
   "cell_type": "markdown",
   "metadata": {},
   "source": [
    "* Anyone who has watched the movie Titanic would remember that women and children were given preference to lifeboats (as they were in real life). You would also remember the vast class disparity of the passengers.\n",
    "\n",
    "* `This indicates that Age, Sex, and PClass may be good predictors of survival.` We'll start by exploring Sex and Pclass by visualizing the data."
   ]
  },
  {
   "cell_type": "markdown",
   "metadata": {},
   "source": [
    "* Because the Survived column contains 0 if the passenger did not survive and 1 if they did, we can segment our data by sex and calculate the mean of this column. We can use DataFrame.pivot_table() to easily do this:"
   ]
  },
  {
   "cell_type": "code",
   "execution_count": 3,
   "metadata": {},
   "outputs": [
    {
     "data": {
      "text/plain": [
       "<Figure size 640x480 with 1 Axes>"
      ]
     },
     "metadata": {},
     "output_type": "display_data"
    }
   ],
   "source": [
    "import matplotlib.pyplot as plt\n",
    "\n",
    "sex_pivot=train.pivot_table(index='Sex',values='Survived')\n",
    "sex_pivot.plot.bar()\n",
    "plt.show()"
   ]
  },
  {
   "cell_type": "markdown",
   "metadata": {},
   "source": [
    "* We can immediately see that females survived in much higher proportions than males did."
   ]
  },
  {
   "cell_type": "markdown",
   "metadata": {},
   "source": [
    "## TODO:\n",
    "* Use DataFrame.pivot_table() to pivot the train dataframe:\n",
    "  * Use \"Pclass\" for the index parameter.\n",
    "  * Use \"Survived\" for the values parameter.\n",
    "* Use DataFrame.plot.bar() to plot the pivot table."
   ]
  },
  {
   "cell_type": "code",
   "execution_count": 4,
   "metadata": {},
   "outputs": [
    {
     "data": {
      "text/plain": [
       "<matplotlib.axes._subplots.AxesSubplot at 0x19b62d861d0>"
      ]
     },
     "execution_count": 4,
     "metadata": {},
     "output_type": "execute_result"
    },
    {
     "data": {
      "image/png": "[encoded data removed]",
      "text/plain": [
       "<Figure size 432x288 with 1 Axes>"
      ]
     },
     "metadata": {
      "needs_background": "light"
     },
     "output_type": "display_data"
    }
   ],
   "source": [
    "Pclass_pivot=train.pivot_table(index='Pclass',values='Survived')\n",
    "Pclass_pivot.plot.bar()"
   ]
  },
  {
   "cell_type": "markdown",
   "metadata": {},
   "source": [
    "* The Sex and PClass columns are what we call `categorical features.` "
   ]
  },
  {
   "cell_type": "markdown",
   "metadata": {},
   "source": [
    "# 3. Exploring and Converting the Age Column"
   ]
  },
  {
   "cell_type": "code",
   "execution_count": 5,
   "metadata": {},
   "outputs": [
    {
     "data": {
      "text/plain": [
       "count    714.000000\n",
       "mean      29.699118\n",
       "std       14.526497\n",
       "min        0.420000\n",
       "25%       20.125000\n",
       "50%       28.000000\n",
       "75%       38.000000\n",
       "max       80.000000\n",
       "Name: Age, dtype: float64"
      ]
     },
     "execution_count": 5,
     "metadata": {},
     "output_type": "execute_result"
    }
   ],
   "source": [
    "train['Age'].describe()"
   ]
  },
  {
   "cell_type": "markdown",
   "metadata": {},
   "source": [
    "**Observation:**\n",
    "* The Age column contains numbers ranging from 0.42 to 80.0 (if you look at Kaggle's data page, it informs us that Age is fractional if the passenger is less than one). \n",
    "* The other thing to note here is that there are 714 values in this column, fewer than the 891 rows we discovered that the train data set had earlier in this mission which indicates we have some missing values."
   ]
  },
  {
   "cell_type": "markdown",
   "metadata": {},
   "source": [
    "* Age is a continuous numerical column.\n",
    "* One way to look at distribution of values in a `continuous numerical set` is to `use histograms`. We can create two histograms to compare visually those that survived vs those who died across different age ranges"
   ]
  },
  {
   "cell_type": "code",
   "execution_count": 6,
   "metadata": {},
   "outputs": [
    {
     "data": {
      "image/png": "[encoded data removed]",
      "text/plain": [
       "<Figure size 432x288 with 1 Axes>"
      ]
     },
     "metadata": {
      "needs_background": "light"
     },
     "output_type": "display_data"
    }
   ],
   "source": [
    "survived=train.loc[train['Survived']==1,:]\n",
    "died=train.loc[train['Survived']==0,:]\n",
    "survived['Age'].plot.hist(alpha=0.5,color='blue',bins=50)\n",
    "died['Age'].plot.hist(alpha=0.5,color='red',bins=50)\n",
    "plt.legend(['survived','died'])\n",
    "plt.show()"
   ]
  },
  {
   "cell_type": "markdown",
   "metadata": {},
   "source": [
    "* The relationship here is not simple, but we can see that in some age ranges more passengers survived - where the blue bars are higher than the blue bars.\n",
    "\n",
    "* In order for this to be useful to our machine learning model, we can **separate this continuous feature into a categorical feature by dividing it into ranges.** We can use the **`pandas.cut()`** function to help us out.\n",
    "\n",
    "* The pandas.cut() function has two required parameters - the `column we wish to cut, and a list of numbers which define the boundaries of our cuts.` We are also going to use the optional parameter labels, which takes a list of labels for the resultant bins. This will make it easier for us to understand our results."
   ]
  },
  {
   "cell_type": "markdown",
   "metadata": {},
   "source": [
    "* Before we modify this column, we have to be aware of two things. Firstly, any change we make to the train data, we also need to apply to the test data, otherwise we will be unable to use our model to make predictions for our submissions."
   ]
  },
  {
   "cell_type": "code",
   "execution_count": 7,
   "metadata": {},
   "outputs": [],
   "source": [
    "def process_age(df,cut_points,label_names):\n",
    "    df[\"Age\"] = df[\"Age\"].fillna(-0.5)\n",
    "    df[\"Age_categories\"] = pd.cut(df[\"Age\"],cut_points,labels=label_names)\n",
    "    return df"
   ]
  },
  {
   "cell_type": "markdown",
   "metadata": {},
   "source": [
    "## TODO:\n",
    "* Create the cut_points and label_names lists to split the Age column into six categories:\n",
    "  * Missing, from -1 to 0\n",
    "  * Infant, from 0 to 5\n",
    "  * Child, from 5 to 12\n",
    "  * Teenager, from 12 to 18\n",
    "  * Young Adult, from 18 to 35\n",
    "  * Adult, from 35 to 60\n",
    "  * Senior, from 60 to 100\n",
    "* Apply the process_age() function on the train dataframe, assigning the result to train.\n",
    "* Apply the process_age() function on the test dataframe, assigning the result to test.\n",
    "* Use DataFrame.pivot_table() to pivot the train dataframe by the Age_categories column.\n",
    "* Use DataFrame.plot.bar() to plot the pivot table."
   ]
  },
  {
   "cell_type": "code",
   "execution_count": 8,
   "metadata": {},
   "outputs": [],
   "source": [
    "cut_points=[-1,0,5,12,18,35,60,100]\n",
    "label_names=['Missing','Infant','Child','Teenager','Young Adult','Adult','Senior']"
   ]
  },
  {
   "cell_type": "code",
   "execution_count": 9,
   "metadata": {},
   "outputs": [],
   "source": [
    "train=process_age(train,cut_points,label_names)"
   ]
  },
  {
   "cell_type": "code",
   "execution_count": 10,
   "metadata": {},
   "outputs": [],
   "source": [
    "test=process_age(test,cut_points,label_names)"
   ]
  },
  {
   "cell_type": "code",
   "execution_count": 11,
   "metadata": {},
   "outputs": [
    {
     "data": {
      "image/png": "[encoded data removed]",
      "text/plain": [
       "<Figure size 432x288 with 1 Axes>"
      ]
     },
     "metadata": {
      "needs_background": "light"
     },
     "output_type": "display_data"
    }
   ],
   "source": [
    "train_pivot=train.pivot_table(index='Age_categories',values='Survived')\n",
    "train_pivot.plot.bar()\n",
    "plt.show()"
   ]
  },
  {
   "cell_type": "markdown",
   "metadata": {},
   "source": [
    "# 4. Preparing our Data for Machine Learning"
   ]
  },
  {
   "cell_type": "markdown",
   "metadata": {},
   "source": [
    "* So far we have identified three columns that may be useful for predicting survival:\n",
    "  * Sex\n",
    "  * Pclass\n",
    "  * Age, or more specifically our newly created Age_categories"
   ]
  },
  {
   "cell_type": "markdown",
   "metadata": {},
   "source": [
    "* Before we build our model, we need to prepare these columns for machine learning. Most machine learning `algorithms can't understand text labels, so we have to convert our values into numbers.`\n",
    "\n",
    "* Additionally, we need to be careful that we don't imply any numeric relationship where there isn't one. If we think of the values in the Pclass column, we know they are 1, 2, and 3. You can confirm this by running the following code:"
   ]
  },
  {
   "cell_type": "markdown",
   "metadata": {},
   "source": [
    "* While the class of each passenger certainly has some sort of ordered relationship, the relationship between each class is not the same as the relationship between the numbers 1, 2, and 3. For instance, class 2 isn't \"worth\" double what class 1 is, and class 3 isn't \"worth\" triple what class 1 is."
   ]
  },
  {
   "cell_type": "markdown",
   "metadata": {},
   "source": [
    "* In order to remove this relationship, we can create dummy columns for each unique value in Pclass"
   ]
  },
  {
   "cell_type": "markdown",
   "metadata": {},
   "source": [
    "* we can use the `pandas.get_dummies()` function, which will generate columns"
   ]
  },
  {
   "cell_type": "code",
   "execution_count": 12,
   "metadata": {},
   "outputs": [],
   "source": [
    "def create_dummies(df,column_name):\n",
    "    dummies=pd.get_dummies(df[column_name],prefix=column_name)\n",
    "    df=pd.concat([df,dummies],axis=1)\n",
    "    return df"
   ]
  },
  {
   "cell_type": "markdown",
   "metadata": {},
   "source": [
    "## TODO:\n",
    "* Use the create_dummies() function to create dummy variables for the Sex column:\n",
    "  * in the train dataframe.\n",
    "  * in the test dataframe.\n",
    "* Use the create_dummies() function to create dummy variables for the Age_categories column:\n",
    "  * in the train dataframe.\n",
    "  * in the test dataframe."
   ]
  },
  {
   "cell_type": "code",
   "execution_count": 13,
   "metadata": {},
   "outputs": [],
   "source": [
    "train=create_dummies(train,'Sex')\n",
    "test=create_dummies(test,'Sex')"
   ]
  },
  {
   "cell_type": "code",
   "execution_count": 14,
   "metadata": {},
   "outputs": [
    {
     "data": {
      "text/html": [
       "<div>\n",
       "<style scoped>\n",
       "    .dataframe tbody tr th:only-of-type {\n",
       "        vertical-align: middle;\n",
       "    }\n",
       "\n",
       "    .dataframe tbody tr th {\n",
       "        vertical-align: top;\n",
       "    }\n",
       "\n",
       "    .dataframe thead th {\n",
       "        text-align: right;\n",
       "    }\n",
       "</style>\n",
       "<table border=\"1\" class=\"dataframe\">\n",
       "  <thead>\n",
       "    <tr style=\"text-align: right;\">\n",
       "      <th></th>\n",
       "      <th>PassengerId</th>\n",
       "      <th>Survived</th>\n",
       "      <th>Pclass</th>\n",
       "      <th>Name</th>\n",
       "      <th>Sex</th>\n",
       "      <th>Age</th>\n",
       "      <th>SibSp</th>\n",
       "      <th>Parch</th>\n",
       "      <th>Ticket</th>\n",
       "      <th>Fare</th>\n",
       "      <th>Cabin</th>\n",
       "      <th>Embarked</th>\n",
       "      <th>Age_categories</th>\n",
       "      <th>Sex_female</th>\n",
       "      <th>Sex_male</th>\n",
       "    </tr>\n",
       "  </thead>\n",
       "  <tbody>\n",
       "    <tr>\n",
       "      <th>0</th>\n",
       "      <td>1</td>\n",
       "      <td>0</td>\n",
       "      <td>3</td>\n",
       "      <td>Braund, Mr. Owen Harris</td>\n",
       "      <td>male</td>\n",
       "      <td>22.0</td>\n",
       "      <td>1</td>\n",
       "      <td>0</td>\n",
       "      <td>A/5 21171</td>\n",
       "      <td>7.2500</td>\n",
       "      <td>NaN</td>\n",
       "      <td>S</td>\n",
       "      <td>Young Adult</td>\n",
       "      <td>0</td>\n",
       "      <td>1</td>\n",
       "    </tr>\n",
       "    <tr>\n",
       "      <th>1</th>\n",
       "      <td>2</td>\n",
       "      <td>1</td>\n",
       "      <td>1</td>\n",
       "      <td>Cumings, Mrs. John Bradley (Florence Briggs Th...</td>\n",
       "      <td>female</td>\n",
       "      <td>38.0</td>\n",
       "      <td>1</td>\n",
       "      <td>0</td>\n",
       "      <td>PC 17599</td>\n",
       "      <td>71.2833</td>\n",
       "      <td>C85</td>\n",
       "      <td>C</td>\n",
       "      <td>Adult</td>\n",
       "      <td>1</td>\n",
       "      <td>0</td>\n",
       "    </tr>\n",
       "    <tr>\n",
       "      <th>2</th>\n",
       "      <td>3</td>\n",
       "      <td>1</td>\n",
       "      <td>3</td>\n",
       "      <td>Heikkinen, Miss. Laina</td>\n",
       "      <td>female</td>\n",
       "      <td>26.0</td>\n",
       "      <td>0</td>\n",
       "      <td>0</td>\n",
       "      <td>STON/O2. 3101282</td>\n",
       "      <td>7.9250</td>\n",
       "      <td>NaN</td>\n",
       "      <td>S</td>\n",
       "      <td>Young Adult</td>\n",
       "      <td>1</td>\n",
       "      <td>0</td>\n",
       "    </tr>\n",
       "    <tr>\n",
       "      <th>3</th>\n",
       "      <td>4</td>\n",
       "      <td>1</td>\n",
       "      <td>1</td>\n",
       "      <td>Futrelle, Mrs. Jacques Heath (Lily May Peel)</td>\n",
       "      <td>female</td>\n",
       "      <td>35.0</td>\n",
       "      <td>1</td>\n",
       "      <td>0</td>\n",
       "      <td>113803</td>\n",
       "      <td>53.1000</td>\n",
       "      <td>C123</td>\n",
       "      <td>S</td>\n",
       "      <td>Young Adult</td>\n",
       "      <td>1</td>\n",
       "      <td>0</td>\n",
       "    </tr>\n",
       "    <tr>\n",
       "      <th>4</th>\n",
       "      <td>5</td>\n",
       "      <td>0</td>\n",
       "      <td>3</td>\n",
       "      <td>Allen, Mr. William Henry</td>\n",
       "      <td>male</td>\n",
       "      <td>35.0</td>\n",
       "      <td>0</td>\n",
       "      <td>0</td>\n",
       "      <td>373450</td>\n",
       "      <td>8.0500</td>\n",
       "      <td>NaN</td>\n",
       "      <td>S</td>\n",
       "      <td>Young Adult</td>\n",
       "      <td>0</td>\n",
       "      <td>1</td>\n",
       "    </tr>\n",
       "  </tbody>\n",
       "</table>\n",
       "</div>"
      ],
      "text/plain": [
       "   PassengerId  Survived  Pclass  \\\n",
       "0            1         0       3   \n",
       "1            2         1       1   \n",
       "2            3         1       3   \n",
       "3            4         1       1   \n",
       "4            5         0       3   \n",
       "\n",
       "                                                Name     Sex   Age  SibSp  \\\n",
       "0                            Braund, Mr. Owen Harris    male  22.0      1   \n",
       "1  Cumings, Mrs. John Bradley (Florence Briggs Th...  female  38.0      1   \n",
       "2                             Heikkinen, Miss. Laina  female  26.0      0   \n",
       "3       Futrelle, Mrs. Jacques Heath (Lily May Peel)  female  35.0      1   \n",
       "4                           Allen, Mr. William Henry    male  35.0      0   \n",
       "\n",
       "   Parch            Ticket     Fare Cabin Embarked Age_categories  Sex_female  \\\n",
       "0      0         A/5 21171   7.2500   NaN        S    Young Adult           0   \n",
       "1      0          PC 17599  71.2833   C85        C          Adult           1   \n",
       "2      0  STON/O2. 3101282   7.9250   NaN        S    Young Adult           1   \n",
       "3      0            113803  53.1000  C123        S    Young Adult           1   \n",
       "4      0            373450   8.0500   NaN        S    Young Adult           0   \n",
       "\n",
       "   Sex_male  \n",
       "0         1  \n",
       "1         0  \n",
       "2         0  \n",
       "3         0  \n",
       "4         1  "
      ]
     },
     "execution_count": 14,
     "metadata": {},
     "output_type": "execute_result"
    }
   ],
   "source": [
    "train.head()"
   ]
  },
  {
   "cell_type": "code",
   "execution_count": 15,
   "metadata": {},
   "outputs": [],
   "source": [
    "train=create_dummies(train,'Age_categories')\n",
    "test=create_dummies(test,'Age_categories')"
   ]
  },
  {
   "cell_type": "code",
   "execution_count": 16,
   "metadata": {},
   "outputs": [],
   "source": [
    "train=create_dummies(train,'Pclass')\n",
    "test=create_dummies(test,'Pclass')"
   ]
  },
  {
   "cell_type": "code",
   "execution_count": 17,
   "metadata": {},
   "outputs": [
    {
     "data": {
      "text/html": [
       "<div>\n",
       "<style scoped>\n",
       "    .dataframe tbody tr th:only-of-type {\n",
       "        vertical-align: middle;\n",
       "    }\n",
       "\n",
       "    .dataframe tbody tr th {\n",
       "        vertical-align: top;\n",
       "    }\n",
       "\n",
       "    .dataframe thead th {\n",
       "        text-align: right;\n",
       "    }\n",
       "</style>\n",
       "<table border=\"1\" class=\"dataframe\">\n",
       "  <thead>\n",
       "    <tr style=\"text-align: right;\">\n",
       "      <th></th>\n",
       "      <th>PassengerId</th>\n",
       "      <th>Survived</th>\n",
       "      <th>Pclass</th>\n",
       "      <th>Name</th>\n",
       "      <th>Sex</th>\n",
       "      <th>Age</th>\n",
       "      <th>SibSp</th>\n",
       "      <th>Parch</th>\n",
       "      <th>Ticket</th>\n",
       "      <th>Fare</th>\n",
       "      <th>...</th>\n",
       "      <th>Age_categories_Missing</th>\n",
       "      <th>Age_categories_Infant</th>\n",
       "      <th>Age_categories_Child</th>\n",
       "      <th>Age_categories_Teenager</th>\n",
       "      <th>Age_categories_Young Adult</th>\n",
       "      <th>Age_categories_Adult</th>\n",
       "      <th>Age_categories_Senior</th>\n",
       "      <th>Pclass_1</th>\n",
       "      <th>Pclass_2</th>\n",
       "      <th>Pclass_3</th>\n",
       "    </tr>\n",
       "  </thead>\n",
       "  <tbody>\n",
       "    <tr>\n",
       "      <th>0</th>\n",
       "      <td>1</td>\n",
       "      <td>0</td>\n",
       "      <td>3</td>\n",
       "      <td>Braund, Mr. Owen Harris</td>\n",
       "      <td>male</td>\n",
       "      <td>22.0</td>\n",
       "      <td>1</td>\n",
       "      <td>0</td>\n",
       "      <td>A/5 21171</td>\n",
       "      <td>7.2500</td>\n",
       "      <td>...</td>\n",
       "      <td>0</td>\n",
       "      <td>0</td>\n",
       "      <td>0</td>\n",
       "      <td>0</td>\n",
       "      <td>1</td>\n",
       "      <td>0</td>\n",
       "      <td>0</td>\n",
       "      <td>0</td>\n",
       "      <td>0</td>\n",
       "      <td>1</td>\n",
       "    </tr>\n",
       "    <tr>\n",
       "      <th>1</th>\n",
       "      <td>2</td>\n",
       "      <td>1</td>\n",
       "      <td>1</td>\n",
       "      <td>Cumings, Mrs. John Bradley (Florence Briggs Th...</td>\n",
       "      <td>female</td>\n",
       "      <td>38.0</td>\n",
       "      <td>1</td>\n",
       "      <td>0</td>\n",
       "      <td>PC 17599</td>\n",
       "      <td>71.2833</td>\n",
       "      <td>...</td>\n",
       "      <td>0</td>\n",
       "      <td>0</td>\n",
       "      <td>0</td>\n",
       "      <td>0</td>\n",
       "      <td>0</td>\n",
       "      <td>1</td>\n",
       "      <td>0</td>\n",
       "      <td>1</td>\n",
       "      <td>0</td>\n",
       "      <td>0</td>\n",
       "    </tr>\n",
       "    <tr>\n",
       "      <th>2</th>\n",
       "      <td>3</td>\n",
       "      <td>1</td>\n",
       "      <td>3</td>\n",
       "      <td>Heikkinen, Miss. Laina</td>\n",
       "      <td>female</td>\n",
       "      <td>26.0</td>\n",
       "      <td>0</td>\n",
       "      <td>0</td>\n",
       "      <td>STON/O2. 3101282</td>\n",
       "      <td>7.9250</td>\n",
       "      <td>...</td>\n",
       "      <td>0</td>\n",
       "      <td>0</td>\n",
       "      <td>0</td>\n",
       "      <td>0</td>\n",
       "      <td>1</td>\n",
       "      <td>0</td>\n",
       "      <td>0</td>\n",
       "      <td>0</td>\n",
       "      <td>0</td>\n",
       "      <td>1</td>\n",
       "    </tr>\n",
       "    <tr>\n",
       "      <th>3</th>\n",
       "      <td>4</td>\n",
       "      <td>1</td>\n",
       "      <td>1</td>\n",
       "      <td>Futrelle, Mrs. Jacques Heath (Lily May Peel)</td>\n",
       "      <td>female</td>\n",
       "      <td>35.0</td>\n",
       "      <td>1</td>\n",
       "      <td>0</td>\n",
       "      <td>113803</td>\n",
       "      <td>53.1000</td>\n",
       "      <td>...</td>\n",
       "      <td>0</td>\n",
       "      <td>0</td>\n",
       "      <td>0</td>\n",
       "      <td>0</td>\n",
       "      <td>1</td>\n",
       "      <td>0</td>\n",
       "      <td>0</td>\n",
       "      <td>1</td>\n",
       "      <td>0</td>\n",
       "      <td>0</td>\n",
       "    </tr>\n",
       "    <tr>\n",
       "      <th>4</th>\n",
       "      <td>5</td>\n",
       "      <td>0</td>\n",
       "      <td>3</td>\n",
       "      <td>Allen, Mr. William Henry</td>\n",
       "      <td>male</td>\n",
       "      <td>35.0</td>\n",
       "      <td>0</td>\n",
       "      <td>0</td>\n",
       "      <td>373450</td>\n",
       "      <td>8.0500</td>\n",
       "      <td>...</td>\n",
       "      <td>0</td>\n",
       "      <td>0</td>\n",
       "      <td>0</td>\n",
       "      <td>0</td>\n",
       "      <td>1</td>\n",
       "      <td>0</td>\n",
       "      <td>0</td>\n",
       "      <td>0</td>\n",
       "      <td>0</td>\n",
       "      <td>1</td>\n",
       "    </tr>\n",
       "  </tbody>\n",
       "</table>\n",
       "<p>5 rows × 25 columns</p>\n",
       "</div>"
      ],
      "text/plain": [
       "   PassengerId  Survived  Pclass  \\\n",
       "0            1         0       3   \n",
       "1            2         1       1   \n",
       "2            3         1       3   \n",
       "3            4         1       1   \n",
       "4            5         0       3   \n",
       "\n",
       "                                                Name     Sex   Age  SibSp  \\\n",
       "0                            Braund, Mr. Owen Harris    male  22.0      1   \n",
       "1  Cumings, Mrs. John Bradley (Florence Briggs Th...  female  38.0      1   \n",
       "2                             Heikkinen, Miss. Laina  female  26.0      0   \n",
       "3       Futrelle, Mrs. Jacques Heath (Lily May Peel)  female  35.0      1   \n",
       "4                           Allen, Mr. William Henry    male  35.0      0   \n",
       "\n",
       "   Parch            Ticket     Fare  ... Age_categories_Missing  \\\n",
       "0      0         A/5 21171   7.2500  ...                      0   \n",
       "1      0          PC 17599  71.2833  ...                      0   \n",
       "2      0  STON/O2. 3101282   7.9250  ...                      0   \n",
       "3      0            113803  53.1000  ...                      0   \n",
       "4      0            373450   8.0500  ...                      0   \n",
       "\n",
       "  Age_categories_Infant Age_categories_Child  Age_categories_Teenager  \\\n",
       "0                     0                    0                        0   \n",
       "1                     0                    0                        0   \n",
       "2                     0                    0                        0   \n",
       "3                     0                    0                        0   \n",
       "4                     0                    0                        0   \n",
       "\n",
       "   Age_categories_Young Adult  Age_categories_Adult  Age_categories_Senior  \\\n",
       "0                           1                     0                      0   \n",
       "1                           0                     1                      0   \n",
       "2                           1                     0                      0   \n",
       "3                           1                     0                      0   \n",
       "4                           1                     0                      0   \n",
       "\n",
       "   Pclass_1  Pclass_2  Pclass_3  \n",
       "0         0         0         1  \n",
       "1         1         0         0  \n",
       "2         0         0         1  \n",
       "3         1         0         0  \n",
       "4         0         0         1  \n",
       "\n",
       "[5 rows x 25 columns]"
      ]
     },
     "execution_count": 17,
     "metadata": {},
     "output_type": "execute_result"
    }
   ],
   "source": [
    "train.head()"
   ]
  },
  {
   "cell_type": "markdown",
   "metadata": {},
   "source": [
    "# 5. Creating Our First Machine Learning Model"
   ]
  },
  {
   "cell_type": "markdown",
   "metadata": {},
   "source": [
    "Now that our data has been prepared, we are ready to train our first model. The first model we will use is called **Logistic Regression**, which is often the first model you will train when performing **classification**."
   ]
  },
  {
   "cell_type": "markdown",
   "metadata": {},
   "source": [
    "We will be using the scikit-learn library as it has many tools that make performing machine learning easier. **The scikit-learn workflow consists of four main steps:**\n",
    "\n",
    "* Instantiate (or create) the specific machine learning model you want to use\n",
    "* Fit the model to the training data\n",
    "* Use the model to make predictions\n",
    "* Evaluate the accuracy of the predictions"
   ]
  },
  {
   "cell_type": "markdown",
   "metadata": {},
   "source": [
    "## TODO:\n",
    "* Instantiate a LogisticRegression object called lr.\n",
    "* Use LogisticRegression.fit() to fit the model on the train dataset using:\n",
    "  * The columns contained in columns as the first (X) parameter.\n",
    "  * The Survived column as the second (y) parameter."
   ]
  },
  {
   "cell_type": "code",
   "execution_count": 18,
   "metadata": {},
   "outputs": [],
   "source": [
    "columns = ['Pclass_1', 'Pclass_2', 'Pclass_3', 'Sex_female', 'Sex_male',\n",
    "       'Age_categories_Missing','Age_categories_Infant',\n",
    "       'Age_categories_Child', 'Age_categories_Teenager',\n",
    "       'Age_categories_Young Adult', 'Age_categories_Adult',\n",
    "       'Age_categories_Senior']"
   ]
  },
  {
   "cell_type": "code",
   "execution_count": 19,
   "metadata": {},
   "outputs": [],
   "source": [
    "from sklearn.linear_model import LogisticRegression"
   ]
  },
  {
   "cell_type": "code",
   "execution_count": 20,
   "metadata": {},
   "outputs": [],
   "source": [
    "lr=LogisticRegression(solver='lbfgs')"
   ]
  },
  {
   "cell_type": "code",
   "execution_count": 21,
   "metadata": {},
   "outputs": [
    {
     "data": {
      "text/plain": [
       "LogisticRegression(C=1.0, class_weight=None, dual=False, fit_intercept=True,\n",
       "          intercept_scaling=1, max_iter=100, multi_class='warn',\n",
       "          n_jobs=None, penalty='l2', random_state=None, solver='lbfgs',\n",
       "          tol=0.0001, verbose=0, warm_start=False)"
      ]
     },
     "execution_count": 21,
     "metadata": {},
     "output_type": "execute_result"
    }
   ],
   "source": [
    "lr.fit(train[columns],train['Survived'])"
   ]
  },
  {
   "cell_type": "markdown",
   "metadata": {},
   "source": [
    "# 6. Splitting Our Training Data"
   ]
  },
  {
   "cell_type": "markdown",
   "metadata": {},
   "source": [
    "* Instead we can split our train dataframe into two:\n",
    "\n",
    "   * One part to train our model on (often 80% of the observations)\n",
    "   * One part to make predictions with and test our model (often 20% of the observations)"
   ]
  },
  {
   "cell_type": "markdown",
   "metadata": {},
   "source": [
    "* we're going to call this Kaggle 'test' data **`holdout data`**, which is the technical name given to this type of data used for final predictions."
   ]
  },
  {
   "cell_type": "markdown",
   "metadata": {},
   "source": [
    "* The scikit-learn library has a handy **model_selection.train_test_split()** function that we can use to split our data. train_test_split() accepts two parameters, X and y, which contain all the data we want to train and test on, and returns four objects: train_X, train_y, test_X, test_y:"
   ]
  },
  {
   "cell_type": "markdown",
   "metadata": {},
   "source": [
    "## TODO:\n",
    "* Use the model_selection.train_test_split() function to split the train dataframe using the following parameters:\n",
    "  * test_size of 0.2.\n",
    "  * random_state of 0.\n",
    "* Assign the four returned objects to train_X, test_X, train_y, and test_y."
   ]
  },
  {
   "cell_type": "code",
   "execution_count": 22,
   "metadata": {},
   "outputs": [],
   "source": [
    "from sklearn.model_selection import train_test_split\n",
    "\n",
    "train_x,test_x,train_y,test_y=train_test_split(train[columns],train['Survived'],test_size=0.2,random_state=0)"
   ]
  },
  {
   "cell_type": "markdown",
   "metadata": {},
   "source": [
    "# 7. Making Predictions and Measuring their Accuracy"
   ]
  },
  {
   "cell_type": "markdown",
   "metadata": {},
   "source": [
    "* Once we have fit our model, we can use the `LogisticRegression.predict()` method to make predictions.\n",
    "\n",
    "The predict() method takes a single parameter X, a two dimensional array of features for the observations we wish to predict. X must have the exact same features as the array we used to fit our model. The method returns single dimensional array of predictions."
   ]
  },
  {
   "cell_type": "markdown",
   "metadata": {},
   "source": [
    "* Again, scikit-learn has a handy function we can use to calculate accuracy: `metrics.accuracy_score()`. The function accepts two parameters, y_true and y_pred, which are the actual values and our predicted values respectively, and returns our accuracy score."
   ]
  },
  {
   "cell_type": "code",
   "execution_count": 23,
   "metadata": {},
   "outputs": [
    {
     "name": "stdout",
     "output_type": "stream",
     "text": [
      "0.8100558659217877\n"
     ]
    }
   ],
   "source": [
    "from sklearn.metrics import accuracy_score\n",
    "lr=LogisticRegression(solver='lbfgs')\n",
    "lr.fit(train_x,train_y)\n",
    "predictions=lr.predict(test_x)\n",
    "accuracy=accuracy_score(test_y,predictions)\n",
    "\n",
    "print(accuracy)"
   ]
  },
  {
   "cell_type": "markdown",
   "metadata": {},
   "source": [
    "# 8. Using Cross Validation for More Accurate Error Measurement"
   ]
  },
  {
   "cell_type": "markdown",
   "metadata": {},
   "source": [
    "* Our model has an accuracy score of 81.0% when tested against our 20% test set. Given that this data set is quite small, there is a good chance that our model is overfitting, and will not perform as well on totally unseen data."
   ]
  },
  {
   "cell_type": "markdown",
   "metadata": {},
   "source": [
    "* To give us a better understanding of the real performance of our model, we can use a technique called **cross validation** to train and test our model on different splits of our data, and then average the accuracy scores."
   ]
  },
  {
   "cell_type": "code",
   "execution_count": 24,
   "metadata": {},
   "outputs": [
    {
     "data": {
      "image/svg+xml": [
       "<svg height=\"772\" version=\"1.1\" viewBox=\"0 0 1654 772\" width=\"1654\" xmlns=\"http://www.w3.org/2000/svg\" xmlns:xlink=\"http://www.w3.org/1999/xlink\">\n",
       "<title>Frame</title>\n",
       "<desc>Created using Figma</desc>\n",
       "<g id=\"Canvas\" transform=\"matrix(2 0 0 2 702 584)\">\n",
       "<clipPath clip-rule=\"evenodd\" id=\"clip-0\">\n",
       "<path d=\"M -351 -292L 476 -292L 476 94L -351 94L -351 -292Z\" fill=\"#FFFFFF\"/>\n",
       "</clipPath>\n",
       "<g clip-path=\"url(#clip-0)\" id=\"Frame\">\n",
       "<path d=\"M -351 -292L 476 -292L 476 94L -351 94L -351 -292Z\" fill=\"#FFFFFF\"/>\n",
       "<g id=\"Rectangle\">\n",
       "<use fill=\"#EBA86C\" transform=\"translate(-328 -267)\" xlink:href=\"#path0_fill\"/>\n",
       "<use transform=\"translate(-328 -267)\" xlink:href=\"#path1_stroke\"/>\n",
       "</g>\n",
       "<g id=\"Rectangle 2\">\n",
       "<use fill=\"#EB5757\" transform=\"translate(-328 -227)\" xlink:href=\"#path2_fill\"/>\n",
       "<use transform=\"translate(-328 -227)\" xlink:href=\"#path3_stroke\"/>\n",
       "</g>\n",
       "<g id=\"Rectangle\">\n",
       "<use fill=\"#EBA86C\" transform=\"translate(-328 -204)\" xlink:href=\"#path0_fill\"/>\n",
       "<use transform=\"translate(-328 -204)\" xlink:href=\"#path1_stroke\"/>\n",
       "</g>\n",
       "<g id=\"Rectangle 2\">\n",
       "<use fill=\"#EB5757\" transform=\"translate(-328 -174)\" xlink:href=\"#path2_fill\"/>\n",
       "<use transform=\"translate(-328 -174)\" xlink:href=\"#path3_stroke\"/>\n",
       "</g>\n",
       "<g id=\"Rectangle\">\n",
       "<use fill=\"#EBA86C\" transform=\"translate(-328 -141)\" xlink:href=\"#path0_fill\"/>\n",
       "<use transform=\"translate(-328 -141)\" xlink:href=\"#path1_stroke\"/>\n",
       "</g>\n",
       "<g id=\"Rectangle 2\">\n",
       "<use fill=\"#EB5757\" transform=\"translate(-328 -121)\" xlink:href=\"#path2_fill\"/>\n",
       "<use transform=\"translate(-328 -121)\" xlink:href=\"#path3_stroke\"/>\n",
       "</g>\n",
       "<g id=\"Rectangle\">\n",
       "<use fill=\"#EBA86C\" transform=\"translate(-328 -78)\" xlink:href=\"#path0_fill\"/>\n",
       "<use transform=\"translate(-328 -78)\" xlink:href=\"#path1_stroke\"/>\n",
       "</g>\n",
       "<g id=\"Rectangle 2\">\n",
       "<use fill=\"#EB5757\" transform=\"translate(-328 -68)\" xlink:href=\"#path2_fill\"/>\n",
       "<use transform=\"translate(-328 -68)\" xlink:href=\"#path3_stroke\"/>\n",
       "</g>\n",
       "<g id=\"Rectangle\">\n",
       "<use fill=\"#EBA86C\" transform=\"translate(-328 -15)\" xlink:href=\"#path0_fill\"/>\n",
       "<use transform=\"translate(-328 -15)\" xlink:href=\"#path1_stroke\"/>\n",
       "</g>\n",
       "<g id=\"Rectangle 2\">\n",
       "<use fill=\"#EB5757\" transform=\"translate(-328 -15)\" xlink:href=\"#path2_fill\"/>\n",
       "<use transform=\"translate(-328 -15)\" xlink:href=\"#path3_stroke\"/>\n",
       "</g>\n",
       "<g id=\"Rectangle 2\">\n",
       "<use fill=\"#EBA86C\" transform=\"translate(-193 50)\" xlink:href=\"#path4_fill\"/>\n",
       "<use transform=\"translate(-193 50)\" xlink:href=\"#path5_stroke\"/>\n",
       "</g>\n",
       "<g id=\"Accuracy Score 1\">\n",
       "<use transform=\"translate(79 -250)\" xlink:href=\"#path6_fill\"/>\n",
       "</g>\n",
       "<g id=\"Accuracy Score 2\">\n",
       "<use transform=\"translate(79 -187)\" xlink:href=\"#path7_fill\"/>\n",
       "</g>\n",
       "<g id=\"Accuracy Score 3\">\n",
       "<use transform=\"translate(79 -124)\" xlink:href=\"#path8_fill\"/>\n",
       "</g>\n",
       "<g id=\"Train\">\n",
       "<use transform=\"translate(-165 52)\" xlink:href=\"#path9_fill\"/>\n",
       "</g>\n",
       "<g id=\"Rectangle 2\">\n",
       "<use fill=\"#EB5757\" transform=\"translate(-106 50)\" xlink:href=\"#path4_fill\"/>\n",
       "<use transform=\"translate(-106 50)\" xlink:href=\"#path5_stroke\"/>\n",
       "</g>\n",
       "<g id=\"Test\">\n",
       "<use transform=\"translate(-78 52)\" xlink:href=\"#path10_fill\"/>\n",
       "</g>\n",
       "<g id=\"Accuracy Score 4\">\n",
       "<use transform=\"translate(79 -61)\" xlink:href=\"#path11_fill\"/>\n",
       "</g>\n",
       "<g id=\"Accuracy Score 5\">\n",
       "<use transform=\"translate(79 2)\" xlink:href=\"#path12_fill\"/>\n",
       "</g>\n",
       "<g id=\"Average Accuracy Score\">\n",
       "<use transform=\"translate(321 -132)\" xlink:href=\"#path13_fill\"/>\n",
       "</g>\n",
       "<g id=\"Line\">\n",
       "<use transform=\"matrix(0.710166 0.704034 -0.704034 0.710166 190.902 -242)\" xlink:href=\"#path14_stroke\"/>\n",
       "</g>\n",
       "<g id=\"Line\">\n",
       "<use transform=\"matrix(0.693549 -0.720409 0.720409 0.693549 194.772 11)\" xlink:href=\"#path15_stroke\"/>\n",
       "</g>\n",
       "<g id=\"Line\">\n",
       "<use transform=\"matrix(0.890385 -0.455208 0.455208 0.890385 194.772 -53)\" xlink:href=\"#path16_stroke\"/>\n",
       "</g>\n",
       "<g id=\"Line\">\n",
       "<use transform=\"matrix(1 0 0 1 188 -116)\" xlink:href=\"#path17_stroke\"/>\n",
       "</g>\n",
       "<g id=\"Line\">\n",
       "<use transform=\"matrix(0.893305 0.449452 -0.449452 0.893305 194.772 -179)\" xlink:href=\"#path18_stroke\"/>\n",
       "</g>\n",
       "</g>\n",
       "</g>\n",
       "<defs>\n",
       "<path d=\"M 0 0L 390 0L 390 50L 0 50L 0 0Z\" id=\"path0_fill\"/>\n",
       "<path d=\"M 0 0L 0 -0.5L -0.5 -0.5L -0.5 0L 0 0ZM 390 0L 390.5 0L 390.5 -0.5L 390 -0.5L 390 0ZM 390 50L 390 50.5L 390.5 50.5L 390.5 50L 390 50ZM 0 50L -0.5 50L -0.5 50.5L 0 50.5L 0 50ZM 0 0.5L 390 0.5L 390 -0.5L 0 -0.5L 0 0.5ZM 389.5 0L 389.5 50L 390.5 50L 390.5 0L 389.5 0ZM 390 49.5L 0 49.5L 0 50.5L 390 50.5L 390 49.5ZM 0.5 50L 0.5 0L -0.5 0L -0.5 50L 0.5 50Z\" id=\"path1_stroke\"/>\n",
       "<path d=\"M 0 0L 390 0L 390 10L 0 10L 0 0Z\" id=\"path2_fill\"/>\n",
       "<path d=\"M 0 0L 0 -0.5L -0.5 -0.5L -0.5 0L 0 0ZM 390 0L 390.5 0L 390.5 -0.5L 390 -0.5L 390 0ZM 390 10L 390 10.5L 390.5 10.5L 390.5 10L 390 10ZM 0 10L -0.5 10L -0.5 10.5L 0 10.5L 0 10ZM 0 0.5L 390 0.5L 390 -0.5L 0 -0.5L 0 0.5ZM 389.5 0L 389.5 10L 390.5 10L 390.5 0L 389.5 0ZM 390 9.5L 0 9.5L 0 10.5L 390 10.5L 390 9.5ZM 0.5 10L 0.5 0L -0.5 0L -0.5 10L 0.5 10Z\" id=\"path3_stroke\"/>\n",
       "<path d=\"M 0 0L 19 0L 19 19L 0 19L 0 0Z\" id=\"path4_fill\"/>\n",
       "<path d=\"M 0 0L 0 -0.5L -0.5 -0.5L -0.5 0L 0 0ZM 19 0L 19.5 0L 19.5 -0.5L 19 -0.5L 19 0ZM 19 19L 19 19.5L 19.5 19.5L 19.5 19L 19 19ZM 0 19L -0.5 19L -0.5 19.5L 0 19.5L 0 19ZM 0 0.5L 19 0.5L 19 -0.5L 0 -0.5L 0 0.5ZM 18.5 0L 18.5 19L 19.5 19L 19.5 0L 18.5 0ZM 19 18.5L 0 18.5L 0 19.5L 19 19.5L 19 18.5ZM 0.5 19L 0.5 0L -0.5 0L -0.5 19L 0.5 19Z\" id=\"path5_stroke\"/>\n",
       "<path d=\"M 6.65137 10.4023L 2.48145 10.4023L 1.54492 13L 0.191406 13L 3.99219 3.04688L 5.14062 3.04688L 8.94824 13L 7.60156 13L 6.65137 10.4023ZM 2.87793 9.32227L 6.26172 9.32227L 4.56641 4.66699L 2.87793 9.32227ZM 13.0566 12.1045C 13.5078 12.1045 13.902 11.9678 14.2393 11.6943C 14.5765 11.4209 14.7633 11.0791 14.7998 10.6689L 15.9961 10.6689C 15.9733 11.0928 15.8275 11.4961 15.5586 11.8789C 15.2897 12.2617 14.9297 12.5671 14.4785 12.7949C 14.0319 13.0228 13.5579 13.1367 13.0566 13.1367C 12.0495 13.1367 11.2474 12.8018 10.6504 12.1318C 10.0579 11.4574 9.76172 10.5368 9.76172 9.37012L 9.76172 9.1582C 9.76172 8.43815 9.89388 7.79785 10.1582 7.2373C 10.4225 6.67676 10.8008 6.24154 11.293 5.93164C 11.7897 5.62174 12.3753 5.4668 13.0498 5.4668C 13.8792 5.4668 14.5674 5.71517 15.1143 6.21191C 15.6657 6.70866 15.9596 7.35352 15.9961 8.14648L 14.7998 8.14648C 14.7633 7.66797 14.5811 7.27604 14.2529 6.9707C 13.9294 6.66081 13.5283 6.50586 13.0498 6.50586C 12.4072 6.50586 11.9082 6.73828 11.5527 7.20312C 11.2018 7.66341 11.0264 8.33105 11.0264 9.20605L 11.0264 9.44531C 11.0264 10.2975 11.2018 10.9538 11.5527 11.4141C 11.9036 11.8743 12.4049 12.1045 13.0566 12.1045ZM 20.3848 12.1045C 20.8359 12.1045 21.2301 11.9678 21.5674 11.6943C 21.9046 11.4209 22.0915 11.0791 22.1279 10.6689L 23.3242 10.6689C 23.3014 11.0928 23.1556 11.4961 22.8867 11.8789C 22.6178 12.2617 22.2578 12.5671 21.8066 12.7949C 21.36 13.0228 20.8861 13.1367 20.3848 13.1367C 19.3776 13.1367 18.5755 12.8018 17.9785 12.1318C 17.3861 11.4574 17.0898 10.5368 17.0898 9.37012L 17.0898 9.1582C 17.0898 8.43815 17.222 7.79785 17.4863 7.2373C 17.7507 6.67676 18.1289 6.24154 18.6211 5.93164C 19.1178 5.62174 19.7035 5.4668 20.3779 5.4668C 21.2074 5.4668 21.8955 5.71517 22.4424 6.21191C 22.9938 6.70866 23.2878 7.35352 23.3242 8.14648L 22.1279 8.14648C 22.0915 7.66797 21.9092 7.27604 21.5811 6.9707C 21.2575 6.66081 20.8564 6.50586 20.3779 6.50586C 19.7354 6.50586 19.2363 6.73828 18.8809 7.20312C 18.5299 7.66341 18.3545 8.33105 18.3545 9.20605L 18.3545 9.44531C 18.3545 10.2975 18.5299 10.9538 18.8809 11.4141C 19.2318 11.8743 19.7331 12.1045 20.3848 12.1045ZM 29.3125 12.2686C 28.8203 12.8473 28.098 13.1367 27.1455 13.1367C 26.3571 13.1367 25.7555 12.9089 25.3408 12.4531C 24.9307 11.9928 24.7233 11.3138 24.7188 10.416L 24.7188 5.60352L 25.9834 5.60352L 25.9834 10.3818C 25.9834 11.5029 26.4391 12.0635 27.3506 12.0635C 28.3167 12.0635 28.9593 11.7035 29.2783 10.9834L 29.2783 5.60352L 30.543 5.60352L 30.543 13L 29.3398 13L 29.3125 12.2686ZM 36.0459 6.73828C 35.8545 6.70638 35.6471 6.69043 35.4238 6.69043C 34.5944 6.69043 34.0316 7.04362 33.7354 7.75L 33.7354 13L 32.4707 13L 32.4707 5.60352L 33.7012 5.60352L 33.7217 6.45801C 34.1364 5.7972 34.7243 5.4668 35.4854 5.4668C 35.7314 5.4668 35.9183 5.4987 36.0459 5.5625L 36.0459 6.73828ZM 41.5078 13C 41.4349 12.8542 41.3757 12.5944 41.3301 12.2207C 40.7422 12.8314 40.0404 13.1367 39.2246 13.1367C 38.4954 13.1367 37.8962 12.9316 37.4268 12.5215C 36.9619 12.1068 36.7295 11.5827 36.7295 10.9492C 36.7295 10.179 37.0212 9.58203 37.6045 9.1582C 38.1924 8.72982 39.0173 8.51562 40.0791 8.51562L 41.3096 8.51562L 41.3096 7.93457C 41.3096 7.49251 41.1774 7.1416 40.9131 6.88184C 40.6488 6.61751 40.2591 6.48535 39.7441 6.48535C 39.293 6.48535 38.9147 6.59928 38.6094 6.82715C 38.304 7.05501 38.1514 7.33073 38.1514 7.6543L 36.8799 7.6543C 36.8799 7.28516 37.0098 6.92969 37.2695 6.58789C 37.5339 6.24154 37.8893 5.9681 38.3359 5.76758C 38.7871 5.56706 39.2816 5.4668 39.8193 5.4668C 40.6715 5.4668 41.3392 5.68099 41.8223 6.10938C 42.3053 6.5332 42.556 7.11882 42.5742 7.86621L 42.5742 11.2705C 42.5742 11.9495 42.6608 12.4896 42.834 12.8906L 42.834 13L 41.5078 13ZM 39.4092 12.0361C 39.8057 12.0361 40.1816 11.9336 40.5371 11.7285C 40.8926 11.5234 41.1501 11.2568 41.3096 10.9287L 41.3096 9.41113L 40.3184 9.41113C 38.7689 9.41113 37.9941 9.86458 37.9941 10.7715C 37.9941 11.168 38.1263 11.4779 38.3906 11.7012C 38.6549 11.9245 38.9945 12.0361 39.4092 12.0361ZM 47.5234 12.1045C 47.9746 12.1045 48.3688 11.9678 48.7061 11.6943C 49.0433 11.4209 49.2301 11.0791 49.2666 10.6689L 50.4629 10.6689C 50.4401 11.0928 50.2943 11.4961 50.0254 11.8789C 49.7565 12.2617 49.3965 12.5671 48.9453 12.7949C 48.4987 13.0228 48.0247 13.1367 47.5234 13.1367C 46.5163 13.1367 45.7142 12.8018 45.1172 12.1318C 44.5247 11.4574 44.2285 10.5368 44.2285 9.37012L 44.2285 9.1582C 44.2285 8.43815 44.3607 7.79785 44.625 7.2373C 44.8893 6.67676 45.2676 6.24154 45.7598 5.93164C 46.2565 5.62174 46.8421 5.4668 47.5166 5.4668C 48.346 5.4668 49.0342 5.71517 49.5811 6.21191C 50.1325 6.70866 50.4264 7.35352 50.4629 8.14648L 49.2666 8.14648C 49.2301 7.66797 49.0479 7.27604 48.7197 6.9707C 48.3962 6.66081 47.9951 6.50586 47.5166 6.50586C 46.874 6.50586 46.375 6.73828 46.0195 7.20312C 45.6686 7.66341 45.4932 8.33105 45.4932 9.20605L 45.4932 9.44531C 45.4932 10.2975 45.6686 10.9538 46.0195 11.4141C 46.3704 11.8743 46.8717 12.1045 47.5234 12.1045ZM 54.3047 11.1475L 56.0273 5.60352L 57.3809 5.60352L 54.4072 14.1416C 53.9469 15.3721 53.2155 15.9873 52.2129 15.9873L 51.9736 15.9668L 51.502 15.8779L 51.502 14.8525L 51.8438 14.8799C 52.2721 14.8799 52.6048 14.7933 52.8418 14.6201C 53.0833 14.4469 53.2816 14.1302 53.4365 13.6699L 53.7168 12.918L 51.0781 5.60352L 52.459 5.60352L 54.3047 11.1475ZM 65.1191 8.56348C 63.9935 8.23991 63.1732 7.84342 62.6582 7.37402C 62.1478 6.90007 61.8926 6.31673 61.8926 5.62402C 61.8926 4.84017 62.2048 4.19303 62.8291 3.68262C 63.458 3.16764 64.2738 2.91016 65.2764 2.91016C 65.96 2.91016 66.5684 3.04232 67.1016 3.30664C 67.6393 3.57096 68.054 3.93555 68.3457 4.40039C 68.6419 4.86523 68.79 5.37337 68.79 5.9248L 67.4707 5.9248C 67.4707 5.32324 67.2793 4.85156 66.8965 4.50977C 66.5137 4.16341 65.9736 3.99023 65.2764 3.99023C 64.6292 3.99023 64.1234 4.13379 63.7588 4.4209C 63.3988 4.70345 63.2188 5.09766 63.2188 5.60352C 63.2188 6.00911 63.3896 6.35319 63.7314 6.63574C 64.0778 6.91374 64.6634 7.16895 65.4883 7.40137C 66.3177 7.63379 66.9648 7.89128 67.4297 8.17383C 67.8991 8.45182 68.2454 8.77767 68.4688 9.15137C 68.6966 9.52507 68.8105 9.96484 68.8105 10.4707C 68.8105 11.2773 68.4961 11.9245 67.8672 12.4121C 67.2383 12.8952 66.3975 13.1367 65.3447 13.1367C 64.6611 13.1367 64.0231 13.0068 63.4307 12.7471C 62.8382 12.4827 62.3802 12.1227 62.0566 11.667C 61.7376 11.2113 61.5781 10.694 61.5781 10.1152L 62.8975 10.1152C 62.8975 10.7168 63.1185 11.193 63.5605 11.5439C 64.0072 11.8903 64.6019 12.0635 65.3447 12.0635C 66.0374 12.0635 66.5684 11.9222 66.9375 11.6396C 67.3066 11.3571 67.4912 10.972 67.4912 10.4844C 67.4912 9.99674 67.3203 9.62077 66.9785 9.35645C 66.6367 9.08757 66.0169 8.82324 65.1191 8.56348ZM 73.2676 12.1045C 73.7188 12.1045 74.113 11.9678 74.4502 11.6943C 74.7874 11.4209 74.9743 11.0791 75.0107 10.6689L 76.207 10.6689C 76.1842 11.0928 76.0384 11.4961 75.7695 11.8789C 75.5007 12.2617 75.1406 12.5671 74.6895 12.7949C 74.2428 13.0228 73.7689 13.1367 73.2676 13.1367C 72.2604 13.1367 71.4583 12.8018 70.8613 12.1318C 70.2689 11.4574 69.9727 10.5368 69.9727 9.37012L 69.9727 9.1582C 69.9727 8.43815 70.1048 7.79785 70.3691 7.2373C 70.6335 6.67676 71.0117 6.24154 71.5039 5.93164C 72.0007 5.62174 72.5863 5.4668 73.2607 5.4668C 74.0902 5.4668 74.7783 5.71517 75.3252 6.21191C 75.8766 6.70866 76.1706 7.35352 76.207 8.14648L 75.0107 8.14648C 74.9743 7.66797 74.792 7.27604 74.4639 6.9707C 74.1403 6.66081 73.7393 6.50586 73.2607 6.50586C 72.6182 6.50586 72.1191 6.73828 71.7637 7.20312C 71.4128 7.66341 71.2373 8.33105 71.2373 9.20605L 71.2373 9.44531C 71.2373 10.2975 71.4128 10.9538 71.7637 11.4141C 72.1146 11.8743 72.6159 12.1045 73.2676 12.1045ZM 77.2939 9.2334C 77.2939 8.50879 77.4352 7.8571 77.7178 7.27832C 78.0049 6.69954 78.4014 6.25293 78.9072 5.93848C 79.4176 5.62402 79.9987 5.4668 80.6504 5.4668C 81.6576 5.4668 82.471 5.81543 83.0908 6.5127C 83.7152 7.20996 84.0273 8.13737 84.0273 9.29492L 84.0273 9.38379C 84.0273 10.1038 83.8883 10.751 83.6104 11.3252C 83.3369 11.8949 82.9427 12.3392 82.4277 12.6582C 81.9173 12.9772 81.3294 13.1367 80.6641 13.1367C 79.6615 13.1367 78.848 12.7881 78.2236 12.0908C 77.6038 11.3936 77.2939 10.4707 77.2939 9.32227L 77.2939 9.2334ZM 78.5654 9.38379C 78.5654 10.2041 78.7546 10.8626 79.1328 11.3594C 79.5156 11.8561 80.026 12.1045 80.6641 12.1045C 81.3066 12.1045 81.8171 11.8538 82.1953 11.3525C 82.5736 10.8467 82.7627 10.1403 82.7627 9.2334C 82.7627 8.4222 82.569 7.76595 82.1816 7.26465C 81.7988 6.75879 81.2884 6.50586 80.6504 6.50586C 80.026 6.50586 79.5225 6.75423 79.1396 7.25098C 78.7568 7.74772 78.5654 8.45866 78.5654 9.38379ZM 89.1885 6.73828C 88.9971 6.70638 88.7897 6.69043 88.5664 6.69043C 87.737 6.69043 87.1742 7.04362 86.8779 7.75L 86.8779 13L 85.6133 13L 85.6133 5.60352L 86.8438 5.60352L 86.8643 6.45801C 87.279 5.7972 87.8669 5.4668 88.6279 5.4668C 88.874 5.4668 89.0609 5.4987 89.1885 5.5625L 89.1885 6.73828ZM 93.29 13.1367C 92.2874 13.1367 91.4717 12.8086 90.8428 12.1523C 90.2139 11.4915 89.8994 10.6097 89.8994 9.50684L 89.8994 9.27441C 89.8994 8.54069 90.0384 7.88672 90.3164 7.3125C 90.599 6.73372 90.9909 6.28255 91.4922 5.95898C 91.998 5.63086 92.5449 5.4668 93.1328 5.4668C 94.0944 5.4668 94.8418 5.78353 95.375 6.41699C 95.9082 7.05046 96.1748 7.95736 96.1748 9.1377L 96.1748 9.66406L 91.1641 9.66406C 91.1823 10.3932 91.3942 10.9834 91.7998 11.4346C 92.21 11.8812 92.7295 12.1045 93.3584 12.1045C 93.805 12.1045 94.1833 12.0133 94.4932 11.8311C 94.8031 11.6488 95.0742 11.4072 95.3066 11.1064L 96.0791 11.708C 95.4593 12.6605 94.5296 13.1367 93.29 13.1367ZM 93.1328 6.50586C 92.6224 6.50586 92.194 6.69271 91.8477 7.06641C 91.5013 7.43555 91.2871 7.95508 91.2051 8.625L 94.9102 8.625L 94.9102 8.5293C 94.8737 7.88672 94.7005 7.38997 94.3906 7.03906C 94.0807 6.68359 93.6615 6.50586 93.1328 6.50586ZM 105.144 13L 103.872 13L 103.872 4.57129L 101.322 5.50781L 101.322 4.35938L 104.945 2.99902L 105.144 2.99902L 105.144 13Z\" id=\"path6_fill\"/>\n",
       "<path d=\"M 6.65137 10.4023L 2.48145 10.4023L 1.54492 13L 0.191406 13L 3.99219 3.04688L 5.14062 3.04688L 8.94824 13L 7.60156 13L 6.65137 10.4023ZM 2.87793 9.32227L 6.26172 9.32227L 4.56641 4.66699L 2.87793 9.32227ZM 13.0566 12.1045C 13.5078 12.1045 13.902 11.9678 14.2393 11.6943C 14.5765 11.4209 14.7633 11.0791 14.7998 10.6689L 15.9961 10.6689C 15.9733 11.0928 15.8275 11.4961 15.5586 11.8789C 15.2897 12.2617 14.9297 12.5671 14.4785 12.7949C 14.0319 13.0228 13.5579 13.1367 13.0566 13.1367C 12.0495 13.1367 11.2474 12.8018 10.6504 12.1318C 10.0579 11.4574 9.76172 10.5368 9.76172 9.37012L 9.76172 9.1582C 9.76172 8.43815 9.89388 7.79785 10.1582 7.2373C 10.4225 6.67676 10.8008 6.24154 11.293 5.93164C 11.7897 5.62174 12.3753 5.4668 13.0498 5.4668C 13.8792 5.4668 14.5674 5.71517 15.1143 6.21191C 15.6657 6.70866 15.9596 7.35352 15.9961 8.14648L 14.7998 8.14648C 14.7633 7.66797 14.5811 7.27604 14.2529 6.9707C 13.9294 6.66081 13.5283 6.50586 13.0498 6.50586C 12.4072 6.50586 11.9082 6.73828 11.5527 7.20312C 11.2018 7.66341 11.0264 8.33105 11.0264 9.20605L 11.0264 9.44531C 11.0264 10.2975 11.2018 10.9538 11.5527 11.4141C 11.9036 11.8743 12.4049 12.1045 13.0566 12.1045ZM 20.3848 12.1045C 20.8359 12.1045 21.2301 11.9678 21.5674 11.6943C 21.9046 11.4209 22.0915 11.0791 22.1279 10.6689L 23.3242 10.6689C 23.3014 11.0928 23.1556 11.4961 22.8867 11.8789C 22.6178 12.2617 22.2578 12.5671 21.8066 12.7949C 21.36 13.0228 20.8861 13.1367 20.3848 13.1367C 19.3776 13.1367 18.5755 12.8018 17.9785 12.1318C 17.3861 11.4574 17.0898 10.5368 17.0898 9.37012L 17.0898 9.1582C 17.0898 8.43815 17.222 7.79785 17.4863 7.2373C 17.7507 6.67676 18.1289 6.24154 18.6211 5.93164C 19.1178 5.62174 19.7035 5.4668 20.3779 5.4668C 21.2074 5.4668 21.8955 5.71517 22.4424 6.21191C 22.9938 6.70866 23.2878 7.35352 23.3242 8.14648L 22.1279 8.14648C 22.0915 7.66797 21.9092 7.27604 21.5811 6.9707C 21.2575 6.66081 20.8564 6.50586 20.3779 6.50586C 19.7354 6.50586 19.2363 6.73828 18.8809 7.20312C 18.5299 7.66341 18.3545 8.33105 18.3545 9.20605L 18.3545 9.44531C 18.3545 10.2975 18.5299 10.9538 18.8809 11.4141C 19.2318 11.8743 19.7331 12.1045 20.3848 12.1045ZM 29.3125 12.2686C 28.8203 12.8473 28.098 13.1367 27.1455 13.1367C 26.3571 13.1367 25.7555 12.9089 25.3408 12.4531C 24.9307 11.9928 24.7233 11.3138 24.7188 10.416L 24.7188 5.60352L 25.9834 5.60352L 25.9834 10.3818C 25.9834 11.5029 26.4391 12.0635 27.3506 12.0635C 28.3167 12.0635 28.9593 11.7035 29.2783 10.9834L 29.2783 5.60352L 30.543 5.60352L 30.543 13L 29.3398 13L 29.3125 12.2686ZM 36.0459 6.73828C 35.8545 6.70638 35.6471 6.69043 35.4238 6.69043C 34.5944 6.69043 34.0316 7.04362 33.7354 7.75L 33.7354 13L 32.4707 13L 32.4707 5.60352L 33.7012 5.60352L 33.7217 6.45801C 34.1364 5.7972 34.7243 5.4668 35.4854 5.4668C 35.7314 5.4668 35.9183 5.4987 36.0459 5.5625L 36.0459 6.73828ZM 41.5078 13C 41.4349 12.8542 41.3757 12.5944 41.3301 12.2207C 40.7422 12.8314 40.0404 13.1367 39.2246 13.1367C 38.4954 13.1367 37.8962 12.9316 37.4268 12.5215C 36.9619 12.1068 36.7295 11.5827 36.7295 10.9492C 36.7295 10.179 37.0212 9.58203 37.6045 9.1582C 38.1924 8.72982 39.0173 8.51562 40.0791 8.51562L 41.3096 8.51562L 41.3096 7.93457C 41.3096 7.49251 41.1774 7.1416 40.9131 6.88184C 40.6488 6.61751 40.2591 6.48535 39.7441 6.48535C 39.293 6.48535 38.9147 6.59928 38.6094 6.82715C 38.304 7.05501 38.1514 7.33073 38.1514 7.6543L 36.8799 7.6543C 36.8799 7.28516 37.0098 6.92969 37.2695 6.58789C 37.5339 6.24154 37.8893 5.9681 38.3359 5.76758C 38.7871 5.56706 39.2816 5.4668 39.8193 5.4668C 40.6715 5.4668 41.3392 5.68099 41.8223 6.10938C 42.3053 6.5332 42.556 7.11882 42.5742 7.86621L 42.5742 11.2705C 42.5742 11.9495 42.6608 12.4896 42.834 12.8906L 42.834 13L 41.5078 13ZM 39.4092 12.0361C 39.8057 12.0361 40.1816 11.9336 40.5371 11.7285C 40.8926 11.5234 41.1501 11.2568 41.3096 10.9287L 41.3096 9.41113L 40.3184 9.41113C 38.7689 9.41113 37.9941 9.86458 37.9941 10.7715C 37.9941 11.168 38.1263 11.4779 38.3906 11.7012C 38.6549 11.9245 38.9945 12.0361 39.4092 12.0361ZM 47.5234 12.1045C 47.9746 12.1045 48.3688 11.9678 48.7061 11.6943C 49.0433 11.4209 49.2301 11.0791 49.2666 10.6689L 50.4629 10.6689C 50.4401 11.0928 50.2943 11.4961 50.0254 11.8789C 49.7565 12.2617 49.3965 12.5671 48.9453 12.7949C 48.4987 13.0228 48.0247 13.1367 47.5234 13.1367C 46.5163 13.1367 45.7142 12.8018 45.1172 12.1318C 44.5247 11.4574 44.2285 10.5368 44.2285 9.37012L 44.2285 9.1582C 44.2285 8.43815 44.3607 7.79785 44.625 7.2373C 44.8893 6.67676 45.2676 6.24154 45.7598 5.93164C 46.2565 5.62174 46.8421 5.4668 47.5166 5.4668C 48.346 5.4668 49.0342 5.71517 49.5811 6.21191C 50.1325 6.70866 50.4264 7.35352 50.4629 8.14648L 49.2666 8.14648C 49.2301 7.66797 49.0479 7.27604 48.7197 6.9707C 48.3962 6.66081 47.9951 6.50586 47.5166 6.50586C 46.874 6.50586 46.375 6.73828 46.0195 7.20312C 45.6686 7.66341 45.4932 8.33105 45.4932 9.20605L 45.4932 9.44531C 45.4932 10.2975 45.6686 10.9538 46.0195 11.4141C 46.3704 11.8743 46.8717 12.1045 47.5234 12.1045ZM 54.3047 11.1475L 56.0273 5.60352L 57.3809 5.60352L 54.4072 14.1416C 53.9469 15.3721 53.2155 15.9873 52.2129 15.9873L 51.9736 15.9668L 51.502 15.8779L 51.502 14.8525L 51.8438 14.8799C 52.2721 14.8799 52.6048 14.7933 52.8418 14.6201C 53.0833 14.4469 53.2816 14.1302 53.4365 13.6699L 53.7168 12.918L 51.0781 5.60352L 52.459 5.60352L 54.3047 11.1475ZM 65.1191 8.56348C 63.9935 8.23991 63.1732 7.84342 62.6582 7.37402C 62.1478 6.90007 61.8926 6.31673 61.8926 5.62402C 61.8926 4.84017 62.2048 4.19303 62.8291 3.68262C 63.458 3.16764 64.2738 2.91016 65.2764 2.91016C 65.96 2.91016 66.5684 3.04232 67.1016 3.30664C 67.6393 3.57096 68.054 3.93555 68.3457 4.40039C 68.6419 4.86523 68.79 5.37337 68.79 5.9248L 67.4707 5.9248C 67.4707 5.32324 67.2793 4.85156 66.8965 4.50977C 66.5137 4.16341 65.9736 3.99023 65.2764 3.99023C 64.6292 3.99023 64.1234 4.13379 63.7588 4.4209C 63.3988 4.70345 63.2188 5.09766 63.2188 5.60352C 63.2188 6.00911 63.3896 6.35319 63.7314 6.63574C 64.0778 6.91374 64.6634 7.16895 65.4883 7.40137C 66.3177 7.63379 66.9648 7.89128 67.4297 8.17383C 67.8991 8.45182 68.2454 8.77767 68.4688 9.15137C 68.6966 9.52507 68.8105 9.96484 68.8105 10.4707C 68.8105 11.2773 68.4961 11.9245 67.8672 12.4121C 67.2383 12.8952 66.3975 13.1367 65.3447 13.1367C 64.6611 13.1367 64.0231 13.0068 63.4307 12.7471C 62.8382 12.4827 62.3802 12.1227 62.0566 11.667C 61.7376 11.2113 61.5781 10.694 61.5781 10.1152L 62.8975 10.1152C 62.8975 10.7168 63.1185 11.193 63.5605 11.5439C 64.0072 11.8903 64.6019 12.0635 65.3447 12.0635C 66.0374 12.0635 66.5684 11.9222 66.9375 11.6396C 67.3066 11.3571 67.4912 10.972 67.4912 10.4844C 67.4912 9.99674 67.3203 9.62077 66.9785 9.35645C 66.6367 9.08757 66.0169 8.82324 65.1191 8.56348ZM 73.2676 12.1045C 73.7188 12.1045 74.113 11.9678 74.4502 11.6943C 74.7874 11.4209 74.9743 11.0791 75.0107 10.6689L 76.207 10.6689C 76.1842 11.0928 76.0384 11.4961 75.7695 11.8789C 75.5007 12.2617 75.1406 12.5671 74.6895 12.7949C 74.2428 13.0228 73.7689 13.1367 73.2676 13.1367C 72.2604 13.1367 71.4583 12.8018 70.8613 12.1318C 70.2689 11.4574 69.9727 10.5368 69.9727 9.37012L 69.9727 9.1582C 69.9727 8.43815 70.1048 7.79785 70.3691 7.2373C 70.6335 6.67676 71.0117 6.24154 71.5039 5.93164C 72.0007 5.62174 72.5863 5.4668 73.2607 5.4668C 74.0902 5.4668 74.7783 5.71517 75.3252 6.21191C 75.8766 6.70866 76.1706 7.35352 76.207 8.14648L 75.0107 8.14648C 74.9743 7.66797 74.792 7.27604 74.4639 6.9707C 74.1403 6.66081 73.7393 6.50586 73.2607 6.50586C 72.6182 6.50586 72.1191 6.73828 71.7637 7.20312C 71.4128 7.66341 71.2373 8.33105 71.2373 9.20605L 71.2373 9.44531C 71.2373 10.2975 71.4128 10.9538 71.7637 11.4141C 72.1146 11.8743 72.6159 12.1045 73.2676 12.1045ZM 77.2939 9.2334C 77.2939 8.50879 77.4352 7.8571 77.7178 7.27832C 78.0049 6.69954 78.4014 6.25293 78.9072 5.93848C 79.4176 5.62402 79.9987 5.4668 80.6504 5.4668C 81.6576 5.4668 82.471 5.81543 83.0908 6.5127C 83.7152 7.20996 84.0273 8.13737 84.0273 9.29492L 84.0273 9.38379C 84.0273 10.1038 83.8883 10.751 83.6104 11.3252C 83.3369 11.8949 82.9427 12.3392 82.4277 12.6582C 81.9173 12.9772 81.3294 13.1367 80.6641 13.1367C 79.6615 13.1367 78.848 12.7881 78.2236 12.0908C 77.6038 11.3936 77.2939 10.4707 77.2939 9.32227L 77.2939 9.2334ZM 78.5654 9.38379C 78.5654 10.2041 78.7546 10.8626 79.1328 11.3594C 79.5156 11.8561 80.026 12.1045 80.6641 12.1045C 81.3066 12.1045 81.8171 11.8538 82.1953 11.3525C 82.5736 10.8467 82.7627 10.1403 82.7627 9.2334C 82.7627 8.4222 82.569 7.76595 82.1816 7.26465C 81.7988 6.75879 81.2884 6.50586 80.6504 6.50586C 80.026 6.50586 79.5225 6.75423 79.1396 7.25098C 78.7568 7.74772 78.5654 8.45866 78.5654 9.38379ZM 89.1885 6.73828C 88.9971 6.70638 88.7897 6.69043 88.5664 6.69043C 87.737 6.69043 87.1742 7.04362 86.8779 7.75L 86.8779 13L 85.6133 13L 85.6133 5.60352L 86.8438 5.60352L 86.8643 6.45801C 87.279 5.7972 87.8669 5.4668 88.6279 5.4668C 88.874 5.4668 89.0609 5.4987 89.1885 5.5625L 89.1885 6.73828ZM 93.29 13.1367C 92.2874 13.1367 91.4717 12.8086 90.8428 12.1523C 90.2139 11.4915 89.8994 10.6097 89.8994 9.50684L 89.8994 9.27441C 89.8994 8.54069 90.0384 7.88672 90.3164 7.3125C 90.599 6.73372 90.9909 6.28255 91.4922 5.95898C 91.998 5.63086 92.5449 5.4668 93.1328 5.4668C 94.0944 5.4668 94.8418 5.78353 95.375 6.41699C 95.9082 7.05046 96.1748 7.95736 96.1748 9.1377L 96.1748 9.66406L 91.1641 9.66406C 91.1823 10.3932 91.3942 10.9834 91.7998 11.4346C 92.21 11.8812 92.7295 12.1045 93.3584 12.1045C 93.805 12.1045 94.1833 12.0133 94.4932 11.8311C 94.8031 11.6488 95.0742 11.4072 95.3066 11.1064L 96.0791 11.708C 95.4593 12.6605 94.5296 13.1367 93.29 13.1367ZM 93.1328 6.50586C 92.6224 6.50586 92.194 6.69271 91.8477 7.06641C 91.5013 7.43555 91.2871 7.95508 91.2051 8.625L 94.9102 8.625L 94.9102 8.5293C 94.8737 7.88672 94.7005 7.38997 94.3906 7.03906C 94.0807 6.68359 93.6615 6.50586 93.1328 6.50586ZM 107.509 13L 100.987 13L 100.987 12.0908L 104.433 8.2627C 104.943 7.68392 105.294 7.21452 105.485 6.85449C 105.681 6.48991 105.779 6.11393 105.779 5.72656C 105.779 5.20703 105.622 4.78092 105.308 4.44824C 104.993 4.11556 104.574 3.94922 104.05 3.94922C 103.421 3.94922 102.931 4.12923 102.58 4.48926C 102.234 4.84473 102.061 5.34147 102.061 5.97949L 100.796 5.97949C 100.796 5.06348 101.09 4.32292 101.678 3.75781C 102.27 3.19271 103.061 2.91016 104.05 2.91016C 104.975 2.91016 105.706 3.15397 106.244 3.6416C 106.782 4.12467 107.051 4.76953 107.051 5.57617C 107.051 6.55599 106.426 7.72266 105.178 9.07617L 102.512 11.9678L 107.509 11.9678L 107.509 13Z\" id=\"path7_fill\"/>\n",
       "<path d=\"M 6.65137 10.4023L 2.48145 10.4023L 1.54492 13L 0.191406 13L 3.99219 3.04688L 5.14062 3.04688L 8.94824 13L 7.60156 13L 6.65137 10.4023ZM 2.87793 9.32227L 6.26172 9.32227L 4.56641 4.66699L 2.87793 9.32227ZM 13.0566 12.1045C 13.5078 12.1045 13.902 11.9678 14.2393 11.6943C 14.5765 11.4209 14.7633 11.0791 14.7998 10.6689L 15.9961 10.6689C 15.9733 11.0928 15.8275 11.4961 15.5586 11.8789C 15.2897 12.2617 14.9297 12.5671 14.4785 12.7949C 14.0319 13.0228 13.5579 13.1367 13.0566 13.1367C 12.0495 13.1367 11.2474 12.8018 10.6504 12.1318C 10.0579 11.4574 9.76172 10.5368 9.76172 9.37012L 9.76172 9.1582C 9.76172 8.43815 9.89388 7.79785 10.1582 7.2373C 10.4225 6.67676 10.8008 6.24154 11.293 5.93164C 11.7897 5.62174 12.3753 5.4668 13.0498 5.4668C 13.8792 5.4668 14.5674 5.71517 15.1143 6.21191C 15.6657 6.70866 15.9596 7.35352 15.9961 8.14648L 14.7998 8.14648C 14.7633 7.66797 14.5811 7.27604 14.2529 6.9707C 13.9294 6.66081 13.5283 6.50586 13.0498 6.50586C 12.4072 6.50586 11.9082 6.73828 11.5527 7.20312C 11.2018 7.66341 11.0264 8.33105 11.0264 9.20605L 11.0264 9.44531C 11.0264 10.2975 11.2018 10.9538 11.5527 11.4141C 11.9036 11.8743 12.4049 12.1045 13.0566 12.1045ZM 20.3848 12.1045C 20.8359 12.1045 21.2301 11.9678 21.5674 11.6943C 21.9046 11.4209 22.0915 11.0791 22.1279 10.6689L 23.3242 10.6689C 23.3014 11.0928 23.1556 11.4961 22.8867 11.8789C 22.6178 12.2617 22.2578 12.5671 21.8066 12.7949C 21.36 13.0228 20.8861 13.1367 20.3848 13.1367C 19.3776 13.1367 18.5755 12.8018 17.9785 12.1318C 17.3861 11.4574 17.0898 10.5368 17.0898 9.37012L 17.0898 9.1582C 17.0898 8.43815 17.222 7.79785 17.4863 7.2373C 17.7507 6.67676 18.1289 6.24154 18.6211 5.93164C 19.1178 5.62174 19.7035 5.4668 20.3779 5.4668C 21.2074 5.4668 21.8955 5.71517 22.4424 6.21191C 22.9938 6.70866 23.2878 7.35352 23.3242 8.14648L 22.1279 8.14648C 22.0915 7.66797 21.9092 7.27604 21.5811 6.9707C 21.2575 6.66081 20.8564 6.50586 20.3779 6.50586C 19.7354 6.50586 19.2363 6.73828 18.8809 7.20312C 18.5299 7.66341 18.3545 8.33105 18.3545 9.20605L 18.3545 9.44531C 18.3545 10.2975 18.5299 10.9538 18.8809 11.4141C 19.2318 11.8743 19.7331 12.1045 20.3848 12.1045ZM 29.3125 12.2686C 28.8203 12.8473 28.098 13.1367 27.1455 13.1367C 26.3571 13.1367 25.7555 12.9089 25.3408 12.4531C 24.9307 11.9928 24.7233 11.3138 24.7188 10.416L 24.7188 5.60352L 25.9834 5.60352L 25.9834 10.3818C 25.9834 11.5029 26.4391 12.0635 27.3506 12.0635C 28.3167 12.0635 28.9593 11.7035 29.2783 10.9834L 29.2783 5.60352L 30.543 5.60352L 30.543 13L 29.3398 13L 29.3125 12.2686ZM 36.0459 6.73828C 35.8545 6.70638 35.6471 6.69043 35.4238 6.69043C 34.5944 6.69043 34.0316 7.04362 33.7354 7.75L 33.7354 13L 32.4707 13L 32.4707 5.60352L 33.7012 5.60352L 33.7217 6.45801C 34.1364 5.7972 34.7243 5.4668 35.4854 5.4668C 35.7314 5.4668 35.9183 5.4987 36.0459 5.5625L 36.0459 6.73828ZM 41.5078 13C 41.4349 12.8542 41.3757 12.5944 41.3301 12.2207C 40.7422 12.8314 40.0404 13.1367 39.2246 13.1367C 38.4954 13.1367 37.8962 12.9316 37.4268 12.5215C 36.9619 12.1068 36.7295 11.5827 36.7295 10.9492C 36.7295 10.179 37.0212 9.58203 37.6045 9.1582C 38.1924 8.72982 39.0173 8.51562 40.0791 8.51562L 41.3096 8.51562L 41.3096 7.93457C 41.3096 7.49251 41.1774 7.1416 40.9131 6.88184C 40.6488 6.61751 40.2591 6.48535 39.7441 6.48535C 39.293 6.48535 38.9147 6.59928 38.6094 6.82715C 38.304 7.05501 38.1514 7.33073 38.1514 7.6543L 36.8799 7.6543C 36.8799 7.28516 37.0098 6.92969 37.2695 6.58789C 37.5339 6.24154 37.8893 5.9681 38.3359 5.76758C 38.7871 5.56706 39.2816 5.4668 39.8193 5.4668C 40.6715 5.4668 41.3392 5.68099 41.8223 6.10938C 42.3053 6.5332 42.556 7.11882 42.5742 7.86621L 42.5742 11.2705C 42.5742 11.9495 42.6608 12.4896 42.834 12.8906L 42.834 13L 41.5078 13ZM 39.4092 12.0361C 39.8057 12.0361 40.1816 11.9336 40.5371 11.7285C 40.8926 11.5234 41.1501 11.2568 41.3096 10.9287L 41.3096 9.41113L 40.3184 9.41113C 38.7689 9.41113 37.9941 9.86458 37.9941 10.7715C 37.9941 11.168 38.1263 11.4779 38.3906 11.7012C 38.6549 11.9245 38.9945 12.0361 39.4092 12.0361ZM 47.5234 12.1045C 47.9746 12.1045 48.3688 11.9678 48.7061 11.6943C 49.0433 11.4209 49.2301 11.0791 49.2666 10.6689L 50.4629 10.6689C 50.4401 11.0928 50.2943 11.4961 50.0254 11.8789C 49.7565 12.2617 49.3965 12.5671 48.9453 12.7949C 48.4987 13.0228 48.0247 13.1367 47.5234 13.1367C 46.5163 13.1367 45.7142 12.8018 45.1172 12.1318C 44.5247 11.4574 44.2285 10.5368 44.2285 9.37012L 44.2285 9.1582C 44.2285 8.43815 44.3607 7.79785 44.625 7.2373C 44.8893 6.67676 45.2676 6.24154 45.7598 5.93164C 46.2565 5.62174 46.8421 5.4668 47.5166 5.4668C 48.346 5.4668 49.0342 5.71517 49.5811 6.21191C 50.1325 6.70866 50.4264 7.35352 50.4629 8.14648L 49.2666 8.14648C 49.2301 7.66797 49.0479 7.27604 48.7197 6.9707C 48.3962 6.66081 47.9951 6.50586 47.5166 6.50586C 46.874 6.50586 46.375 6.73828 46.0195 7.20312C 45.6686 7.66341 45.4932 8.33105 45.4932 9.20605L 45.4932 9.44531C 45.4932 10.2975 45.6686 10.9538 46.0195 11.4141C 46.3704 11.8743 46.8717 12.1045 47.5234 12.1045ZM 54.3047 11.1475L 56.0273 5.60352L 57.3809 5.60352L 54.4072 14.1416C 53.9469 15.3721 53.2155 15.9873 52.2129 15.9873L 51.9736 15.9668L 51.502 15.8779L 51.502 14.8525L 51.8438 14.8799C 52.2721 14.8799 52.6048 14.7933 52.8418 14.6201C 53.0833 14.4469 53.2816 14.1302 53.4365 13.6699L 53.7168 12.918L 51.0781 5.60352L 52.459 5.60352L 54.3047 11.1475ZM 65.1191 8.56348C 63.9935 8.23991 63.1732 7.84342 62.6582 7.37402C 62.1478 6.90007 61.8926 6.31673 61.8926 5.62402C 61.8926 4.84017 62.2048 4.19303 62.8291 3.68262C 63.458 3.16764 64.2738 2.91016 65.2764 2.91016C 65.96 2.91016 66.5684 3.04232 67.1016 3.30664C 67.6393 3.57096 68.054 3.93555 68.3457 4.40039C 68.6419 4.86523 68.79 5.37337 68.79 5.9248L 67.4707 5.9248C 67.4707 5.32324 67.2793 4.85156 66.8965 4.50977C 66.5137 4.16341 65.9736 3.99023 65.2764 3.99023C 64.6292 3.99023 64.1234 4.13379 63.7588 4.4209C 63.3988 4.70345 63.2188 5.09766 63.2188 5.60352C 63.2188 6.00911 63.3896 6.35319 63.7314 6.63574C 64.0778 6.91374 64.6634 7.16895 65.4883 7.40137C 66.3177 7.63379 66.9648 7.89128 67.4297 8.17383C 67.8991 8.45182 68.2454 8.77767 68.4688 9.15137C 68.6966 9.52507 68.8105 9.96484 68.8105 10.4707C 68.8105 11.2773 68.4961 11.9245 67.8672 12.4121C 67.2383 12.8952 66.3975 13.1367 65.3447 13.1367C 64.6611 13.1367 64.0231 13.0068 63.4307 12.7471C 62.8382 12.4827 62.3802 12.1227 62.0566 11.667C 61.7376 11.2113 61.5781 10.694 61.5781 10.1152L 62.8975 10.1152C 62.8975 10.7168 63.1185 11.193 63.5605 11.5439C 64.0072 11.8903 64.6019 12.0635 65.3447 12.0635C 66.0374 12.0635 66.5684 11.9222 66.9375 11.6396C 67.3066 11.3571 67.4912 10.972 67.4912 10.4844C 67.4912 9.99674 67.3203 9.62077 66.9785 9.35645C 66.6367 9.08757 66.0169 8.82324 65.1191 8.56348ZM 73.2676 12.1045C 73.7188 12.1045 74.113 11.9678 74.4502 11.6943C 74.7874 11.4209 74.9743 11.0791 75.0107 10.6689L 76.207 10.6689C 76.1842 11.0928 76.0384 11.4961 75.7695 11.8789C 75.5007 12.2617 75.1406 12.5671 74.6895 12.7949C 74.2428 13.0228 73.7689 13.1367 73.2676 13.1367C 72.2604 13.1367 71.4583 12.8018 70.8613 12.1318C 70.2689 11.4574 69.9727 10.5368 69.9727 9.37012L 69.9727 9.1582C 69.9727 8.43815 70.1048 7.79785 70.3691 7.2373C 70.6335 6.67676 71.0117 6.24154 71.5039 5.93164C 72.0007 5.62174 72.5863 5.4668 73.2607 5.4668C 74.0902 5.4668 74.7783 5.71517 75.3252 6.21191C 75.8766 6.70866 76.1706 7.35352 76.207 8.14648L 75.0107 8.14648C 74.9743 7.66797 74.792 7.27604 74.4639 6.9707C 74.1403 6.66081 73.7393 6.50586 73.2607 6.50586C 72.6182 6.50586 72.1191 6.73828 71.7637 7.20312C 71.4128 7.66341 71.2373 8.33105 71.2373 9.20605L 71.2373 9.44531C 71.2373 10.2975 71.4128 10.9538 71.7637 11.4141C 72.1146 11.8743 72.6159 12.1045 73.2676 12.1045ZM 77.2939 9.2334C 77.2939 8.50879 77.4352 7.8571 77.7178 7.27832C 78.0049 6.69954 78.4014 6.25293 78.9072 5.93848C 79.4176 5.62402 79.9987 5.4668 80.6504 5.4668C 81.6576 5.4668 82.471 5.81543 83.0908 6.5127C 83.7152 7.20996 84.0273 8.13737 84.0273 9.29492L 84.0273 9.38379C 84.0273 10.1038 83.8883 10.751 83.6104 11.3252C 83.3369 11.8949 82.9427 12.3392 82.4277 12.6582C 81.9173 12.9772 81.3294 13.1367 80.6641 13.1367C 79.6615 13.1367 78.848 12.7881 78.2236 12.0908C 77.6038 11.3936 77.2939 10.4707 77.2939 9.32227L 77.2939 9.2334ZM 78.5654 9.38379C 78.5654 10.2041 78.7546 10.8626 79.1328 11.3594C 79.5156 11.8561 80.026 12.1045 80.6641 12.1045C 81.3066 12.1045 81.8171 11.8538 82.1953 11.3525C 82.5736 10.8467 82.7627 10.1403 82.7627 9.2334C 82.7627 8.4222 82.569 7.76595 82.1816 7.26465C 81.7988 6.75879 81.2884 6.50586 80.6504 6.50586C 80.026 6.50586 79.5225 6.75423 79.1396 7.25098C 78.7568 7.74772 78.5654 8.45866 78.5654 9.38379ZM 89.1885 6.73828C 88.9971 6.70638 88.7897 6.69043 88.5664 6.69043C 87.737 6.69043 87.1742 7.04362 86.8779 7.75L 86.8779 13L 85.6133 13L 85.6133 5.60352L 86.8438 5.60352L 86.8643 6.45801C 87.279 5.7972 87.8669 5.4668 88.6279 5.4668C 88.874 5.4668 89.0609 5.4987 89.1885 5.5625L 89.1885 6.73828ZM 93.29 13.1367C 92.2874 13.1367 91.4717 12.8086 90.8428 12.1523C 90.2139 11.4915 89.8994 10.6097 89.8994 9.50684L 89.8994 9.27441C 89.8994 8.54069 90.0384 7.88672 90.3164 7.3125C 90.599 6.73372 90.9909 6.28255 91.4922 5.95898C 91.998 5.63086 92.5449 5.4668 93.1328 5.4668C 94.0944 5.4668 94.8418 5.78353 95.375 6.41699C 95.9082 7.05046 96.1748 7.95736 96.1748 9.1377L 96.1748 9.66406L 91.1641 9.66406C 91.1823 10.3932 91.3942 10.9834 91.7998 11.4346C 92.21 11.8812 92.7295 12.1045 93.3584 12.1045C 93.805 12.1045 94.1833 12.0133 94.4932 11.8311C 94.8031 11.6488 95.0742 11.4072 95.3066 11.1064L 96.0791 11.708C 95.4593 12.6605 94.5296 13.1367 93.29 13.1367ZM 93.1328 6.50586C 92.6224 6.50586 92.194 6.69271 91.8477 7.06641C 91.5013 7.43555 91.2871 7.95508 91.2051 8.625L 94.9102 8.625L 94.9102 8.5293C 94.8737 7.88672 94.7005 7.38997 94.3906 7.03906C 94.0807 6.68359 93.6615 6.50586 93.1328 6.50586ZM 102.826 7.4082L 103.776 7.4082C 104.373 7.39909 104.843 7.24186 105.185 6.93652C 105.526 6.63118 105.697 6.21875 105.697 5.69922C 105.697 4.53255 105.116 3.94922 103.954 3.94922C 103.407 3.94922 102.97 4.10645 102.642 4.4209C 102.318 4.73079 102.156 5.14323 102.156 5.6582L 100.892 5.6582C 100.892 4.86979 101.179 4.21582 101.753 3.69629C 102.332 3.1722 103.065 2.91016 103.954 2.91016C 104.893 2.91016 105.629 3.15853 106.162 3.65527C 106.695 4.15202 106.962 4.84245 106.962 5.72656C 106.962 6.15951 106.821 6.57878 106.538 6.98438C 106.26 7.38997 105.88 7.69303 105.396 7.89355C 105.943 8.06673 106.365 8.35384 106.661 8.75488C 106.962 9.15592 107.112 9.64583 107.112 10.2246C 107.112 11.1178 106.821 11.8265 106.237 12.3506C 105.654 12.8747 104.895 13.1367 103.961 13.1367C 103.027 13.1367 102.266 12.8838 101.678 12.3779C 101.094 11.8721 100.803 11.2044 100.803 10.375L 102.074 10.375C 102.074 10.8991 102.245 11.3184 102.587 11.6328C 102.929 11.9473 103.387 12.1045 103.961 12.1045C 104.572 12.1045 105.039 11.945 105.362 11.626C 105.686 11.307 105.848 10.849 105.848 10.252C 105.848 9.67318 105.67 9.22884 105.314 8.91895C 104.959 8.60905 104.446 8.44954 103.776 8.44043L 102.826 8.44043L 102.826 7.4082Z\" id=\"path8_fill\"/>\n",
       "<path d=\"M 8.03223 4.12695L 4.83301 4.12695L 4.83301 13L 3.52734 13L 3.52734 4.12695L 0.334961 4.12695L 0.334961 3.04688L 8.03223 3.04688L 8.03223 4.12695ZM 12.3662 6.73828C 12.1748 6.70638 11.9674 6.69043 11.7441 6.69043C 10.9147 6.69043 10.3519 7.04362 10.0557 7.75L 10.0557 13L 8.79102 13L 8.79102 5.60352L 10.0215 5.60352L 10.042 6.45801C 10.4567 5.7972 11.0446 5.4668 11.8057 5.4668C 12.0518 5.4668 12.2386 5.4987 12.3662 5.5625L 12.3662 6.73828ZM 17.8281 13C 17.7552 12.8542 17.696 12.5944 17.6504 12.2207C 17.0625 12.8314 16.3607 13.1367 15.5449 13.1367C 14.8158 13.1367 14.2165 12.9316 13.7471 12.5215C 13.2822 12.1068 13.0498 11.5827 13.0498 10.9492C 13.0498 10.179 13.3415 9.58203 13.9248 9.1582C 14.5127 8.72982 15.3376 8.51562 16.3994 8.51562L 17.6299 8.51562L 17.6299 7.93457C 17.6299 7.49251 17.4977 7.1416 17.2334 6.88184C 16.9691 6.61751 16.5794 6.48535 16.0645 6.48535C 15.6133 6.48535 15.235 6.59928 14.9297 6.82715C 14.6243 7.05501 14.4717 7.33073 14.4717 7.6543L 13.2002 7.6543C 13.2002 7.28516 13.3301 6.92969 13.5898 6.58789C 13.8542 6.24154 14.2096 5.9681 14.6562 5.76758C 15.1074 5.56706 15.6019 5.4668 16.1396 5.4668C 16.9919 5.4668 17.6595 5.68099 18.1426 6.10938C 18.6257 6.5332 18.8763 7.11882 18.8945 7.86621L 18.8945 11.2705C 18.8945 11.9495 18.9811 12.4896 19.1543 12.8906L 19.1543 13L 17.8281 13ZM 15.7295 12.0361C 16.126 12.0361 16.502 11.9336 16.8574 11.7285C 17.2129 11.5234 17.4704 11.2568 17.6299 10.9287L 17.6299 9.41113L 16.6387 9.41113C 15.0892 9.41113 14.3145 9.86458 14.3145 10.7715C 14.3145 11.168 14.4466 11.4779 14.7109 11.7012C 14.9753 11.9245 15.3148 12.0361 15.7295 12.0361ZM 22.251 13L 20.9863 13L 20.9863 5.60352L 22.251 5.60352L 22.251 13ZM 20.8838 3.6416C 20.8838 3.43652 20.9453 3.26335 21.0684 3.12207C 21.196 2.98079 21.3828 2.91016 21.6289 2.91016C 21.875 2.91016 22.0618 2.98079 22.1895 3.12207C 22.3171 3.26335 22.3809 3.43652 22.3809 3.6416C 22.3809 3.84668 22.3171 4.01758 22.1895 4.1543C 22.0618 4.29102 21.875 4.35938 21.6289 4.35938C 21.3828 4.35938 21.196 4.29102 21.0684 4.1543C 20.9453 4.01758 20.8838 3.84668 20.8838 3.6416ZM 25.4775 5.60352L 25.5186 6.5332C 26.0837 5.82227 26.8219 5.4668 27.7334 5.4668C 29.2965 5.4668 30.085 6.34863 30.0986 8.1123L 30.0986 13L 28.834 13L 28.834 8.10547C 28.8294 7.57227 28.7064 7.17806 28.4648 6.92285C 28.2279 6.66764 27.8564 6.54004 27.3506 6.54004C 26.9404 6.54004 26.5804 6.64941 26.2705 6.86816C 25.9606 7.08691 25.7191 7.37402 25.5459 7.72949L 25.5459 13L 24.2812 13L 24.2812 5.60352L 25.4775 5.60352Z\" id=\"path9_fill\"/>\n",
       "<path d=\"M 8.03223 4.12695L 4.83301 4.12695L 4.83301 13L 3.52734 13L 3.52734 4.12695L 0.334961 4.12695L 0.334961 3.04688L 8.03223 3.04688L 8.03223 4.12695ZM 11.6963 13.1367C 10.6937 13.1367 9.87793 12.8086 9.24902 12.1523C 8.62012 11.4915 8.30566 10.6097 8.30566 9.50684L 8.30566 9.27441C 8.30566 8.54069 8.44466 7.88672 8.72266 7.3125C 9.00521 6.73372 9.39714 6.28255 9.89844 5.95898C 10.4043 5.63086 10.9512 5.4668 11.5391 5.4668C 12.5007 5.4668 13.248 5.78353 13.7812 6.41699C 14.3145 7.05046 14.5811 7.95736 14.5811 9.1377L 14.5811 9.66406L 9.57031 9.66406C 9.58854 10.3932 9.80046 10.9834 10.2061 11.4346C 10.6162 11.8812 11.1357 12.1045 11.7646 12.1045C 12.2113 12.1045 12.5895 12.0133 12.8994 11.8311C 13.2093 11.6488 13.4805 11.4072 13.7129 11.1064L 14.4854 11.708C 13.8656 12.6605 12.9359 13.1367 11.6963 13.1367ZM 11.5391 6.50586C 11.0286 6.50586 10.6003 6.69271 10.2539 7.06641C 9.90755 7.43555 9.69336 7.95508 9.61133 8.625L 13.3164 8.625L 13.3164 8.5293C 13.2799 7.88672 13.1068 7.38997 12.7969 7.03906C 12.487 6.68359 12.0677 6.50586 11.5391 6.50586ZM 20.3574 11.0381C 20.3574 10.6963 20.2275 10.432 19.9678 10.2451C 19.7126 10.0537 19.2637 9.88965 18.6211 9.75293C 17.9831 9.61621 17.4749 9.45215 17.0967 9.26074C 16.723 9.06934 16.445 8.84147 16.2627 8.57715C 16.085 8.31283 15.9961 7.99837 15.9961 7.63379C 15.9961 7.02767 16.2513 6.51497 16.7617 6.0957C 17.2767 5.67643 17.9329 5.4668 18.7305 5.4668C 19.569 5.4668 20.248 5.68327 20.7676 6.11621C 21.2917 6.54915 21.5537 7.10286 21.5537 7.77734L 20.2822 7.77734C 20.2822 7.43099 20.1341 7.13249 19.8379 6.88184C 19.5462 6.63118 19.1771 6.50586 18.7305 6.50586C 18.2702 6.50586 17.9102 6.60612 17.6504 6.80664C 17.3906 7.00716 17.2607 7.26921 17.2607 7.59277C 17.2607 7.89811 17.3815 8.12826 17.623 8.2832C 17.8646 8.43815 18.2998 8.58626 18.9287 8.72754C 19.5622 8.86882 20.0749 9.03743 20.4668 9.2334C 20.8587 9.42936 21.1481 9.66634 21.335 9.94434C 21.5264 10.2178 21.6221 10.5527 21.6221 10.9492C 21.6221 11.61 21.3577 12.141 20.8291 12.542C 20.3005 12.9385 19.6146 13.1367 18.7715 13.1367C 18.179 13.1367 17.6549 13.0319 17.1992 12.8223C 16.7435 12.6126 16.3857 12.321 16.126 11.9473C 15.8708 11.569 15.7432 11.1611 15.7432 10.7236L 17.0078 10.7236C 17.0306 11.1475 17.1992 11.4847 17.5137 11.7354C 17.8327 11.9814 18.252 12.1045 18.7715 12.1045C 19.25 12.1045 19.6328 12.0088 19.9199 11.8174C 20.2116 11.6214 20.3574 11.3617 20.3574 11.0381ZM 24.9854 3.8125L 24.9854 5.60352L 26.3662 5.60352L 26.3662 6.58105L 24.9854 6.58105L 24.9854 11.168C 24.9854 11.4642 25.0469 11.6875 25.1699 11.8379C 25.293 11.9837 25.5026 12.0566 25.7988 12.0566C 25.9447 12.0566 26.1452 12.0293 26.4004 11.9746L 26.4004 13C 26.0677 13.0911 25.7441 13.1367 25.4297 13.1367C 24.8646 13.1367 24.4385 12.9658 24.1514 12.624C 23.8643 12.2822 23.7207 11.7969 23.7207 11.168L 23.7207 6.58105L 22.374 6.58105L 22.374 5.60352L 23.7207 5.60352L 23.7207 3.8125L 24.9854 3.8125Z\" id=\"path10_fill\"/>\n",
       "<path d=\"M 6.65137 10.4023L 2.48145 10.4023L 1.54492 13L 0.191406 13L 3.99219 3.04688L 5.14062 3.04688L 8.94824 13L 7.60156 13L 6.65137 10.4023ZM 2.87793 9.32227L 6.26172 9.32227L 4.56641 4.66699L 2.87793 9.32227ZM 13.0566 12.1045C 13.5078 12.1045 13.902 11.9678 14.2393 11.6943C 14.5765 11.4209 14.7633 11.0791 14.7998 10.6689L 15.9961 10.6689C 15.9733 11.0928 15.8275 11.4961 15.5586 11.8789C 15.2897 12.2617 14.9297 12.5671 14.4785 12.7949C 14.0319 13.0228 13.5579 13.1367 13.0566 13.1367C 12.0495 13.1367 11.2474 12.8018 10.6504 12.1318C 10.0579 11.4574 9.76172 10.5368 9.76172 9.37012L 9.76172 9.1582C 9.76172 8.43815 9.89388 7.79785 10.1582 7.2373C 10.4225 6.67676 10.8008 6.24154 11.293 5.93164C 11.7897 5.62174 12.3753 5.4668 13.0498 5.4668C 13.8792 5.4668 14.5674 5.71517 15.1143 6.21191C 15.6657 6.70866 15.9596 7.35352 15.9961 8.14648L 14.7998 8.14648C 14.7633 7.66797 14.5811 7.27604 14.2529 6.9707C 13.9294 6.66081 13.5283 6.50586 13.0498 6.50586C 12.4072 6.50586 11.9082 6.73828 11.5527 7.20312C 11.2018 7.66341 11.0264 8.33105 11.0264 9.20605L 11.0264 9.44531C 11.0264 10.2975 11.2018 10.9538 11.5527 11.4141C 11.9036 11.8743 12.4049 12.1045 13.0566 12.1045ZM 20.3848 12.1045C 20.8359 12.1045 21.2301 11.9678 21.5674 11.6943C 21.9046 11.4209 22.0915 11.0791 22.1279 10.6689L 23.3242 10.6689C 23.3014 11.0928 23.1556 11.4961 22.8867 11.8789C 22.6178 12.2617 22.2578 12.5671 21.8066 12.7949C 21.36 13.0228 20.8861 13.1367 20.3848 13.1367C 19.3776 13.1367 18.5755 12.8018 17.9785 12.1318C 17.3861 11.4574 17.0898 10.5368 17.0898 9.37012L 17.0898 9.1582C 17.0898 8.43815 17.222 7.79785 17.4863 7.2373C 17.7507 6.67676 18.1289 6.24154 18.6211 5.93164C 19.1178 5.62174 19.7035 5.4668 20.3779 5.4668C 21.2074 5.4668 21.8955 5.71517 22.4424 6.21191C 22.9938 6.70866 23.2878 7.35352 23.3242 8.14648L 22.1279 8.14648C 22.0915 7.66797 21.9092 7.27604 21.5811 6.9707C 21.2575 6.66081 20.8564 6.50586 20.3779 6.50586C 19.7354 6.50586 19.2363 6.73828 18.8809 7.20312C 18.5299 7.66341 18.3545 8.33105 18.3545 9.20605L 18.3545 9.44531C 18.3545 10.2975 18.5299 10.9538 18.8809 11.4141C 19.2318 11.8743 19.7331 12.1045 20.3848 12.1045ZM 29.3125 12.2686C 28.8203 12.8473 28.098 13.1367 27.1455 13.1367C 26.3571 13.1367 25.7555 12.9089 25.3408 12.4531C 24.9307 11.9928 24.7233 11.3138 24.7188 10.416L 24.7188 5.60352L 25.9834 5.60352L 25.9834 10.3818C 25.9834 11.5029 26.4391 12.0635 27.3506 12.0635C 28.3167 12.0635 28.9593 11.7035 29.2783 10.9834L 29.2783 5.60352L 30.543 5.60352L 30.543 13L 29.3398 13L 29.3125 12.2686ZM 36.0459 6.73828C 35.8545 6.70638 35.6471 6.69043 35.4238 6.69043C 34.5944 6.69043 34.0316 7.04362 33.7354 7.75L 33.7354 13L 32.4707 13L 32.4707 5.60352L 33.7012 5.60352L 33.7217 6.45801C 34.1364 5.7972 34.7243 5.4668 35.4854 5.4668C 35.7314 5.4668 35.9183 5.4987 36.0459 5.5625L 36.0459 6.73828ZM 41.5078 13C 41.4349 12.8542 41.3757 12.5944 41.3301 12.2207C 40.7422 12.8314 40.0404 13.1367 39.2246 13.1367C 38.4954 13.1367 37.8962 12.9316 37.4268 12.5215C 36.9619 12.1068 36.7295 11.5827 36.7295 10.9492C 36.7295 10.179 37.0212 9.58203 37.6045 9.1582C 38.1924 8.72982 39.0173 8.51562 40.0791 8.51562L 41.3096 8.51562L 41.3096 7.93457C 41.3096 7.49251 41.1774 7.1416 40.9131 6.88184C 40.6488 6.61751 40.2591 6.48535 39.7441 6.48535C 39.293 6.48535 38.9147 6.59928 38.6094 6.82715C 38.304 7.05501 38.1514 7.33073 38.1514 7.6543L 36.8799 7.6543C 36.8799 7.28516 37.0098 6.92969 37.2695 6.58789C 37.5339 6.24154 37.8893 5.9681 38.3359 5.76758C 38.7871 5.56706 39.2816 5.4668 39.8193 5.4668C 40.6715 5.4668 41.3392 5.68099 41.8223 6.10938C 42.3053 6.5332 42.556 7.11882 42.5742 7.86621L 42.5742 11.2705C 42.5742 11.9495 42.6608 12.4896 42.834 12.8906L 42.834 13L 41.5078 13ZM 39.4092 12.0361C 39.8057 12.0361 40.1816 11.9336 40.5371 11.7285C 40.8926 11.5234 41.1501 11.2568 41.3096 10.9287L 41.3096 9.41113L 40.3184 9.41113C 38.7689 9.41113 37.9941 9.86458 37.9941 10.7715C 37.9941 11.168 38.1263 11.4779 38.3906 11.7012C 38.6549 11.9245 38.9945 12.0361 39.4092 12.0361ZM 47.5234 12.1045C 47.9746 12.1045 48.3688 11.9678 48.7061 11.6943C 49.0433 11.4209 49.2301 11.0791 49.2666 10.6689L 50.4629 10.6689C 50.4401 11.0928 50.2943 11.4961 50.0254 11.8789C 49.7565 12.2617 49.3965 12.5671 48.9453 12.7949C 48.4987 13.0228 48.0247 13.1367 47.5234 13.1367C 46.5163 13.1367 45.7142 12.8018 45.1172 12.1318C 44.5247 11.4574 44.2285 10.5368 44.2285 9.37012L 44.2285 9.1582C 44.2285 8.43815 44.3607 7.79785 44.625 7.2373C 44.8893 6.67676 45.2676 6.24154 45.7598 5.93164C 46.2565 5.62174 46.8421 5.4668 47.5166 5.4668C 48.346 5.4668 49.0342 5.71517 49.5811 6.21191C 50.1325 6.70866 50.4264 7.35352 50.4629 8.14648L 49.2666 8.14648C 49.2301 7.66797 49.0479 7.27604 48.7197 6.9707C 48.3962 6.66081 47.9951 6.50586 47.5166 6.50586C 46.874 6.50586 46.375 6.73828 46.0195 7.20312C 45.6686 7.66341 45.4932 8.33105 45.4932 9.20605L 45.4932 9.44531C 45.4932 10.2975 45.6686 10.9538 46.0195 11.4141C 46.3704 11.8743 46.8717 12.1045 47.5234 12.1045ZM 54.3047 11.1475L 56.0273 5.60352L 57.3809 5.60352L 54.4072 14.1416C 53.9469 15.3721 53.2155 15.9873 52.2129 15.9873L 51.9736 15.9668L 51.502 15.8779L 51.502 14.8525L 51.8438 14.8799C 52.2721 14.8799 52.6048 14.7933 52.8418 14.6201C 53.0833 14.4469 53.2816 14.1302 53.4365 13.6699L 53.7168 12.918L 51.0781 5.60352L 52.459 5.60352L 54.3047 11.1475ZM 65.1191 8.56348C 63.9935 8.23991 63.1732 7.84342 62.6582 7.37402C 62.1478 6.90007 61.8926 6.31673 61.8926 5.62402C 61.8926 4.84017 62.2048 4.19303 62.8291 3.68262C 63.458 3.16764 64.2738 2.91016 65.2764 2.91016C 65.96 2.91016 66.5684 3.04232 67.1016 3.30664C 67.6393 3.57096 68.054 3.93555 68.3457 4.40039C 68.6419 4.86523 68.79 5.37337 68.79 5.9248L 67.4707 5.9248C 67.4707 5.32324 67.2793 4.85156 66.8965 4.50977C 66.5137 4.16341 65.9736 3.99023 65.2764 3.99023C 64.6292 3.99023 64.1234 4.13379 63.7588 4.4209C 63.3988 4.70345 63.2188 5.09766 63.2188 5.60352C 63.2188 6.00911 63.3896 6.35319 63.7314 6.63574C 64.0778 6.91374 64.6634 7.16895 65.4883 7.40137C 66.3177 7.63379 66.9648 7.89128 67.4297 8.17383C 67.8991 8.45182 68.2454 8.77767 68.4688 9.15137C 68.6966 9.52507 68.8105 9.96484 68.8105 10.4707C 68.8105 11.2773 68.4961 11.9245 67.8672 12.4121C 67.2383 12.8952 66.3975 13.1367 65.3447 13.1367C 64.6611 13.1367 64.0231 13.0068 63.4307 12.7471C 62.8382 12.4827 62.3802 12.1227 62.0566 11.667C 61.7376 11.2113 61.5781 10.694 61.5781 10.1152L 62.8975 10.1152C 62.8975 10.7168 63.1185 11.193 63.5605 11.5439C 64.0072 11.8903 64.6019 12.0635 65.3447 12.0635C 66.0374 12.0635 66.5684 11.9222 66.9375 11.6396C 67.3066 11.3571 67.4912 10.972 67.4912 10.4844C 67.4912 9.99674 67.3203 9.62077 66.9785 9.35645C 66.6367 9.08757 66.0169 8.82324 65.1191 8.56348ZM 73.2676 12.1045C 73.7188 12.1045 74.113 11.9678 74.4502 11.6943C 74.7874 11.4209 74.9743 11.0791 75.0107 10.6689L 76.207 10.6689C 76.1842 11.0928 76.0384 11.4961 75.7695 11.8789C 75.5007 12.2617 75.1406 12.5671 74.6895 12.7949C 74.2428 13.0228 73.7689 13.1367 73.2676 13.1367C 72.2604 13.1367 71.4583 12.8018 70.8613 12.1318C 70.2689 11.4574 69.9727 10.5368 69.9727 9.37012L 69.9727 9.1582C 69.9727 8.43815 70.1048 7.79785 70.3691 7.2373C 70.6335 6.67676 71.0117 6.24154 71.5039 5.93164C 72.0007 5.62174 72.5863 5.4668 73.2607 5.4668C 74.0902 5.4668 74.7783 5.71517 75.3252 6.21191C 75.8766 6.70866 76.1706 7.35352 76.207 8.14648L 75.0107 8.14648C 74.9743 7.66797 74.792 7.27604 74.4639 6.9707C 74.1403 6.66081 73.7393 6.50586 73.2607 6.50586C 72.6182 6.50586 72.1191 6.73828 71.7637 7.20312C 71.4128 7.66341 71.2373 8.33105 71.2373 9.20605L 71.2373 9.44531C 71.2373 10.2975 71.4128 10.9538 71.7637 11.4141C 72.1146 11.8743 72.6159 12.1045 73.2676 12.1045ZM 77.2939 9.2334C 77.2939 8.50879 77.4352 7.8571 77.7178 7.27832C 78.0049 6.69954 78.4014 6.25293 78.9072 5.93848C 79.4176 5.62402 79.9987 5.4668 80.6504 5.4668C 81.6576 5.4668 82.471 5.81543 83.0908 6.5127C 83.7152 7.20996 84.0273 8.13737 84.0273 9.29492L 84.0273 9.38379C 84.0273 10.1038 83.8883 10.751 83.6104 11.3252C 83.3369 11.8949 82.9427 12.3392 82.4277 12.6582C 81.9173 12.9772 81.3294 13.1367 80.6641 13.1367C 79.6615 13.1367 78.848 12.7881 78.2236 12.0908C 77.6038 11.3936 77.2939 10.4707 77.2939 9.32227L 77.2939 9.2334ZM 78.5654 9.38379C 78.5654 10.2041 78.7546 10.8626 79.1328 11.3594C 79.5156 11.8561 80.026 12.1045 80.6641 12.1045C 81.3066 12.1045 81.8171 11.8538 82.1953 11.3525C 82.5736 10.8467 82.7627 10.1403 82.7627 9.2334C 82.7627 8.4222 82.569 7.76595 82.1816 7.26465C 81.7988 6.75879 81.2884 6.50586 80.6504 6.50586C 80.026 6.50586 79.5225 6.75423 79.1396 7.25098C 78.7568 7.74772 78.5654 8.45866 78.5654 9.38379ZM 89.1885 6.73828C 88.9971 6.70638 88.7897 6.69043 88.5664 6.69043C 87.737 6.69043 87.1742 7.04362 86.8779 7.75L 86.8779 13L 85.6133 13L 85.6133 5.60352L 86.8438 5.60352L 86.8643 6.45801C 87.279 5.7972 87.8669 5.4668 88.6279 5.4668C 88.874 5.4668 89.0609 5.4987 89.1885 5.5625L 89.1885 6.73828ZM 93.29 13.1367C 92.2874 13.1367 91.4717 12.8086 90.8428 12.1523C 90.2139 11.4915 89.8994 10.6097 89.8994 9.50684L 89.8994 9.27441C 89.8994 8.54069 90.0384 7.88672 90.3164 7.3125C 90.599 6.73372 90.9909 6.28255 91.4922 5.95898C 91.998 5.63086 92.5449 5.4668 93.1328 5.4668C 94.0944 5.4668 94.8418 5.78353 95.375 6.41699C 95.9082 7.05046 96.1748 7.95736 96.1748 9.1377L 96.1748 9.66406L 91.1641 9.66406C 91.1823 10.3932 91.3942 10.9834 91.7998 11.4346C 92.21 11.8812 92.7295 12.1045 93.3584 12.1045C 93.805 12.1045 94.1833 12.0133 94.4932 11.8311C 94.8031 11.6488 95.0742 11.4072 95.3066 11.1064L 96.0791 11.708C 95.4593 12.6605 94.5296 13.1367 93.29 13.1367ZM 93.1328 6.50586C 92.6224 6.50586 92.194 6.69271 91.8477 7.06641C 91.5013 7.43555 91.2871 7.95508 91.2051 8.625L 94.9102 8.625L 94.9102 8.5293C 94.8737 7.88672 94.7005 7.38997 94.3906 7.03906C 94.0807 6.68359 93.6615 6.50586 93.1328 6.50586ZM 106.326 9.65723L 107.707 9.65723L 107.707 10.6895L 106.326 10.6895L 106.326 13L 105.055 13L 105.055 10.6895L 100.522 10.6895L 100.522 9.94434L 104.979 3.04688L 106.326 3.04688L 106.326 9.65723ZM 101.958 9.65723L 105.055 9.65723L 105.055 4.77637L 104.904 5.0498L 101.958 9.65723Z\" id=\"path11_fill\"/>\n",
       "<path d=\"M 6.65137 10.4023L 2.48145 10.4023L 1.54492 13L 0.191406 13L 3.99219 3.04688L 5.14062 3.04688L 8.94824 13L 7.60156 13L 6.65137 10.4023ZM 2.87793 9.32227L 6.26172 9.32227L 4.56641 4.66699L 2.87793 9.32227ZM 13.0566 12.1045C 13.5078 12.1045 13.902 11.9678 14.2393 11.6943C 14.5765 11.4209 14.7633 11.0791 14.7998 10.6689L 15.9961 10.6689C 15.9733 11.0928 15.8275 11.4961 15.5586 11.8789C 15.2897 12.2617 14.9297 12.5671 14.4785 12.7949C 14.0319 13.0228 13.5579 13.1367 13.0566 13.1367C 12.0495 13.1367 11.2474 12.8018 10.6504 12.1318C 10.0579 11.4574 9.76172 10.5368 9.76172 9.37012L 9.76172 9.1582C 9.76172 8.43815 9.89388 7.79785 10.1582 7.2373C 10.4225 6.67676 10.8008 6.24154 11.293 5.93164C 11.7897 5.62174 12.3753 5.4668 13.0498 5.4668C 13.8792 5.4668 14.5674 5.71517 15.1143 6.21191C 15.6657 6.70866 15.9596 7.35352 15.9961 8.14648L 14.7998 8.14648C 14.7633 7.66797 14.5811 7.27604 14.2529 6.9707C 13.9294 6.66081 13.5283 6.50586 13.0498 6.50586C 12.4072 6.50586 11.9082 6.73828 11.5527 7.20312C 11.2018 7.66341 11.0264 8.33105 11.0264 9.20605L 11.0264 9.44531C 11.0264 10.2975 11.2018 10.9538 11.5527 11.4141C 11.9036 11.8743 12.4049 12.1045 13.0566 12.1045ZM 20.3848 12.1045C 20.8359 12.1045 21.2301 11.9678 21.5674 11.6943C 21.9046 11.4209 22.0915 11.0791 22.1279 10.6689L 23.3242 10.6689C 23.3014 11.0928 23.1556 11.4961 22.8867 11.8789C 22.6178 12.2617 22.2578 12.5671 21.8066 12.7949C 21.36 13.0228 20.8861 13.1367 20.3848 13.1367C 19.3776 13.1367 18.5755 12.8018 17.9785 12.1318C 17.3861 11.4574 17.0898 10.5368 17.0898 9.37012L 17.0898 9.1582C 17.0898 8.43815 17.222 7.79785 17.4863 7.2373C 17.7507 6.67676 18.1289 6.24154 18.6211 5.93164C 19.1178 5.62174 19.7035 5.4668 20.3779 5.4668C 21.2074 5.4668 21.8955 5.71517 22.4424 6.21191C 22.9938 6.70866 23.2878 7.35352 23.3242 8.14648L 22.1279 8.14648C 22.0915 7.66797 21.9092 7.27604 21.5811 6.9707C 21.2575 6.66081 20.8564 6.50586 20.3779 6.50586C 19.7354 6.50586 19.2363 6.73828 18.8809 7.20312C 18.5299 7.66341 18.3545 8.33105 18.3545 9.20605L 18.3545 9.44531C 18.3545 10.2975 18.5299 10.9538 18.8809 11.4141C 19.2318 11.8743 19.7331 12.1045 20.3848 12.1045ZM 29.3125 12.2686C 28.8203 12.8473 28.098 13.1367 27.1455 13.1367C 26.3571 13.1367 25.7555 12.9089 25.3408 12.4531C 24.9307 11.9928 24.7233 11.3138 24.7188 10.416L 24.7188 5.60352L 25.9834 5.60352L 25.9834 10.3818C 25.9834 11.5029 26.4391 12.0635 27.3506 12.0635C 28.3167 12.0635 28.9593 11.7035 29.2783 10.9834L 29.2783 5.60352L 30.543 5.60352L 30.543 13L 29.3398 13L 29.3125 12.2686ZM 36.0459 6.73828C 35.8545 6.70638 35.6471 6.69043 35.4238 6.69043C 34.5944 6.69043 34.0316 7.04362 33.7354 7.75L 33.7354 13L 32.4707 13L 32.4707 5.60352L 33.7012 5.60352L 33.7217 6.45801C 34.1364 5.7972 34.7243 5.4668 35.4854 5.4668C 35.7314 5.4668 35.9183 5.4987 36.0459 5.5625L 36.0459 6.73828ZM 41.5078 13C 41.4349 12.8542 41.3757 12.5944 41.3301 12.2207C 40.7422 12.8314 40.0404 13.1367 39.2246 13.1367C 38.4954 13.1367 37.8962 12.9316 37.4268 12.5215C 36.9619 12.1068 36.7295 11.5827 36.7295 10.9492C 36.7295 10.179 37.0212 9.58203 37.6045 9.1582C 38.1924 8.72982 39.0173 8.51562 40.0791 8.51562L 41.3096 8.51562L 41.3096 7.93457C 41.3096 7.49251 41.1774 7.1416 40.9131 6.88184C 40.6488 6.61751 40.2591 6.48535 39.7441 6.48535C 39.293 6.48535 38.9147 6.59928 38.6094 6.82715C 38.304 7.05501 38.1514 7.33073 38.1514 7.6543L 36.8799 7.6543C 36.8799 7.28516 37.0098 6.92969 37.2695 6.58789C 37.5339 6.24154 37.8893 5.9681 38.3359 5.76758C 38.7871 5.56706 39.2816 5.4668 39.8193 5.4668C 40.6715 5.4668 41.3392 5.68099 41.8223 6.10938C 42.3053 6.5332 42.556 7.11882 42.5742 7.86621L 42.5742 11.2705C 42.5742 11.9495 42.6608 12.4896 42.834 12.8906L 42.834 13L 41.5078 13ZM 39.4092 12.0361C 39.8057 12.0361 40.1816 11.9336 40.5371 11.7285C 40.8926 11.5234 41.1501 11.2568 41.3096 10.9287L 41.3096 9.41113L 40.3184 9.41113C 38.7689 9.41113 37.9941 9.86458 37.9941 10.7715C 37.9941 11.168 38.1263 11.4779 38.3906 11.7012C 38.6549 11.9245 38.9945 12.0361 39.4092 12.0361ZM 47.5234 12.1045C 47.9746 12.1045 48.3688 11.9678 48.7061 11.6943C 49.0433 11.4209 49.2301 11.0791 49.2666 10.6689L 50.4629 10.6689C 50.4401 11.0928 50.2943 11.4961 50.0254 11.8789C 49.7565 12.2617 49.3965 12.5671 48.9453 12.7949C 48.4987 13.0228 48.0247 13.1367 47.5234 13.1367C 46.5163 13.1367 45.7142 12.8018 45.1172 12.1318C 44.5247 11.4574 44.2285 10.5368 44.2285 9.37012L 44.2285 9.1582C 44.2285 8.43815 44.3607 7.79785 44.625 7.2373C 44.8893 6.67676 45.2676 6.24154 45.7598 5.93164C 46.2565 5.62174 46.8421 5.4668 47.5166 5.4668C 48.346 5.4668 49.0342 5.71517 49.5811 6.21191C 50.1325 6.70866 50.4264 7.35352 50.4629 8.14648L 49.2666 8.14648C 49.2301 7.66797 49.0479 7.27604 48.7197 6.9707C 48.3962 6.66081 47.9951 6.50586 47.5166 6.50586C 46.874 6.50586 46.375 6.73828 46.0195 7.20312C 45.6686 7.66341 45.4932 8.33105 45.4932 9.20605L 45.4932 9.44531C 45.4932 10.2975 45.6686 10.9538 46.0195 11.4141C 46.3704 11.8743 46.8717 12.1045 47.5234 12.1045ZM 54.3047 11.1475L 56.0273 5.60352L 57.3809 5.60352L 54.4072 14.1416C 53.9469 15.3721 53.2155 15.9873 52.2129 15.9873L 51.9736 15.9668L 51.502 15.8779L 51.502 14.8525L 51.8438 14.8799C 52.2721 14.8799 52.6048 14.7933 52.8418 14.6201C 53.0833 14.4469 53.2816 14.1302 53.4365 13.6699L 53.7168 12.918L 51.0781 5.60352L 52.459 5.60352L 54.3047 11.1475ZM 65.1191 8.56348C 63.9935 8.23991 63.1732 7.84342 62.6582 7.37402C 62.1478 6.90007 61.8926 6.31673 61.8926 5.62402C 61.8926 4.84017 62.2048 4.19303 62.8291 3.68262C 63.458 3.16764 64.2738 2.91016 65.2764 2.91016C 65.96 2.91016 66.5684 3.04232 67.1016 3.30664C 67.6393 3.57096 68.054 3.93555 68.3457 4.40039C 68.6419 4.86523 68.79 5.37337 68.79 5.9248L 67.4707 5.9248C 67.4707 5.32324 67.2793 4.85156 66.8965 4.50977C 66.5137 4.16341 65.9736 3.99023 65.2764 3.99023C 64.6292 3.99023 64.1234 4.13379 63.7588 4.4209C 63.3988 4.70345 63.2188 5.09766 63.2188 5.60352C 63.2188 6.00911 63.3896 6.35319 63.7314 6.63574C 64.0778 6.91374 64.6634 7.16895 65.4883 7.40137C 66.3177 7.63379 66.9648 7.89128 67.4297 8.17383C 67.8991 8.45182 68.2454 8.77767 68.4688 9.15137C 68.6966 9.52507 68.8105 9.96484 68.8105 10.4707C 68.8105 11.2773 68.4961 11.9245 67.8672 12.4121C 67.2383 12.8952 66.3975 13.1367 65.3447 13.1367C 64.6611 13.1367 64.0231 13.0068 63.4307 12.7471C 62.8382 12.4827 62.3802 12.1227 62.0566 11.667C 61.7376 11.2113 61.5781 10.694 61.5781 10.1152L 62.8975 10.1152C 62.8975 10.7168 63.1185 11.193 63.5605 11.5439C 64.0072 11.8903 64.6019 12.0635 65.3447 12.0635C 66.0374 12.0635 66.5684 11.9222 66.9375 11.6396C 67.3066 11.3571 67.4912 10.972 67.4912 10.4844C 67.4912 9.99674 67.3203 9.62077 66.9785 9.35645C 66.6367 9.08757 66.0169 8.82324 65.1191 8.56348ZM 73.2676 12.1045C 73.7188 12.1045 74.113 11.9678 74.4502 11.6943C 74.7874 11.4209 74.9743 11.0791 75.0107 10.6689L 76.207 10.6689C 76.1842 11.0928 76.0384 11.4961 75.7695 11.8789C 75.5007 12.2617 75.1406 12.5671 74.6895 12.7949C 74.2428 13.0228 73.7689 13.1367 73.2676 13.1367C 72.2604 13.1367 71.4583 12.8018 70.8613 12.1318C 70.2689 11.4574 69.9727 10.5368 69.9727 9.37012L 69.9727 9.1582C 69.9727 8.43815 70.1048 7.79785 70.3691 7.2373C 70.6335 6.67676 71.0117 6.24154 71.5039 5.93164C 72.0007 5.62174 72.5863 5.4668 73.2607 5.4668C 74.0902 5.4668 74.7783 5.71517 75.3252 6.21191C 75.8766 6.70866 76.1706 7.35352 76.207 8.14648L 75.0107 8.14648C 74.9743 7.66797 74.792 7.27604 74.4639 6.9707C 74.1403 6.66081 73.7393 6.50586 73.2607 6.50586C 72.6182 6.50586 72.1191 6.73828 71.7637 7.20312C 71.4128 7.66341 71.2373 8.33105 71.2373 9.20605L 71.2373 9.44531C 71.2373 10.2975 71.4128 10.9538 71.7637 11.4141C 72.1146 11.8743 72.6159 12.1045 73.2676 12.1045ZM 77.2939 9.2334C 77.2939 8.50879 77.4352 7.8571 77.7178 7.27832C 78.0049 6.69954 78.4014 6.25293 78.9072 5.93848C 79.4176 5.62402 79.9987 5.4668 80.6504 5.4668C 81.6576 5.4668 82.471 5.81543 83.0908 6.5127C 83.7152 7.20996 84.0273 8.13737 84.0273 9.29492L 84.0273 9.38379C 84.0273 10.1038 83.8883 10.751 83.6104 11.3252C 83.3369 11.8949 82.9427 12.3392 82.4277 12.6582C 81.9173 12.9772 81.3294 13.1367 80.6641 13.1367C 79.6615 13.1367 78.848 12.7881 78.2236 12.0908C 77.6038 11.3936 77.2939 10.4707 77.2939 9.32227L 77.2939 9.2334ZM 78.5654 9.38379C 78.5654 10.2041 78.7546 10.8626 79.1328 11.3594C 79.5156 11.8561 80.026 12.1045 80.6641 12.1045C 81.3066 12.1045 81.8171 11.8538 82.1953 11.3525C 82.5736 10.8467 82.7627 10.1403 82.7627 9.2334C 82.7627 8.4222 82.569 7.76595 82.1816 7.26465C 81.7988 6.75879 81.2884 6.50586 80.6504 6.50586C 80.026 6.50586 79.5225 6.75423 79.1396 7.25098C 78.7568 7.74772 78.5654 8.45866 78.5654 9.38379ZM 89.1885 6.73828C 88.9971 6.70638 88.7897 6.69043 88.5664 6.69043C 87.737 6.69043 87.1742 7.04362 86.8779 7.75L 86.8779 13L 85.6133 13L 85.6133 5.60352L 86.8438 5.60352L 86.8643 6.45801C 87.279 5.7972 87.8669 5.4668 88.6279 5.4668C 88.874 5.4668 89.0609 5.4987 89.1885 5.5625L 89.1885 6.73828ZM 93.29 13.1367C 92.2874 13.1367 91.4717 12.8086 90.8428 12.1523C 90.2139 11.4915 89.8994 10.6097 89.8994 9.50684L 89.8994 9.27441C 89.8994 8.54069 90.0384 7.88672 90.3164 7.3125C 90.599 6.73372 90.9909 6.28255 91.4922 5.95898C 91.998 5.63086 92.5449 5.4668 93.1328 5.4668C 94.0944 5.4668 94.8418 5.78353 95.375 6.41699C 95.9082 7.05046 96.1748 7.95736 96.1748 9.1377L 96.1748 9.66406L 91.1641 9.66406C 91.1823 10.3932 91.3942 10.9834 91.7998 11.4346C 92.21 11.8812 92.7295 12.1045 93.3584 12.1045C 93.805 12.1045 94.1833 12.0133 94.4932 11.8311C 94.8031 11.6488 95.0742 11.4072 95.3066 11.1064L 96.0791 11.708C 95.4593 12.6605 94.5296 13.1367 93.29 13.1367ZM 93.1328 6.50586C 92.6224 6.50586 92.194 6.69271 91.8477 7.06641C 91.5013 7.43555 91.2871 7.95508 91.2051 8.625L 94.9102 8.625L 94.9102 8.5293C 94.8737 7.88672 94.7005 7.38997 94.3906 7.03906C 94.0807 6.68359 93.6615 6.50586 93.1328 6.50586ZM 101.568 8.00977L 102.074 3.04688L 107.174 3.04688L 107.174 4.21582L 103.147 4.21582L 102.847 6.92969C 103.334 6.64258 103.888 6.49902 104.508 6.49902C 105.415 6.49902 106.135 6.7998 106.668 7.40137C 107.201 7.99837 107.468 8.80729 107.468 9.82812C 107.468 10.8535 107.19 11.6624 106.634 12.2549C 106.082 12.8428 105.31 13.1367 104.316 13.1367C 103.437 13.1367 102.719 12.8929 102.163 12.4053C 101.607 11.9176 101.29 11.2432 101.213 10.3818L 102.409 10.3818C 102.487 10.9515 102.689 11.3822 103.018 11.6738C 103.346 11.9609 103.779 12.1045 104.316 12.1045C 104.904 12.1045 105.365 11.904 105.697 11.5029C 106.035 11.1019 106.203 10.5482 106.203 9.8418C 106.203 9.17643 106.021 8.64323 105.656 8.24219C 105.296 7.83659 104.815 7.63379 104.214 7.63379C 103.662 7.63379 103.229 7.75456 102.915 7.99609L 102.58 8.26953L 101.568 8.00977Z\" id=\"path12_fill\"/>\n",
       "<path d=\"M 7 10.4023L 2.83008 10.4023L 1.89355 13L 0.540039 13L 4.34082 3.04688L 5.48926 3.04688L 9.29688 13L 7.9502 13L 7 10.4023ZM 3.22656 9.32227L 6.61035 9.32227L 4.91504 4.66699L 3.22656 9.32227ZM 12.5371 11.2842L 14.3691 5.60352L 15.6611 5.60352L 13.0088 13L 12.0449 13L 9.36523 5.60352L 10.6572 5.60352L 12.5371 11.2842ZM 19.8516 13.1367C 18.849 13.1367 18.0332 12.8086 17.4043 12.1523C 16.7754 11.4915 16.4609 10.6097 16.4609 9.50684L 16.4609 9.27441C 16.4609 8.54069 16.5999 7.88672 16.8779 7.3125C 17.1605 6.73372 17.5524 6.28255 18.0537 5.95898C 18.5596 5.63086 19.1064 5.4668 19.6943 5.4668C 20.6559 5.4668 21.4033 5.78353 21.9365 6.41699C 22.4697 7.05046 22.7363 7.95736 22.7363 9.1377L 22.7363 9.66406L 17.7256 9.66406C 17.7438 10.3932 17.9557 10.9834 18.3613 11.4346C 18.7715 11.8812 19.291 12.1045 19.9199 12.1045C 20.3665 12.1045 20.7448 12.0133 21.0547 11.8311C 21.3646 11.6488 21.6357 11.4072 21.8682 11.1064L 22.6406 11.708C 22.0208 12.6605 21.0911 13.1367 19.8516 13.1367ZM 19.6943 6.50586C 19.1839 6.50586 18.7555 6.69271 18.4092 7.06641C 18.0628 7.43555 17.8486 7.95508 17.7666 8.625L 21.4717 8.625L 21.4717 8.5293C 21.4352 7.88672 21.262 7.38997 20.9521 7.03906C 20.6423 6.68359 20.223 6.50586 19.6943 6.50586ZM 27.7812 6.73828C 27.5898 6.70638 27.3825 6.69043 27.1592 6.69043C 26.3298 6.69043 25.7669 7.04362 25.4707 7.75L 25.4707 13L 24.2061 13L 24.2061 5.60352L 25.4365 5.60352L 25.457 6.45801C 25.8717 5.7972 26.4596 5.4668 27.2207 5.4668C 27.4668 5.4668 27.6536 5.4987 27.7812 5.5625L 27.7812 6.73828ZM 33.2432 13C 33.1702 12.8542 33.111 12.5944 33.0654 12.2207C 32.4775 12.8314 31.7757 13.1367 30.96 13.1367C 30.2308 13.1367 29.6315 12.9316 29.1621 12.5215C 28.6973 12.1068 28.4648 11.5827 28.4648 10.9492C 28.4648 10.179 28.7565 9.58203 29.3398 9.1582C 29.9277 8.72982 30.7526 8.51562 31.8145 8.51562L 33.0449 8.51562L 33.0449 7.93457C 33.0449 7.49251 32.9128 7.1416 32.6484 6.88184C 32.3841 6.61751 31.9945 6.48535 31.4795 6.48535C 31.0283 6.48535 30.6501 6.59928 30.3447 6.82715C 30.0394 7.05501 29.8867 7.33073 29.8867 7.6543L 28.6152 7.6543C 28.6152 7.28516 28.7451 6.92969 29.0049 6.58789C 29.2692 6.24154 29.6247 5.9681 30.0713 5.76758C 30.5225 5.56706 31.0169 5.4668 31.5547 5.4668C 32.4069 5.4668 33.0745 5.68099 33.5576 6.10938C 34.0407 6.5332 34.2913 7.11882 34.3096 7.86621L 34.3096 11.2705C 34.3096 11.9495 34.3962 12.4896 34.5693 12.8906L 34.5693 13L 33.2432 13ZM 31.1445 12.0361C 31.541 12.0361 31.917 11.9336 32.2725 11.7285C 32.6279 11.5234 32.8854 11.2568 33.0449 10.9287L 33.0449 9.41113L 32.0537 9.41113C 30.5042 9.41113 29.7295 9.86458 29.7295 10.7715C 29.7295 11.168 29.8617 11.4779 30.126 11.7012C 30.3903 11.9245 30.7298 12.0361 31.1445 12.0361ZM 35.9912 9.24023C 35.9912 8.08724 36.2578 7.17122 36.791 6.49219C 37.3242 5.80859 38.0306 5.4668 38.9102 5.4668C 39.8125 5.4668 40.5166 5.78581 41.0225 6.42383L 41.084 5.60352L 42.2393 5.60352L 42.2393 12.8223C 42.2393 13.7793 41.9544 14.5335 41.3848 15.085C 40.8197 15.6364 40.0586 15.9121 39.1016 15.9121C 38.5684 15.9121 38.0465 15.7982 37.5361 15.5703C 37.0257 15.3424 36.6361 15.0303 36.3672 14.6338L 37.0234 13.875C 37.5658 14.5449 38.2288 14.8799 39.0127 14.8799C 39.6279 14.8799 40.1064 14.7067 40.4482 14.3604C 40.7946 14.014 40.9678 13.5264 40.9678 12.8975L 40.9678 12.2617C 40.4619 12.8451 39.7715 13.1367 38.8965 13.1367C 38.0306 13.1367 37.3288 12.7881 36.791 12.0908C 36.2578 11.3936 35.9912 10.4434 35.9912 9.24023ZM 37.2627 9.38379C 37.2627 10.2178 37.4336 10.874 37.7754 11.3525C 38.1172 11.8265 38.5957 12.0635 39.2109 12.0635C 40.0085 12.0635 40.5941 11.7012 40.9678 10.9766L 40.9678 7.59961C 40.5804 6.89323 39.9993 6.54004 39.2246 6.54004C 38.6094 6.54004 38.1286 6.7793 37.7822 7.25781C 37.4359 7.73633 37.2627 8.44499 37.2627 9.38379ZM 47.2227 13.1367C 46.2201 13.1367 45.4043 12.8086 44.7754 12.1523C 44.1465 11.4915 43.832 10.6097 43.832 9.50684L 43.832 9.27441C 43.832 8.54069 43.971 7.88672 44.249 7.3125C 44.5316 6.73372 44.9235 6.28255 45.4248 5.95898C 45.9307 5.63086 46.4775 5.4668 47.0654 5.4668C 48.027 5.4668 48.7744 5.78353 49.3076 6.41699C 49.8408 7.05046 50.1074 7.95736 50.1074 9.1377L 50.1074 9.66406L 45.0967 9.66406C 45.1149 10.3932 45.3268 10.9834 45.7324 11.4346C 46.1426 11.8812 46.6621 12.1045 47.291 12.1045C 47.7376 12.1045 48.1159 12.0133 48.4258 11.8311C 48.7357 11.6488 49.0068 11.4072 49.2393 11.1064L 50.0117 11.708C 49.3919 12.6605 48.4622 13.1367 47.2227 13.1367ZM 47.0654 6.50586C 46.555 6.50586 46.1266 6.69271 45.7803 7.06641C 45.4339 7.43555 45.2197 7.95508 45.1377 8.625L 48.8428 8.625L 48.8428 8.5293C 48.8063 7.88672 48.6331 7.38997 48.3232 7.03906C 48.0133 6.68359 47.5941 6.50586 47.0654 6.50586ZM 60.7441 10.4023L 56.5742 10.4023L 55.6377 13L 54.2842 13L 58.085 3.04688L 59.2334 3.04688L 63.041 13L 61.6943 13L 60.7441 10.4023ZM 56.9707 9.32227L 60.3545 9.32227L 58.6592 4.66699L 56.9707 9.32227ZM 67.1494 12.1045C 67.6006 12.1045 67.9948 11.9678 68.332 11.6943C 68.6693 11.4209 68.8561 11.0791 68.8926 10.6689L 70.0889 10.6689C 70.0661 11.0928 69.9202 11.4961 69.6514 11.8789C 69.3825 12.2617 69.0225 12.5671 68.5713 12.7949C 68.1247 13.0228 67.6507 13.1367 67.1494 13.1367C 66.1423 13.1367 65.3402 12.8018 64.7432 12.1318C 64.1507 11.4574 63.8545 10.5368 63.8545 9.37012L 63.8545 9.1582C 63.8545 8.43815 63.9867 7.79785 64.251 7.2373C 64.5153 6.67676 64.8936 6.24154 65.3857 5.93164C 65.8825 5.62174 66.4681 5.4668 67.1426 5.4668C 67.972 5.4668 68.6602 5.71517 69.207 6.21191C 69.7585 6.70866 70.0524 7.35352 70.0889 8.14648L 68.8926 8.14648C 68.8561 7.66797 68.6738 7.27604 68.3457 6.9707C 68.0221 6.66081 67.6211 6.50586 67.1426 6.50586C 66.5 6.50586 66.001 6.73828 65.6455 7.20312C 65.2946 7.66341 65.1191 8.33105 65.1191 9.20605L 65.1191 9.44531C 65.1191 10.2975 65.2946 10.9538 65.6455 11.4141C 65.9964 11.8743 66.4977 12.1045 67.1494 12.1045ZM 74.4775 12.1045C 74.9287 12.1045 75.3229 11.9678 75.6602 11.6943C 75.9974 11.4209 76.1842 11.0791 76.2207 10.6689L 77.417 10.6689C 77.3942 11.0928 77.2484 11.4961 76.9795 11.8789C 76.7106 12.2617 76.3506 12.5671 75.8994 12.7949C 75.4528 13.0228 74.9788 13.1367 74.4775 13.1367C 73.4704 13.1367 72.6683 12.8018 72.0713 12.1318C 71.4788 11.4574 71.1826 10.5368 71.1826 9.37012L 71.1826 9.1582C 71.1826 8.43815 71.3148 7.79785 71.5791 7.2373C 71.8434 6.67676 72.2217 6.24154 72.7139 5.93164C 73.2106 5.62174 73.7962 5.4668 74.4707 5.4668C 75.3001 5.4668 75.9883 5.71517 76.5352 6.21191C 77.0866 6.70866 77.3805 7.35352 77.417 8.14648L 76.2207 8.14648C 76.1842 7.66797 76.002 7.27604 75.6738 6.9707C 75.3503 6.66081 74.9492 6.50586 74.4707 6.50586C 73.8281 6.50586 73.3291 6.73828 72.9736 7.20312C 72.6227 7.66341 72.4473 8.33105 72.4473 9.20605L 72.4473 9.44531C 72.4473 10.2975 72.6227 10.9538 72.9736 11.4141C 73.3245 11.8743 73.8258 12.1045 74.4775 12.1045ZM 83.4053 12.2686C 82.9131 12.8473 82.1908 13.1367 81.2383 13.1367C 80.4499 13.1367 79.8483 12.9089 79.4336 12.4531C 79.0234 11.9928 78.8161 11.3138 78.8115 10.416L 78.8115 5.60352L 80.0762 5.60352L 80.0762 10.3818C 80.0762 11.5029 80.5319 12.0635 81.4434 12.0635C 82.4095 12.0635 83.0521 11.7035 83.3711 10.9834L 83.3711 5.60352L 84.6357 5.60352L 84.6357 13L 83.4326 13L 83.4053 12.2686ZM 90.1387 6.73828C 89.9473 6.70638 89.7399 6.69043 89.5166 6.69043C 88.6872 6.69043 88.1243 7.04362 87.8281 7.75L 87.8281 13L 86.5635 13L 86.5635 5.60352L 87.7939 5.60352L 87.8145 6.45801C 88.2292 5.7972 88.8171 5.4668 89.5781 5.4668C 89.8242 5.4668 90.0111 5.4987 90.1387 5.5625L 90.1387 6.73828ZM 95.6006 13C 95.5277 12.8542 95.4684 12.5944 95.4229 12.2207C 94.835 12.8314 94.1331 13.1367 93.3174 13.1367C 92.5882 13.1367 91.9889 12.9316 91.5195 12.5215C 91.0547 12.1068 90.8223 11.5827 90.8223 10.9492C 90.8223 10.179 91.1139 9.58203 91.6973 9.1582C 92.2852 8.72982 93.11 8.51562 94.1719 8.51562L 95.4023 8.51562L 95.4023 7.93457C 95.4023 7.49251 95.2702 7.1416 95.0059 6.88184C 94.7415 6.61751 94.3519 6.48535 93.8369 6.48535C 93.3857 6.48535 93.0075 6.59928 92.7021 6.82715C 92.3968 7.05501 92.2441 7.33073 92.2441 7.6543L 90.9727 7.6543C 90.9727 7.28516 91.1025 6.92969 91.3623 6.58789C 91.6266 6.24154 91.9821 5.9681 92.4287 5.76758C 92.8799 5.56706 93.3743 5.4668 93.9121 5.4668C 94.7643 5.4668 95.432 5.68099 95.915 6.10938C 96.3981 6.5332 96.6488 7.11882 96.667 7.86621L 96.667 11.2705C 96.667 11.9495 96.7536 12.4896 96.9268 12.8906L 96.9268 13L 95.6006 13ZM 93.502 12.0361C 93.8984 12.0361 94.2744 11.9336 94.6299 11.7285C 94.9854 11.5234 95.2428 11.2568 95.4023 10.9287L 95.4023 9.41113L 94.4111 9.41113C 92.8617 9.41113 92.0869 9.86458 92.0869 10.7715C 92.0869 11.168 92.2191 11.4779 92.4834 11.7012C 92.7477 11.9245 93.0872 12.0361 93.502 12.0361ZM 101.616 12.1045C 102.067 12.1045 102.462 11.9678 102.799 11.6943C 103.136 11.4209 103.323 11.0791 103.359 10.6689L 104.556 10.6689C 104.533 11.0928 104.387 11.4961 104.118 11.8789C 103.849 12.2617 103.489 12.5671 103.038 12.7949C 102.591 13.0228 102.118 13.1367 101.616 13.1367C 100.609 13.1367 99.807 12.8018 99.21 12.1318C 98.6175 11.4574 98.3213 10.5368 98.3213 9.37012L 98.3213 9.1582C 98.3213 8.43815 98.4535 7.79785 98.7178 7.2373C 98.9821 6.67676 99.3604 6.24154 99.8525 5.93164C 100.349 5.62174 100.935 5.4668 101.609 5.4668C 102.439 5.4668 103.127 5.71517 103.674 6.21191C 104.225 6.70866 104.519 7.35352 104.556 8.14648L 103.359 8.14648C 103.323 7.66797 103.141 7.27604 102.812 6.9707C 102.489 6.66081 102.088 6.50586 101.609 6.50586C 100.967 6.50586 100.468 6.73828 100.112 7.20312C 99.7614 7.66341 99.5859 8.33105 99.5859 9.20605L 99.5859 9.44531C 99.5859 10.2975 99.7614 10.9538 100.112 11.4141C 100.463 11.8743 100.965 12.1045 101.616 12.1045ZM 108.397 11.1475L 110.12 5.60352L 111.474 5.60352L 108.5 14.1416C 108.04 15.3721 107.308 15.9873 106.306 15.9873L 106.066 15.9668L 105.595 15.8779L 105.595 14.8525L 105.937 14.8799C 106.365 14.8799 106.698 14.7933 106.935 14.6201C 107.176 14.4469 107.374 14.1302 107.529 13.6699L 107.81 12.918L 105.171 5.60352L 106.552 5.60352L 108.397 11.1475ZM 42.2598 24.5635C 41.1341 24.2399 40.3138 23.8434 39.7988 23.374C 39.2884 22.9001 39.0332 22.3167 39.0332 21.624C 39.0332 20.8402 39.3454 20.193 39.9697 19.6826C 40.5986 19.1676 41.4144 18.9102 42.417 18.9102C 43.1006 18.9102 43.709 19.0423 44.2422 19.3066C 44.7799 19.571 45.1947 19.9355 45.4863 20.4004C 45.7826 20.8652 45.9307 21.3734 45.9307 21.9248L 44.6113 21.9248C 44.6113 21.3232 44.4199 20.8516 44.0371 20.5098C 43.6543 20.1634 43.1143 19.9902 42.417 19.9902C 41.7699 19.9902 41.264 20.1338 40.8994 20.4209C 40.5394 20.7035 40.3594 21.0977 40.3594 21.6035C 40.3594 22.0091 40.5303 22.3532 40.8721 22.6357C 41.2184 22.9137 41.804 23.1689 42.6289 23.4014C 43.4583 23.6338 44.1055 23.8913 44.5703 24.1738C 45.0397 24.4518 45.3861 24.7777 45.6094 25.1514C 45.8372 25.5251 45.9512 25.9648 45.9512 26.4707C 45.9512 27.2773 45.6367 27.9245 45.0078 28.4121C 44.3789 28.8952 43.5381 29.1367 42.4854 29.1367C 41.8018 29.1367 41.1637 29.0068 40.5713 28.7471C 39.9788 28.4827 39.5208 28.1227 39.1973 27.667C 38.8783 27.2113 38.7188 26.694 38.7188 26.1152L 40.0381 26.1152C 40.0381 26.7168 40.2591 27.193 40.7012 27.5439C 41.1478 27.8903 41.7425 28.0635 42.4854 28.0635C 43.1781 28.0635 43.709 27.9222 44.0781 27.6396C 44.4473 27.3571 44.6318 26.972 44.6318 26.4844C 44.6318 25.9967 44.4609 25.6208 44.1191 25.3564C 43.7773 25.0876 43.1576 24.8232 42.2598 24.5635ZM 50.4082 28.1045C 50.8594 28.1045 51.2536 27.9678 51.5908 27.6943C 51.9281 27.4209 52.1149 27.0791 52.1514 26.6689L 53.3477 26.6689C 53.3249 27.0928 53.179 27.4961 52.9102 27.8789C 52.6413 28.2617 52.2812 28.5671 51.8301 28.7949C 51.3835 29.0228 50.9095 29.1367 50.4082 29.1367C 49.401 29.1367 48.599 28.8018 48.002 28.1318C 47.4095 27.4574 47.1133 26.5368 47.1133 25.3701L 47.1133 25.1582C 47.1133 24.4382 47.2454 23.7979 47.5098 23.2373C 47.7741 22.6768 48.1523 22.2415 48.6445 21.9316C 49.1413 21.6217 49.7269 21.4668 50.4014 21.4668C 51.2308 21.4668 51.9189 21.7152 52.4658 22.2119C 53.0173 22.7087 53.3112 23.3535 53.3477 24.1465L 52.1514 24.1465C 52.1149 23.668 51.9326 23.276 51.6045 22.9707C 51.2809 22.6608 50.8799 22.5059 50.4014 22.5059C 49.7588 22.5059 49.2598 22.7383 48.9043 23.2031C 48.5534 23.6634 48.3779 24.3311 48.3779 25.2061L 48.3779 25.4453C 48.3779 26.2975 48.5534 26.9538 48.9043 27.4141C 49.2552 27.8743 49.7565 28.1045 50.4082 28.1045ZM 54.4346 25.2334C 54.4346 24.5088 54.5758 23.8571 54.8584 23.2783C 55.1455 22.6995 55.542 22.2529 56.0479 21.9385C 56.5583 21.624 57.1393 21.4668 57.791 21.4668C 58.7982 21.4668 59.6117 21.8154 60.2314 22.5127C 60.8558 23.21 61.168 24.1374 61.168 25.2949L 61.168 25.3838C 61.168 26.1038 61.029 26.751 60.751 27.3252C 60.4775 27.8949 60.0833 28.3392 59.5684 28.6582C 59.0579 28.9772 58.4701 29.1367 57.8047 29.1367C 56.8021 29.1367 55.9886 28.7881 55.3643 28.0908C 54.7445 27.3936 54.4346 26.4707 54.4346 25.3223L 54.4346 25.2334ZM 55.7061 25.3838C 55.7061 26.2041 55.8952 26.8626 56.2734 27.3594C 56.6562 27.8561 57.1667 28.1045 57.8047 28.1045C 58.4473 28.1045 58.9577 27.8538 59.3359 27.3525C 59.7142 26.8467 59.9033 26.1403 59.9033 25.2334C 59.9033 24.4222 59.7096 23.766 59.3223 23.2646C 58.9395 22.7588 58.429 22.5059 57.791 22.5059C 57.1667 22.5059 56.6631 22.7542 56.2803 23.251C 55.8975 23.7477 55.7061 24.4587 55.7061 25.3838ZM 66.3291 22.7383C 66.1377 22.7064 65.9303 22.6904 65.707 22.6904C 64.8776 22.6904 64.3148 23.0436 64.0186 23.75L 64.0186 29L 62.7539 29L 62.7539 21.6035L 63.9844 21.6035L 64.0049 22.458C 64.4196 21.7972 65.0075 21.4668 65.7686 21.4668C 66.0146 21.4668 66.2015 21.4987 66.3291 21.5625L 66.3291 22.7383ZM 70.4307 29.1367C 69.4281 29.1367 68.6123 28.8086 67.9834 28.1523C 67.3545 27.4915 67.04 26.6097 67.04 25.5068L 67.04 25.2744C 67.04 24.5407 67.179 23.8867 67.457 23.3125C 67.7396 22.7337 68.1315 22.2826 68.6328 21.959C 69.1387 21.6309 69.6855 21.4668 70.2734 21.4668C 71.235 21.4668 71.9824 21.7835 72.5156 22.417C 73.0488 23.0505 73.3154 23.9574 73.3154 25.1377L 73.3154 25.6641L 68.3047 25.6641C 68.3229 26.3932 68.5348 26.9834 68.9404 27.4346C 69.3506 27.8812 69.8701 28.1045 70.499 28.1045C 70.9456 28.1045 71.3239 28.0133 71.6338 27.8311C 71.9437 27.6488 72.2148 27.4072 72.4473 27.1064L 73.2197 27.708C 72.5999 28.6605 71.6702 29.1367 70.4307 29.1367ZM 70.2734 22.5059C 69.763 22.5059 69.3346 22.6927 68.9883 23.0664C 68.6419 23.4355 68.4277 23.9551 68.3457 24.625L 72.0508 24.625L 72.0508 24.5293C 72.0143 23.8867 71.8411 23.39 71.5312 23.0391C 71.2214 22.6836 70.8021 22.5059 70.2734 22.5059Z\" id=\"path13_fill\"/>\n",
       "<path d=\"M 0 0L 178.969 0L 178.969 -1L 0 -1L 0 0Z\" id=\"path14_stroke\"/>\n",
       "<path d=\"M 0 0L 177.677 0L 177.677 -1L 0 -1L 0 0Z\" id=\"path15_stroke\"/>\n",
       "<path d=\"M 0 0L 138.398 0L 138.398 -1L 0 -1L 0 0Z\" id=\"path16_stroke\"/>\n",
       "<path d=\"M 0 0L 130 0L 130 -1L 0 -1L 0 0Z\" id=\"path17_stroke\"/>\n",
       "<path d=\"M 0 0L 137.946 0L 137.946 -1L 0 -1L 0 0Z\" id=\"path18_stroke\"/>\n",
       "</defs>\n",
       "</svg>"
      ],
      "text/plain": [
       "<IPython.core.display.SVG object>"
      ]
     },
     "execution_count": 24,
     "metadata": {},
     "output_type": "execute_result"
    }
   ],
   "source": [
    "from IPython.display import SVG\n",
    "SVG(url='https://s3.amazonaws.com/dq-content/185/kaggle_cross_validation.svg')"
   ]
  },
  {
   "cell_type": "markdown",
   "metadata": {},
   "source": [
    "The most common form of cross validation, and the one we will be using, is called **`k-fold cross validation`**. 'Fold' refers to each different iteration that we train our model on, and 'k' just refers to the number of folds. "
   ]
  },
  {
   "cell_type": "markdown",
   "metadata": {},
   "source": [
    "* We will use scikit-learn's model_selection.cross_val_score() function to automate the process. The basic syntax for cross_val_score() is:\n",
    "\n",
    "`cross_val_score(estimator, X, y, cv=None)`"
   ]
  },
  {
   "cell_type": "markdown",
   "metadata": {},
   "source": [
    "* X is all features from our data set.\n",
    "* y is the target variables.\n",
    "* cv specifies the number of folds."
   ]
  },
  {
   "cell_type": "markdown",
   "metadata": {},
   "source": [
    "## TODO:\n",
    "* Instantiate a new LogisticRegression() object, lr.\n",
    "* Use model_selection.cross_val_score() to perform cross-validation on our data and assign the results to scores:\n",
    "* Use the newly created lr as the estimator.\n",
    "* Use all_X and all_y as the input data.\n",
    "* Specify 10 folds to be used.\n",
    "* Use the numpy.mean() function to calculate the mean of scores and assign the result to accuracy.\n",
    "* Print the variables scores and accuracy."
   ]
  },
  {
   "cell_type": "code",
   "execution_count": 25,
   "metadata": {},
   "outputs": [
    {
     "name": "stdout",
     "output_type": "stream",
     "text": [
      "0.8024670865963002\n"
     ]
    },
    {
     "data": {
      "text/plain": [
       "array([0.8       , 0.81111111, 0.7752809 , 0.87640449, 0.80898876,\n",
       "       0.78651685, 0.76404494, 0.76404494, 0.83146067, 0.80681818])"
      ]
     },
     "execution_count": 25,
     "metadata": {},
     "output_type": "execute_result"
    }
   ],
   "source": [
    "from sklearn.model_selection import cross_val_score\n",
    "import numpy as np\n",
    "\n",
    "lr=LogisticRegression(solver='lbfgs')\n",
    "scores=cross_val_score(lr,train[columns],train['Survived'],cv=10)\n",
    "accuracy=np.mean(scores)\n",
    "print(accuracy)\n",
    "scores"
   ]
  },
  {
   "cell_type": "markdown",
   "metadata": {},
   "source": [
    "# 9. Making Predictions on Unseen Data"
   ]
  },
  {
   "cell_type": "markdown",
   "metadata": {},
   "source": [
    "* From the results of our k-fold validation, you can see that the accuracy number varies with each fold - ranging between 76.4% and 87.6%. This demonstrates why cross validation is important."
   ]
  },
  {
   "cell_type": "markdown",
   "metadata": {},
   "source": [
    "* We are now ready to use the model we have built to train our final model and then make predictions on our unseen holdout data, or what Kaggle calls the 'test' data set."
   ]
  },
  {
   "cell_type": "code",
   "execution_count": 26,
   "metadata": {},
   "outputs": [],
   "source": [
    "hold_out=test"
   ]
  },
  {
   "cell_type": "markdown",
   "metadata": {},
   "source": [
    "## TODO:\n",
    "* Instantiate a new LogisticRegression() object, lr.\n",
    "* Use the fit() method to train the model lr using all of the Kaggle training data: all_X and all_y.\n",
    "* Make predictions using the holdout data and assign the result to holdout_predictions."
   ]
  },
  {
   "cell_type": "code",
   "execution_count": 27,
   "metadata": {},
   "outputs": [
    {
     "data": {
      "text/plain": [
       "array([0, 0, 0, 0, 1, 0, 1, 0, 1, 0, 0, 0, 1, 0, 1, 1, 0, 0, 1, 0, 0, 0,\n",
       "       1, 0, 1, 0, 1, 0, 0, 0, 0, 0, 1, 1, 0, 0, 1, 1, 0, 0, 0, 0, 0, 1,\n",
       "       1, 0, 0, 0, 1, 0, 0, 0, 1, 1, 0, 0, 0, 0, 0, 1, 0, 0, 0, 1, 0, 1,\n",
       "       1, 0, 0, 1, 1, 0, 1, 0, 1, 0, 0, 1, 0, 1, 0, 0, 0, 0, 0, 0, 1, 1,\n",
       "       1, 1, 1, 0, 1, 0, 0, 0, 1, 0, 1, 0, 1, 0, 0, 0, 1, 0, 0, 0, 0, 0,\n",
       "       0, 1, 1, 1, 1, 0, 0, 1, 0, 1, 1, 0, 1, 0, 0, 1, 0, 1, 0, 0, 0, 0,\n",
       "       1, 0, 0, 0, 0, 0, 1, 0, 1, 1, 0, 0, 0, 0, 0, 0, 0, 0, 1, 0, 0, 0,\n",
       "       0, 0, 1, 1, 0, 1, 1, 0, 1, 0, 0, 1, 0, 0, 1, 1, 0, 0, 0, 0, 0, 1,\n",
       "       1, 0, 1, 1, 0, 0, 1, 0, 1, 0, 1, 0, 1, 0, 0, 0, 0, 0, 0, 0, 0, 1,\n",
       "       0, 1, 1, 0, 0, 1, 0, 0, 1, 0, 1, 0, 0, 0, 0, 1, 0, 0, 1, 0, 1, 0,\n",
       "       1, 0, 1, 0, 1, 1, 0, 1, 0, 0, 0, 1, 0, 0, 0, 0, 0, 0, 1, 1, 1, 1,\n",
       "       0, 0, 0, 0, 1, 0, 1, 1, 1, 0, 0, 0, 0, 0, 0, 0, 1, 0, 0, 0, 1, 1,\n",
       "       0, 0, 0, 0, 1, 0, 0, 0, 1, 1, 0, 1, 0, 0, 0, 0, 1, 0, 1, 1, 1, 0,\n",
       "       0, 0, 0, 0, 0, 1, 0, 0, 0, 0, 1, 0, 0, 0, 0, 0, 0, 0, 1, 1, 0, 0,\n",
       "       0, 0, 0, 0, 0, 0, 1, 1, 0, 0, 0, 0, 0, 0, 0, 0, 1, 0, 1, 0, 0, 0,\n",
       "       1, 0, 0, 1, 0, 0, 0, 0, 0, 0, 0, 0, 0, 1, 0, 1, 0, 0, 0, 1, 1, 0,\n",
       "       0, 0, 1, 0, 1, 0, 0, 1, 0, 1, 1, 0, 1, 1, 0, 1, 1, 0, 0, 1, 0, 0,\n",
       "       1, 1, 1, 0, 0, 0, 0, 0, 1, 1, 0, 1, 0, 0, 0, 0, 0, 1, 0, 0, 0, 1,\n",
       "       0, 1, 0, 0, 1, 0, 1, 0, 0, 0, 0, 0, 1, 1, 1, 1, 1, 0, 1, 0, 0, 0],\n",
       "      dtype=int64)"
      ]
     },
     "execution_count": 27,
     "metadata": {},
     "output_type": "execute_result"
    }
   ],
   "source": [
    "lr=LogisticRegression(solver='lbfgs')\n",
    "lr.fit(train[columns],train['Survived'])\n",
    "holdout_prediction=lr.predict(hold_out[columns])\n",
    "holdout_prediction"
   ]
  },
  {
   "cell_type": "markdown",
   "metadata": {},
   "source": [
    "# 10. Creating a Submission File"
   ]
  },
  {
   "cell_type": "markdown",
   "metadata": {},
   "source": [
    "* The last thing we need to do is create a submission file. \n",
    "* Each Kaggle competition can have slightly different requirements for the submission file.\n",
    "* Here's what is specified on the Titanic competition evaluation page:\n",
    "\n",
    "  * You should submit a csv file with exactly 418 entries plus a header row. Your submission will show an error if you have extra columns (beyond PassengerId and Survived) or rows.\n",
    "\n",
    "  * The file should have exactly 2 columns:\n",
    "\n",
    "    * PassengerId (sorted in any order)\n",
    "    * Survived (contains your binary predictions: 1 for survived, 0 for deceased)"
   ]
  },
  {
   "cell_type": "markdown",
   "metadata": {},
   "source": [
    "* We will need to create a new dataframe that contains the holdout_predictions we created and the PassengerId column from the holdout dataframe. "
   ]
  },
  {
   "cell_type": "code",
   "execution_count": 28,
   "metadata": {},
   "outputs": [],
   "source": [
    "#To do this, we can pass a dictionary to the pandas.DataFrame() function:\n",
    "\n",
    "holdout_ids = hold_out[\"PassengerId\"]\n",
    "submission_df = {\"PassengerId\": holdout_ids,\n",
    "                 \"Survived\": holdout_prediction}\n",
    "submission = pd.DataFrame(submission_df)\n"
   ]
  },
  {
   "cell_type": "markdown",
   "metadata": {},
   "source": [
    "* Finally, we'll use the DataFrame.to_csv() method to save the dataframe to a CSV file. We need to make sure the index parameter is set to False, otherwise we will add an extra column to our CSV."
   ]
  },
  {
   "cell_type": "markdown",
   "metadata": {},
   "source": [
    "## TODO:\n",
    "* Create a dataframe submission that matches Kaggle's specification.\n",
    "* Use the to_csv() method to save the submission dataframe using the filename submission.csv, using the documentation to look up the correct syntax."
   ]
  },
  {
   "cell_type": "code",
   "execution_count": 29,
   "metadata": {},
   "outputs": [],
   "source": [
    "submission.to_csv('submission.csv',index=False)"
   ]
  },
  {
   "cell_type": "markdown",
   "metadata": {},
   "source": [
    "# 11. Making Our First Submission to Kaggle"
   ]
  },
  {
   "cell_type": "markdown",
   "metadata": {},
   "source": [
    "* Now that we have our submission file, we can start our submission to Kaggle by clicking the blue 'Submit Predictions' button on the [competition page](https://www.kaggle.com/c/titanic).\n",
    "\n",
    "\n",
    "* You will then be prompted to upload your CSV file, and add a brief description of your submission. When you make your submission, Kaggle will process your predictions and give you your accuracy for the holdout data and your ranking"
   ]
  },
  {
   "cell_type": "markdown",
   "metadata": {},
   "source": [
    "# 12. Next Steps"
   ]
  },
  {
   "cell_type": "markdown",
   "metadata": {},
   "source": [
    "Here are some that we will cover in the next two missions of this course:\n",
    "\n",
    "**Improving the features**:\n",
    " * `Feature Engineering:` Create new features from the existing data.\n",
    " * `Feature Selection:` Select the most relevant features to reduce noise and overfitting.\n",
    " \n",
    " \n",
    "**Improving the model:**\n",
    " * `Model Selection:` Try a variety of models to improve performance.\n",
    " * `Hyperparameter Optimization:` Optimize the settings within each particular machine learning model."
   ]
  }
 ],
 "metadata": {
  "kernelspec": {
   "display_name": "Python 3",
   "language": "python",
   "name": "python3"
  },
  "language_info": {
   "codemirror_mode": {
    "name": "ipython",
    "version": 3
   },
   "file_extension": ".py",
   "mimetype": "text/x-python",
   "name": "python",
   "nbconvert_exporter": "python",
   "pygments_lexer": "ipython3",
   "version": "3.7.3"
  }
 },
 "nbformat": 4,
 "nbformat_minor": 2
}
