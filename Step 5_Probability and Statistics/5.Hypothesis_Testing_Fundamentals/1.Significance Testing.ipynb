{
 "cells": [
  {
   "cell_type": "markdown",
   "metadata": {},
   "source": [
    "# 1. Hypothesis testing"
   ]
  },
  {
   "cell_type": "markdown",
   "metadata": {},
   "source": [
    "In this mission, we'll learn about hypothesis testing and statistical significance. `A hypothesis is a pattern or rule about a process in the world that can be tested. We use hypothesis testing to determine if a change we made had a meaningful impact or not.`"
   ]
  },
  {
   "cell_type": "markdown",
   "metadata": {},
   "source": [
    "You can use hypothesis testing to help you determine:\n",
    "\n",
    "* if a new banner ad on a website caused a meaningful drop in the user engagement,\n",
    "* if raising the price of a product caused a meaningful drop in sales,\n",
    "* if a new weight loss pill helped people lose more weight."
   ]
  },
  {
   "cell_type": "markdown",
   "metadata": {},
   "source": [
    "Observing a decrease in user engagement or sales after instituting `a change doesn't automatically imply that the change was the cause`. `Hypothesis testing allows us to calculate the probability that random chance was actually responsible for the difference in outcome`. Every process has some inherent amount of randomness that we can't measure and understanding the role of chance helps us reach a conclusion that's more likely to be correct."
   ]
  },
  {
   "cell_type": "markdown",
   "metadata": {},
   "source": [
    "We first set up a **null hypothesis** that describes the status quo. We then state an **alternative hypothesis**, which we used to compare with the null hypothesis to decide which describes the data better. In the end, we either need to:\n",
    "\n",
    "* reject the null hypothesis\n",
    "* fail to reject the null hypothesis"
   ]
  },
  {
   "cell_type": "markdown",
   "metadata": {},
   "source": [
    "We can frame each of the studies above as these rival pairs of hypotheses:\n",
    "\n",
    "if a new banner ad on a website caused a meaningful drop in the user engagement:\n",
    "\n",
    "* null hypothesis: users who were exposed to the banner ad spent the same amount of time on the website than those who weren't.\n",
    "* alternative hypothesis: users who were exposed to the banner ad spent less time on the website than those who weren't.\n",
    "\n",
    "if raising the price of a product caused a meaningful drop in sales:\n",
    "\n",
    "* null hypothesis: the number of purchases of the product was the same at the lower price than it was at the higher price.\n",
    "* alternative hypothesis: the number of purchases of the product was lower at the higher price than it was at the lower price.\n",
    "\n",
    "if a new weight loss pill helped people lose more weight:\n",
    "\n",
    "* null hypothesis: patients who went on the weight loss pill lost no more weight than those who didn't.\n",
    "* alternative hypothesis: patients who went on the weight loss pill lost more weight than those who didn't."
   ]
  },
  {
   "cell_type": "markdown",
   "metadata": {},
   "source": [
    "# 2. Research design"
   ]
  },
  {
   "cell_type": "markdown",
   "metadata": {},
   "source": [
    "To help us determine if the weight loss pill was effective, we conducted a study where we invited 100 volunteers and split them into 2 even groups randomly:\n",
    "\n",
    "* Group A was given a placebo, or fake, pill and instructed to consume it on a daily basis.\n",
    "* Group B was given the actual weight loss pill and instructed to consume it on a daily basis.\n",
    "\n",
    "Both groups were instructed to change nothing else about their diets. Group A is referred to as the control group while group B is referred to as the treatment group. This type of study is called a `blind experiment` since the participants didn't know which pill they were receiving. This helps us reduce the potential bias that is introduced when participants know which pill they were given. For example, participants who are aware they were given the weight loss pill may try to add healthier foods to their diet to help them lose more weight. Both groups were weighed before the study began and a month later, after the study ended.\n",
    "\n",
    "`Understanding the research design for a study is an important first step that informs the rest of your analysis. It helps us uncover potential flaws in the study that we need to keep in mind as we dive deeper.` The weight loss pill study we conducted is known as an experimental study. Experimental studies usually involve bringing in participants, instructing them to perform some tasks, and observing them. A key part of running an experimental study is random assignment, which involves assigning participants in the study to random groups without revealing which group each participant is in`. Before exploring and analyzing a dataset, it's important to understand how the study was conducted. Flaws in how the study was run can lead you to reach the wrong conclusions.`"
   ]
  },
  {
   "cell_type": "markdown",
   "metadata": {},
   "source": [
    "# 3. Statistical significance"
   ]
  },
  {
   "cell_type": "markdown",
   "metadata": {},
   "source": [
    "Statistics helps us determine if the difference in the weight lost between the 2 groups is `because of random chance or because of an actual difference in the outcomes.` `If there is a meaningful difference, we say that the results are statistically significant.`"
   ]
  },
  {
   "cell_type": "markdown",
   "metadata": {},
   "source": [
    "Now that we're familiar with the study, let's state our null and alternative hypotheses more precisely. Our null hypothesis should describe the default position of skepticism, which is that there's no statistically significant difference between the outcomes of the 2 groups. Put another way, it should state that any difference is due to random chance. Our alternative hypothesis should state that there is in fact a statistically significant difference between the outcomes of the 2 groups.\n",
    "\n",
    "* Null hypothesis: participants who consumed the weight loss pills lost the same amount of weight as those who didn't take the pill.\n",
    "* Alternative hypothesis: participants who consumed the weight loss pills lost more weight than those who didn't take the pill.\n",
    "\n",
    "The lists weight_lost_a and weight_lost_b contain the amount of weight (in pounds) that the participants in each group lost. Let's now explore the data to become more familiar with it."
   ]
  },
  {
   "cell_type": "code",
   "execution_count": 9,
   "metadata": {},
   "outputs": [],
   "source": [
    "import pandas as pd\n",
    "weight_loss=pd.read_csv('weight_loss.csv')\n",
    "weight_loss.head()\n",
    "weight_lost_a=weight_loss.iloc[:,0]\n",
    "weight_lost_b=weight_loss.iloc[:,1]"
   ]
  },
  {
   "cell_type": "code",
   "execution_count": 10,
   "metadata": {},
   "outputs": [
    {
     "name": "stdout",
     "output_type": "stream",
     "text": [
      "2.816326530612245\n",
      "5.346938775510204\n"
     ]
    }
   ],
   "source": [
    "import numpy as np\n",
    "import matplotlib.pyplot as plt\n",
    "\n",
    "mean_group_a=np.mean(weight_lost_a)\n",
    "print(mean_group_a)\n",
    "mean_group_b=np.mean(weight_lost_b)\n",
    "print(mean_group_b)"
   ]
  },
  {
   "cell_type": "markdown",
   "metadata": {},
   "source": [
    "# 4. Test statistic"
   ]
  },
  {
   "cell_type": "markdown",
   "metadata": {},
   "source": [
    "`To decide which hypothesis more accurately describes the data, we need to frame the hypotheses more quantitatively. The first step is to decide on a test statistic, which is a numerical value that summarizes the data and we can use in statistical formulas. We use this test statistic to run a statistical test that will determine how likely the difference between the groups were due to random chance.`"
   ]
  },
  {
   "cell_type": "markdown",
   "metadata": {},
   "source": [
    "Since we want to know if the amount of weight lost between the groups is meaningfully different, we will use the difference in the means, also known as the mean difference, of the amount of weight lost for each group as the test statistic."
   ]
  },
  {
   "cell_type": "code",
   "execution_count": 15,
   "metadata": {},
   "outputs": [
    {
     "name": "stdout",
     "output_type": "stream",
     "text": [
      "2.5306122448979593\n"
     ]
    },
    {
     "data": {
      "text/html": [
       "<div>\n",
       "<style scoped>\n",
       "    .dataframe tbody tr th:only-of-type {\n",
       "        vertical-align: middle;\n",
       "    }\n",
       "\n",
       "    .dataframe tbody tr th {\n",
       "        vertical-align: top;\n",
       "    }\n",
       "\n",
       "    .dataframe thead th {\n",
       "        text-align: right;\n",
       "    }\n",
       "</style>\n",
       "<table border=\"1\" class=\"dataframe\">\n",
       "  <thead>\n",
       "    <tr style=\"text-align: right;\">\n",
       "      <th></th>\n",
       "      <th>3</th>\n",
       "      <th>5</th>\n",
       "    </tr>\n",
       "  </thead>\n",
       "  <tbody>\n",
       "    <tr>\n",
       "      <th>0</th>\n",
       "      <td>2</td>\n",
       "      <td>4</td>\n",
       "    </tr>\n",
       "    <tr>\n",
       "      <th>1</th>\n",
       "      <td>3</td>\n",
       "      <td>5</td>\n",
       "    </tr>\n",
       "    <tr>\n",
       "      <th>2</th>\n",
       "      <td>4</td>\n",
       "      <td>5</td>\n",
       "    </tr>\n",
       "    <tr>\n",
       "      <th>3</th>\n",
       "      <td>3</td>\n",
       "      <td>4</td>\n",
       "    </tr>\n",
       "    <tr>\n",
       "      <th>4</th>\n",
       "      <td>2</td>\n",
       "      <td>5</td>\n",
       "    </tr>\n",
       "  </tbody>\n",
       "</table>\n",
       "</div>"
      ],
      "text/plain": [
       "   3  5\n",
       "0  2  4\n",
       "1  3  5\n",
       "2  4  5\n",
       "3  3  4\n",
       "4  2  5"
      ]
     },
     "execution_count": 15,
     "metadata": {},
     "output_type": "execute_result"
    }
   ],
   "source": [
    "mean_group_a = np.mean(weight_lost_a)\n",
    "mean_group_b = np.mean(weight_lost_b)\n",
    "mean_difference=mean_group_b-mean_group_a\n",
    "print(mean_difference)"
   ]
  },
  {
   "cell_type": "markdown",
   "metadata": {},
   "source": [
    "# 5. Permutation test"
   ]
  },
  {
   "cell_type": "markdown",
   "metadata": {},
   "source": [
    "`Now that we have a test statistic, we need to decide on a statistical test. The purpose of a statistical test is to work out the likelihood that the result we achieved was due to random chance.`\n",
    "\n",
    "`The` **`permutation test`** `is a statistical test that involves simulating rerunning the study many times and recalculating the test statistic for each iteration. The goal is to calculate a distribution of the test statistics over these many iterations. This distribution is called the` **`sampling distribution`** `and it approximates the full range of possible test statistics under the null hypothesis.`"
   ]
  },
  {
   "cell_type": "code",
   "execution_count": 16,
   "metadata": {},
   "outputs": [
    {
     "data": {
      "image/png": "[encoded data removed]",
      "text/plain": [
       "<Figure size 432x288 with 1 Axes>"
      ]
     },
     "metadata": {
      "needs_background": "light"
     },
     "output_type": "display_data"
    }
   ],
   "source": [
    "mean_difference = 2.52\n",
    "all_values=[3,5,2,4,3, 5, 4, 5, 3, 4, 2, 5, 2, 7,2,5,1, 4, 3, 3,2,3, 3, 5,1, 10,3,3, 4, 4, 1, 9, 3,7,2, 6, 1, 9, 3, 4, 4, 2, 3, \n",
    "            5, 2,7, 3, 7,7,7, 2, 5, 3, 4, 2, 8, 5, 9,1, 6, 1, 7, 1, 6, 3,7, 2, 6, 4, 3, 10, 5, 2,5, 3, 4, 2,2,5,3,6,3,2,5,3,6,2,9,3,7,4, 6,1,4,3,5,3,4,1,3]\n",
    "mean_differences = []\n",
    "for i in range(1000):\n",
    "    group_a = []\n",
    "    group_b = []\n",
    "    for value in all_values:\n",
    "        assignment_chance = np.random.rand()\n",
    "        if assignment_chance >= 0.5:\n",
    "            group_a.append(value)\n",
    "        else:\n",
    "            group_b.append(value)\n",
    "    iteration_mean_difference = np.mean(group_b) - np.mean(group_a)\n",
    "    mean_differences.append(iteration_mean_difference)\n",
    "    \n",
    "plt.hist(mean_differences)\n",
    "plt.show()"
   ]
  },
  {
   "cell_type": "markdown",
   "metadata": {},
   "source": [
    "# 6. Sampling distribution\n"
   ]
  },
  {
   "cell_type": "markdown",
   "metadata": {},
   "source": [
    "By randomly assigning participants to group A or group B, we account for the effect of random chance. Someone in group B who just happened to lose more weight (but not because of the pills) makes the results look better than they were. By creating many permutations, we're able to see all possible configurations of this error. Creating a histogram enables us to see how likely different values of our test statistic are if we repeated our experiment many times.\n",
    "\n",
    "The histogram we generated in the previous step using Matplotlib is a visual representation of the sampling distribution. Let's now create a dictionary that contains the values in the sampling distribution so we can benchmark our observed test statistic against it."
   ]
  },
  {
   "cell_type": "markdown",
   "metadata": {},
   "source": [
    "We need to first count up how frequently each value in the list, mean_differences, occurs. As we loop over mean_differences, we need a way to check if the test statistic is already in our dictionary:\n",
    "\n",
    "* If it is, we look up the value at that key, add 1 to it, and assign the new value to the key.\n",
    "* If it isn't, we add the key to the dictionary and assign the value 1 to it."
   ]
  },
  {
   "cell_type": "markdown",
   "metadata": {},
   "source": [
    "# 7. Dictionary representation of a distribution"
   ]
  },
  {
   "cell_type": "markdown",
   "metadata": {},
   "source": [
    "To check if a key exists in a dictionary, we need to use the get() method to:\n",
    "\n",
    "* return the value at the specified key if it exists in the dictionary or\n",
    "* return another value we specify instead.\n",
    "\n",
    "Here are the parameters the method takes in:\n",
    "\n",
    "* the required parameter is the key we want to look up,\n",
    "* the optional parameter is the default value we want returned if the key is not found."
   ]
  },
  {
   "cell_type": "code",
   "execution_count": 17,
   "metadata": {},
   "outputs": [],
   "source": [
    "sampling_distribution = {}\n",
    "for df in mean_differences:\n",
    "    if sampling_distribution.get(df, False):\n",
    "        sampling_distribution[df] = sampling_distribution[df] + 1\n",
    "    else:\n",
    "        sampling_distribution[df] = 1"
   ]
  },
  {
   "cell_type": "markdown",
   "metadata": {},
   "source": [
    "# 8. P value"
   ]
  },
  {
   "cell_type": "markdown",
   "metadata": {},
   "source": [
    "In the sampling distribution we generated, most of the values are closely centered around the mean difference of 0. This means that if it were purely up to chance, both groups would have lost the same amount of weight (the null hypothesis). But since the observed test statistic is not near 0, it could mean that the weight loss pills could be responsible for the mean difference in the study.\n",
    "\n",
    "We can now use the sampling distribution to determine the number of times a value of 2.52 or higher appeared in our simulations. If we then divide that frequency by 1000, we'll have the probability of observing a mean difference of 2.52 or higher purely due to random chance.\n",
    "\n",
    "This probability is called the p value. If this value is high, it means that the difference in the amount of weight both groups lost could have easily happened randomly and the weight loss pills probably didn't play a role. On the other hand, a low p value implies that there's an incredibly small probability that the mean difference we observed was because of random chance."
   ]
  },
  {
   "cell_type": "markdown",
   "metadata": {},
   "source": [
    "In general, it's good practice to set the p value threshold before conducting the study:\n",
    "\n",
    "if the p value is less than the threshold, we:\n",
    "\n",
    "* reject the null hypothesis that there's no difference in mean amount of weight lost by participants in both groups,\n",
    "* conclude that there is some evidence that the weight loss pill does affect the amount of weight people lost.\n",
    "\n",
    "if the p value is greater than the threshold, we:\n",
    "\n",
    "* fail to reject the null hypothesis that there's no difference in the mean amount of weight lost by participants in both groups,\n",
    "* conclude that the weight loss pill doesn't seem to be effective in helping people lose more weight."
   ]
  },
  {
   "cell_type": "code",
   "execution_count": 18,
   "metadata": {},
   "outputs": [],
   "source": [
    "frequencies = []\n",
    "for sp in sampling_distribution.keys():\n",
    "    if sp >= 2.52:\n",
    "        frequencies.append(sampling_distribution[sp])\n",
    "p_value = np.sum(frequencies) / 1000"
   ]
  },
  {
   "cell_type": "markdown",
   "metadata": {},
   "source": [
    "# 9. Caveats"
   ]
  },
  {
   "cell_type": "markdown",
   "metadata": {},
   "source": [
    "Since the p value of 0 is less than the threshold we set of 0.05, we conclude that the difference in weight lost can't be attributed to random chance alone. We therefore reject the null hypothesis. A few caveats:\n",
    "\n",
    "`Research design is incredibly important and can bias your results. For example, if the participants in group A realized they were given placebo sugar pills, they may modify their behavior and affect the outcome.`\n",
    "\n",
    "The p value threshold you set can also affect the conclusion you reach.\n",
    "\n",
    "* If you set too high of a p value threshold, you may reject the null hypothesis incorrectly. This is known as a type I error.\n",
    "* If you set too low of a p value threshold, you may fail to reject the null hypothesis incorrectly. This is known as a type II error."
   ]
  },
  {
   "cell_type": "code",
   "execution_count": null,
   "metadata": {},
   "outputs": [],
   "source": []
  }
 ],
 "metadata": {
  "kernelspec": {
   "display_name": "Python 3",
   "language": "python",
   "name": "python3"
  },
  "language_info": {
   "codemirror_mode": {
    "name": "ipython",
    "version": 3
   },
   "file_extension": ".py",
   "mimetype": "text/x-python",
   "name": "python",
   "nbconvert_exporter": "python",
   "pygments_lexer": "ipython3",
   "version": "3.7.7"
  }
 },
 "nbformat": 4,
 "nbformat_minor": 4
}
