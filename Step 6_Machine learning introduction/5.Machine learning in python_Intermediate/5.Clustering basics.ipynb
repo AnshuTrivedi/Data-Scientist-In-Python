{
 "cells": [
  {
   "cell_type": "markdown",
   "metadata": {},
   "source": [
    "# 1. Clustering overview"
   ]
  },
  {
   "cell_type": "markdown",
   "metadata": {},
   "source": [
    "So far, we've looked at regression and classification. These are both types of supervised machine learning. In [supervised learning](https://en.wikipedia.org/wiki/Supervised_learning), `you train an algorithm to predict an unknown variable from known variables.`\n",
    "\n",
    "Another major type of machine learning is called [unsupervised learning](https://en.wikipedia.org/wiki/Unsupervised_learning). In unsupervised learning,` we aren't trying to predict anything. Instead, we're finding patterns in data.`"
   ]
  },
  {
   "cell_type": "markdown",
   "metadata": {},
   "source": [
    "`One of the main unsupervised learning techniques is called clustering. We use clustering when we're trying to explore a dataset, and understand the connections between the various rows and columns. `"
   ]
  },
  {
   "cell_type": "markdown",
   "metadata": {},
   "source": [
    "**Clustering algorithms group similar rows together. There can be one or more groups in the data, and these groups form the clusters.**"
   ]
  },
  {
   "cell_type": "markdown",
   "metadata": {},
   "source": [
    "`Clustering is a key way to explore unknown data, and it's a very commonly used machine learning technique. In this mission, we'll work on clustering US Senators based on how they voted.`"
   ]
  },
  {
   "cell_type": "markdown",
   "metadata": {},
   "source": [
    "# 2. The dataset"
   ]
  },
  {
   "cell_type": "markdown",
   "metadata": {},
   "source": [
    "In the US, the Senate votes on proposed legislation. Getting a bill passed by the Senate is a key step towards getting its provisions enacted. A majority vote is required to get a bill passed.\n",
    "\n",
    "The results of these votes, known as roll call votes, are public, and available in a few places, including [here](https://github.com/unitedstates/congress). Read more about the US legislative system [here](https://en.wikipedia.org/wiki/Federal_government_of_the_United_States#Legislative_branch)."
   ]
  },
  {
   "cell_type": "markdown",
   "metadata": {},
   "source": [
    "In the US, the 2 main political parties are the [Democrats](https://en.wikipedia.org/wiki/Democratic_Party), who tend to be liberal, and the [Republicans](https://en.wikipedia.org/wiki/Republican_Party), who tend to be conservative. Senators can also choose to be unaffiliated with a party, and vote as Independents, although very few choose to do so."
   ]
  },
  {
   "cell_type": "markdown",
   "metadata": {},
   "source": [
    "Here are the relevant columns:\n",
    "\n",
    "* name -- The last name of the Senator.\n",
    "* party -- the party of the Senator. The valid values are D for Democrat, R for Republican, and I for Independent.\n",
    "* Several columns numbered like 00001, 00004, etc. Each of these columns represents the results of a single roll call vote."
   ]
  },
  {
   "cell_type": "code",
   "execution_count": 1,
   "metadata": {},
   "outputs": [],
   "source": [
    "import pandas as pd\n",
    "votes=pd.read_csv('114_congress.csv')"
   ]
  },
  {
   "cell_type": "markdown",
   "metadata": {},
   "source": [
    "# 3. Exploring the data"
   ]
  },
  {
   "cell_type": "code",
   "execution_count": 2,
   "metadata": {},
   "outputs": [
    {
     "data": {
      "text/html": [
       "<div>\n",
       "<style scoped>\n",
       "    .dataframe tbody tr th:only-of-type {\n",
       "        vertical-align: middle;\n",
       "    }\n",
       "\n",
       "    .dataframe tbody tr th {\n",
       "        vertical-align: top;\n",
       "    }\n",
       "\n",
       "    .dataframe thead th {\n",
       "        text-align: right;\n",
       "    }\n",
       "</style>\n",
       "<table border=\"1\" class=\"dataframe\">\n",
       "  <thead>\n",
       "    <tr style=\"text-align: right;\">\n",
       "      <th></th>\n",
       "      <th>name</th>\n",
       "      <th>party</th>\n",
       "      <th>state</th>\n",
       "      <th>00001</th>\n",
       "      <th>00004</th>\n",
       "      <th>00005</th>\n",
       "      <th>00006</th>\n",
       "      <th>00007</th>\n",
       "      <th>00008</th>\n",
       "      <th>00009</th>\n",
       "      <th>00010</th>\n",
       "      <th>00020</th>\n",
       "      <th>00026</th>\n",
       "      <th>00032</th>\n",
       "      <th>00038</th>\n",
       "      <th>00039</th>\n",
       "      <th>00044</th>\n",
       "      <th>00047</th>\n",
       "    </tr>\n",
       "  </thead>\n",
       "  <tbody>\n",
       "    <tr>\n",
       "      <th>0</th>\n",
       "      <td>Alexander</td>\n",
       "      <td>R</td>\n",
       "      <td>TN</td>\n",
       "      <td>0.0</td>\n",
       "      <td>1.0</td>\n",
       "      <td>1.0</td>\n",
       "      <td>1.0</td>\n",
       "      <td>1.0</td>\n",
       "      <td>0.0</td>\n",
       "      <td>0.0</td>\n",
       "      <td>1.0</td>\n",
       "      <td>1.0</td>\n",
       "      <td>1.0</td>\n",
       "      <td>0.0</td>\n",
       "      <td>0.0</td>\n",
       "      <td>0.0</td>\n",
       "      <td>0.0</td>\n",
       "      <td>0.0</td>\n",
       "    </tr>\n",
       "    <tr>\n",
       "      <th>1</th>\n",
       "      <td>Ayotte</td>\n",
       "      <td>R</td>\n",
       "      <td>NH</td>\n",
       "      <td>0.0</td>\n",
       "      <td>1.0</td>\n",
       "      <td>1.0</td>\n",
       "      <td>1.0</td>\n",
       "      <td>1.0</td>\n",
       "      <td>0.0</td>\n",
       "      <td>0.0</td>\n",
       "      <td>1.0</td>\n",
       "      <td>0.0</td>\n",
       "      <td>1.0</td>\n",
       "      <td>0.0</td>\n",
       "      <td>1.0</td>\n",
       "      <td>0.0</td>\n",
       "      <td>1.0</td>\n",
       "      <td>0.0</td>\n",
       "    </tr>\n",
       "    <tr>\n",
       "      <th>2</th>\n",
       "      <td>Baldwin</td>\n",
       "      <td>D</td>\n",
       "      <td>WI</td>\n",
       "      <td>1.0</td>\n",
       "      <td>0.0</td>\n",
       "      <td>0.0</td>\n",
       "      <td>1.0</td>\n",
       "      <td>0.0</td>\n",
       "      <td>1.0</td>\n",
       "      <td>0.0</td>\n",
       "      <td>1.0</td>\n",
       "      <td>0.0</td>\n",
       "      <td>0.0</td>\n",
       "      <td>1.0</td>\n",
       "      <td>1.0</td>\n",
       "      <td>0.0</td>\n",
       "      <td>1.0</td>\n",
       "      <td>1.0</td>\n",
       "    </tr>\n",
       "  </tbody>\n",
       "</table>\n",
       "</div>"
      ],
      "text/plain": [
       "        name party state  00001  00004  00005  00006  00007  00008  00009  \\\n",
       "0  Alexander     R    TN    0.0    1.0    1.0    1.0    1.0    0.0    0.0   \n",
       "1     Ayotte     R    NH    0.0    1.0    1.0    1.0    1.0    0.0    0.0   \n",
       "2    Baldwin     D    WI    1.0    0.0    0.0    1.0    0.0    1.0    0.0   \n",
       "\n",
       "   00010  00020  00026  00032  00038  00039  00044  00047  \n",
       "0    1.0    1.0    1.0    0.0    0.0    0.0    0.0    0.0  \n",
       "1    1.0    0.0    1.0    0.0    1.0    0.0    1.0    0.0  \n",
       "2    1.0    0.0    0.0    1.0    1.0    0.0    1.0    1.0  "
      ]
     },
     "execution_count": 2,
     "metadata": {},
     "output_type": "execute_result"
    }
   ],
   "source": [
    "votes.head(3)"
   ]
  },
  {
   "cell_type": "code",
   "execution_count": 3,
   "metadata": {},
   "outputs": [
    {
     "data": {
      "text/plain": [
       "R    54\n",
       "D    44\n",
       "I     2\n",
       "Name: party, dtype: int64"
      ]
     },
     "execution_count": 3,
     "metadata": {},
     "output_type": "execute_result"
    }
   ],
   "source": [
    "votes['party'].value_counts()"
   ]
  },
  {
   "cell_type": "code",
   "execution_count": 4,
   "metadata": {},
   "outputs": [
    {
     "data": {
      "text/plain": [
       "00001    0.325\n",
       "00004    0.575\n",
       "00005    0.535\n",
       "00006    0.945\n",
       "00007    0.545\n",
       "00008    0.415\n",
       "00009    0.545\n",
       "00010    0.985\n",
       "00020    0.525\n",
       "00026    0.545\n",
       "00032    0.410\n",
       "00038    0.480\n",
       "00039    0.510\n",
       "00044    0.460\n",
       "00047    0.370\n",
       "dtype: float64"
      ]
     },
     "execution_count": 4,
     "metadata": {},
     "output_type": "execute_result"
    }
   ],
   "source": [
    "votes.mean()"
   ]
  },
  {
   "cell_type": "code",
   "execution_count": 5,
   "metadata": {},
   "outputs": [
    {
     "name": "stdout",
     "output_type": "stream",
     "text": [
      "Against bill\n",
      "Voted in favor of bill\n",
      "Voted in favor of bill\n",
      "Voted in favor of bill\n",
      "Voted in favor of bill\n",
      "Against bill\n",
      "Voted in favor of bill\n",
      "Voted in favor of bill\n",
      "Voted in favor of bill\n",
      "Voted in favor of bill\n",
      "Against bill\n",
      "Against bill\n",
      "Voted in favor of bill\n",
      "Against bill\n",
      "Against bill\n"
     ]
    }
   ],
   "source": [
    "vote_mean=votes.mean()\n",
    "\n",
    "for col in vote_mean.index:\n",
    "    if vote_mean[col]>0.5:\n",
    "        print('Voted in favor of bill')\n",
    "    else:\n",
    "        print('Against bill')"
   ]
  },
  {
   "cell_type": "markdown",
   "metadata": {},
   "source": [
    "# 4. Distance between Senators"
   ]
  },
  {
   "cell_type": "markdown",
   "metadata": {},
   "source": [
    "To group Senators together, we need some way to figure out how \"close\" the Senators are to each other. We'll then group together the Senators that are the closest. We can actually discover this distance mathematically, by finding how similar the votes of two Senators are. The closer together the voting records of two Senators, the more ideologically similar they are (voting the same way indicates that you share the same views).\n",
    "\n",
    "To find the distance between two rows, `we can use Euclidean distance`."
   ]
  },
  {
   "cell_type": "code",
   "execution_count": 6,
   "metadata": {},
   "outputs": [
    {
     "name": "stdout",
     "output_type": "stream",
     "text": [
      "[[1.73205081]]\n"
     ]
    }
   ],
   "source": [
    "from sklearn.metrics.pairwise import euclidean_distances\n",
    "\n",
    "print(euclidean_distances(votes.iloc[0,3:].values.reshape(1, -1), votes.iloc[1,3:].values.reshape(1, -1)))\n",
    "distance = euclidean_distances(votes.iloc[0,3:].values.reshape(1, -1), votes.iloc[2,3:].values.reshape(1, -1))"
   ]
  },
  {
   "cell_type": "markdown",
   "metadata": {},
   "source": [
    "# 5. Initial clustering"
   ]
  },
  {
   "cell_type": "markdown",
   "metadata": {},
   "source": [
    "We'll use an algorithm called [k-means clustering](https://en.wikipedia.org/wiki/K-means_clustering) to split our data into clusters. k-means clustering uses Euclidean distance to form clusters of similar Senators. We'll dive more into the theory of k-means clustering and build the algorithm from the ground up in a later mission. For now, it's important to understand clustering at a high level, so we'll leverage the [scikit-learn](http://scikit-learn.org/stable/) library to train a k-means model."
   ]
  },
  {
   "cell_type": "markdown",
   "metadata": {},
   "source": [
    "The k-means algorithm will group Senators who vote similarly on bills together, in clusters. Each cluster is assigned a center, and the Euclidean distance from each Senator to the center is computed. Senators are assigned to clusters based on which one they are closest to. From our background knowledge, we think that Senators will cluster along party lines.\n",
    "\n",
    "The k-means algorithm requires us to specify the number of clusters upfront. Because we suspect that clusters will occur along party lines, and the vast majority of Senators are either Republicans or Democrats, we'll pick 2 for our number of clusters.\n",
    "\n",
    "We'll use the KMeans class from scikit-learn to perform the clustering. Because we aren't predicting anything, there's no risk of overfitting, so we'll train our model on the whole dataset. After training, we'll be able to extract cluster labels that indicate what cluster each Senator belongs to."
   ]
  },
  {
   "cell_type": "markdown",
   "metadata": {},
   "source": [
    "We can initialize the model like this:\n",
    "\n",
    "`kmeans_model = KMeans(n_clusters=2, random_state=1)`"
   ]
  },
  {
   "cell_type": "markdown",
   "metadata": {},
   "source": [
    "# 6. Initial clustering"
   ]
  },
  {
   "cell_type": "code",
   "execution_count": 7,
   "metadata": {},
   "outputs": [],
   "source": [
    "import pandas as pd\n",
    "from sklearn.cluster import KMeans\n",
    "\n",
    "kmeans_model = KMeans(n_clusters=2, random_state=1)\n",
    "senator_distances = kmeans_model.fit_transform(votes.iloc[:, 3:])"
   ]
  },
  {
   "cell_type": "markdown",
   "metadata": {},
   "source": [
    "# 7. Exploring the clusters"
   ]
  },
  {
   "cell_type": "markdown",
   "metadata": {},
   "source": [
    "We can use the Pandas method crosstab() to compute and display how many Senators from each party ended up in each cluster. The crosstab() method takes in two vectors or Pandas Series and computes how many times each unique value in the second vector occurs for each unique value in the first vector."
   ]
  },
  {
   "cell_type": "code",
   "execution_count": 8,
   "metadata": {},
   "outputs": [
    {
     "name": "stdout",
     "output_type": "stream",
     "text": [
      "party   D  I   R\n",
      "row_0           \n",
      "0       3  0  54\n",
      "1      41  2   0\n"
     ]
    }
   ],
   "source": [
    "labels = kmeans_model.labels_\n",
    "print(pd.crosstab(labels, votes[\"party\"]))"
   ]
  },
  {
   "cell_type": "markdown",
   "metadata": {},
   "source": [
    "# 8. Exploring Senators in the wrong cluster"
   ]
  },
  {
   "cell_type": "markdown",
   "metadata": {},
   "source": [
    "It looks like both of our clusters mostly broke down along party lines. The first cluster contains 41 Democrats, and both Independents. The second cluster contains 3 Democrats, and 54 Republicans.\n",
    "\n",
    "No Republicans seem to have broken party ranks to vote with the Democrats, but 3 Democrats are more similar to Republicans in their voting than their own party. Let's explore these 3 in more depth so we can figure out why that is.\n",
    "\n",
    "We can do this by subsetting votes to only select rows where the party column is D, and the labels variable is 1, indicating that the Senator is in the second cluster."
   ]
  },
  {
   "cell_type": "code",
   "execution_count": 9,
   "metadata": {},
   "outputs": [
    {
     "name": "stdout",
     "output_type": "stream",
     "text": [
      "          name party state  00001  00004  00005  00006  00007  00008  00009  \\\n",
      "2      Baldwin     D    WI    1.0    0.0    0.0    1.0    0.0    1.0    0.0   \n",
      "4       Bennet     D    CO    0.0    0.0    0.0    1.0    0.0    1.0    0.0   \n",
      "5   Blumenthal     D    CT    1.0    0.0    0.0    1.0    0.0    1.0    0.0   \n",
      "7       Booker     D    NJ    1.0    0.0    0.0    1.0    0.0    1.0    0.0   \n",
      "9        Boxer     D    CA    0.5    0.0    0.0    1.0    0.0    1.0    0.0   \n",
      "10       Brown     D    OH    1.0    0.0    0.0    1.0    0.0    1.0    0.0   \n",
      "12    Cantwell     D    WA    1.0    0.0    0.0    1.0    0.0    1.0    0.0   \n",
      "14      Cardin     D    MD    1.0    0.0    0.0    1.0    0.0    1.0    0.0   \n",
      "15      Carper     D    DE    0.0    0.0    0.0    1.0    0.0    1.0    0.0   \n",
      "16       Casey     D    PA    0.0    0.0    0.0    1.0    0.0    1.0    1.0   \n",
      "21       Coons     D    DE    1.0    0.0    0.0    1.0    0.0    1.0    0.0   \n",
      "28    Donnelly     D    IN    0.0    0.0    0.0    1.0    0.0    0.0    0.0   \n",
      "29      Durbin     D    IL    1.0    0.0    0.0    1.0    0.0    1.0    0.0   \n",
      "32   Feinstein     D    CA    1.0    0.0    0.0    1.0    0.0    1.0    0.0   \n",
      "35     Franken     D    MN    1.0    0.0    0.0    1.0    0.0    1.0    0.0   \n",
      "37  Gillibrand     D    NY    1.0    0.0    0.0    1.0    0.0    1.0    0.0   \n",
      "41    Heinrich     D    NM    0.0    0.0    0.0    1.0    0.0    1.0    0.0   \n",
      "44      Hirono     D    HI    1.0    0.0    0.0    1.0    0.0    1.0    0.0   \n",
      "49       Kaine     D    VA    1.0    0.0    0.0    1.0    0.0    1.0    0.0   \n",
      "52   Klobuchar     D    MN    0.0    0.0    0.0    1.0    0.0    1.0    0.0   \n",
      "54       Leahy     D    VT    1.0    0.0    0.0    1.0    0.0    1.0    0.0   \n",
      "57      Markey     D    MA    1.0    0.0    0.0    1.0    0.0    1.0    0.0   \n",
      "59   McCaskill     D    MO    0.0    0.0    0.0    1.0    0.0    0.0    0.0   \n",
      "61    Menendez     D    NJ    1.0    0.0    0.0    1.0    0.0    1.0    0.0   \n",
      "62     Merkley     D    OR    1.0    0.0    0.0    1.0    0.0    1.0    0.0   \n",
      "63    Mikulski     D    MD    1.0    0.0    0.0    1.0    0.0    1.0    0.0   \n",
      "66      Murphy     D    CT    1.0    0.0    0.0    1.0    0.0    1.0    0.0   \n",
      "67      Murray     D    WA    1.0    0.0    0.0    1.0    0.0    1.0    0.0   \n",
      "68      Nelson     D    FL    1.0    0.0    0.0    1.0    0.0    1.0    0.0   \n",
      "71      Peters     D    MI    0.0    0.0    0.0    1.0    0.0    1.0    0.0   \n",
      "73        Reed     D    RI    1.0    0.0    0.0    1.0    0.0    1.0    0.0   \n",
      "81      Schatz     D    HI    1.0    0.0    0.0    1.0    0.0    1.0    0.0   \n",
      "82     Schumer     D    NY    1.0    0.0    0.0    1.0    0.0    1.0    0.0   \n",
      "85     Shaheen     D    NH    1.0    0.0    0.0    1.0    0.0    1.0    0.0   \n",
      "87    Stabenow     D    MI    0.0    0.0    0.0    1.0    0.0    1.0    0.0   \n",
      "89      Tester     D    MT    0.0    0.0    0.0    1.0    0.0    0.0    0.0   \n",
      "93       Udall     D    NM    1.0    0.0    0.0    1.0    0.0    1.0    0.0   \n",
      "95      Warner     D    VA    1.0    1.0    0.0    1.0    0.0    1.0    0.0   \n",
      "96      Warren     D    MA    1.0    0.0    0.0    1.0    0.0    1.0    0.0   \n",
      "97  Whitehouse     D    RI    1.0    0.0    0.0    1.0    0.0    1.0    0.0   \n",
      "99       Wyden     D    OR    1.0    0.0    0.0    1.0    0.0    1.0    0.0   \n",
      "\n",
      "    00010  00020  00026  00032  00038  00039  00044  00047  \n",
      "2     1.0    0.0    0.0    1.0    1.0    0.0    1.0    1.0  \n",
      "4     1.0    0.0    0.0    0.0    1.0    0.0    1.0    0.0  \n",
      "5     1.0    0.0    0.0    1.0    1.0    0.0    1.0    1.0  \n",
      "7     1.0    0.0    0.0    1.0    1.0    0.0    1.0    1.0  \n",
      "9     1.0    0.0    0.0    1.0    1.0    0.0    1.0    1.0  \n",
      "10    1.0    0.0    0.0    1.0    1.0    0.0    1.0    1.0  \n",
      "12    1.0    0.0    0.0    1.0    1.0    0.0    1.0    1.0  \n",
      "14    1.0    0.0    0.0    1.0    1.0    0.0    1.0    1.0  \n",
      "15    1.0    0.0    0.0    0.0    1.0    0.0    1.0    1.0  \n",
      "16    1.0    0.0    0.0    1.0    1.0    0.0    1.0    1.0  \n",
      "21    1.0    0.0    0.5    1.0    1.0    0.0    1.0    1.0  \n",
      "28    1.0    0.0    0.0    1.0    1.0    0.0    0.0    0.0  \n",
      "29    1.0    0.0    0.0    1.0    1.0    0.0    1.0    1.0  \n",
      "32    1.0    0.0    0.0    1.0    1.0    0.0    1.0    1.0  \n",
      "35    1.0    0.0    0.5    1.0    1.0    0.0    1.0    1.0  \n",
      "37    1.0    0.0    0.0    1.0    1.0    0.0    1.0    1.0  \n",
      "41    1.0    0.0    0.0    1.0    1.0    0.0    1.0    1.0  \n",
      "44    1.0    0.0    0.0    1.0    1.0    0.0    1.0    1.0  \n",
      "49    1.0    0.0    0.0    1.0    1.0    0.0    1.0    0.0  \n",
      "52    1.0    0.0    0.0    1.0    1.0    0.0    1.0    0.0  \n",
      "54    1.0    0.0    0.0    1.0    1.0    0.0    1.0    1.0  \n",
      "57    1.0    0.0    0.0    1.0    1.0    0.0    1.0    1.0  \n",
      "59    1.0    0.0    0.0    0.0    1.0    0.0    1.0    0.0  \n",
      "61    1.0    0.0    0.0    1.0    1.0    0.0    1.0    1.0  \n",
      "62    1.0    0.0    0.0    1.0    1.0    0.0    1.0    1.0  \n",
      "63    1.0    0.0    0.0    1.0    1.0    0.0    1.0    1.0  \n",
      "66    1.0    0.0    0.0    1.0    1.0    0.0    1.0    1.0  \n",
      "67    1.0    0.0    0.0    1.0    1.0    0.0    1.0    1.0  \n",
      "68    1.0    0.0    0.0    1.0    1.0    0.0    0.0    1.0  \n",
      "71    1.0    0.0    0.0    1.0    1.0    0.0    1.0    1.0  \n",
      "73    1.0    0.0    0.0    1.0    1.0    0.0    1.0    1.0  \n",
      "81    1.0    0.0    0.0    1.0    1.0    0.0    1.0    1.0  \n",
      "82    1.0    0.0    0.0    1.0    1.0    0.0    1.0    1.0  \n",
      "85    1.0    0.0    0.0    1.0    1.0    0.0    1.0    1.0  \n",
      "87    1.0    0.0    0.0    1.0    1.0    0.0    1.0    1.0  \n",
      "89    1.0    0.0    0.0    0.0    1.0    0.0    1.0    0.0  \n",
      "93    1.0    0.0    0.0    1.0    1.0    0.0    1.0    1.0  \n",
      "95    1.0    0.0    0.0    1.0    1.0    0.0    1.0    0.0  \n",
      "96    1.0    0.0    0.0    1.0    1.0    0.0    1.0    1.0  \n",
      "97    1.0    0.0    0.0    1.0    1.0    0.0    1.0    1.0  \n",
      "99    1.0    0.0    0.0    1.0    1.0    0.0    1.0    1.0  \n"
     ]
    }
   ],
   "source": [
    "democratic_outliers = votes[(labels == 1) & (votes[\"party\"] == \"D\")]\n",
    "print(democratic_outliers)"
   ]
  },
  {
   "cell_type": "markdown",
   "metadata": {},
   "source": [
    "# 9. Plotting out the clusters"
   ]
  },
  {
   "cell_type": "markdown",
   "metadata": {},
   "source": [
    "One great way to explore clusters is to visualize them using matplotlib. Earlier, we computed a senator_distances array that shows the distance from each Senator to the center of each cluster. We can treat these distances as x and y coordinates, and make a scatterplot that shows the position of each Senator. This works because the distances are relative to the cluster centers."
   ]
  },
  {
   "cell_type": "code",
   "execution_count": 10,
   "metadata": {},
   "outputs": [
    {
     "data": {
      "image/png": "[encoded data removed]",
      "text/plain": [
       "<Figure size 432x288 with 1 Axes>"
      ]
     },
     "metadata": {
      "needs_background": "light"
     },
     "output_type": "display_data"
    }
   ],
   "source": [
    "import matplotlib.pyplot as plt\n",
    "plt.scatter(x=senator_distances[:,0], y=senator_distances[:,1], c=labels, linewidths=0)\n",
    "plt.show()"
   ]
  },
  {
   "cell_type": "markdown",
   "metadata": {},
   "source": [
    "# 10. Finding the most extreme"
   ]
  },
  {
   "cell_type": "markdown",
   "metadata": {},
   "source": [
    "The most extreme Senators are those who are the furthest away from one cluster. For example, a radical Republican would be as far from the Democratic cluster as possible. Senators who are in between both clusters are more moderate, as they fall in between the views of the two parties.\n",
    "\n",
    "If we look at the first few rows of senator_distances, we can start to see who is more extreme:"
   ]
  },
  {
   "cell_type": "code",
   "execution_count": 11,
   "metadata": {},
   "outputs": [
    {
     "name": "stdout",
     "output_type": "stream",
     "text": [
      "         name party state  00001  00004  00005  00006  00007  00008  00009  \\\n",
      "98     Wicker     R    MS    0.0    1.0    1.0    1.0    1.0    0.0    1.0   \n",
      "53   Lankford     R    OK    0.0    1.0    1.0    0.0    1.0    0.0    1.0   \n",
      "69       Paul     R    KY    0.0    1.0    1.0    0.0    1.0    0.0    1.0   \n",
      "80      Sasse     R    NE    0.0    1.0    1.0    0.0    1.0    0.0    1.0   \n",
      "26       Cruz     R    TX    0.0    1.0    1.0    0.0    1.0    0.0    1.0   \n",
      "48    Johnson     R    WI    0.0    1.0    1.0    1.0    1.0    0.0    1.0   \n",
      "47    Isakson     R    GA    0.0    1.0    1.0    1.0    1.0    0.0    1.0   \n",
      "65  Murkowski     R    AK    0.0    1.0    1.0    1.0    1.0    0.0    1.0   \n",
      "64      Moran     R    KS    0.0    1.0    1.0    1.0    1.0    0.0    1.0   \n",
      "30       Enzi     R    WY    0.0    1.0    1.0    1.0    1.0    0.0    1.0   \n",
      "\n",
      "    00010  00020  00026  00032  00038  00039  00044  00047  extremism  \n",
      "98    0.0    1.0    1.0    0.0    0.0    1.0    0.0    0.0  46.250476  \n",
      "53    1.0    1.0    1.0    0.0    0.0    1.0    0.0    0.0  46.046873  \n",
      "69    1.0    1.0    1.0    0.0    0.0    1.0    0.0    0.0  46.046873  \n",
      "80    1.0    1.0    1.0    0.0    0.0    1.0    0.0    0.0  46.046873  \n",
      "26    1.0    1.0    1.0    0.0    0.0    1.0    0.0    0.0  46.046873  \n",
      "48    1.0    1.0    1.0    0.0    0.0    1.0    0.0    0.0  40.017540  \n",
      "47    1.0    1.0    1.0    0.0    0.0    1.0    0.0    0.0  40.017540  \n",
      "65    1.0    1.0    1.0    0.0    0.0    1.0    0.0    0.0  40.017540  \n",
      "64    1.0    1.0    1.0    0.0    0.0    1.0    0.0    0.0  40.017540  \n",
      "30    1.0    1.0    1.0    0.0    0.0    1.0    0.0    0.0  40.017540  \n"
     ]
    }
   ],
   "source": [
    "extremism = (senator_distances ** 3).sum(axis=1)\n",
    "votes[\"extremism\"] = extremism\n",
    "votes.sort_values(\"extremism\", inplace=True, ascending=False)\n",
    "print(votes.head(10))"
   ]
  },
  {
   "cell_type": "markdown",
   "metadata": {},
   "source": [
    "`Clustering is a powerful way to explore data and find patterns. Unsupervised learning is very commonly used with large datasets where it isn't obvious how to start with supervised machine learning. In general, it's a good idea to try unsupervised learning to explore a dataset before trying to use supervised learning machine learning models.\n",
    "`"
   ]
  }
 ],
 "metadata": {
  "kernelspec": {
   "display_name": "Python 3",
   "language": "python",
   "name": "python3"
  },
  "language_info": {
   "codemirror_mode": {
    "name": "ipython",
    "version": 3
   },
   "file_extension": ".py",
   "mimetype": "text/x-python",
   "name": "python",
   "nbconvert_exporter": "python",
   "pygments_lexer": "ipython3",
   "version": "3.7.7"
  }
 },
 "nbformat": 4,
 "nbformat_minor": 2
}
