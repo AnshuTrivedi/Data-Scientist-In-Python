{
 "cells": [
  {
   "cell_type": "markdown",
   "metadata": {},
   "source": [
    "# 1. Recap"
   ]
  },
  {
   "cell_type": "markdown",
   "metadata": {},
   "source": [
    "In the last mission, we focused on increasing the number of attributes the model uses. We saw how, in general, adding more attributes generally lowered the error of the model. This is because the model is able to do a better job identifying the living spaces from the training set that are the most similar to the ones from the test set. However, we also observed how using all of the available features didn't actually improve the model's accuracy automatically and that some of the features were probably not relevant for similarity ranking. `We learned that selecting relevant features was the right lever when improving a model's accuracy, not just increasing the features used in the absolute.`\n",
    "\n",
    "`In this mission, we'll focus on the impact of increasing k, the number of nearby neighbors the model uses to make predictions`"
   ]
  },
  {
   "cell_type": "markdown",
   "metadata": {},
   "source": [
    "## TODO:\n",
    "* Read dc_airbnb_train.csv into a Dataframe and assign to train_df.\n",
    "* Read dc_airbnb_test.csv into a Dataframe and assign to test_df."
   ]
  },
  {
   "cell_type": "code",
   "execution_count": 1,
   "metadata": {},
   "outputs": [],
   "source": [
    "import pandas as pd\n",
    "train_df=pd.read_csv('dc_airbnb_train.csv')\n",
    "test_df=pd.read_csv('dc_airbnb_test.csv')"
   ]
  },
  {
   "cell_type": "markdown",
   "metadata": {},
   "source": [
    "# 2. Hyperparameter optimization"
   ]
  },
  {
   "cell_type": "markdown",
   "metadata": {},
   "source": [
    "When we vary the features that are used in the model, we're affecting the data that the model uses. On the other hand, varying the k value affects the behavior of the model independently of the actual data that's used when making predictions. `In other words, we're impacting how the model performs without trying to change the data that's used.`"
   ]
  },
  {
   "cell_type": "markdown",
   "metadata": {},
   "source": [
    "**`Values that affect the behavior and performance of a model that are unrelated to the data that's used are referred to as hyperparameters.`** `The process of finding the optimal hyperparameter value is known as hyperparameter optimization`. \n",
    "\n",
    "A simple but common hyperparameter optimization technique is known as grid search, which involves:\n",
    "\n",
    "* selecting a subset of the possible hyperparameter values,\n",
    "* training a model using each of these hyperparameter values,\n",
    "* evaluating each model's performance,\n",
    "* selecting the hyperparameter value that resulted in the lowest error value."
   ]
  },
  {
   "cell_type": "markdown",
   "metadata": {},
   "source": [
    " While grid search can take a long time when working with large datasets, the data we're working with in this mission is small and this process is relatively quick."
   ]
  },
  {
   "cell_type": "markdown",
   "metadata": {},
   "source": [
    "## TODO:\n",
    "* Create a list containing the integer values 1, 2, 3, 4, and 5, in that order, and assign to hyper_params.\n",
    "* Create an empty list and assign to mse_values.\n",
    "* Use a for loop to iterate over hyper_params and in each iteration:\n",
    "  * Instantiate a KNeighborsRegressor object with the following parameters:\n",
    "    * n_neighbors: the current value for the iterator variable,\n",
    "    * algorithm: brute\n",
    "  * Fit the instantiated k-nearest neighbors model to the following columns from train_df:\n",
    "    * accommodates\n",
    "    * bedrooms\n",
    "    * bathrooms\n",
    "    * number_of_reviews\n",
    "  * Use the trained model to make predictions on the same columns from test_df and assign to predictions.\n",
    "  * Use the mean_squared_error function to calculate the MSE value between predictions and the price column from test_df.\n",
    "  * Append the MSE value to mse_values.\n",
    "* Display mse_values using the print() function."
   ]
  },
  {
   "cell_type": "code",
   "execution_count": 2,
   "metadata": {},
   "outputs": [
    {
     "name": "stdout",
     "output_type": "stream",
     "text": [
      "[26364.92832764505, 15100.52246871445, 14579.597901655923, 16212.300767918088, 14090.011649601822]\n"
     ]
    }
   ],
   "source": [
    "from sklearn.neighbors import KNeighborsRegressor\n",
    "from sklearn.metrics import mean_squared_error\n",
    "\n",
    "hyper_params=[1,2,3,4,5]\n",
    "mse_values=[]\n",
    "\n",
    "for hp in hyper_params:\n",
    "    knn=KNeighborsRegressor(n_neighbors=hp,algorithm='brute')\n",
    "    knn.fit(train_df[['accommodates','bedrooms','bathrooms','number_of_reviews']],train_df['price'])\n",
    "    predictions=knn.predict(test_df[['accommodates','bedrooms','bathrooms','number_of_reviews']])\n",
    "    MSE=mean_squared_error(test_df['price'],predictions)\n",
    "    mse_values.append(MSE)\n",
    " \n",
    "print(mse_values)"
   ]
  },
  {
   "cell_type": "markdown",
   "metadata": {},
   "source": [
    "# 3. Expanding grid search"
   ]
  },
  {
   "cell_type": "markdown",
   "metadata": {},
   "source": [
    "## TODO:\n",
    "* Change the list of hyperparameter values, hyper_params, so it ranges from 1 to 20.\n",
    "* Create an empty list and assign to mse_values.\n",
    "* Use a for loop to iterate over hyper_params and in each iteration:\n",
    "  * Instantiate a KNeighborsRegressor object with the following parameters:\n",
    "    * n_neighbors: the current value for the iterator variable,\n",
    "    * algorithm: brute\n",
    "  \n",
    "  * Fit the instantiated k-nearest neighbors model to the following columns from train_df:\n",
    "     * accommodates\n",
    "     * bedrooms\n",
    "     * bathrooms\n",
    "     * number_of_reviews\n",
    "  * Use the trained model to make predictions on the same columns from test_df and assign to predictions.\n",
    "  * Use the mean_squared_error function to calculate the MSE value between predictions and the price column from test_df.\n",
    "  * Append the MSE value to mse_values.\n",
    "* Display mse_values using the print() function."
   ]
  },
  {
   "cell_type": "code",
   "execution_count": 3,
   "metadata": {},
   "outputs": [
    {
     "name": "stdout",
     "output_type": "stream",
     "text": [
      "[26364.92832764505, 15100.52246871445, 14579.597901655923, 16212.300767918088, 14090.011649601822, 13657.45250284414, 14288.273896589353, 14853.448183304892, 14670.831907751512, 14642.451478953355, 14734.071380889252, 14854.802332195677, 14733.16190399257, 14777.975894453346, 14771.171543420554, 14870.178509847838, 14830.55072806075, 14782.595763283192, 14773.558705907935, 14676.544189419797]\n"
     ]
    }
   ],
   "source": [
    "hyper_params=[x for x in range(1,21)]\n",
    "mse_values=[]\n",
    "\n",
    "for hp in hyper_params:\n",
    "    knn=KNeighborsRegressor(n_neighbors=hp,algorithm='brute')\n",
    "    knn.fit(train_df[['accommodates','bedrooms','bathrooms','number_of_reviews']],train_df['price'])\n",
    "    predictions=knn.predict(test_df[['accommodates','bedrooms','bathrooms','number_of_reviews']])\n",
    "    MSE=mean_squared_error(test_df['price'],predictions)\n",
    "    mse_values.append(MSE)\n",
    " \n",
    "print(mse_values)"
   ]
  },
  {
   "cell_type": "markdown",
   "metadata": {},
   "source": [
    "# 4. Visualizing hyperparameter values"
   ]
  },
  {
   "cell_type": "markdown",
   "metadata": {},
   "source": [
    "As we increased the k value from 1 to 6, the MSE value decreased from approximately 26364 to approximately 13657. However, as we increased the k value from 7 to 20, the MSE value didn't decrease further but instead hovered between approximately 14288 and 14870. This means that the optimal k value is 6, since it resulted in the lowest MSE value."
   ]
  },
  {
   "cell_type": "markdown",
   "metadata": {},
   "source": [
    "## TODO:\n",
    "* Use the scatter() method from matplotlib.pyplot to generate a line plot with:\n",
    "\n",
    "  * hyper_params on the x-axis,\n",
    "  * mse_values on the y-axis.\n",
    "* Use plt.show() to display the line plot."
   ]
  },
  {
   "cell_type": "code",
   "execution_count": 4,
   "metadata": {},
   "outputs": [],
   "source": [
    "import matplotlib.pyplot as plt\n",
    "%matplotlib inline"
   ]
  },
  {
   "cell_type": "code",
   "execution_count": 5,
   "metadata": {},
   "outputs": [
    {
     "data": {
      "image/png": "[encoded data removed]",
      "text/plain": [
       "<Figure size 432x288 with 1 Axes>"
      ]
     },
     "metadata": {
      "needs_background": "light"
     },
     "output_type": "display_data"
    }
   ],
   "source": [
    "plt.scatter(hyper_params,mse_values)\n",
    "plt.show()"
   ]
  },
  {
   "cell_type": "markdown",
   "metadata": {},
   "source": [
    "# 5. Varying Hyperparameters"
   ]
  },
  {
   "cell_type": "markdown",
   "metadata": {},
   "source": [
    "From the scatter plot, you can tell that the lowest MSE value was achieved at the k value of 6. As we increased k past 6, the MSE actually increased and hovered but never decreased below 13657 (the approximate MSE value when k was 6)."
   ]
  },
  {
   "cell_type": "markdown",
   "metadata": {},
   "source": [
    "##  TODO\n",
    "Train with all_features model with varying hyper-parameters"
   ]
  },
  {
   "cell_type": "code",
   "execution_count": 6,
   "metadata": {},
   "outputs": [
    {
     "data": {
      "image/png": "[encoded data removed]",
      "text/plain": [
       "<Figure size 432x288 with 1 Axes>"
      ]
     },
     "metadata": {
      "needs_background": "light"
     },
     "output_type": "display_data"
    }
   ],
   "source": [
    "hyper_params = [x for x in range(1,21)]\n",
    "mse_values = list()\n",
    "features = train_df.columns.tolist()\n",
    "features.remove('price')\n",
    "\n",
    "for hp in hyper_params:\n",
    "    knn = KNeighborsRegressor(n_neighbors=hp, algorithm='brute')\n",
    "    knn.fit(train_df[features], train_df['price'])\n",
    "    predictions = knn.predict(test_df[features])\n",
    "    mse = mean_squared_error(test_df['price'], predictions)\n",
    "    mse_values.append(mse)\n",
    "\n",
    "plt.scatter(hyper_params, mse_values)\n",
    "plt.show()"
   ]
  },
  {
   "cell_type": "markdown",
   "metadata": {},
   "source": [
    "# 6. Practice the workflow"
   ]
  },
  {
   "cell_type": "markdown",
   "metadata": {},
   "source": [
    "You may have noticed that the general workflow for finding the best model is:\n",
    "\n",
    "* select relevant features to use for predicting the target column.\n",
    "* use grid search to find the optimal hyperparameter value for the selected features.\n",
    "* evaluate the model's accuracy and repeat the process."
   ]
  },
  {
   "cell_type": "markdown",
   "metadata": {},
   "source": [
    "## TODO:\n",
    "* While using only the accommodates and bathrooms columns:\n",
    "\n",
    "  * Train a model for each k value between 1 and 20 using the training data.\n",
    "  * Use each model to make predictions on the test set (using just the accommodates and bathrooms columns).\n",
    "  * Calculate each model's MSE value by comparing each set of predictions to the true price values.\n",
    "  * find the k value that obtained the lowest MSE value.\n",
    "  * Create a dictionary named two_hyp_mse that contains 1 key-value pair:\n",
    "    * key: k value that resulted in lowest MSE value.\n",
    "    * value: corresponding MSE value.\n",
    "* Repeat this process while using only the accommodates, bathrooms, and bedrooms columns:\n",
    "\n",
    "  * Create a dictionary named three_hyp_mse that contains 1 key-value pair:\n",
    "    * key: k value that resulted in lowest MSE value.\n",
    "    * value: corresponding MSE value.\n",
    "* Display both two_hyp_mse and three_hyp_mse using the print() function."
   ]
  },
  {
   "cell_type": "code",
   "execution_count": 7,
   "metadata": {},
   "outputs": [
    {
     "name": "stdout",
     "output_type": "stream",
     "text": [
      "{5: 14790.314266211606}\n",
      "{5: 13522.893333333333}\n"
     ]
    }
   ],
   "source": [
    "two_features = ['accommodates', 'bathrooms']\n",
    "three_features = ['accommodates', 'bathrooms', 'bedrooms']\n",
    "hyper_params = [x for x in range(1,21)]\n",
    "# Append the first model's MSE values to this list.\n",
    "two_mse_values = list()\n",
    "# Append the second model's MSE values to this list.\n",
    "three_mse_values = list()\n",
    "two_hyp_mse = dict()\n",
    "three_hyp_mse = dict()\n",
    "for hp in hyper_params:\n",
    "    knn = KNeighborsRegressor(n_neighbors=hp, algorithm='brute')\n",
    "    knn.fit(train_df[two_features], train_df['price'])\n",
    "    predictions = knn.predict(test_df[two_features])\n",
    "    mse = mean_squared_error(test_df['price'], predictions)\n",
    "    two_mse_values.append(mse)\n",
    "\n",
    "two_lowest_mse = two_mse_values[0]\n",
    "two_lowest_k = 1\n",
    "\n",
    "for k,mse in enumerate(two_mse_values):\n",
    "    if mse < two_lowest_mse:\n",
    "        two_lowest_mse = mse\n",
    "        two_lowest_k = k + 1\n",
    "    \n",
    "for hp in hyper_params:\n",
    "    knn = KNeighborsRegressor(n_neighbors=hp, algorithm='brute')\n",
    "    knn.fit(train_df[three_features], train_df['price'])\n",
    "    predictions = knn.predict(test_df[three_features])\n",
    "    mse = mean_squared_error(test_df['price'], predictions)\n",
    "    three_mse_values.append(mse)\n",
    "    \n",
    "three_lowest_mse = three_mse_values[0]\n",
    "three_lowest_k = 1\n",
    "\n",
    "for k,mse in enumerate(three_mse_values):\n",
    "    if mse < three_lowest_mse:\n",
    "        three_lowest_mse = mse\n",
    "        three_lowest_k = k + 1\n",
    "\n",
    "two_hyp_mse[two_lowest_k] = two_lowest_mse\n",
    "three_hyp_mse[three_lowest_k] = three_lowest_mse\n",
    "\n",
    "print(two_hyp_mse)\n",
    "print(three_hyp_mse)"
   ]
  }
 ],
 "metadata": {
  "kernelspec": {
   "display_name": "Python 3",
   "language": "python",
   "name": "python3"
  },
  "language_info": {
   "codemirror_mode": {
    "name": "ipython",
    "version": 3
   },
   "file_extension": ".py",
   "mimetype": "text/x-python",
   "name": "python",
   "nbconvert_exporter": "python",
   "pygments_lexer": "ipython3",
   "version": "3.7.3"
  }
 },
 "nbformat": 4,
 "nbformat_minor": 2
}
