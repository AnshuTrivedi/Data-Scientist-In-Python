{
 "cells": [
  {
   "cell_type": "markdown",
   "metadata": {},
   "source": [
    "# 1. Introduction To Limits"
   ]
  },
  {
   "cell_type": "markdown",
   "metadata": {},
   "source": [
    "At the end of the last mission, we fixed a first point on our curve, drew a secant line between that first point and a second point, and observed what happened when we moved the second point closer to the first point along the curve.\n",
    "* The larger the interval between the 2 points on the x-axis, the more the steepness of the secant line diverged from the steepness of the curve. \n",
    "* The closer the interval, the more the secant line started to match the steepness at the first point on the curve."
   ]
  },
  {
   "cell_type": "markdown",
   "metadata": {},
   "source": [
    "* Even though the slope is undefined when x1 and x2 are equivalent, we still want to be able to state and reason about what value the slope approaches as x1 approaches x2. To do that, we need to reframe the problem as a limit. A limit describes the value a function approaches when the input variable to the function approaches a specific value."
   ]
  },
  {
   "cell_type": "markdown",
   "metadata": {},
   "source": [
    " In our case, the input variable is x2 and our function is $$m = \\frac{f(x_2) - f(x_1)}{x_2 - x_1}$$. The following mathematical notation formalizes the statement \"As x2 approaches 3, the slope between x1 and x2 approaches -3\" using a limit:\n",
    " $$\\lim_{x_2 \\to 3} \\frac{f(x_2) - f(x_1)}{x_2 - x_1} = -3$$"
   ]
  },
  {
   "cell_type": "markdown",
   "metadata": {},
   "source": [
    "# 2. Defined vs. Undefined Limits"
   ]
  },
  {
   "cell_type": "markdown",
   "metadata": {},
   "source": [
    "There are 2 kinds of limits -- **defined limits and undefined limits.** "
   ]
  },
  {
   "cell_type": "markdown",
   "metadata": {},
   "source": [
    " A defined limit can be evaluated just by substituting the value into the limit."
   ]
  },
  {
   "cell_type": "markdown",
   "metadata": {},
   "source": [
    "**By rewriting and converting an undefined limit to a defined limit, we can solve the limit using direct substitution and standard arithmetic.**"
   ]
  },
  {
   "cell_type": "markdown",
   "metadata": {},
   "source": [
    "# 3. Introduction to SymPy"
   ]
  },
  {
   "cell_type": "markdown",
   "metadata": {},
   "source": [
    "* The SymPy library has a suite of functions that let us calculate limits. "
   ]
  },
  {
   "cell_type": "markdown",
   "metadata": {},
   "source": [
    "* To start, we need to import the library and use `sympy.symbols() to declare the variables` we want to be treated as symbols for SymPy to parse:"
   ]
  },
  {
   "cell_type": "markdown",
   "metadata": {},
   "source": [
    "*  In SymPy, Python variables map directly to variables in math."
   ]
  },
  {
   "cell_type": "code",
   "execution_count": 1,
   "metadata": {},
   "outputs": [],
   "source": [
    "import sympy\n",
    "x,y = sympy.symbols('x y')"
   ]
  },
  {
   "cell_type": "markdown",
   "metadata": {},
   "source": [
    "## TODO:\n",
    "* Import SymPy and declare x and y as SymPy symbols.\n",
    "* Try expressing y=x^2+1 using the ^ character instead of **. \n",
    "* Display y using the print() function. What's the result?\n",
    "* What happens when you run y = 3(x) in Python?"
   ]
  },
  {
   "cell_type": "code",
   "execution_count": 2,
   "metadata": {},
   "outputs": [
    {
     "name": "stdout",
     "output_type": "stream",
     "text": [
      "~x\n"
     ]
    }
   ],
   "source": [
    "y=x^2+1\n",
    "print(y)"
   ]
  },
  {
   "cell_type": "code",
   "execution_count": 3,
   "metadata": {},
   "outputs": [
    {
     "ename": "TypeError",
     "evalue": "'int' object is not callable",
     "output_type": "error",
     "traceback": [
      "\u001b[1;31m---------------------------------------------------------------------------\u001b[0m",
      "\u001b[1;31mTypeError\u001b[0m                                 Traceback (most recent call last)",
      "\u001b[1;32m<ipython-input-3-1555bedc5444>\u001b[0m in \u001b[0;36m<module>\u001b[1;34m\u001b[0m\n\u001b[1;32m----> 1\u001b[1;33m \u001b[0my\u001b[0m\u001b[1;33m=\u001b[0m\u001b[1;36m3\u001b[0m\u001b[1;33m(\u001b[0m\u001b[0mx\u001b[0m\u001b[1;33m)\u001b[0m\u001b[1;33m\u001b[0m\u001b[1;33m\u001b[0m\u001b[0m\n\u001b[0m",
      "\u001b[1;31mTypeError\u001b[0m: 'int' object is not callable"
     ]
    }
   ],
   "source": [
    "y=3(x)"
   ]
  },
  {
   "cell_type": "markdown",
   "metadata": {},
   "source": [
    "# 4. Limits Using SymPy"
   ]
  },
  {
   "cell_type": "markdown",
   "metadata": {},
   "source": [
    "**we use the sympy.limit() function to calculate the limit. This function takes in 3 parameters:**\n",
    "\n",
    "* the function we're taking the limit for\n",
    "* the input variable\n",
    "* the value the input variable approaches"
   ]
  },
  {
   "cell_type": "markdown",
   "metadata": {},
   "source": [
    "Demo:\n",
    "\n",
    "limit_one = sympy.limit(x**2 +1, x, 1)"
   ]
  },
  {
   "cell_type": "markdown",
   "metadata": {},
   "source": [
    "$$\\lim_{x_2 \\to 2.9} \\frac{f(x_2) - (-1)}{x_2 - 3} = -2.9$$"
   ]
  },
  {
   "cell_type": "markdown",
   "metadata": {},
   "source": [
    "## TODO:\n",
    "* Use SymPy to confirm that $\\lim_{x_2 \\to 2.9} \\frac{f(x_2) - (-1)}{x_2 - 3} = -2.9$. You'll need to plug in $x_2 = 2.9$ into $f(x) = -(x^2) + 3x - 1$ before passing in the limit function to sympy.limit().\n",
    "* Assign the result of the limit calculation to limit_one and display it using the print() function."
   ]
  },
  {
   "cell_type": "code",
   "execution_count": null,
   "metadata": {},
   "outputs": [],
   "source": [
    "x2,y = sympy.symbols('x2 y')\n",
    "limit_one = sympy.limit((-x2**2 +3*x2-1+1)/(x2-3) , x2, 2.9)\n",
    "print(limit_one)"
   ]
  },
  {
   "cell_type": "markdown",
   "metadata": {},
   "source": [
    "# 5. Properties Of Limits I"
   ]
  },
  {
   "cell_type": "markdown",
   "metadata": {},
   "source": [
    "*  Before we can convert undefined limits to defined limits, we need to first understand some of the properties of limits. Using these properties, we can rework undefined limits to defined limits and solve them. "
   ]
  },
  {
   "cell_type": "markdown",
   "metadata": {},
   "source": [
    "## 1. $\\lim_{x \\to a} [f(x) + g(x)] = \\lim_{x \\to a} f(x) + \\lim_{x \\to a} g(x)$"
   ]
  },
  {
   "cell_type": "markdown",
   "metadata": {},
   "source": [
    "This also holds true for subtraction"
   ]
  },
  {
   "cell_type": "markdown",
   "metadata": {},
   "source": [
    "## TODO:\n",
    "* Use SymPy to calculate $\\lim_{x \\to 1} [3x^2 + 3x - 3]$.\n",
    "* Assign the result to limit_two and display using the print() function."
   ]
  },
  {
   "cell_type": "code",
   "execution_count": null,
   "metadata": {},
   "outputs": [],
   "source": [
    "x,y=sympy.symbols('x y')\n",
    "limit_two=sympy.limit(3*x**2+3*x-3,x,1)\n",
    "print(limit_two)"
   ]
  },
  {
   "cell_type": "markdown",
   "metadata": {},
   "source": [
    "# 6. Properties Of Limits II"
   ]
  },
  {
   "cell_type": "markdown",
   "metadata": {},
   "source": [
    "The second property allows us to break up terms that are being multiplied by a constant:"
   ]
  },
  {
   "cell_type": "markdown",
   "metadata": {},
   "source": [
    "## 2. $\\lim_{x \\to a} [cf(x)] = c \\lim_{x \\to a} f(x)$"
   ]
  },
  {
   "cell_type": "markdown",
   "metadata": {},
   "source": [
    "## TODO:\n",
    "Use the limit properties you just learned to solve the following limit: \n",
    "$\\lim_{x \\to -1} [x^3 + 2x^2 - 10x]$\n",
    "* Assign the result to limit_three and display using the print() function."
   ]
  },
  {
   "cell_type": "code",
   "execution_count": null,
   "metadata": {},
   "outputs": [],
   "source": [
    "x,y=sympy.symbols(' x y')\n",
    "limit_three=sympy.limit(x**3,x,-1)+2*sympy.limit(x**2,x,-1)-10*sympy.limit(x,x,-1)\n",
    "print(limit_three)"
   ]
  },
  {
   "cell_type": "markdown",
   "metadata": {},
   "source": [
    "# 7. Undefined Limit To Defined Limit"
   ]
  },
  {
   "cell_type": "markdown",
   "metadata": {},
   "source": [
    " let's convert the original undefined limit that calculated the slope at x2=3 into a defined limit:"
   ]
  },
  {
   "cell_type": "markdown",
   "metadata": {},
   "source": [
    "$\\lim_{x_2 \\to 3} \\frac{f(x_2) + 1}{x_2 - 3} =$"
   ]
  },
  {
   "cell_type": "markdown",
   "metadata": {},
   "source": [
    "$f(x) = -(x^2) + 3x - 1$"
   ]
  },
  {
   "cell_type": "markdown",
   "metadata": {},
   "source": [
    "* Direct substitution will make denomenator 0 and limit infinity.\n",
    "* Factorise numerator and cancel out (x2-3)"
   ]
  },
  {
   "cell_type": "markdown",
   "metadata": {},
   "source": [
    "This simplifies to:\n",
    "\n"
   ]
  },
  {
   "cell_type": "markdown",
   "metadata": {},
   "source": [
    "$\\lim_{x_2 \\to 3} -x_2$"
   ]
  },
  {
   "cell_type": "markdown",
   "metadata": {},
   "source": [
    "## TODO:\n",
    "* Use SymPy to solve the limit: $\\lim_{x_2 \\to 3} \\frac{f(x_2) + 1}{x_2 - 3} $\n",
    "* Assign the result to limit_four."
   ]
  },
  {
   "cell_type": "code",
   "execution_count": null,
   "metadata": {},
   "outputs": [],
   "source": [
    "x2,y=sympy.symbols('x2 y')\n",
    "y = (-x2**2 +3*x2 -1 + 1)/(x2 - 3)\n",
    "limit_four=sympy.limit(y,x2,3)\n",
    "print(limit_four)"
   ]
  },
  {
   "cell_type": "markdown",
   "metadata": {},
   "source": [
    "In this mission, we learned how to calculate the slope of the tangent line at a specific point using limits. "
   ]
  }
 ],
 "metadata": {
  "kernelspec": {
   "display_name": "Python 3",
   "language": "python",
   "name": "python3"
  },
  "language_info": {
   "codemirror_mode": {
    "name": "ipython",
    "version": 3
   },
   "file_extension": ".py",
   "mimetype": "text/x-python",
   "name": "python",
   "nbconvert_exporter": "python",
   "pygments_lexer": "ipython3",
   "version": "3.7.3"
  }
 },
 "nbformat": 4,
 "nbformat_minor": 2
}
