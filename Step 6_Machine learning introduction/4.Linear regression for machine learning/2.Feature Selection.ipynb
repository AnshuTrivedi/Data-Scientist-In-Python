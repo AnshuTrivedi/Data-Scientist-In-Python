{
 "cells": [
  {
   "cell_type": "markdown",
   "metadata": {},
   "source": [
    "# 1. Missing Values"
   ]
  },
  {
   "cell_type": "markdown",
   "metadata": {},
   "source": [
    "In the machine learning workflow, once we've selected the model we want to use, selecting the appropriate features for that model is the next important step. In this mission, we'll explore `how to use correlation between features and the target column, correlation between features, and variance of features to select features`."
   ]
  },
  {
   "cell_type": "markdown",
   "metadata": {},
   "source": [
    "* Read AmesHousing.txt into a dataframe named data. Be sure to seperate on the \\t delimiter.\n",
    "* Create a dataframe called train, which contains the first 1460 rows of data.\n",
    "* Create a dataframe called test, which contains the rest of the rows of data.\n",
    "* Select the integer and float columns from train and assign them to the variable numerical_train.\n",
    "* Drop the following columns from numerical_train:\n",
    "  * PID (place ID isn't useful for modeling)\n",
    "  * Year Built\n",
    "  * Year Remod/Add\n",
    "  * Garage Yr Blt\n",
    "  * Mo Sold\n",
    "  * Yr Sold\n",
    "* Calculate the number of missing values from each column in numerical_train. Create a Series object where the index is made up of column names and the associated values are the number of missing values:\n",
    "  * Order                0\n",
    "  * PID                  0\n",
    "  * MS SubClass          0\n",
    "  * MS Zoning            0\n",
    "...\n",
    "* Assign this Series object to null_series. Select the subset of null_series to keep only the columns with no missing values, and assign the resulting Series object to full_cols_series.\n",
    "* Display full_cols_series using the print() function."
   ]
  },
  {
   "cell_type": "code",
   "execution_count": 1,
   "metadata": {},
   "outputs": [],
   "source": [
    "import pandas as pd"
   ]
  },
  {
   "cell_type": "code",
   "execution_count": 2,
   "metadata": {},
   "outputs": [
    {
     "data": {
      "text/html": [
       "<div>\n",
       "<style scoped>\n",
       "    .dataframe tbody tr th:only-of-type {\n",
       "        vertical-align: middle;\n",
       "    }\n",
       "\n",
       "    .dataframe tbody tr th {\n",
       "        vertical-align: top;\n",
       "    }\n",
       "\n",
       "    .dataframe thead th {\n",
       "        text-align: right;\n",
       "    }\n",
       "</style>\n",
       "<table border=\"1\" class=\"dataframe\">\n",
       "  <thead>\n",
       "    <tr style=\"text-align: right;\">\n",
       "      <th></th>\n",
       "      <th>Order</th>\n",
       "      <th>PID</th>\n",
       "      <th>MS SubClass</th>\n",
       "      <th>MS Zoning</th>\n",
       "      <th>Lot Frontage</th>\n",
       "      <th>Lot Area</th>\n",
       "      <th>Street</th>\n",
       "      <th>Alley</th>\n",
       "      <th>Lot Shape</th>\n",
       "      <th>Land Contour</th>\n",
       "      <th>...</th>\n",
       "      <th>Pool Area</th>\n",
       "      <th>Pool QC</th>\n",
       "      <th>Fence</th>\n",
       "      <th>Misc Feature</th>\n",
       "      <th>Misc Val</th>\n",
       "      <th>Mo Sold</th>\n",
       "      <th>Yr Sold</th>\n",
       "      <th>Sale Type</th>\n",
       "      <th>Sale Condition</th>\n",
       "      <th>SalePrice</th>\n",
       "    </tr>\n",
       "  </thead>\n",
       "  <tbody>\n",
       "    <tr>\n",
       "      <th>0</th>\n",
       "      <td>1</td>\n",
       "      <td>526301100</td>\n",
       "      <td>20</td>\n",
       "      <td>RL</td>\n",
       "      <td>141.0</td>\n",
       "      <td>31770</td>\n",
       "      <td>Pave</td>\n",
       "      <td>NaN</td>\n",
       "      <td>IR1</td>\n",
       "      <td>Lvl</td>\n",
       "      <td>...</td>\n",
       "      <td>0</td>\n",
       "      <td>NaN</td>\n",
       "      <td>NaN</td>\n",
       "      <td>NaN</td>\n",
       "      <td>0</td>\n",
       "      <td>5</td>\n",
       "      <td>2010</td>\n",
       "      <td>WD</td>\n",
       "      <td>Normal</td>\n",
       "      <td>215000</td>\n",
       "    </tr>\n",
       "    <tr>\n",
       "      <th>1</th>\n",
       "      <td>2</td>\n",
       "      <td>526350040</td>\n",
       "      <td>20</td>\n",
       "      <td>RH</td>\n",
       "      <td>80.0</td>\n",
       "      <td>11622</td>\n",
       "      <td>Pave</td>\n",
       "      <td>NaN</td>\n",
       "      <td>Reg</td>\n",
       "      <td>Lvl</td>\n",
       "      <td>...</td>\n",
       "      <td>0</td>\n",
       "      <td>NaN</td>\n",
       "      <td>MnPrv</td>\n",
       "      <td>NaN</td>\n",
       "      <td>0</td>\n",
       "      <td>6</td>\n",
       "      <td>2010</td>\n",
       "      <td>WD</td>\n",
       "      <td>Normal</td>\n",
       "      <td>105000</td>\n",
       "    </tr>\n",
       "    <tr>\n",
       "      <th>2</th>\n",
       "      <td>3</td>\n",
       "      <td>526351010</td>\n",
       "      <td>20</td>\n",
       "      <td>RL</td>\n",
       "      <td>81.0</td>\n",
       "      <td>14267</td>\n",
       "      <td>Pave</td>\n",
       "      <td>NaN</td>\n",
       "      <td>IR1</td>\n",
       "      <td>Lvl</td>\n",
       "      <td>...</td>\n",
       "      <td>0</td>\n",
       "      <td>NaN</td>\n",
       "      <td>NaN</td>\n",
       "      <td>Gar2</td>\n",
       "      <td>12500</td>\n",
       "      <td>6</td>\n",
       "      <td>2010</td>\n",
       "      <td>WD</td>\n",
       "      <td>Normal</td>\n",
       "      <td>172000</td>\n",
       "    </tr>\n",
       "    <tr>\n",
       "      <th>3</th>\n",
       "      <td>4</td>\n",
       "      <td>526353030</td>\n",
       "      <td>20</td>\n",
       "      <td>RL</td>\n",
       "      <td>93.0</td>\n",
       "      <td>11160</td>\n",
       "      <td>Pave</td>\n",
       "      <td>NaN</td>\n",
       "      <td>Reg</td>\n",
       "      <td>Lvl</td>\n",
       "      <td>...</td>\n",
       "      <td>0</td>\n",
       "      <td>NaN</td>\n",
       "      <td>NaN</td>\n",
       "      <td>NaN</td>\n",
       "      <td>0</td>\n",
       "      <td>4</td>\n",
       "      <td>2010</td>\n",
       "      <td>WD</td>\n",
       "      <td>Normal</td>\n",
       "      <td>244000</td>\n",
       "    </tr>\n",
       "    <tr>\n",
       "      <th>4</th>\n",
       "      <td>5</td>\n",
       "      <td>527105010</td>\n",
       "      <td>60</td>\n",
       "      <td>RL</td>\n",
       "      <td>74.0</td>\n",
       "      <td>13830</td>\n",
       "      <td>Pave</td>\n",
       "      <td>NaN</td>\n",
       "      <td>IR1</td>\n",
       "      <td>Lvl</td>\n",
       "      <td>...</td>\n",
       "      <td>0</td>\n",
       "      <td>NaN</td>\n",
       "      <td>MnPrv</td>\n",
       "      <td>NaN</td>\n",
       "      <td>0</td>\n",
       "      <td>3</td>\n",
       "      <td>2010</td>\n",
       "      <td>WD</td>\n",
       "      <td>Normal</td>\n",
       "      <td>189900</td>\n",
       "    </tr>\n",
       "  </tbody>\n",
       "</table>\n",
       "<p>5 rows × 82 columns</p>\n",
       "</div>"
      ],
      "text/plain": [
       "   Order        PID  MS SubClass MS Zoning  Lot Frontage  Lot Area Street  \\\n",
       "0      1  526301100           20        RL         141.0     31770   Pave   \n",
       "1      2  526350040           20        RH          80.0     11622   Pave   \n",
       "2      3  526351010           20        RL          81.0     14267   Pave   \n",
       "3      4  526353030           20        RL          93.0     11160   Pave   \n",
       "4      5  527105010           60        RL          74.0     13830   Pave   \n",
       "\n",
       "  Alley Lot Shape Land Contour  ... Pool Area Pool QC  Fence Misc Feature  \\\n",
       "0   NaN       IR1          Lvl  ...         0     NaN    NaN          NaN   \n",
       "1   NaN       Reg          Lvl  ...         0     NaN  MnPrv          NaN   \n",
       "2   NaN       IR1          Lvl  ...         0     NaN    NaN         Gar2   \n",
       "3   NaN       Reg          Lvl  ...         0     NaN    NaN          NaN   \n",
       "4   NaN       IR1          Lvl  ...         0     NaN  MnPrv          NaN   \n",
       "\n",
       "  Misc Val Mo Sold Yr Sold Sale Type  Sale Condition  SalePrice  \n",
       "0        0       5    2010       WD           Normal     215000  \n",
       "1        0       6    2010       WD           Normal     105000  \n",
       "2    12500       6    2010       WD           Normal     172000  \n",
       "3        0       4    2010       WD           Normal     244000  \n",
       "4        0       3    2010       WD           Normal     189900  \n",
       "\n",
       "[5 rows x 82 columns]"
      ]
     },
     "execution_count": 2,
     "metadata": {},
     "output_type": "execute_result"
    }
   ],
   "source": [
    "data = pd.read_csv('AmesHousing.txt', delimiter=\"\\t\")\n",
    "train = data[0:1460]\n",
    "test = data[1460:]\n",
    "train.head()"
   ]
  },
  {
   "cell_type": "code",
   "execution_count": 3,
   "metadata": {},
   "outputs": [
    {
     "data": {
      "text/plain": [
       "Index(['Order', 'PID', 'MS SubClass', 'MS Zoning', 'Lot Frontage', 'Lot Area',\n",
       "       'Street', 'Alley', 'Lot Shape', 'Land Contour', 'Utilities',\n",
       "       'Lot Config', 'Land Slope', 'Neighborhood', 'Condition 1',\n",
       "       'Condition 2', 'Bldg Type', 'House Style', 'Overall Qual',\n",
       "       'Overall Cond', 'Year Built', 'Year Remod/Add', 'Roof Style',\n",
       "       'Roof Matl', 'Exterior 1st', 'Exterior 2nd', 'Mas Vnr Type',\n",
       "       'Mas Vnr Area', 'Exter Qual', 'Exter Cond', 'Foundation', 'Bsmt Qual',\n",
       "       'Bsmt Cond', 'Bsmt Exposure', 'BsmtFin Type 1', 'BsmtFin SF 1',\n",
       "       'BsmtFin Type 2', 'BsmtFin SF 2', 'Bsmt Unf SF', 'Total Bsmt SF',\n",
       "       'Heating', 'Heating QC', 'Central Air', 'Electrical', '1st Flr SF',\n",
       "       '2nd Flr SF', 'Low Qual Fin SF', 'Gr Liv Area', 'Bsmt Full Bath',\n",
       "       'Bsmt Half Bath', 'Full Bath', 'Half Bath', 'Bedroom AbvGr',\n",
       "       'Kitchen AbvGr', 'Kitchen Qual', 'TotRms AbvGrd', 'Functional',\n",
       "       'Fireplaces', 'Fireplace Qu', 'Garage Type', 'Garage Yr Blt',\n",
       "       'Garage Finish', 'Garage Cars', 'Garage Area', 'Garage Qual',\n",
       "       'Garage Cond', 'Paved Drive', 'Wood Deck SF', 'Open Porch SF',\n",
       "       'Enclosed Porch', '3Ssn Porch', 'Screen Porch', 'Pool Area', 'Pool QC',\n",
       "       'Fence', 'Misc Feature', 'Misc Val', 'Mo Sold', 'Yr Sold', 'Sale Type',\n",
       "       'Sale Condition', 'SalePrice'],\n",
       "      dtype='object')"
      ]
     },
     "execution_count": 3,
     "metadata": {},
     "output_type": "execute_result"
    }
   ],
   "source": [
    "train.columns"
   ]
  },
  {
   "cell_type": "code",
   "execution_count": 4,
   "metadata": {},
   "outputs": [
    {
     "name": "stdout",
     "output_type": "stream",
     "text": [
      "<class 'pandas.core.frame.DataFrame'>\n",
      "RangeIndex: 1460 entries, 0 to 1459\n",
      "Data columns (total 82 columns):\n",
      "Order              1460 non-null int64\n",
      "PID                1460 non-null int64\n",
      "MS SubClass        1460 non-null int64\n",
      "MS Zoning          1460 non-null object\n",
      "Lot Frontage       1211 non-null float64\n",
      "Lot Area           1460 non-null int64\n",
      "Street             1460 non-null object\n",
      "Alley              109 non-null object\n",
      "Lot Shape          1460 non-null object\n",
      "Land Contour       1460 non-null object\n",
      "Utilities          1460 non-null object\n",
      "Lot Config         1460 non-null object\n",
      "Land Slope         1460 non-null object\n",
      "Neighborhood       1460 non-null object\n",
      "Condition 1        1460 non-null object\n",
      "Condition 2        1460 non-null object\n",
      "Bldg Type          1460 non-null object\n",
      "House Style        1460 non-null object\n",
      "Overall Qual       1460 non-null int64\n",
      "Overall Cond       1460 non-null int64\n",
      "Year Built         1460 non-null int64\n",
      "Year Remod/Add     1460 non-null int64\n",
      "Roof Style         1460 non-null object\n",
      "Roof Matl          1460 non-null object\n",
      "Exterior 1st       1460 non-null object\n",
      "Exterior 2nd       1460 non-null object\n",
      "Mas Vnr Type       1449 non-null object\n",
      "Mas Vnr Area       1449 non-null float64\n",
      "Exter Qual         1460 non-null object\n",
      "Exter Cond         1460 non-null object\n",
      "Foundation         1460 non-null object\n",
      "Bsmt Qual          1420 non-null object\n",
      "Bsmt Cond          1420 non-null object\n",
      "Bsmt Exposure      1419 non-null object\n",
      "BsmtFin Type 1     1420 non-null object\n",
      "BsmtFin SF 1       1459 non-null float64\n",
      "BsmtFin Type 2     1419 non-null object\n",
      "BsmtFin SF 2       1459 non-null float64\n",
      "Bsmt Unf SF        1459 non-null float64\n",
      "Total Bsmt SF      1459 non-null float64\n",
      "Heating            1460 non-null object\n",
      "Heating QC         1460 non-null object\n",
      "Central Air        1460 non-null object\n",
      "Electrical         1460 non-null object\n",
      "1st Flr SF         1460 non-null int64\n",
      "2nd Flr SF         1460 non-null int64\n",
      "Low Qual Fin SF    1460 non-null int64\n",
      "Gr Liv Area        1460 non-null int64\n",
      "Bsmt Full Bath     1459 non-null float64\n",
      "Bsmt Half Bath     1459 non-null float64\n",
      "Full Bath          1460 non-null int64\n",
      "Half Bath          1460 non-null int64\n",
      "Bedroom AbvGr      1460 non-null int64\n",
      "Kitchen AbvGr      1460 non-null int64\n",
      "Kitchen Qual       1460 non-null object\n",
      "TotRms AbvGrd      1460 non-null int64\n",
      "Functional         1460 non-null object\n",
      "Fireplaces         1460 non-null int64\n",
      "Fireplace Qu       743 non-null object\n",
      "Garage Type        1386 non-null object\n",
      "Garage Yr Blt      1385 non-null float64\n",
      "Garage Finish      1385 non-null object\n",
      "Garage Cars        1460 non-null float64\n",
      "Garage Area        1460 non-null float64\n",
      "Garage Qual        1385 non-null object\n",
      "Garage Cond        1385 non-null object\n",
      "Paved Drive        1460 non-null object\n",
      "Wood Deck SF       1460 non-null int64\n",
      "Open Porch SF      1460 non-null int64\n",
      "Enclosed Porch     1460 non-null int64\n",
      "3Ssn Porch         1460 non-null int64\n",
      "Screen Porch       1460 non-null int64\n",
      "Pool Area          1460 non-null int64\n",
      "Pool QC            1 non-null object\n",
      "Fence              297 non-null object\n",
      "Misc Feature       60 non-null object\n",
      "Misc Val           1460 non-null int64\n",
      "Mo Sold            1460 non-null int64\n",
      "Yr Sold            1460 non-null int64\n",
      "Sale Type          1460 non-null object\n",
      "Sale Condition     1460 non-null object\n",
      "SalePrice          1460 non-null int64\n",
      "dtypes: float64(11), int64(28), object(43)\n",
      "memory usage: 935.4+ KB\n"
     ]
    }
   ],
   "source": [
    "train.info()"
   ]
  },
  {
   "cell_type": "code",
   "execution_count": 5,
   "metadata": {},
   "outputs": [],
   "source": [
    "numerical_train = train.select_dtypes(include=['int64','float64'])"
   ]
  },
  {
   "cell_type": "code",
   "execution_count": 6,
   "metadata": {},
   "outputs": [
    {
     "data": {
      "text/plain": [
       "Index(['Order', 'PID', 'MS SubClass', 'Lot Frontage', 'Lot Area',\n",
       "       'Overall Qual', 'Overall Cond', 'Year Built', 'Year Remod/Add',\n",
       "       'Mas Vnr Area', 'BsmtFin SF 1', 'BsmtFin SF 2', 'Bsmt Unf SF',\n",
       "       'Total Bsmt SF', '1st Flr SF', '2nd Flr SF', 'Low Qual Fin SF',\n",
       "       'Gr Liv Area', 'Bsmt Full Bath', 'Bsmt Half Bath', 'Full Bath',\n",
       "       'Half Bath', 'Bedroom AbvGr', 'Kitchen AbvGr', 'TotRms AbvGrd',\n",
       "       'Fireplaces', 'Garage Yr Blt', 'Garage Cars', 'Garage Area',\n",
       "       'Wood Deck SF', 'Open Porch SF', 'Enclosed Porch', '3Ssn Porch',\n",
       "       'Screen Porch', 'Pool Area', 'Misc Val', 'Mo Sold', 'Yr Sold',\n",
       "       'SalePrice'],\n",
       "      dtype='object')"
      ]
     },
     "execution_count": 6,
     "metadata": {},
     "output_type": "execute_result"
    }
   ],
   "source": [
    "numerical_train.columns"
   ]
  },
  {
   "cell_type": "code",
   "execution_count": 7,
   "metadata": {},
   "outputs": [
    {
     "name": "stdout",
     "output_type": "stream",
     "text": [
      "Order              0\n",
      "MS SubClass        0\n",
      "Lot Area           0\n",
      "Overall Qual       0\n",
      "Overall Cond       0\n",
      "1st Flr SF         0\n",
      "2nd Flr SF         0\n",
      "Low Qual Fin SF    0\n",
      "Gr Liv Area        0\n",
      "Full Bath          0\n",
      "Half Bath          0\n",
      "Bedroom AbvGr      0\n",
      "Kitchen AbvGr      0\n",
      "TotRms AbvGrd      0\n",
      "Fireplaces         0\n",
      "Garage Cars        0\n",
      "Garage Area        0\n",
      "Wood Deck SF       0\n",
      "Open Porch SF      0\n",
      "Enclosed Porch     0\n",
      "3Ssn Porch         0\n",
      "Screen Porch       0\n",
      "Pool Area          0\n",
      "Misc Val           0\n",
      "SalePrice          0\n",
      "dtype: int64\n"
     ]
    }
   ],
   "source": [
    "numerical_train = numerical_train.drop(['PID', 'Year Built', 'Year Remod/Add', 'Garage Yr Blt', 'Mo Sold', 'Yr Sold'], axis=1)\n",
    "null_series = numerical_train.isnull().sum()\n",
    "full_cols_series = null_series[null_series == 0]\n",
    "print(full_cols_series)"
   ]
  },
  {
   "cell_type": "markdown",
   "metadata": {},
   "source": [
    "# 2. Correlating Feature Columns With Target Column"
   ]
  },
  {
   "cell_type": "code",
   "execution_count": 8,
   "metadata": {},
   "outputs": [
    {
     "data": {
      "text/plain": [
       "25"
      ]
     },
     "execution_count": 8,
     "metadata": {},
     "output_type": "execute_result"
    }
   ],
   "source": [
    "len(full_cols_series)"
   ]
  },
  {
   "cell_type": "markdown",
   "metadata": {},
   "source": [
    "The subset of features we want to focus on, full_cols_series, contains 25 columns:\n",
    "The resulting correlation matrix will contain 25 * 25 or 625 correlation values."
   ]
  },
  {
   "cell_type": "markdown",
   "metadata": {},
   "source": [
    "## TODO:\n",
    "* Compute the pairwise correlation coefficients between all of the columns in train_subset.\n",
    "* Select just the SalePrice column from the resulting data frame, compute the absolute value of each term, sort the resulting Series by the correlation values, and assign to sorted_corrs."
   ]
  },
  {
   "cell_type": "code",
   "execution_count": 9,
   "metadata": {},
   "outputs": [],
   "source": [
    "train_subset = train[full_cols_series.index]"
   ]
  },
  {
   "cell_type": "code",
   "execution_count": 10,
   "metadata": {},
   "outputs": [],
   "source": [
    "corrmat=train_subset.corr()"
   ]
  },
  {
   "cell_type": "code",
   "execution_count": 11,
   "metadata": {},
   "outputs": [
    {
     "data": {
      "text/html": [
       "<div>\n",
       "<style scoped>\n",
       "    .dataframe tbody tr th:only-of-type {\n",
       "        vertical-align: middle;\n",
       "    }\n",
       "\n",
       "    .dataframe tbody tr th {\n",
       "        vertical-align: top;\n",
       "    }\n",
       "\n",
       "    .dataframe thead th {\n",
       "        text-align: right;\n",
       "    }\n",
       "</style>\n",
       "<table border=\"1\" class=\"dataframe\">\n",
       "  <thead>\n",
       "    <tr style=\"text-align: right;\">\n",
       "      <th></th>\n",
       "      <th>Order</th>\n",
       "      <th>MS SubClass</th>\n",
       "      <th>Lot Area</th>\n",
       "      <th>Overall Qual</th>\n",
       "      <th>Overall Cond</th>\n",
       "      <th>1st Flr SF</th>\n",
       "      <th>2nd Flr SF</th>\n",
       "      <th>Low Qual Fin SF</th>\n",
       "      <th>Gr Liv Area</th>\n",
       "      <th>Full Bath</th>\n",
       "      <th>...</th>\n",
       "      <th>Garage Cars</th>\n",
       "      <th>Garage Area</th>\n",
       "      <th>Wood Deck SF</th>\n",
       "      <th>Open Porch SF</th>\n",
       "      <th>Enclosed Porch</th>\n",
       "      <th>3Ssn Porch</th>\n",
       "      <th>Screen Porch</th>\n",
       "      <th>Pool Area</th>\n",
       "      <th>Misc Val</th>\n",
       "      <th>SalePrice</th>\n",
       "    </tr>\n",
       "  </thead>\n",
       "  <tbody>\n",
       "    <tr>\n",
       "      <th>Order</th>\n",
       "      <td>1.000000</td>\n",
       "      <td>-0.023140</td>\n",
       "      <td>0.020064</td>\n",
       "      <td>-0.049116</td>\n",
       "      <td>0.078547</td>\n",
       "      <td>-0.060288</td>\n",
       "      <td>0.011011</td>\n",
       "      <td>0.016425</td>\n",
       "      <td>-0.036472</td>\n",
       "      <td>-0.074932</td>\n",
       "      <td>...</td>\n",
       "      <td>-0.058123</td>\n",
       "      <td>-0.051493</td>\n",
       "      <td>-0.064436</td>\n",
       "      <td>0.035471</td>\n",
       "      <td>0.013040</td>\n",
       "      <td>0.006725</td>\n",
       "      <td>0.026088</td>\n",
       "      <td>0.020716</td>\n",
       "      <td>-0.020449</td>\n",
       "      <td>-0.068181</td>\n",
       "    </tr>\n",
       "    <tr>\n",
       "      <th>MS SubClass</th>\n",
       "      <td>-0.023140</td>\n",
       "      <td>1.000000</td>\n",
       "      <td>-0.248209</td>\n",
       "      <td>0.054533</td>\n",
       "      <td>-0.099862</td>\n",
       "      <td>-0.273248</td>\n",
       "      <td>0.342229</td>\n",
       "      <td>-0.001077</td>\n",
       "      <td>0.089580</td>\n",
       "      <td>0.168263</td>\n",
       "      <td>...</td>\n",
       "      <td>-0.046967</td>\n",
       "      <td>-0.110141</td>\n",
       "      <td>-0.034953</td>\n",
       "      <td>0.000592</td>\n",
       "      <td>0.009778</td>\n",
       "      <td>-0.051771</td>\n",
       "      <td>-0.065956</td>\n",
       "      <td>-0.022696</td>\n",
       "      <td>-0.023721</td>\n",
       "      <td>-0.088504</td>\n",
       "    </tr>\n",
       "    <tr>\n",
       "      <th>Lot Area</th>\n",
       "      <td>0.020064</td>\n",
       "      <td>-0.248209</td>\n",
       "      <td>1.000000</td>\n",
       "      <td>0.100290</td>\n",
       "      <td>-0.010353</td>\n",
       "      <td>0.295995</td>\n",
       "      <td>0.005407</td>\n",
       "      <td>-0.013667</td>\n",
       "      <td>0.239224</td>\n",
       "      <td>0.107753</td>\n",
       "      <td>...</td>\n",
       "      <td>0.166939</td>\n",
       "      <td>0.179216</td>\n",
       "      <td>0.110003</td>\n",
       "      <td>0.044313</td>\n",
       "      <td>0.002098</td>\n",
       "      <td>0.022090</td>\n",
       "      <td>0.054119</td>\n",
       "      <td>0.010442</td>\n",
       "      <td>0.025428</td>\n",
       "      <td>0.274730</td>\n",
       "    </tr>\n",
       "  </tbody>\n",
       "</table>\n",
       "<p>3 rows × 25 columns</p>\n",
       "</div>"
      ],
      "text/plain": [
       "                Order  MS SubClass  Lot Area  Overall Qual  Overall Cond  \\\n",
       "Order        1.000000    -0.023140  0.020064     -0.049116      0.078547   \n",
       "MS SubClass -0.023140     1.000000 -0.248209      0.054533     -0.099862   \n",
       "Lot Area     0.020064    -0.248209  1.000000      0.100290     -0.010353   \n",
       "\n",
       "             1st Flr SF  2nd Flr SF  Low Qual Fin SF  Gr Liv Area  Full Bath  \\\n",
       "Order         -0.060288    0.011011         0.016425    -0.036472  -0.074932   \n",
       "MS SubClass   -0.273248    0.342229        -0.001077     0.089580   0.168263   \n",
       "Lot Area       0.295995    0.005407        -0.013667     0.239224   0.107753   \n",
       "\n",
       "             ...  Garage Cars  Garage Area  Wood Deck SF  Open Porch SF  \\\n",
       "Order        ...    -0.058123    -0.051493     -0.064436       0.035471   \n",
       "MS SubClass  ...    -0.046967    -0.110141     -0.034953       0.000592   \n",
       "Lot Area     ...     0.166939     0.179216      0.110003       0.044313   \n",
       "\n",
       "             Enclosed Porch  3Ssn Porch  Screen Porch  Pool Area  Misc Val  \\\n",
       "Order              0.013040    0.006725      0.026088   0.020716 -0.020449   \n",
       "MS SubClass        0.009778   -0.051771     -0.065956  -0.022696 -0.023721   \n",
       "Lot Area           0.002098    0.022090      0.054119   0.010442  0.025428   \n",
       "\n",
       "             SalePrice  \n",
       "Order        -0.068181  \n",
       "MS SubClass  -0.088504  \n",
       "Lot Area      0.274730  \n",
       "\n",
       "[3 rows x 25 columns]"
      ]
     },
     "execution_count": 11,
     "metadata": {},
     "output_type": "execute_result"
    }
   ],
   "source": [
    "corrmat[:3]"
   ]
  },
  {
   "cell_type": "code",
   "execution_count": 12,
   "metadata": {},
   "outputs": [],
   "source": [
    "sorted_corrs=corrmat['SalePrice'].abs().sort_values()"
   ]
  },
  {
   "cell_type": "code",
   "execution_count": 13,
   "metadata": {},
   "outputs": [
    {
     "data": {
      "text/plain": [
       "Misc Val           0.009903\n",
       "3Ssn Porch         0.038699\n",
       "Low Qual Fin SF    0.060352\n",
       "Order              0.068181\n",
       "MS SubClass        0.088504\n",
       "Name: SalePrice, dtype: float64"
      ]
     },
     "execution_count": 13,
     "metadata": {},
     "output_type": "execute_result"
    }
   ],
   "source": [
    "sorted_corrs.head()"
   ]
  },
  {
   "cell_type": "markdown",
   "metadata": {},
   "source": [
    "# 3. Correlation Matrix Heatmap"
   ]
  },
  {
   "cell_type": "markdown",
   "metadata": {},
   "source": [
    "We now have a decent list of candidate features to use in our model, sorted by how strongly they're correlated with the SalePrice column. For now, let's keep only the `features that have a correlation of 0.3 or higher`. This cutoff is a bit arbitrary and, in general, it's a good idea to experiment with this cutoff. For example, `you can train and test models using different cutoffs and see where your model stops improving.`"
   ]
  },
  {
   "cell_type": "markdown",
   "metadata": {},
   "source": [
    "The next thing we need to look for is **`for potential collinearity between some of these feature columns`**. **Collinearity is when 2 feature columns are highly correlated and stand the risk of duplicating information.** If we have 2 features that convey the same information using 2 different measures or metrics, we don't need to keep both."
   ]
  },
  {
   "cell_type": "markdown",
   "metadata": {},
   "source": [
    "While we can check for collinearity between 2 columns using the correlation matrix, we run the risk of information overload. We can instead generate a [correlation matrix heatmap](http://seaborn.pydata.org/examples/heatmap_annotation.html) using Seaborn to visually compare the correlations and look for problematic pairwise feature correlations."
   ]
  },
  {
   "cell_type": "markdown",
   "metadata": {},
   "source": [
    "## TODO:\n",
    "* Select only the columns in sorted_corrs with a correlation above 0.3 and assign to strong_corrs.\n",
    "* Filter train_subset using the indexes of strong_corrs and store the correlations to corrmat.\n",
    "* Use the seaborn.heatmap() function to generate a correlation matrix heatmap for the columns in strong_corrs."
   ]
  },
  {
   "cell_type": "code",
   "execution_count": 14,
   "metadata": {},
   "outputs": [],
   "source": [
    "strong_corrs=sorted_corrs[sorted_corrs>0.3]"
   ]
  },
  {
   "cell_type": "code",
   "execution_count": 15,
   "metadata": {},
   "outputs": [],
   "source": [
    "corrmat=train_subset[strong_corrs.index].corr()"
   ]
  },
  {
   "cell_type": "code",
   "execution_count": 16,
   "metadata": {},
   "outputs": [],
   "source": [
    "import matplotlib.pyplot as plt\n",
    "import seaborn as sns\n",
    "%matplotlib inline\n",
    "sns.set()"
   ]
  },
  {
   "cell_type": "code",
   "execution_count": 17,
   "metadata": {},
   "outputs": [
    {
     "data": {
      "image/png": "[encoded data removed]",
      "text/plain": [
       "<Figure size 648x432 with 2 Axes>"
      ]
     },
     "metadata": {
      "needs_background": "light"
     },
     "output_type": "display_data"
    }
   ],
   "source": [
    "f, ax = plt.subplots(figsize=(9, 6))\n",
    "sns.heatmap(corrmat, annot=True, linewidths=.5, ax=ax)\n",
    "plt.show()"
   ]
  },
  {
   "cell_type": "markdown",
   "metadata": {},
   "source": [
    "# 4. Train And Test Model"
   ]
  },
  {
   "cell_type": "markdown",
   "metadata": {},
   "source": [
    "Based on the correlation matrix heatmap, we can tell that the following pairs of columns are strongly correlated:\n",
    "\n",
    "* Gr Liv Area and TotRms AbvGrd\n",
    "* Garage Area and Garage Cars\n",
    "\n",
    "If we read the descriptions of these columns from the data documentation, we can tell that each pair of columns reflects very similar information. Because Gr Liv Area and Garage Area are continuous variables that capture more nuance, let's drop the TotRms AbvGrd and Garage Cars."
   ]
  },
  {
   "cell_type": "markdown",
   "metadata": {},
   "source": [
    "The last thing we'll need to do is confirm that the test set contains no missing values for these columns:"
   ]
  },
  {
   "cell_type": "code",
   "execution_count": 18,
   "metadata": {},
   "outputs": [
    {
     "name": "stdout",
     "output_type": "stream",
     "text": [
      "<class 'pandas.core.frame.DataFrame'>\n",
      "RangeIndex: 1470 entries, 1460 to 2929\n",
      "Data columns (total 9 columns):\n",
      "Wood Deck SF     1470 non-null int64\n",
      "Open Porch SF    1470 non-null int64\n",
      "Fireplaces       1470 non-null int64\n",
      "Full Bath        1470 non-null int64\n",
      "1st Flr SF       1470 non-null int64\n",
      "Garage Area      1469 non-null float64\n",
      "Gr Liv Area      1470 non-null int64\n",
      "Overall Qual     1470 non-null int64\n",
      "SalePrice        1470 non-null int64\n",
      "dtypes: float64(1), int64(8)\n",
      "memory usage: 103.4 KB\n",
      "None\n"
     ]
    }
   ],
   "source": [
    "final_corr_cols = strong_corrs.drop(['Garage Cars', 'TotRms AbvGrd'])\n",
    "print(test[final_corr_cols.index].info())"
   ]
  },
  {
   "cell_type": "markdown",
   "metadata": {},
   "source": [
    "## TODO:\n",
    "* Filter the test data frame so it only contains the columns from final_corr_cols.index. Then, drop the row containing missing values and assign the result to clean_test\n",
    "* Build a linear regression model using the features in features.\n",
    "* Calculate the RMSE on the test and train sets.\n",
    "* Assign the train RMSE to train_rmse and the test RMSE to test_rmse."
   ]
  },
  {
   "cell_type": "code",
   "execution_count": 19,
   "metadata": {},
   "outputs": [],
   "source": [
    "clean_test=test[final_corr_cols.index].dropna()"
   ]
  },
  {
   "cell_type": "code",
   "execution_count": 20,
   "metadata": {},
   "outputs": [
    {
     "data": {
      "text/plain": [
       "Wood Deck SF     0\n",
       "Open Porch SF    0\n",
       "Fireplaces       0\n",
       "Full Bath        0\n",
       "1st Flr SF       0\n",
       "Garage Area      0\n",
       "Gr Liv Area      0\n",
       "Overall Qual     0\n",
       "SalePrice        0\n",
       "dtype: int64"
      ]
     },
     "execution_count": 20,
     "metadata": {},
     "output_type": "execute_result"
    }
   ],
   "source": [
    "clean_test.isnull().sum()"
   ]
  },
  {
   "cell_type": "code",
   "execution_count": 21,
   "metadata": {},
   "outputs": [
    {
     "data": {
      "text/plain": [
       "Index(['Wood Deck SF', 'Open Porch SF', 'Fireplaces', 'Full Bath',\n",
       "       '1st Flr SF', 'Garage Area', 'Gr Liv Area', 'Overall Qual'],\n",
       "      dtype='object')"
      ]
     },
     "execution_count": 21,
     "metadata": {},
     "output_type": "execute_result"
    }
   ],
   "source": [
    "features=final_corr_cols.drop(['SalePrice']).index\n",
    "features"
   ]
  },
  {
   "cell_type": "code",
   "execution_count": 22,
   "metadata": {},
   "outputs": [],
   "source": [
    "target='SalePrice'"
   ]
  },
  {
   "cell_type": "code",
   "execution_count": 23,
   "metadata": {},
   "outputs": [],
   "source": [
    "from sklearn.linear_model import LinearRegression\n",
    "from sklearn.metrics import mean_squared_error\n",
    "import numpy as np"
   ]
  },
  {
   "cell_type": "code",
   "execution_count": 24,
   "metadata": {},
   "outputs": [
    {
     "name": "stdout",
     "output_type": "stream",
     "text": [
      "34173.97629185852\n",
      "41032.0261201977\n"
     ]
    }
   ],
   "source": [
    "lr = LinearRegression()\n",
    "lr.fit(train[features], train['SalePrice'])\n",
    "\n",
    "train_predictions = lr.predict(train[features])\n",
    "test_predictions = lr.predict(clean_test[features])\n",
    "\n",
    "train_mse = mean_squared_error(train_predictions, train[target])\n",
    "test_mse = mean_squared_error(test_predictions, clean_test[target])\n",
    "\n",
    "train_rmse = np.sqrt(train_mse)\n",
    "test_rmse = np.sqrt(test_mse)\n",
    "\n",
    "print(train_rmse)\n",
    "print(test_rmse)"
   ]
  },
  {
   "cell_type": "markdown",
   "metadata": {},
   "source": [
    "# 5. Removing Low Variance Features"
   ]
  },
  {
   "cell_type": "markdown",
   "metadata": {},
   "source": [
    "The last technique we'll explore is **removing features with low variance**. "
   ]
  },
  {
   "cell_type": "markdown",
   "metadata": {},
   "source": [
    "When the values in a feature column have low variance, they don't meaningfully contribute to the model's predictive capability. On the extreme end, let's imagine a column with a variance of 0. **This would mean that all of the values in that column were exactly the same**. `This means that the column isn't informative and isn't going to help the model make better predictions.`"
   ]
  },
  {
   "cell_type": "markdown",
   "metadata": {},
   "source": [
    "To make apples to apples comparisons between columns, we need to rescale all of the columns to vary between 0 and 1. This is known as min-max scaling or as [rescaling](https://en.wikipedia.org/wiki/Feature_scaling#Rescaling). Here's the formula for rescaling:\n",
    "\n",
    "### $\\dfrac{x - \\min(x)} {\\max(x) - \\min(x)}$\n",
    "\n",
    "Where:\n",
    "\n",
    "* $x$ is an individual value\n",
    "* $\\min(x)$ is the minimum value for the column  belongs to\n",
    "* $\\max(x)$ is the maximum value for the column  belongs to"
   ]
  },
  {
   "cell_type": "markdown",
   "metadata": {},
   "source": [
    "## TODO:\n",
    "* Select the columns in features from the train data frame. Rescale each of the columns so the values range from 0 to 1, by using train[features] instead of  in the formula above. Assign the result to unit_train.\n",
    "* Calculate and display the column minimum and maximum values of unit_train to ensure that all values range from 0 to 1."
   ]
  },
  {
   "cell_type": "code",
   "execution_count": 25,
   "metadata": {},
   "outputs": [
    {
     "name": "stdout",
     "output_type": "stream",
     "text": [
      "Wood Deck SF     0.0\n",
      "Open Porch SF    0.0\n",
      "Fireplaces       0.0\n",
      "Full Bath        0.0\n",
      "1st Flr SF       0.0\n",
      "Garage Area      0.0\n",
      "Gr Liv Area      0.0\n",
      "Overall Qual     0.0\n",
      "dtype: float64\n",
      "Wood Deck SF     1.0\n",
      "Open Porch SF    1.0\n",
      "Fireplaces       1.0\n",
      "Full Bath        1.0\n",
      "1st Flr SF       1.0\n",
      "Garage Area      1.0\n",
      "Gr Liv Area      1.0\n",
      "Overall Qual     1.0\n",
      "dtype: float64\n"
     ]
    }
   ],
   "source": [
    "unit_train = (train[features] - train[features].min())/(train[features].max() - train[features].min())\n",
    "print(unit_train.min())\n",
    "print(unit_train.max())"
   ]
  },
  {
   "cell_type": "markdown",
   "metadata": {},
   "source": [
    "# 6. Final Model"
   ]
  },
  {
   "cell_type": "markdown",
   "metadata": {},
   "source": [
    "Let's compute the variances and remove the columns with the lowest variance."
   ]
  },
  {
   "cell_type": "code",
   "execution_count": 26,
   "metadata": {},
   "outputs": [
    {
     "data": {
      "text/plain": [
       "Wood Deck SF     0.033064\n",
       "Open Porch SF    0.013938\n",
       "Fireplaces       0.046589\n",
       "Full Bath        0.018621\n",
       "1st Flr SF       0.025814\n",
       "Garage Area      0.020347\n",
       "Gr Liv Area      0.023078\n",
       "Overall Qual     0.024496\n",
       "dtype: float64"
      ]
     },
     "execution_count": 26,
     "metadata": {},
     "output_type": "execute_result"
    }
   ],
   "source": [
    "unit_train.var()"
   ]
  },
  {
   "cell_type": "code",
   "execution_count": 27,
   "metadata": {},
   "outputs": [
    {
     "name": "stdout",
     "output_type": "stream",
     "text": [
      "0.013937595716463504\n"
     ]
    }
   ],
   "source": [
    "print(unit_train.var().min())"
   ]
  },
  {
   "cell_type": "markdown",
   "metadata": {},
   "source": [
    "## TODO:\n",
    "* Drop Open Porch SF from features.\n",
    "* Build a linear regression model using the remaining features.\n",
    "* Calculate the RMSE on the test and train sets.\n",
    "* Assign the train RMSE to train_rmse_2 and the test RMSE to test_rmse_2.\n",
    "* Display both RMSE values using the print() function."
   ]
  },
  {
   "cell_type": "code",
   "execution_count": 28,
   "metadata": {},
   "outputs": [
    {
     "name": "stdout",
     "output_type": "stream",
     "text": [
      "34372.696707783965\n",
      "40591.42702437726\n"
     ]
    }
   ],
   "source": [
    "features = features.drop('Open Porch SF')\n",
    "\n",
    "lr = LinearRegression()\n",
    "lr.fit(train[features], train['SalePrice'])\n",
    "\n",
    "train_predictions = lr.predict(train[features])\n",
    "test_predictions = lr.predict(clean_test[features])\n",
    "\n",
    "train_mse = mean_squared_error(train_predictions, train[target])\n",
    "test_mse = mean_squared_error(test_predictions, clean_test[target])\n",
    "\n",
    "train_rmse_2 = np.sqrt(train_mse)\n",
    "test_rmse_2 = np.sqrt(test_mse)\n",
    "\n",
    "print(train_rmse_2)\n",
    "print(test_rmse_2)"
   ]
  },
  {
   "cell_type": "markdown",
   "metadata": {},
   "source": [
    "We were able to improve the RMSE value to approximately 40591 by removing the Open Porch SF feature. This is most likely the furthest we can go without transforming and utilizing the other features in the dataset so we'll stop here for now"
   ]
  }
 ],
 "metadata": {
  "kernelspec": {
   "display_name": "Python 3",
   "language": "python",
   "name": "python3"
  },
  "language_info": {
   "codemirror_mode": {
    "name": "ipython",
    "version": 3
   },
   "file_extension": ".py",
   "mimetype": "text/x-python",
   "name": "python",
   "nbconvert_exporter": "python",
   "pygments_lexer": "ipython3",
   "version": "3.7.3"
  }
 },
 "nbformat": 4,
 "nbformat_minor": 2
}
