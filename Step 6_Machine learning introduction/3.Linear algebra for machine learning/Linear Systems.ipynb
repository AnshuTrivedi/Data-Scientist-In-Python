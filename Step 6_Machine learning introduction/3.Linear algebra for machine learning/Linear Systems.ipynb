{
 "cells": [
  {
   "cell_type": "markdown",
   "metadata": {},
   "source": [
    "# 1. Overview Of Linear Algebra"
   ]
  },
  {
   "cell_type": "markdown",
   "metadata": {},
   "source": [
    "In the last course, we explored the framework of calculus and used it to:\n",
    "\n",
    "* understand the slope of linear functions\n",
    "* understand the derivative (slope as a function) of nonlinear functions\n",
    "* find extreme values in nonlinear functions"
   ]
  },
  {
   "cell_type": "markdown",
   "metadata": {},
   "source": [
    "* Specifically, we'll explore the framework of **linear algebra**, which provides a way to represent and understand the solutions to **systems of linear equations**. "
   ]
  },
  {
   "cell_type": "markdown",
   "metadata": {},
   "source": [
    "**A system of linear equations consists of multiple, related functions with a common set of variables. The word linear equation is often used interchangeably with linear function**"
   ]
  },
  {
   "cell_type": "markdown",
   "metadata": {},
   "source": [
    "**Optimal Salary Problem**\n",
    "\n",
    "Let's say we have to pick between 2 different job offers. The first job offer has a  base weekly salary of 1000 dollars and pays 30 dollars an hour. We can represent this offer as $y=1000+30x$, where $y$ represents dollars earned that week and  $x$ represents hours worked that week. The second job offer has a base weekly salary of 100 dollars and pays 50 dollars an hour. We can represent this offer as $y=100+50x$, where $y$ also represents dollars earned that week and $x$ also represents hours worked that week.\n",
    "\n",
    "We want to understand which job offer is better.\n",
    "\n",
    "Instead, if we want to understand:\n",
    "\n",
    "At what number of hours worked can we expect to make the same amount of money at either job?\n",
    "\n",
    "How many hours do we have to work to make more money at the first job than the second job?"
   ]
  },
  {
   "cell_type": "markdown",
   "metadata": {},
   "source": [
    "## TODO:\n",
    "* Use numpy.linspace() to generate 1000, evenly spaced values between 0 and 50 and assign to x.\n",
    "* Transform x using the equation $y=1000+30x$ and assign the result to y1.\n",
    "* Transform x using the equation $y=100+50x$ and assign the result to y2.\n",
    "* Generate 2 line plots on the same subplot:\n",
    "* One with x on the x-axis and y1 on the y-axis. Set the line color to \"orange\".\n",
    "* One with x on the x-axis and y2 on the y-axis. Set the line color to \"blue\".\n",
    "* Skip selecting a value range for the x and y axes, and instead let matplotlib automatically select based on the data."
   ]
  },
  {
   "cell_type": "code",
   "execution_count": 7,
   "metadata": {},
   "outputs": [
    {
     "data": {
      "text/plain": [
       "Text(0, 0.5, 'salary earned')"
      ]
     },
     "execution_count": 7,
     "metadata": {},
     "output_type": "execute_result"
    },
    {
     "data": {
      "image/png": "[encoded data removed]",
      "text/plain": [
       "<Figure size 432x288 with 1 Axes>"
      ]
     },
     "metadata": {
      "needs_background": "light"
     },
     "output_type": "display_data"
    }
   ],
   "source": [
    "import numpy as np \n",
    "import matplotlib.pyplot as plt \n",
    "\n",
    "x=np.linspace(0,50,1000)\n",
    "y1=1000+30*x\n",
    "y2=100+50*x\n",
    "\n",
    "plt.plot(x,y1,c='orange')\n",
    "plt.plot(x,y2,c='blue')\n",
    "plt.xlabel('Working hours')\n",
    "plt.ylabel('salary earned')"
   ]
  },
  {
   "cell_type": "markdown",
   "metadata": {},
   "source": [
    "This **point where both equations intersect is known as a solution to the system,** because substituting for $X$ and $Y$ into both functions in the system makes both of them true. Said another way, plugging in the  value of the solution into both functions yields the same  value."
   ]
  },
  {
   "cell_type": "markdown",
   "metadata": {},
   "source": [
    "# 2. Solving Linear Systems By Elimination"
   ]
  },
  {
   "cell_type": "markdown",
   "metadata": {},
   "source": [
    "Because both functions share the same variables, we can represent one of the variables, say ,$y$ in terms of the other variable and solve for the $x$ value. Then, we can substitute this $x$ value into either equation to determine the $y$ value. This process is known as **solving by elimination or the elimination method.** "
   ]
  },
  {
   "cell_type": "markdown",
   "metadata": {},
   "source": [
    "* While we can solve a linear system like this by hand using arithmetic, we can't use the same technique to solve much more complex systems.**Many real world systems are modeled using many more than 2 variables and functions and solving by hand is unfeasible.**"
   ]
  },
  {
   "cell_type": "markdown",
   "metadata": {},
   "source": [
    "### Those types of systems can be solved using linear algebra using a variation of arithmetic elimination called `Gaussian elimination.`"
   ]
  },
  {
   "cell_type": "markdown",
   "metadata": {},
   "source": [
    "# 3. Representing Functions In General Form"
   ]
  },
  {
   "cell_type": "markdown",
   "metadata": {},
   "source": [
    "* Linear algebra provides a way to represent a **`linear system compactly, known as a matrix, and a set of rules for manipulating that representation, also known as an algebra`**. A matrix uses rows and columns to **`represent only the coefficients in a linear system`** and it's similar to the way data is represented in a spreadsheet or a dataframe. Before we can represent our system in a matrix, **`we need to rearrange each of our functions into the general form`**"
   ]
  },
  {
   "cell_type": "markdown",
   "metadata": {},
   "source": [
    "* In the last course, we primarily explored linear functions in **slope-intercept form:**\n",
    "### $y=mx+b$\n",
    "\n",
    "* In linear algebra, we usually represent linear functions in the **general form:**\n",
    "### $Ax+By=C$"
   ]
  },
  {
   "cell_type": "markdown",
   "metadata": {},
   "source": [
    "* In an **augmented matrix,** the coefficients from the left sides of the functions are on the left side of the bar (|), while the constants from the right sides of the functions are on the right side. An augmented matrix allows us to represent a linear system using just the real number coefficients and constants."
   ]
  },
  {
   "attachments": {
    "image.png": {
     "image/png": "[encoded data removed]"
    }
   },
   "cell_type": "markdown",
   "metadata": {},
   "source": [
    "![image.png](attachment:image.png)"
   ]
  },
  {
   "cell_type": "markdown",
   "metadata": {},
   "source": [
    "# 4. Representing An Augmented Matrix In NumPy"
   ]
  },
  {
   "cell_type": "markdown",
   "metadata": {},
   "source": [
    "* To represent an augmented matrix, we can use the **`numpy.asarray()`** function and pass in each row as a list, from the top row to the bottom row"
   ]
  },
  {
   "cell_type": "markdown",
   "metadata": {},
   "source": [
    "* Because we'll be performing addition, subtraction, multiplication, and division operations using the values in this matrix, we need to **set the type to float32** to preserve precision"
   ]
  },
  {
   "cell_type": "markdown",
   "metadata": {},
   "source": [
    "## TODO:\n",
    "* Create a NumPy 2D array representation of our augmented matrix:\n",
    "$\\left[\\begin{array}{rr|r}\n",
    "30 & -1 & -1000 \\\\ \n",
    "50 & -1 & -100\n",
    "\\end{array}\\right]$\n",
    "* Assign the resulting numpy.ndarray object to matrix_one."
   ]
  },
  {
   "cell_type": "code",
   "execution_count": 9,
   "metadata": {},
   "outputs": [
    {
     "data": {
      "text/plain": [
       "array([[   30.,    -1., -1000.],\n",
       "       [   50.,    -1.,  -100.]])"
      ]
     },
     "execution_count": 9,
     "metadata": {},
     "output_type": "execute_result"
    }
   ],
   "source": [
    "matrix_one=np.asarray([[30,-1,-1000],[50,-1,-100]],dtype=np.float)\n",
    "matrix_one"
   ]
  },
  {
   "cell_type": "markdown",
   "metadata": {},
   "source": [
    "# 5. Matrix Representation Of The Solution"
   ]
  },
  {
   "cell_type": "markdown",
   "metadata": {},
   "source": [
    "*  Earlier in the mission, we used arithmetic to calculate the solution to the system and represented it as a coordinate pair: $(45,2350)$. Here's how we represent the solution when we're working with the matrix representation:\n",
    "$\\left[\\begin{array}{rr|r}\n",
    "1 & 0 & 45 \\\\ \n",
    "0 & 1 & 2350\n",
    "\\end{array}\\right]$"
   ]
  },
  {
   "cell_type": "markdown",
   "metadata": {},
   "source": [
    "**To solve a linear system, we need to perform a series of transformations to try to evolve the matrix into this form (where the solution is presented). Not all linear systems have solutions**"
   ]
  },
  {
   "cell_type": "markdown",
   "metadata": {},
   "source": [
    "# 6. Row Operations"
   ]
  },
  {
   "cell_type": "code",
   "execution_count": null,
   "metadata": {},
   "outputs": [],
   "source": []
  }
 ],
 "metadata": {
  "kernelspec": {
   "display_name": "Python 3",
   "language": "python",
   "name": "python3"
  },
  "language_info": {
   "codemirror_mode": {
    "name": "ipython",
    "version": 3
   },
   "file_extension": ".py",
   "mimetype": "text/x-python",
   "name": "python",
   "nbconvert_exporter": "python",
   "pygments_lexer": "ipython3",
   "version": "3.7.3"
  }
 },
 "nbformat": 4,
 "nbformat_minor": 2
}
