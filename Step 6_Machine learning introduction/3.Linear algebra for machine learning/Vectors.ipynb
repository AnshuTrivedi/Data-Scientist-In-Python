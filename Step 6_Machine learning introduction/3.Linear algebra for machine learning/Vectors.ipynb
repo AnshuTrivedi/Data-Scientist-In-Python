{
 "cells": [
  {
   "cell_type": "markdown",
   "metadata": {},
   "source": [
    "# 1. From Matrices To Vectors"
   ]
  },
  {
   "cell_type": "markdown",
   "metadata": {},
   "source": [
    "* IN the last mission, we learned how to use an augmented matrix and the row operations that preserve the relationships in a system to solve a system of linear functions. At its core, a matrix is a way to represent a table of numbers."
   ]
  },
  {
   "cell_type": "markdown",
   "metadata": {},
   "source": [
    "* Each of the rows and columns in this matrix is represented as a list of numbers. **A list of numbers is known as a vector.** **A row from a matrix is known as a row vector, while a column is known as a column vector.** Here is matrix:"
   ]
  },
  {
   "cell_type": "markdown",
   "metadata": {},
   "source": [
    "$\\left[\\begin{array}{rr|r}\n",
    "30 & -1 & -1000 \\\\ \n",
    "50 & -1 & -100\n",
    "\\end{array}\\right]$"
   ]
  },
  {
   "cell_type": "markdown",
   "metadata": {},
   "source": [
    "* This is known as a $2x3$ matrix (pronounced \"two by three matrix\"). The convention in linear algebra is to specify the number of rows first (2) then the number of columns (3)."
   ]
  },
  {
   "cell_type": "markdown",
   "metadata": {},
   "source": [
    "* **row vectors**\n",
    "\n",
    "$\\begin{bmatrix}\n",
    "30 & -1 & -1000 \\\\ \n",
    "\\end{bmatrix}$\n",
    "\n",
    "$\\begin{bmatrix}\n",
    "50 & -1 & -100\n",
    "\\end{bmatrix}$"
   ]
  },
  {
   "cell_type": "markdown",
   "metadata": {},
   "source": [
    "* **Column vectors**\n",
    "\n",
    "$\\begin{bmatrix}\n",
    "30\\\\ \n",
    "50\\\\ \n",
    "\\end{bmatrix}$\n",
    "\n",
    "$\\begin{bmatrix}\n",
    "-1000\\\\ \n",
    "-100\\\\ \n",
    "\\end{bmatrix}$"
   ]
  },
  {
   "cell_type": "markdown",
   "metadata": {},
   "source": [
    "# 2. Geometric Intuition Of Vectors"
   ]
  },
  {
   "cell_type": "markdown",
   "metadata": {},
   "source": [
    "Typically, **a vector is visualized on a coordinate grid using arrows, not using coordinates.** For a vector containing two elements, the first value describes the $x$ coordinate while the second value describes the $y$ coordinate. **Vectors are usually drawn from the origin $(0,0)$ to the point described by the vector:**"
   ]
  },
  {
   "cell_type": "markdown",
   "metadata": {},
   "source": [
    "* **Arrows are used to visualize individual vectors because they emphasize the 2 key properties of a vector -- `direction and magnitude.` The direction of a vector describes the way its pointing while the magnitude describes its length**."
   ]
  },
  {
   "cell_type": "markdown",
   "metadata": {},
   "source": [
    "* We can visualize vectors in matplotlib using the` pyplot.quiver() function`. This function has 4 required parameters: X, Y, U, V. X and Y correspond to the $(x,y)$ coordinates we want the vector to start at and U and V correspond to the $(x,y)$ coordinates we want the vector to end at"
   ]
  },
  {
   "cell_type": "code",
   "execution_count": 1,
   "metadata": {},
   "outputs": [
    {
     "data": {
      "text/plain": [
       "<matplotlib.quiver.Quiver at 0x1a8b1e5fa58>"
      ]
     },
     "execution_count": 1,
     "metadata": {},
     "output_type": "execute_result"
    }
   ],
   "source": [
    "import matplotlib.pyplot as plt\n",
    "\n",
    "plt.axhline(0, c='black', lw=0.5)\n",
    "plt.axvline(0, c='black', lw=0.5)\n",
    "plt.xlim(-3,3)\n",
    "plt.ylim(-4,4)\n",
    "\n",
    "plt.quiver(0, 0, 1, 2, angles='xy', scale_units='xy', scale=1)"
   ]
  },
  {
   "cell_type": "markdown",
   "metadata": {},
   "source": [
    "* Setting angles to 'xy' lets matplotlib know we want the angle of the vector to be between the points we specified. The scale_units and scale parameters lets us specify custom scaling parameters for the vectors."
   ]
  },
  {
   "cell_type": "markdown",
   "metadata": {},
   "source": [
    "## TODO:\n",
    "* Generate a vector from [0,0] to [2,3] and set its color to 'blue'.\n",
    "* Generate a vector from [0,0] to [-2,-3] and set its color to 'blue'.\n",
    "* Generate a vector from [0,0] to [1,1] and set its color to 'gold'.\n",
    "* Generate a vector from [0,0] to [2,2] and set its color to 'gold'."
   ]
  },
  {
   "cell_type": "code",
   "execution_count": 2,
   "metadata": {},
   "outputs": [
    {
     "data": {
      "text/plain": [
       "<matplotlib.quiver.Quiver at 0x1a8b2049f28>"
      ]
     },
     "execution_count": 2,
     "metadata": {},
     "output_type": "execute_result"
    },
    {
     "data": {
      "image/png": "[encoded data removed]",
      "text/plain": [
       "<Figure size 432x288 with 1 Axes>"
      ]
     },
     "metadata": {
      "needs_background": "light"
     },
     "output_type": "display_data"
    }
   ],
   "source": [
    "plt.xlim(-4,4)\n",
    "plt.ylim(-6,6)\n",
    "\n",
    "plt.axhline(0,c='black',lw=0.5)\n",
    "plt.axvline(0,c='black',lw=0.5)\n",
    "\n",
    "plt.quiver(0,0,2,3,angles='xy',scale_units='xy',scale=1,color='blue')\n",
    "plt.quiver(0,0,-2,-3,angles='xy',scale_units='xy',scale=1,color='blue')\n",
    "plt.quiver(0,0,1,1,angles='xy',scale_units='xy',scale=1,color='gold')\n",
    "plt.quiver(0,0,2,2,angles='xy',scale_units='xy',scale=1,color='gold')"
   ]
  },
  {
   "cell_type": "markdown",
   "metadata": {},
   "source": [
    "# 3. Vector Operations"
   ]
  },
  {
   "cell_type": "markdown",
   "metadata": {},
   "source": [
    "**Like the rows in a matrix, vectors can be added and subtracted together. `When we add or subtract vectors, elements in the same position are added or subtracted` and a new vector is created.**"
   ]
  },
  {
   "cell_type": "markdown",
   "metadata": {},
   "source": [
    "* **2 vectors being added** \n",
    "\n",
    "$\\begin{bmatrix}\n",
    "3\\\\ \n",
    "1\n",
    "\\end{bmatrix} + \\begin{bmatrix}\n",
    "1\\\\ \n",
    "2\n",
    "\\end{bmatrix} = \n",
    "\\begin{bmatrix}\n",
    "4\\\\ \n",
    "3\n",
    "\\end{bmatrix}$"
   ]
  },
  {
   "cell_type": "markdown",
   "metadata": {},
   "source": [
    "* **2 vectors being subtracted**\n",
    "\n",
    "$\\begin{bmatrix}\n",
    "3\\\\ \n",
    "1\n",
    "\\end{bmatrix} - \\begin{bmatrix}\n",
    "1\\\\ \n",
    "2\n",
    "\\end{bmatrix} = \n",
    "\\begin{bmatrix}\n",
    "2\\\\ \n",
    "-1\n",
    "\\end{bmatrix}$"
   ]
  },
  {
   "cell_type": "markdown",
   "metadata": {},
   "source": [
    "## TODO:\n",
    "* Plot the vector $\\begin{bmatrix} 3\\\\ 0 \\end{bmatrix}$. This vector should originate at $(0,0)$.\n",
    "* Plot the vector $\\begin{bmatrix} 0\\\\ 3 \\end{bmatrix}$. This vector should originate at $(3,0)$.\n",
    "* Add both of these vectors and plot the resulting vector. This vector should originate at $(0,0)$. When calling pyplot.quiver(), use the color parameter to set the color to \"green\"."
   ]
  },
  {
   "cell_type": "code",
   "execution_count": 3,
   "metadata": {},
   "outputs": [
    {
     "data": {
      "text/plain": [
       "<matplotlib.quiver.Quiver at 0x1a8b20cef98>"
      ]
     },
     "execution_count": 3,
     "metadata": {},
     "output_type": "execute_result"
    },
    {
     "data": {
      "image/png": "[encoded data removed]",
      "text/plain": [
       "<Figure size 432x288 with 1 Axes>"
      ]
     },
     "metadata": {
      "needs_background": "light"
     },
     "output_type": "display_data"
    }
   ],
   "source": [
    "plt.xlim(-4,4)\n",
    "plt.ylim(-4,4)\n",
    "\n",
    "plt.axhline(0,c='black',lw=0.5)\n",
    "plt.axvline(0,c='black',lw=0.5)\n",
    "\n",
    "plt.quiver(0,0,3,0,angles='xy',scale_units='xy',scale=1)\n",
    "plt.quiver(3,0,0,3,angles='xy',scale_units='xy',scale=1)\n",
    "plt.quiver(0,0,3,3,angles='xy',scale_units='xy',scale=1,color='green')"
   ]
  },
  {
   "cell_type": "markdown",
   "metadata": {},
   "source": [
    "# 4. Scaling Vectors"
   ]
  },
  {
   "cell_type": "markdown",
   "metadata": {},
   "source": [
    "**We can also scale vectors by multiplying or dividing by a scalar (a real number). When we do so, `each element in the vector is multiplied or divided by the scalar:`**"
   ]
  },
  {
   "cell_type": "markdown",
   "metadata": {},
   "source": [
    "* Between vector addition, vector subtraction, scalar multiplication, and scalar division, we can combine vectors in many different ways. Being able to combine vectors to create other vectors is a key idea in linear algebra"
   ]
  },
  {
   "cell_type": "markdown",
   "metadata": {},
   "source": [
    "## TODO:\n",
    "* Plot the vector $\\begin{bmatrix} 3\\\\ 1 \\end{bmatrix}$. This vector should originate at $(0,0)$ and be colored 'blue'.\n",
    "* Plot the vector $\\begin{bmatrix} 6\\\\ 2 \\end{bmatrix}$. This vector should originate at $(0,0)$ and be colored 'green'.\n",
    "* Plot the vector $\\begin{bmatrix} 9\\\\ 3 \\end{bmatrix}$. This vector should originate at $(0,0)$ and be colored 'orange'."
   ]
  },
  {
   "cell_type": "code",
   "execution_count": 4,
   "metadata": {},
   "outputs": [
    {
     "data": {
      "image/png": "[encoded data removed]",
      "text/plain": [
       "<Figure size 432x288 with 1 Axes>"
      ]
     },
     "metadata": {
      "needs_background": "light"
     },
     "output_type": "display_data"
    }
   ],
   "source": [
    "plt.xlim(-11,11)\n",
    "plt.ylim(-8,8)\n",
    "\n",
    "plt.axhline(0,c='black',lw=0.5)\n",
    "plt.axvline(0,c='black',lw=0.5)\n",
    "\n",
    "plt.quiver(0,0,3,1,angles='xy',scale_units='xy',scale=1,color='blue')\n",
    "plt.quiver(0,0,6,2,angles='xy',scale_units='xy',scale=1,color='green')\n",
    "plt.quiver(0,0,9,3,angles='xy',scale_units='xy',scale=1,color='orange')\n",
    "plt.show()"
   ]
  },
  {
   "cell_type": "markdown",
   "metadata": {},
   "source": [
    "# 5. Vectors In NumPy"
   ]
  },
  {
   "cell_type": "markdown",
   "metadata": {},
   "source": [
    "* To represent vectors in NumPy, we use the same function but we only specify a single value in each row. The following code creates a NumPy ndarray representation of the vector  $\\begin{bmatrix} 1 \\\\ 2 \\\\ 1 \\end{bmatrix}$\n",
    "\n",
    "vector_one = np.asarray([\n",
    "    [1],\n",
    "    [2],\n",
    "    [1]\n",
    "], dtype=np.float32)\n"
   ]
  },
  {
   "cell_type": "markdown",
   "metadata": {},
   "source": [
    "## TODO:\n",
    "* Assign the following vector to vector_two: $\\begin{bmatrix} 3 \\\\ 0 \\\\ 1\\end{bmatrix}$\n",
    "* Multiply vector_one by 2, multiply vector_two by 5, and add both of the scaled vectors. Assign the resulting vector to vector_linear_combination."
   ]
  },
  {
   "cell_type": "code",
   "execution_count": 5,
   "metadata": {},
   "outputs": [
    {
     "data": {
      "text/plain": [
       "array([[3.],\n",
       "       [0.],\n",
       "       [1.]])"
      ]
     },
     "execution_count": 5,
     "metadata": {},
     "output_type": "execute_result"
    }
   ],
   "source": [
    "import numpy as np\n",
    "vector_one = np.asarray([\n",
    "    [1],\n",
    "    [2],\n",
    "    [1]\n",
    "], dtype=np.float32)\n",
    "vector_two=np.asarray([[3],[0],[1]],dtype=np.float)\n",
    "vector_two"
   ]
  },
  {
   "cell_type": "code",
   "execution_count": 6,
   "metadata": {},
   "outputs": [
    {
     "data": {
      "text/plain": [
       "array([[17.],\n",
       "       [ 4.],\n",
       "       [ 7.]])"
      ]
     },
     "execution_count": 6,
     "metadata": {},
     "output_type": "execute_result"
    }
   ],
   "source": [
    "vector_linear_combination=2*vector_one+5*vector_two\n",
    "vector_linear_combination"
   ]
  },
  {
   "cell_type": "markdown",
   "metadata": {},
   "source": [
    "# 6. Dot Product"
   ]
  },
  {
   "cell_type": "markdown",
   "metadata": {},
   "source": [
    "**To compute the dot product, we need to sum the products of the 2 values in each position in each vector**"
   ]
  },
  {
   "cell_type": "markdown",
   "metadata": {},
   "source": [
    "### $\\vec{a} * \\vec{b} = \\sum_{i=1}^{n} a_i b_i = a_1b_1 + a_2b_2 + ... + a_nb_n$"
   ]
  },
  {
   "cell_type": "markdown",
   "metadata": {},
   "source": [
    "* To compute the dot product between 2 vectors, we need to use the `numpy.dot() `function. This function accepts 2 NumPy ndarray objects as the 2 required parameters.**The main quirk is that one of the two vectors need to be represented as a row vector while the other a column vector:**"
   ]
  },
  {
   "cell_type": "markdown",
   "metadata": {},
   "source": [
    "## TODO:\n",
    "Compute the dot product between vector_one and vector_two and assign to dot_product."
   ]
  },
  {
   "cell_type": "code",
   "execution_count": 7,
   "metadata": {},
   "outputs": [
    {
     "data": {
      "text/plain": [
       "array([4.])"
      ]
     },
     "execution_count": 7,
     "metadata": {},
     "output_type": "execute_result"
    }
   ],
   "source": [
    "dot_product=np.dot(vector_one[:,0],vector_two)\n",
    "dot_product"
   ]
  },
  {
   "cell_type": "markdown",
   "metadata": {},
   "source": [
    "# 7. Linear Combination"
   ]
  },
  {
   "cell_type": "markdown",
   "metadata": {},
   "source": [
    "**`Being able to scale vectors using scalar multiplication then adding or subtracting these scaled vectors is known as linear combination.` This concept is crucial to being able to apply linear algebra to solve useful problems.**"
   ]
  },
  {
   "cell_type": "markdown",
   "metadata": {},
   "source": [
    "## TODO:\n",
    "* Assign the vector $\\begin{bmatrix} 1\\\\ 2 \\end{bmatrix}$ to w.\n",
    "* Assign the vector $\\begin{bmatrix} 3\\\\ 1 \\end{bmatrix}$ to v.\n",
    "* Multiply v by 2 and subtract 2 times w and assign the result to end_point."
   ]
  },
  {
   "cell_type": "code",
   "execution_count": 8,
   "metadata": {},
   "outputs": [
    {
     "data": {
      "text/plain": [
       "array([[ 4.],\n",
       "       [-2.]])"
      ]
     },
     "execution_count": 8,
     "metadata": {},
     "output_type": "execute_result"
    }
   ],
   "source": [
    "w=np.asarray([[1],[2]],dtype=np.float)\n",
    "v=np.asarray([[3],[1]],dtype=np.float)\n",
    "end_point=2*v-2*w\n",
    "end_point"
   ]
  },
  {
   "cell_type": "markdown",
   "metadata": {},
   "source": [
    "# 8. Linear Combination And Vectors"
   ]
  },
  {
   "cell_type": "markdown",
   "metadata": {},
   "source": [
    "* Let's circle back to our optimal salary problem from the previous mission. We represented the first offer using the linear function $y = 1000 + 30x$ and the second offer using the linear function $y = 100 + 50x$. We rewrote these functions in general form. Here's what the first function looks like in general form:\n",
    "$30x-y=-1000$\n",
    "Here's what the second function looks like in general form:\n",
    "$50x-y=-100$\n",
    "\n",
    "* To represent both linear functions in a system, we used the following augmented matrix:\n",
    "$\\left[\\begin{array}{rr|r}\n",
    "30 & -1 & -1000 \\\\ \n",
    "50 & -1 & -100\n",
    "\\end{array}\\right]$\n",
    "\n",
    "* We want to know if $\\begin{bmatrix} -1000\\\\ -100 \\end{bmatrix}$ is a linear combination of the vectors $\\begin{bmatrix} 30\\\\ 50 \\end{bmatrix}$ and $\\begin{bmatrix} -1\\\\ 1 \\end{bmatrix}$. To find the solution to this system, we need to find the constants  and  where the following equation is true:\n",
    "\n",
    "$x \\begin{bmatrix} 30\\\\ 50 \\end{bmatrix} + y \\begin{bmatrix} -1\\\\ -1 \\end{bmatrix} = \\begin{bmatrix} -1000\\\\ -100 \\end{bmatrix}$"
   ]
  },
  {
   "cell_type": "markdown",
   "metadata": {},
   "source": [
    "# 9. The Matrix Equation"
   ]
  },
  {
   "cell_type": "markdown",
   "metadata": {},
   "source": [
    "**The matrix equation is the representation of a linear system using only matrices and vectors.**"
   ]
  },
  {
   "cell_type": "markdown",
   "metadata": {},
   "source": [
    "* his augmented matrix is a shorthand representation for the matrix equation:\n",
    "$\\left[\\begin{array}{rr|r}\n",
    "30 & -1 \\\\ \n",
    "50 & -1 \n",
    "\\end{array}\\right] \\begin{bmatrix} x\\\\ y \\end{bmatrix} =  \\begin{bmatrix} -1000\\\\ -100 \\end{bmatrix}$"
   ]
  },
  {
   "cell_type": "markdown",
   "metadata": {},
   "source": [
    "**On the left side, we're multiplying a matrix containing the coefficients with the vector containing the variables. The right side contains the constant values.**"
   ]
  },
  {
   "cell_type": "markdown",
   "metadata": {},
   "source": [
    "* This allows us to work with vectors with any number of elements (instead of just 26, for the number of letters in the English alphabet). We can now introduce the arithmetic representation of the matrix equation:\n",
    "\n",
    "## $A\\vec{x} = \\vec{b}$"
   ]
  },
  {
   "cell_type": "markdown",
   "metadata": {},
   "source": [
    "* where `$A$ represents the coefficient matrix, $\\vec{x}$ represents the solution vector, and $\\vec{b}$ represents the constants`. Note that  $\\vec{b}$ can't be a vector containing all zeroes, also known as the zero factor and represented using $\\vec{0}$."
   ]
  },
  {
   "cell_type": "markdown",
   "metadata": {},
   "source": [
    "In this mission, we built some geometric intuition for vectors and linked the augmented matrix representation of a linear system with the linear combination of vectors representation."
   ]
  }
 ],
 "metadata": {
  "kernelspec": {
   "display_name": "Python 3",
   "language": "python",
   "name": "python3"
  },
  "language_info": {
   "codemirror_mode": {
    "name": "ipython",
    "version": 3
   },
   "file_extension": ".py",
   "mimetype": "text/x-python",
   "name": "python",
   "nbconvert_exporter": "python",
   "pygments_lexer": "ipython3",
   "version": "3.7.3"
  }
 },
 "nbformat": 4,
 "nbformat_minor": 2
}
