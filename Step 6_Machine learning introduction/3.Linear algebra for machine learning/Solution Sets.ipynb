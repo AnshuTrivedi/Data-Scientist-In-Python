{
 "cells": [
  {
   "cell_type": "markdown",
   "metadata": {},
   "source": [
    "# 1. Introduction"
   ]
  },
  {
   "cell_type": "markdown",
   "metadata": {},
   "source": [
    "In this course, we've explored two different ways to find the solution to $A\\vec{x} = \\vec{b}$ when $b$ isn't a vector containing all zeroes $(b \\ne \\vec{0})$. The **first way** we explored was **Gaussian elimination,** which involves using the row operations to transform the augmented representation of a linear system to echelon form and then finally to reduced row echelon form. The **second way** we explored was to **compute the matrix inverse of  and left multiplying both sides of the equation to find .**"
   ]
  },
  {
   "cell_type": "markdown",
   "metadata": {},
   "source": [
    "While we can use these techniques to solve most of the linear systems we'll encounter, we need to learn what to do when:\n",
    "\n",
    "* the solution set for a linear system doesn't exist\n",
    "* the solution set for a linear system isn't just a single vector\n",
    "* $b$ is equal to $\\vec{0}$\n"
   ]
  },
  {
   "cell_type": "markdown",
   "metadata": {},
   "source": [
    "# 2. Inconsistent Systems"
   ]
  },
  {
   "cell_type": "markdown",
   "metadata": {},
   "source": [
    "**Not all systems of equations have a solution and these systems are inconsistent**"
   ]
  },
  {
   "cell_type": "markdown",
   "metadata": {},
   "source": [
    "## TODO:\n",
    "* Use pencil and paper to extract the equations from the augmented matrix $\\left[\\begin{array}{rr|r}\n",
    "8 & 4 & 5 \\\\ \n",
    "4 & 2 & 5\n",
    "\\end{array}\\right]$ and rewrite them in slope-intercept form: $y=mx+b$ \n",
    "* Use numpy.linspace() to generate 1000, evenly spaced values between 0 and 20 and assign to x.\n",
    "* Transform x using the first equation and assign the result to y1.\n",
    "* Transform x using the second equation and assign the result to y2.\n",
    "* Generate 2 line plots on the same subplot, setting the line color of both to \"blue\":\n",
    "   * One with x on the x-axis and y1 on the y-axis.\n",
    "   * One with x on the x-axis and y2 on the y-axis."
   ]
  },
  {
   "cell_type": "code",
   "execution_count": 4,
   "metadata": {},
   "outputs": [
    {
     "data": {
      "image/png": "[encoded data removed]",
      "text/plain": [
       "<Figure size 432x288 with 1 Axes>"
      ]
     },
     "metadata": {
      "needs_background": "light"
     },
     "output_type": "display_data"
    }
   ],
   "source": [
    "import numpy as np \n",
    "import matplotlib.pyplot as plt\n",
    "\n",
    "x=np.linspace(0,20,1000)\n",
    "y1=-2*x+(5/4)\n",
    "y2=-2*x+(5/2)\n",
    "\n",
    "plt.plot(x,y1,c='blue')\n",
    "plt.plot(x,y2,c='blue')\n",
    "plt.show()"
   ]
  },
  {
   "cell_type": "markdown",
   "metadata": {},
   "source": [
    "*  we can tell that the linear system has no solution because both of the lines are parallel and don't intersect. Because both equations have the same slope $(-2)$ but different y-intercept values $(5/4$ and $5/2)$, this should match our intuition."
   ]
  },
  {
   "cell_type": "markdown",
   "metadata": {},
   "source": [
    "# 3. Singular Matrix"
   ]
  },
  {
   "cell_type": "markdown",
   "metadata": {},
   "source": [
    "*  When we're working with a square matrix, one where the number of rows and the number of columns are equal, we can compute the **determinant and if it's equal to 0 then we say that the matrix is singular, or contains no inverse.**"
   ]
  },
  {
   "cell_type": "markdown",
   "metadata": {},
   "source": [
    "# 4. Possible Solutions For Nonhomogenous Systems"
   ]
  },
  {
   "cell_type": "markdown",
   "metadata": {},
   "source": [
    "*  when the `constant vector is not equal to the zero vector`, that system is known as a **nonhomogenous system.**\n",
    "* On the other hand, when the `constant vector is equal to the zero vector`, that system is known as a **homogenous system.**"
   ]
  },
  {
   "cell_type": "markdown",
   "metadata": {},
   "source": [
    "**The distinction exists because homogenous systems `always have a solution,`**"
   ]
  },
  {
   "cell_type": "markdown",
   "metadata": {},
   "source": [
    "### **Square, Nonhomogenous System**"
   ]
  },
  {
   "cell_type": "markdown",
   "metadata": {},
   "source": [
    "**For square, nonhomogenous systems, there are 3 possible solutions:**\n",
    "\n",
    "* no solution\n",
    "* a single solution\n",
    "* infinitely many solutions"
   ]
  },
  {
   "cell_type": "markdown",
   "metadata": {},
   "source": [
    "### **Rectangular, Nonhomogenous System**"
   ]
  },
  {
   "cell_type": "markdown",
   "metadata": {},
   "source": [
    " For a rectangular (nonsquare), nonhomogenous systems, there are 2 possible solutions:\n",
    "\n",
    "* no solution\n",
    "* infinitely many solutions"
   ]
  },
  {
   "cell_type": "markdown",
   "metadata": {},
   "source": [
    "$x_1 = 1 - 3x_3 \\\\ \n",
    "x_2 = 1/2 + x_3$\n",
    "\n",
    "$x_3$ is known as a free variable, because it's allowed to vary freely. You'll notice that both  and  are expressed in terms of $x_3$. This system has infinitely many solutions, because for any real number we plug in for $x_3$, we'll get different values for x_1 and x_2.\n",
    "\n",
    "Said another way, there are infinite solutions to this system because there's an infinite number of values that $x_3$ could be that make this system true. **This set of infinite solutions is known as a `solution space`**. Let's test this using some random examples."
   ]
  },
  {
   "cell_type": "markdown",
   "metadata": {},
   "source": [
    "# 5. Homogenous Systems"
   ]
  },
  {
   "cell_type": "markdown",
   "metadata": {},
   "source": [
    "* We can solve any homogenous system,$A\\vec{x} = 0$, by setting $x$ to the zero vector $\\vec{0}$. This is known as the trivial solution, since it isn't a particularly useful solution for us. `For homogenous systems, we're interested in determining if infinitely many solutions exist or not.`"
   ]
  },
  {
   "cell_type": "markdown",
   "metadata": {},
   "source": [
    "# 6. Summary of Linear Systems"
   ]
  },
  {
   "cell_type": "markdown",
   "metadata": {},
   "source": [
    "**Square vs. Rectangular**\n",
    "\n",
    "When $A$ is a square matrix, we can compute the determinant to determine if there's a solution and the matrix inverse if the determinant isn't equal to $0$. **Unfortunately, computing the determinant and matrix inverse are very computationally intensive and should only be used for low dimensional matrices.** These techniques are incredibly useful when working with small linear systems by hand, however.\n",
    "\n",
    "When $A$ is a rectangular matrix, we're looking to determine **if the system has no solutions or infinitely many solutions using Gaussian elimination.** If the latter, it's common to express the solution space in parametric vector form.\n",
    "\n",
    "**Nonhomogenous vs. Homogenous**\n",
    "\n",
    "When $A$ is nonhomogenous, the linear system can contain zero, one, or infinitely many solutions. However, if  is rectangular and nonhomogenous, it can't contain just a unique solution (there will always be a free variable).\n",
    "\n",
    "When $A$ is homogenous, the linear system always contains the trivial solution (the zero vector). To determine if there's a solution space,**we need to use Gaussian elimination to see if there are any inconsistent equations**. If not, we can express the solution space in parametric form using the free variable."
   ]
  },
  {
   "cell_type": "markdown",
   "metadata": {},
   "source": [
    "In this mission, we explored some linear systems that had no solution set, had a solution set that wasn't a vector, and where $\\vec{b}$  is equal to $\\vec{0}$."
   ]
  }
 ],
 "metadata": {
  "kernelspec": {
   "display_name": "Python 3",
   "language": "python",
   "name": "python3"
  },
  "language_info": {
   "codemirror_mode": {
    "name": "ipython",
    "version": 3
   },
   "file_extension": ".py",
   "mimetype": "text/x-python",
   "name": "python",
   "nbconvert_exporter": "python",
   "pygments_lexer": "ipython3",
   "version": "3.7.3"
  }
 },
 "nbformat": 4,
 "nbformat_minor": 2
}
