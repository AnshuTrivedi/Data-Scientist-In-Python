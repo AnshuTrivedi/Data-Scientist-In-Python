{
 "cells": [
  {
   "cell_type": "markdown",
   "metadata": {},
   "source": [
    "## 1. If Statements"
   ]
  },
  {
   "cell_type": "markdown",
   "metadata": {},
   "source": [
    "* What's the average rating of non-free apps?\n",
    "* What's the average rating of free apps? </br>\n",
    "* What's the average rating of gaming apps?\n",
    "* What's the average rating of non-gaming apps?\n",
    "\n",
    "To answer such questions , we move to conditional statemnets."
   ]
  },
  {
   "cell_type": "markdown",
   "metadata": {},
   "source": [
    "### average rating of free apps?"
   ]
  },
  {
   "cell_type": "code",
   "execution_count": 37,
   "metadata": {},
   "outputs": [
    {
     "name": "stdout",
     "output_type": "stream",
     "text": [
      "[['id', 'track_name', 'size_bytes', 'currency', 'price', 'rating_count_tot', 'rating_count_ver', 'user_rating', 'user_rating_ver', 'ver', 'cont_rating', 'prime_genre', 'sup_devices.num', 'ipadSc_urls.num', 'lang.num', 'vpp_lic'], ['284882215', 'Facebook', '389879808', 'USD', '0.0', '2974676', '212', '3.5', '3.5', '95.0', '4+', 'Social Networking', '37', '1', '29', '1'], ['389801252', 'Instagram', '113954816', 'USD', '0.0', '2161558', '1289', '4.5', '4.0', '10.23', '12+', 'Photo & Video', '37', '0', '29', '1'], ['529479190', 'Clash of Clans', '116476928', 'USD', '0.0', '2130805', '579', '4.5', '4.5', '9.24.12', '9+', 'Games', '38', '5', '18', '1'], ['420009108', 'Temple Run', '65921024', 'USD', '0.0', '1724546', '3842', '4.5', '4.0', '1.6.2', '9+', 'Games', '40', '5', '1', '1']]\n",
      "average rating of free apps is  3.3767258382642997\n"
     ]
    }
   ],
   "source": [
    "opened_file = open('C:/Users/krishna/Desktop/JUPYTE~1/Data quest/Step1I~1/PYTHON~1/AppleStore.csv',encoding='utf-8')\n",
    "from csv import reader\n",
    "read_file = reader(opened_file)\n",
    "apps_data = list(read_file)\n",
    "print(apps_data[:5])  # explore data set , first five rows\n",
    "\n",
    "free_apps_ratings = []\n",
    "for row in apps_data[1:]: \n",
    "    rating = float(row[7])             # ratings,prices are in string format,convert to float\n",
    "    price=float(row[4])\n",
    "    if price==0.0:                                   # if statement\n",
    "        free_apps_ratings.append(rating)\n",
    "avg_rating_free=sum(free_apps_ratings)/len(free_apps_ratings)      \n",
    "\n",
    "print(\"average rating of free apps is \", avg_rating_free)"
   ]
  },
  {
   "cell_type": "markdown",
   "metadata": {},
   "source": [
    "## 2. Booleans"
   ]
  },
  {
   "cell_type": "markdown",
   "metadata": {},
   "source": [
    "* True and False are often called Boolean values or Booleans\n",
    "* if must always be followed by one of the following:\n",
    "   * A Boolean value. \n",
    "   * An expression that evaluates to a Boolean value."
   ]
  },
  {
   "cell_type": "code",
   "execution_count": 38,
   "metadata": {},
   "outputs": [
    {
     "name": "stdout",
     "output_type": "stream",
     "text": [
      "This is free\n"
     ]
    }
   ],
   "source": [
    "a_price = 0\n",
    "if a_price==0:\n",
    "    print('This is free')\n",
    "if a_price==1:\n",
    "    print('This is not free')"
   ]
  },
  {
   "cell_type": "markdown",
   "metadata": {},
   "source": [
    "### 3.  Average Rating of Non-free Apps?"
   ]
  },
  {
   "cell_type": "code",
   "execution_count": 41,
   "metadata": {},
   "outputs": [
    {
     "name": "stdout",
     "output_type": "stream",
     "text": [
      "average rating of non-free apps is  3.720948742438714\n"
     ]
    }
   ],
   "source": [
    "non_free_apps_ratings = []\n",
    "\n",
    "for row in apps_data[1:]:\n",
    "    rating = float(row[7])\n",
    "    price = float(row[4])   \n",
    "    if price != 0.0:\n",
    "        non_free_apps_ratings.append(rating)\n",
    "    \n",
    "avg_rating_non_free = sum(non_free_apps_ratings) / len(non_free_apps_ratings)\n",
    "print(\"average rating of non-free apps is \",avg_rating_non_free)"
   ]
  },
  {
   "cell_type": "markdown",
   "metadata": {},
   "source": [
    "### 4. What's the average rating of non gaming apps?\n"
   ]
  },
  {
   "cell_type": "code",
   "execution_count": 44,
   "metadata": {},
   "outputs": [
    {
     "name": "stdout",
     "output_type": "stream",
     "text": [
      "average rating of non gaming apps is  3.343928035982009\n"
     ]
    }
   ],
   "source": [
    "non_games_ratings=[]\n",
    "for row in apps_data[1:]:\n",
    "    rating=float(row[7])\n",
    "    genre=row[11]\n",
    "    \n",
    "    if genre != 'Games':\n",
    "        non_games_ratings.append(rating)\n",
    "avg_rating_non_games=sum(non_games_ratings)/len(non_games_ratings)\n",
    "print(\"average rating of non gaming apps is \",avg_rating_non_games)"
   ]
  },
  {
   "cell_type": "markdown",
   "metadata": {},
   "source": [
    "## 5. Multiple Conditions\n",
    " * combine two or more conditions together into a single if statement using the and keyword."
   ]
  },
  {
   "cell_type": "code",
   "execution_count": 48,
   "metadata": {},
   "outputs": [
    {
     "name": "stdout",
     "output_type": "stream",
     "text": [
      "average rating of free non gaming apps is  3.18621456364647\n"
     ]
    }
   ],
   "source": [
    "# use multiple conditions to find out the average rating of free gaming apps.\n",
    "\n",
    "# free + gaming apps  , two conditions\n",
    "\n",
    "free_nongames_ratings=[]\n",
    "for row in apps_data[1:]:\n",
    "    rating=float(row[7])\n",
    "    genre=row[11]\n",
    "    price = float(row[4]) \n",
    "    if genre != 'Games' and price==0.0:\n",
    "        free_nongames_ratings.append(rating)\n",
    "avg_rating_free_nongames=sum(free_nongames_ratings)/len(free_nongames_ratings)\n",
    "print(\"average rating of free non gaming apps is \",avg_rating_free_nongames)"
   ]
  },
  {
   "cell_type": "markdown",
   "metadata": {},
   "source": [
    "## 6. The or Operator"
   ]
  },
  {
   "cell_type": "markdown",
   "metadata": {},
   "source": [
    "### using the or operator by computing the average rating of the apps whose genre is either \"Social Networking\" or \"Games\"?"
   ]
  },
  {
   "cell_type": "code",
   "execution_count": 54,
   "metadata": {},
   "outputs": [
    {
     "name": "stdout",
     "output_type": "stream",
     "text": [
      "average rating of the apps whose genre is either 'Social Networking' or 'Games' is  3.655994043186895\n"
     ]
    }
   ],
   "source": [
    "games_social_ratings = []\n",
    "for row in apps_data[1:]:\n",
    "    rating = float(row[7])\n",
    "    genre = row[11]\n",
    "    if genre=='Social Networking' or genre=='Games':\n",
    "        games_social_ratings.append(rating)\n",
    "avg_games_social=sum(games_social_ratings)/len(games_social_ratings)   \n",
    "print(\"average rating of the apps whose genre is either 'Social Networking' or 'Games' is \",avg_games_social)"
   ]
  },
  {
   "cell_type": "markdown",
   "metadata": {},
   "source": [
    "## 7.Combining Logical Operators\n",
    "* What is the average rating of free apps whose genre is either \"Social Networking\" or \"Games\"?\n",
    "* What is the average rating of non-free apps whose genre is either \"Social Networking\" or \"Games\"?"
   ]
  },
  {
   "cell_type": "markdown",
   "metadata": {},
   "source": [
    "### average rating of non-free apps whose genre is either \"Social Networking\" or \"Games\"?"
   ]
  },
  {
   "cell_type": "code",
   "execution_count": 57,
   "metadata": {},
   "outputs": [
    {
     "name": "stdout",
     "output_type": "stream",
     "text": [
      "average rating of non-free apps whose genre is either \"Social Networking\" or \"Games\" is 3.8904235727440146\n"
     ]
    }
   ],
   "source": [
    "nonfree_games_social_ratings=[]\n",
    "for row in apps_data[1:]:\n",
    "    rating=float(row[7])\n",
    "    genre=row[11]\n",
    "    price=float(row[4])\n",
    "    if (genre=='Social Networking' or genre=='Games') and price!=0:\n",
    "        nonfree_games_social_ratings.append(rating)\n",
    "avg_non_free=sum(nonfree_games_social_ratings)/len(nonfree_games_social_ratings)\n",
    "print('average rating of non-free apps whose genre is either \"Social Networking\" or \"Games\" is',avg_non_free)"
   ]
  },
  {
   "cell_type": "markdown",
   "metadata": {},
   "source": [
    "## 8.Comparison Operators"
   ]
  },
  {
   "attachments": {
    "image.png": {
     "image/png": "[encoded data removed]"
    }
   },
   "cell_type": "markdown",
   "metadata": {},
   "source": [
    "![image.png](attachment:image.png)"
   ]
  },
  {
   "cell_type": "markdown",
   "metadata": {},
   "source": [
    "* How many apps have a rating of 4.0 or greater?\n",
    "* What is the average rating of the apps that have a price greater than $9? \n",
    "\n",
    "* How many apps have a price smaller than or equal to $9?\n"
   ]
  },
  {
   "cell_type": "markdown",
   "metadata": {},
   "source": [
    "### average rating of the apps that have a price greater than $9.?"
   ]
  },
  {
   "cell_type": "code",
   "execution_count": 58,
   "metadata": {},
   "outputs": [
    {
     "name": "stdout",
     "output_type": "stream",
     "text": [
      "average rating of the apps that have a price greater than $9 is  178\n"
     ]
    }
   ],
   "source": [
    "ratings=[]\n",
    "for app in apps_data[1:]:\n",
    "    rating=float(app[7])\n",
    "    price=float(app[4])\n",
    "    if price > 9:\n",
    "        ratings.append(rating)\n",
    "avg_rating=sum(ratings)/len(ratings)\n",
    "n_apps_more_9=len(ratings)\n",
    "n_apps_less_9=len(apps_data[1:]) - len(ratings)\n",
    "print('average rating of the apps that have a price greater than $9 is ',n_apps_more_9)"
   ]
  },
  {
   "cell_type": "markdown",
   "metadata": {},
   "source": [
    "## 9.The else Clause"
   ]
  },
  {
   "cell_type": "markdown",
   "metadata": {},
   "source": [
    "* use information from the price column to label each app as \"free\" or \"non-free.\" If the price is equal to 0.0, we want to label the app \"free.\" Otherwise, we want to label it \"non-free.\""
   ]
  },
  {
   "cell_type": "code",
   "execution_count": 59,
   "metadata": {},
   "outputs": [
    {
     "name": "stdout",
     "output_type": "stream",
     "text": [
      "[['id', 'track_name', 'size_bytes', 'currency', 'price', 'rating_count_tot', 'rating_count_ver', 'user_rating', 'user_rating_ver', 'ver', 'cont_rating', 'prime_genre', 'sup_devices.num', 'ipadSc_urls.num', 'lang.num', 'vpp_lic', 'free_or_not'], ['284882215', 'Facebook', '389879808', 'USD', '0.0', '2974676', '212', '3.5', '3.5', '95.0', '4+', 'Social Networking', '37', '1', '29', '1', 'free'], ['389801252', 'Instagram', '113954816', 'USD', '0.0', '2161558', '1289', '4.5', '4.0', '10.23', '12+', 'Photo & Video', '37', '0', '29', '1', 'free'], ['529479190', 'Clash of Clans', '116476928', 'USD', '0.0', '2130805', '579', '4.5', '4.5', '9.24.12', '9+', 'Games', '38', '5', '18', '1', 'free'], ['420009108', 'Temple Run', '65921024', 'USD', '0.0', '1724546', '3842', '4.5', '4.0', '1.6.2', '9+', 'Games', '40', '5', '1', '1', 'free'], ['284035177', 'Pandora - Music & Radio', '130242560', 'USD', '0.0', '1126879', '3594', '4.0', '4.5', '8.4.1', '12+', 'Music', '37', '4', '1', '1', 'free']]\n"
     ]
    }
   ],
   "source": [
    "for app in apps_data[1:]:\n",
    "    price = float(app[4])\n",
    "    if price==0.0:\n",
    "        app.append('free')\n",
    "    else:\n",
    "        app.append('non-free')\n",
    "        \n",
    "apps_data[0].append('free_or_not')\n",
    "print(apps_data[:6])"
   ]
  },
  {
   "cell_type": "markdown",
   "metadata": {},
   "source": [
    "## 10.The elif Clause"
   ]
  },
  {
   "cell_type": "markdown",
   "metadata": {},
   "source": [
    "\n",
    "|price|\tlabel|\n",
    "|---|---|\n",
    "|0|\tfree|\n",
    "|< 20\t|affordable|\n",
    "|20 - 50\t|expensive|\n",
    "|> 50\t|very expensive|"
   ]
  },
  {
   "cell_type": "markdown",
   "metadata": {},
   "source": [
    "* In such condition elif comes to rescue"
   ]
  },
  {
   "cell_type": "code",
   "execution_count": 60,
   "metadata": {},
   "outputs": [
    {
     "name": "stdout",
     "output_type": "stream",
     "text": [
      "[['id', 'track_name', 'size_bytes', 'currency', 'price', 'rating_count_tot', 'rating_count_ver', 'user_rating', 'user_rating_ver', 'ver', 'cont_rating', 'prime_genre', 'sup_devices.num', 'ipadSc_urls.num', 'lang.num', 'vpp_lic', 'free_or_not', 'price_label'], ['284882215', 'Facebook', '389879808', 'USD', '0.0', '2974676', '212', '3.5', '3.5', '95.0', '4+', 'Social Networking', '37', '1', '29', '1', 'free', 'free'], ['389801252', 'Instagram', '113954816', 'USD', '0.0', '2161558', '1289', '4.5', '4.0', '10.23', '12+', 'Photo & Video', '37', '0', '29', '1', 'free', 'free'], ['529479190', 'Clash of Clans', '116476928', 'USD', '0.0', '2130805', '579', '4.5', '4.5', '9.24.12', '9+', 'Games', '38', '5', '18', '1', 'free', 'free'], ['420009108', 'Temple Run', '65921024', 'USD', '0.0', '1724546', '3842', '4.5', '4.0', '1.6.2', '9+', 'Games', '40', '5', '1', '1', 'free', 'free'], ['284035177', 'Pandora - Music & Radio', '130242560', 'USD', '0.0', '1126879', '3594', '4.0', '4.5', '8.4.1', '12+', 'Music', '37', '4', '1', '1', 'free', 'free']]\n"
     ]
    }
   ],
   "source": [
    "for app in apps_data[1:]:\n",
    "    price = float(app[4])\n",
    "    if price==0.0:\n",
    "        app.append('free')\n",
    "    elif price>0 and price<20:\n",
    "        app.append('affordable')\n",
    "    elif price>=20 and price<50:\n",
    "        app.append('expensive')\n",
    "    elif price>=50:\n",
    "         app.append('very expensive')\n",
    "apps_data[0].append('price_label')\n",
    "print(apps_data[:6])"
   ]
  },
  {
   "cell_type": "markdown",
   "metadata": {},
   "source": [
    "### In this mission, we learned to answer more granular questions by combining conditional statements and clauses (if, else, elif) with logical operators (and, or) and comparison operators (==, !=, >, >=, <, <=)."
   ]
  },
  {
   "cell_type": "code",
   "execution_count": null,
   "metadata": {},
   "outputs": [],
   "source": []
  }
 ],
 "metadata": {
  "kernelspec": {
   "display_name": "Python 3",
   "language": "python",
   "name": "python3"
  },
  "language_info": {
   "codemirror_mode": {
    "name": "ipython",
    "version": 3
   },
   "file_extension": ".py",
   "mimetype": "text/x-python",
   "name": "python",
   "nbconvert_exporter": "python",
   "pygments_lexer": "ipython3",
   "version": "3.7.3"
  }
 },
 "nbformat": 4,
 "nbformat_minor": 2
}
