{
 "cells": [
  {
   "cell_type": "markdown",
   "metadata": {},
   "source": [
    "## 1.Storing Data"
   ]
  },
  {
   "cell_type": "markdown",
   "metadata": {},
   "source": [
    "* If we wanted to save the data from the table, we could use `two lists` or maybe a `list of lists.`"
   ]
  },
  {
   "cell_type": "code",
   "execution_count": 2,
   "metadata": {},
   "outputs": [],
   "source": [
    "content_ratings=['4+','9+','12+','17+']\n",
    "numbers=[4433,987,1155,622]\n",
    "content_rating_numbers=[['4+','9+','12+','17+'],[4433,987,1155,622]]"
   ]
  },
  {
   "cell_type": "markdown",
   "metadata": {},
   "source": [
    "## 2.Dictionaries"
   ]
  },
  {
   "cell_type": "markdown",
   "metadata": {},
   "source": [
    "* Mapped each content rating to its corresponding number by following an `index:value` pattern."
   ]
  },
  {
   "cell_type": "code",
   "execution_count": 3,
   "metadata": {},
   "outputs": [
    {
     "name": "stdout",
     "output_type": "stream",
     "text": [
      "{'4+': 4433, '9+': 987, '12+': 1155, '17+': 622}\n"
     ]
    }
   ],
   "source": [
    "content_ratings={'4+':4433,'9+':987,'12+':1155,'17+':622}\n",
    "print(content_ratings)"
   ]
  },
  {
   "cell_type": "markdown",
   "metadata": {},
   "source": [
    "## 3.  Indexing\n",
    "* `variable_name[index]`"
   ]
  },
  {
   "cell_type": "code",
   "execution_count": 6,
   "metadata": {},
   "outputs": [
    {
     "data": {
      "text/plain": [
       "622"
      ]
     },
     "execution_count": 6,
     "metadata": {},
     "output_type": "execute_result"
    }
   ],
   "source": [
    "content_ratings['17+']"
   ]
  },
  {
   "cell_type": "markdown",
   "metadata": {},
   "source": [
    "## 4. Alternative Way of Creating a Dictionary\n",
    "* `dictionary_name[index] = value`"
   ]
  },
  {
   "cell_type": "code",
   "execution_count": 8,
   "metadata": {},
   "outputs": [
    {
     "data": {
      "text/plain": [
       "{'4+': 4433, '9+': 987, '12+': 1155, '17+': 622}"
      ]
     },
     "execution_count": 8,
     "metadata": {},
     "output_type": "execute_result"
    }
   ],
   "source": [
    "content_ratings={}\n",
    "content_ratings['4+']=4433\n",
    "content_ratings['9+']=987\n",
    "content_ratings['12+']=1155\n",
    "content_ratings['17+']=622\n",
    "over_12_n_apps=content_ratings['12+']\n",
    "content_ratings"
   ]
  },
  {
   "cell_type": "markdown",
   "metadata": {},
   "source": [
    "## 5.Key-Value Pairs"
   ]
  },
  {
   "attachments": {
    "image.png": {
     "image/png": "[encoded data removed]"
    }
   },
   "cell_type": "markdown",
   "metadata": {},
   "source": [
    "![image.png](attachment:image.png)"
   ]
  },
  {
   "cell_type": "code",
   "execution_count": 10,
   "metadata": {},
   "outputs": [
    {
     "data": {
      "text/plain": [
       "{'key_1': 'first_value',\n",
       " 'key_2': 2,\n",
       " 'key_3': 3.14,\n",
       " 'key_4': True,\n",
       " 'key_5': [4, 2, 1],\n",
       " 'key_6': {'inner_key': 6}}"
      ]
     },
     "execution_count": 10,
     "metadata": {},
     "output_type": "execute_result"
    }
   ],
   "source": [
    "d_1={'key_1': 'first_value', \n",
    " 'key_2': 2,\n",
    " 'key_3': 3.14,                          # value can be int,float,string,dict,list\n",
    " 'key_4': True,\n",
    " 'key_5': [4,2,1],\n",
    " 'key_6': {'inner_key' : 6}}\n",
    "d_1"
   ]
  },
  {
   "cell_type": "markdown",
   "metadata": {},
   "source": [
    "## 6.Checking for Membership\n",
    "An expression of the form **a_value in a_dictionary** always returns a Boolean value:\n",
    "\n",
    "* True is returned if a_value exists in a_dictionary as a dictionary key.\n",
    "* False is returned if a_value doesn't exist in a_dictionary as a dictionary key."
   ]
  },
  {
   "cell_type": "code",
   "execution_count": 12,
   "metadata": {},
   "outputs": [
    {
     "name": "stdout",
     "output_type": "stream",
     "text": [
      "It exists\n"
     ]
    }
   ],
   "source": [
    "content_ratings = {'4+': 4433, '9+': 987, '12+': 1155, '17+': 622}\n",
    "is_in_dictionary_1= '9+' in content_ratings\n",
    "is_in_dictionary_2=987 in content_ratings\n",
    "if '17+' in content_ratings:\n",
    "    result=\"It exists\"\n",
    "print(result)"
   ]
  },
  {
   "cell_type": "markdown",
   "metadata": {},
   "source": [
    "## 7. Counting with Dictionaries"
   ]
  },
  {
   "cell_type": "code",
   "execution_count": 17,
   "metadata": {},
   "outputs": [
    {
     "name": "stdout",
     "output_type": "stream",
     "text": [
      "[['id', 'track_name', 'size_bytes', 'currency', 'price', 'rating_count_tot', 'rating_count_ver', 'user_rating', 'user_rating_ver', 'ver', 'cont_rating', 'prime_genre', 'sup_devices.num', 'ipadSc_urls.num', 'lang.num', 'vpp_lic'], ['284882215', 'Facebook', '389879808', 'USD', '0.0', '2974676', '212', '3.5', '3.5', '95.0', '4+', 'Social Networking', '37', '1', '29', '1']]\n",
      "{'4+': 4433, '9+': 987, '12+': 1155, '17+': 622}\n"
     ]
    }
   ],
   "source": [
    "opened_file = open('C:/Users/krishna/Desktop/JUPYTE~1/Data quest/Step1I~1/PYTHON~1/AppleStore.csv',encoding='utf-8')\n",
    "from csv import reader\n",
    "read_file = reader(opened_file)\n",
    "apps_data = list(read_file)\n",
    "print(apps_data[:2])\n",
    "\n",
    "content_ratings={'4+': 0, '9+': 0, '12+': 0, '17+': 0}\n",
    "\n",
    "for app in apps_data[1:]:\n",
    "    c_rating=app[10]\n",
    "    if c_rating in content_ratings:\n",
    "        content_ratings[c_rating]+=1\n",
    "print(content_ratings)"
   ]
  },
  {
   "cell_type": "markdown",
   "metadata": {},
   "source": [
    "## 8. Finding the Unique Values"
   ]
  },
  {
   "cell_type": "markdown",
   "metadata": {},
   "source": [
    "Previously, we created the dictionary {'4+': 0, '9+': 0, '12+': 0, '17+': 0} before we looped over the data set to count the occurrence of each content rating. Unfortunately, this approach requires us to know beforehand the unique values we want to count.\n",
    "\n",
    "Let's say we didn't know what the unique content ratings are. This means that we don't have enough information to create the dictionary {'4+': 0, '9+': 0, '12+': 0, '17+': 0}. We need to devise a way to extract this information."
   ]
  },
  {
   "cell_type": "code",
   "execution_count": 18,
   "metadata": {},
   "outputs": [
    {
     "name": "stdout",
     "output_type": "stream",
     "text": [
      "{'4+': 4433, '12+': 1155, '9+': 987, '17+': 622}\n"
     ]
    }
   ],
   "source": [
    "\n",
    "content_ratings={}\n",
    "\n",
    "for app in apps_data[1:]:\n",
    "    c_rating=app[10]\n",
    "    if c_rating in content_ratings:\n",
    "        content_ratings[c_rating] +=1\n",
    "    else:\n",
    "        content_ratings[c_rating]=1\n",
    "print(content_ratings)"
   ]
  },
  {
   "cell_type": "markdown",
   "metadata": {},
   "source": [
    "## 9. Proportions and Percentages"
   ]
  },
  {
   "cell_type": "markdown",
   "metadata": {},
   "source": [
    "* What proportion of apps have a content rating of 4+?\n",
    "* What percentage of apps have a content rating of 17+?\n",
    "* What percentage of apps can a 15-year-old download?"
   ]
  },
  {
   "cell_type": "code",
   "execution_count": 21,
   "metadata": {},
   "outputs": [
    {
     "name": "stdout",
     "output_type": "stream",
     "text": [
      "{'Social Networking': 167, 'Photo & Video': 349, 'Games': 3862, 'Music': 138, 'Reference': 64, 'Health & Fitness': 180, 'Weather': 72, 'Utilities': 248, 'Travel': 81, 'Shopping': 122, 'News': 75, 'Navigation': 46, 'Lifestyle': 144, 'Entertainment': 535, 'Food & Drink': 63, 'Sports': 114, 'Book': 112, 'Finance': 104, 'Education': 453, 'Productivity': 178, 'Business': 57, 'Catalogs': 10, 'Medical': 23}\n"
     ]
    }
   ],
   "source": [
    "genre_counting={}\n",
    "\n",
    "for app in apps_data[1:]:\n",
    "    genre=app[11]\n",
    "    if genre in genre_counting:\n",
    "        genre_counting[genre]+=1\n",
    "    else:\n",
    "        genre_counting[genre]=1\n",
    "print(genre_counting)    "
   ]
  },
  {
   "cell_type": "markdown",
   "metadata": {},
   "source": [
    "## 10.Looping over Dictionaries"
   ]
  },
  {
   "cell_type": "code",
   "execution_count": 24,
   "metadata": {},
   "outputs": [
    {
     "name": "stdout",
     "output_type": "stream",
     "text": [
      "What percentage of apps can a 15-year-old download: 91.35751007364179\n",
      "What percentage of apps have a content rating of 17+ is  8.642489926358204\n"
     ]
    }
   ],
   "source": [
    "# What percentage of apps can a 15-year-old download?\n",
    "\n",
    "content_ratings = {'4+': 4433, '12+': 1155, '9+': 987, '17+': 622}\n",
    "total_number_of_apps = 7197\n",
    "for key in content_ratings:\n",
    "    content_ratings[key] /=total_number_of_apps\n",
    "    content_ratings[key] *=100\n",
    "percentage_17_plus=content_ratings['17+']\n",
    "percentage_15_allowed=content_ratings['4+']+content_ratings['12+'] + content_ratings['9+']\n",
    "print(\"What percentage of apps can a 15-year-old download:\",percentage_15_allowed)\n",
    "print(\"What percentage of apps have a content rating of 17+ is \",percentage_17_plus)"
   ]
  },
  {
   "cell_type": "markdown",
   "metadata": {},
   "source": [
    "## 11. Keeping the Dictionaries Separate"
   ]
  },
  {
   "cell_type": "markdown",
   "metadata": {},
   "source": [
    "we might want to have three separate dictionaries: one storing frequencies, another storing proportions, and another storing percentages."
   ]
  },
  {
   "cell_type": "code",
   "execution_count": 28,
   "metadata": {},
   "outputs": [
    {
     "name": "stdout",
     "output_type": "stream",
     "text": [
      "{'4+': 0.6159510907322495, '12+': 0.16048353480616923, '9+': 0.13714047519799916, '17+': 0.08642489926358204}\n",
      "{'4+': 61.595109073224954, '12+': 16.04835348061692, '9+': 13.714047519799916, '17+': 8.642489926358204}\n"
     ]
    }
   ],
   "source": [
    "content_ratings = {'4+': 4433, '12+': 1155, '9+': 987, '17+': 622}\n",
    "total_number_of_apps = 7197\n",
    "c_ratings_proportions={}\n",
    "c_ratings_percentages={}\n",
    "for key in content_ratings:\n",
    "    c_ratings_proportions[key]=content_ratings[key]/total_number_of_apps\n",
    "    c_ratings_percentages[key]=c_ratings_proportions[key]*100\n",
    "print(c_ratings_proportions)\n",
    "print(c_ratings_percentages)"
   ]
  },
  {
   "cell_type": "markdown",
   "metadata": {},
   "source": [
    "## 12.. Frequency Tables for Numerical Columns"
   ]
  },
  {
   "cell_type": "markdown",
   "metadata": {},
   "source": [
    "* Creating frequency tables for certain columns may result in creating lengthy dictionaries because of the large number of unique values. \n",
    "* A lengthy frequency table is difficult to analyze. The lengthier the table, the harder it becomes to see any patterns.\n",
    "* Using intervals helps us segment the data into groups, which eases analysis. "
   ]
  },
  {
   "cell_type": "code",
   "execution_count": 30,
   "metadata": {},
   "outputs": [
    {
     "name": "stdout",
     "output_type": "stream",
     "text": [
      "589824.0\n",
      "4025969664.0\n"
     ]
    }
   ],
   "source": [
    "# finding min max values to decide interval\n",
    "data_sizes=[]\n",
    "for row in apps_data[1:]:\n",
    "    size=float(row[2])\n",
    "    data_sizes.append(size)\n",
    "min_size=min(data_sizes)\n",
    "max_size=max(data_sizes)\n",
    "print(min_size)\n",
    "print(max_size)"
   ]
  },
  {
   "cell_type": "markdown",
   "metadata": {},
   "source": [
    "## 13. Filtering for the Intervals"
   ]
  },
  {
   "cell_type": "markdown",
   "metadata": {},
   "source": [
    "We want to store the frequency table as a dictionary. We begin by creating a dictionary with the intervals as dictionary keys and frequencies as dictionary values (we initialize all frequencies with zero):"
   ]
  },
  {
   "cell_type": "code",
   "execution_count": 31,
   "metadata": {},
   "outputs": [],
   "source": [
    "user_ratings_freq = {'0 - 10000': 0, '10000 - 100000': 0, '100000 - 500000': 0,\n",
    "                    '500000 - 1000000': 0, '1000000+': 0}\n",
    "\n",
    "for row in apps_data[1:]:\n",
    "    user_ratings = int(row[5])\n",
    "    \n",
    "    if user_ratings <= 10000:\n",
    "        user_ratings_freq['0 - 10000'] += 1\n",
    "        \n",
    "    elif 10000 < user_ratings <= 100000:\n",
    "        user_ratings_freq['10000 - 100000'] += 1\n",
    "        \n",
    "    elif 100000 < user_ratings <= 500000:\n",
    "        user_ratings_freq['100000 - 500000'] += 1\n",
    "        \n",
    "    elif 500000 < user_ratings <= 1000000:\n",
    "        user_ratings_freq['500000 - 1000000'] += 1\n",
    "        \n",
    "    elif user_ratings > 1000000:\n",
    "        user_ratings_freq['1000000+'] += 1\n"
   ]
  },
  {
   "cell_type": "markdown",
   "metadata": {},
   "source": [
    "In this mission, we learned about dictionaries and focused on how to use them to build frequency tables. Frequency tables are common in data science practice"
   ]
  }
 ],
 "metadata": {
  "kernelspec": {
   "display_name": "Python 3",
   "language": "python",
   "name": "python3"
  },
  "language_info": {
   "codemirror_mode": {
    "name": "ipython",
    "version": 3
   },
   "file_extension": ".py",
   "mimetype": "text/x-python",
   "name": "python",
   "nbconvert_exporter": "python",
   "pygments_lexer": "ipython3",
   "version": "3.7.3"
  }
 },
 "nbformat": 4,
 "nbformat_minor": 2
}
