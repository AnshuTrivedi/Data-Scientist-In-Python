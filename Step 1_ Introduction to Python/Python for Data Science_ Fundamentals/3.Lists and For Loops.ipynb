{
 "cells": [
  {
   "cell_type": "markdown",
   "metadata": {},
   "source": [
    "## In this mission, we learned:\n",
    "\n",
    "## How to read in a large data set as a list of lists\n",
    "## How to use lists and for loops to analyze a large data set\n"
   ]
  },
  {
   "cell_type": "markdown",
   "metadata": {},
   "source": [
    "| track_name | Price | currency |rating_count_tot|user_rating|\n",
    "| --- | --- | --- |---|---|\n",
    "| Facebook | 0.0 | USD |2974676|3.5|\n",
    "|Instagram|0.0|\tUSD|\t2161558|\t4.5|\n",
    "|Clash of Clans|\t0.0\t|USD|\t2130805|\t4.5|\n",
    "|Temple Run|\t0.0\t|USD|\t1724546|\t4.5|\n",
    "|Pandora - Music & Radio|\t0.0\t|USD\t|1126879|\t4.0|"
   ]
  },
  {
   "cell_type": "markdown",
   "metadata": {},
   "source": [
    "* Each value in the table is a **data point**. \n",
    "* A collection of data points make up a **data set.**"
   ]
  },
  {
   "cell_type": "markdown",
   "metadata": {},
   "source": [
    "## 1. List\n",
    "```The text \"Facebook\" as a string\n",
    "The price 0.0 as a float\n",
    "The text \"USD\" as a string\n",
    "The rating count 2,974,676 as an integer\n",
    "The user rating 3.5 as a float\n",
    "Creating a variable for each data point in our data set would be a cumbersome process.```  **Fortunately, we can store data more efficiently using lists.**"
   ]
  },
  {
   "cell_type": "code",
   "execution_count": 5,
   "metadata": {},
   "outputs": [],
   "source": [
    "row_2=['Instagram',0.0,'USD',2161558,4.5]\n",
    "row_3=['Clash of Clans',0.0,'USD',2130805,4.5]"
   ]
  },
  {
   "cell_type": "markdown",
   "metadata": {},
   "source": [
    "## 2. Indexing\n",
    "* Each element (data point) in a list has a specific number associated with it, called an `index number`. The indexing always `starts at 0`."
   ]
  },
  {
   "attachments": {
    "image.png": {
     "image/png": "[encoded data removed]"
    }
   },
   "cell_type": "markdown",
   "metadata": {},
   "source": [
    "![image.png](attachment:image.png)"
   ]
  },
  {
   "cell_type": "code",
   "execution_count": 6,
   "metadata": {},
   "outputs": [],
   "source": [
    "row_1 = ['Facebook', 0.0, 'USD', 2974676, 3.5]\n",
    "row_2 = ['Instagram', 0.0, 'USD', 2161558, 4.5]\n",
    "row_3 = ['Clash of Clans', 0.0, 'USD', 2130805, 4.5]\n",
    "ratings_1=row_1[3]\n",
    "ratings_2=row_2[3]\n",
    "ratings_3=row_3[3]\n",
    "total=ratings_1 + ratings_2 + ratings_3\n",
    "average=total/3"
   ]
  },
  {
   "cell_type": "markdown",
   "metadata": {},
   "source": [
    "## 3.  Negative Indexing\n",
    "* Positive indexing: the **first element has the index number 0**, the second element has the index number 1, and so on.\n",
    "* Negative indexing: the **last element has the index number -1,** the second to last element has the index number -2, and so on."
   ]
  },
  {
   "cell_type": "code",
   "execution_count": 7,
   "metadata": {},
   "outputs": [
    {
     "name": "stdout",
     "output_type": "stream",
     "text": [
      "3.5\n"
     ]
    }
   ],
   "source": [
    "print(row_1[-1])"
   ]
  },
  {
   "attachments": {
    "image.png": {
     "image/png": "[encoded data removed]"
    }
   },
   "cell_type": "markdown",
   "metadata": {},
   "source": [
    "![image.png](attachment:image.png)"
   ]
  },
  {
   "cell_type": "markdown",
   "metadata": {},
   "source": [
    "## 4. Retrieving Multiple List Elements"
   ]
  },
  {
   "cell_type": "code",
   "execution_count": 9,
   "metadata": {},
   "outputs": [
    {
     "name": "stdout",
     "output_type": "stream",
     "text": [
      "4.0\n"
     ]
    }
   ],
   "source": [
    "# retrieved the first, fourth, and last list elements to isolate the rating data.\n",
    "\n",
    "row_1 = ['Facebook', 0.0, 'USD', 2974676, 3.5]\n",
    "row_2 = ['Instagram', 0.0, 'USD', 2161558, 4.5]\n",
    "row_3 = ['Clash of Clans', 0.0, 'USD', 2130805, 4.5]\n",
    "row_4 = ['Temple Run', 0.0, 'USD', 1724546, 4.5]\n",
    "row_5 = ['Pandora - Music & Radio', 0.0, 'USD', 1126879, 4.0]\n",
    "fb_rating_data=[row_1[0],row_1[-2],row_1[-1]]\n",
    "insta_rating_data=[row_2[0],row_2[-2],row_2[-1]]\n",
    "pandora_rating_data=[row_5[0],row_5[-2],row_5[-1]]\n",
    "avg_rating=(row_1[-1] + row_2[-1] + row_5[-1])/3\n",
    "print(avg_rating)"
   ]
  },
  {
   "cell_type": "markdown",
   "metadata": {},
   "source": [
    "## 5. List Slicing\n",
    "* process of **selecting a part of a list** is called list slicing.\n",
    "* syntax `a_list[m:n]`, where:\n",
    "* m represents the index number of the first element of the slice; and\n",
    "* n represents the index number of the last element of the slice **plus one** "
   ]
  },
  {
   "cell_type": "markdown",
   "metadata": {},
   "source": [
    "* a_list[:x] when we want to select the `first x elements`.\n",
    "* a_list[-x:] when we want to select the `last x elements.`"
   ]
  },
  {
   "cell_type": "code",
   "execution_count": 14,
   "metadata": {},
   "outputs": [
    {
     "name": "stdout",
     "output_type": "stream",
     "text": [
      "['Facebook', 0.0, 'USD', 2974676]\n",
      "['USD', 2974676, 3.5]\n",
      "['USD', 1126879]\n"
     ]
    }
   ],
   "source": [
    "row_1 = ['Facebook', 0.0, 'USD', 2974676, 3.5]\n",
    "row_2 = ['Instagram', 0.0, 'USD', 2161558, 4.5]\n",
    "row_3 = ['Clash of Clans', 0.0, 'USD', 2130805, 4.5]\n",
    "row_4 = ['Temple Run', 0.0, 'USD', 1724546, 4.5]\n",
    "row_5 = ['Pandora - Music & Radio', 0.0, 'USD', 1126879, 4.0]\n",
    "first_4_fb=row_1[0:4]\n",
    "last_3_fb=row_1[-3:]\n",
    "pandora_3_4=row_5[2:4]\n",
    "print(first_4_fb)\n",
    "print(last_3_fb)\n",
    "print(pandora_3_4)"
   ]
  },
  {
   "cell_type": "markdown",
   "metadata": {},
   "source": [
    "## 6. List of Lists"
   ]
  },
  {
   "cell_type": "markdown",
   "metadata": {},
   "source": [
    "*  introduced **lists as a better alternative** to using one variable per data point, instead creating variable for each data      point separately.\n",
    "* When no of rows are large then list of lists comes to rescue.\n",
    "* `list[x][x1]` , where x is index for list and x1 is index to access list element."
   ]
  },
  {
   "cell_type": "code",
   "execution_count": 2,
   "metadata": {},
   "outputs": [
    {
     "name": "stdout",
     "output_type": "stream",
     "text": [
      "[['Facebook', 0.0, 'USD', 2974676, 3.5], ['Instagram', 0.0, 'USD', 2161558, 4.5], ['Clash of Clans', 0.0, 'USD', 2130805, 4.5], ['Temple Run', 0.0, 'USD', 1724546, 4.5], ['Pandora - Music & Radio', 0.0, 'USD', 1126879, 4.0]]\n"
     ]
    }
   ],
   "source": [
    "row_1 = ['Facebook', 0.0, 'USD', 2974676, 3.5]\n",
    "row_2 = ['Instagram', 0.0, 'USD', 2161558, 4.5]\n",
    "row_3 = ['Clash of Clans', 0.0, 'USD', 2130805, 4.5]\n",
    "row_4 = ['Temple Run', 0.0, 'USD', 1724546, 4.5]\n",
    "row_5 = ['Pandora - Music & Radio', 0.0, 'USD', 1126879, 4.0]\n",
    "\n",
    "# list of lists\n",
    "app_data_set=[row_1,row_2,row_3,row_4,row_5]\n",
    "print(app_data_set)\n",
    "\n",
    "avg_rating=(app_data_set[0][-1] + app_data_set[1][-1] +app_data_set[2][-1]+app_data_set[3][-1]+app_data_set[4][-1])/5"
   ]
  },
  {
   "cell_type": "markdown",
   "metadata": {},
   "source": [
    "## 7. Opening a File\n",
    "* open()\n",
    "* reader()\n",
    "* convert to list using list()"
   ]
  },
  {
   "cell_type": "code",
   "execution_count": 8,
   "metadata": {},
   "outputs": [
    {
     "name": "stdout",
     "output_type": "stream",
     "text": [
      "7198\n",
      "['id', 'track_name', 'size_bytes', 'currency', 'price', 'rating_count_tot', 'rating_count_ver', 'user_rating', 'user_rating_ver', 'ver', 'cont_rating', 'prime_genre', 'sup_devices.num', 'ipadSc_urls.num', 'lang.num', 'vpp_lic']\n",
      "[['284882215', 'Facebook', '389879808', 'USD', '0.0', '2974676', '212', '3.5', '3.5', '95.0', '4+', 'Social Networking', '37', '1', '29', '1'], ['389801252', 'Instagram', '113954816', 'USD', '0.0', '2161558', '1289', '4.5', '4.0', '10.23', '12+', 'Photo & Video', '37', '0', '29', '1']]\n"
     ]
    }
   ],
   "source": [
    "from csv import reader\n",
    "opened_file=open('C:/Users/krishna/Desktop/JUPYTE~1/Data quest/Step1I~1/PYTHON~1/AppleStore.csv',encoding='utf-8')\n",
    "read_file=reader(opened_file)\n",
    "apps_data=list(read_file)     \n",
    "print(len(apps_data))\n",
    "print(apps_data[0])\n",
    "print(apps_data[1:3])"
   ]
  },
  {
   "cell_type": "markdown",
   "metadata": {},
   "source": [
    "## 8.Repetitive Processes"
   ]
  },
  {
   "cell_type": "code",
   "execution_count": 10,
   "metadata": {},
   "outputs": [
    {
     "data": {
      "text/plain": [
       "'Our intermediate goal is to use this new technique to compute the average rating for our five rows above, and our final goal\\nis to compute the average rating for our data set with 7,197 rows.'"
      ]
     },
     "execution_count": 10,
     "metadata": {},
     "output_type": "execute_result"
    }
   ],
   "source": [
    "'''Our intermediate goal is to use this new technique to compute the average rating for our five rows above, and our final goal\n",
    "is to compute the average rating for our data set with 7,197 rows.'''\n"
   ]
  },
  {
   "cell_type": "code",
   "execution_count": 11,
   "metadata": {},
   "outputs": [
    {
     "name": "stdout",
     "output_type": "stream",
     "text": [
      "['Facebook', 0.0, 'USD', 2974676, 3.5]\n",
      "['Instagram', 0.0, 'USD', 2161558, 4.5]\n",
      "['Clash of Clans', 0.0, 'USD', 2130805, 4.5]\n",
      "['Temple Run', 0.0, 'USD', 1724546, 4.5]\n",
      "['Pandora - Music & Radio', 0.0, 'USD', 1126879, 4.0]\n"
     ]
    }
   ],
   "source": [
    "row_1 = ['Facebook', 0.0, 'USD', 2974676, 3.5]\n",
    "row_2 = ['Instagram', 0.0, 'USD', 2161558, 4.5]\n",
    "row_3 = ['Clash of Clans', 0.0, 'USD', 2130805, 4.5]\n",
    "row_4 = ['Temple Run', 0.0, 'USD', 1724546, 4.5]\n",
    "row_5 = ['Pandora - Music & Radio', 0.0, 'USD', 1126879, 4.0]\n",
    "\n",
    "app_data_set = [row_1, row_2, row_3, row_4, row_5]\n",
    "for each_list in app_data_set:\n",
    "    print(each_list)"
   ]
  },
  {
   "cell_type": "markdown",
   "metadata": {},
   "source": [
    "## 9.For Loops\n",
    "* `for some_variable in some_list:`, this technique is known as a for loop."
   ]
  },
  {
   "attachments": {
    "image.png": {
     "image/png": "[encoded data removed]"
    }
   },
   "cell_type": "markdown",
   "metadata": {},
   "source": [
    "![image.png](attachment:image.png)"
   ]
  },
  {
   "cell_type": "markdown",
   "metadata": {},
   "source": [
    "**The indented code in the body gets executed the same number of times as elements in the iterable variable**"
   ]
  },
  {
   "cell_type": "code",
   "execution_count": 13,
   "metadata": {},
   "outputs": [
    {
     "name": "stdout",
     "output_type": "stream",
     "text": [
      "4.2\n"
     ]
    }
   ],
   "source": [
    "row_1 = ['Facebook', 0.0, 'USD', 2974676, 3.5]\n",
    "row_2 = ['Instagram', 0.0, 'USD', 2161558, 4.5]\n",
    "row_3 = ['Clash of Clans', 0.0, 'USD', 2130805, 4.5]\n",
    "row_4 = ['Temple Run', 0.0, 'USD', 1724546, 4.5]\n",
    "row_5 = ['Pandora - Music & Radio', 0.0, 'USD', 1126879, 4.0]\n",
    "\n",
    "app_data_set = [row_1, row_2, row_3, row_4, row_5]\n",
    "rating_sum=0\n",
    "for each_row in app_data_set:\n",
    "    rating=each_row[-1]\n",
    "    rating_sum +=rating\n",
    "avg_rating=rating_sum/5\n",
    "print(avg_rating)"
   ]
  },
  {
   "cell_type": "markdown",
   "metadata": {},
   "source": [
    "## 10. The Average App Rating"
   ]
  },
  {
   "cell_type": "code",
   "execution_count": 17,
   "metadata": {},
   "outputs": [
    {
     "name": "stdout",
     "output_type": "stream",
     "text": [
      "3.526955675976101\n"
     ]
    }
   ],
   "source": [
    "opened_file = open('AppleStore.csv',encoding='utf-8')\n",
    "from csv import reader\n",
    "read_file = reader(opened_file)\n",
    "apps_data = list(read_file)\n",
    "rating_sum=0                                # sum=0\n",
    "for each_row in apps_data[1:]:\n",
    "    rating=float(each_row[7])\n",
    "    rating_sum +=rating\n",
    "avg_rating=rating_sum/7197\n",
    "print(avg_rating)"
   ]
  },
  {
   "cell_type": "markdown",
   "metadata": {},
   "source": [
    "## 11.Alternative Way to Compute an Average"
   ]
  },
  {
   "cell_type": "code",
   "execution_count": 20,
   "metadata": {},
   "outputs": [
    {
     "name": "stdout",
     "output_type": "stream",
     "text": [
      "3.526955675976101\n"
     ]
    }
   ],
   "source": [
    "#We initialize an empty list.\n",
    "#We start looping over our data set and extract the ratings.\n",
    "#We append the ratings to the empty list we created at step one.\n",
    "opened_file = open('AppleStore.csv',encoding='utf-8')\n",
    "from csv import reader\n",
    "read_file = reader(opened_file)\n",
    "apps_data = list(read_file)\n",
    "all_ratings=[]                                          # create empty list\n",
    "for eachrow in apps_data[1:]:\n",
    "    rating=float(eachrow[7])\n",
    "    all_ratings.append(rating)\n",
    "    sum(all_ratings)\n",
    "avg_rating=sum(all_ratings)/len(all_ratings)\n",
    "print(avg_rating)"
   ]
  }
 ],
 "metadata": {
  "kernelspec": {
   "display_name": "Python 3",
   "language": "python",
   "name": "python3"
  },
  "language_info": {
   "codemirror_mode": {
    "name": "ipython",
    "version": 3
   },
   "file_extension": ".py",
   "mimetype": "text/x-python",
   "name": "python",
   "nbconvert_exporter": "python",
   "pygments_lexer": "ipython3",
   "version": "3.7.3"
  }
 },
 "nbformat": 4,
 "nbformat_minor": 2
}
