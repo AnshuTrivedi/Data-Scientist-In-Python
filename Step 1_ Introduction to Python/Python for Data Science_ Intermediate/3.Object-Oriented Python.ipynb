{
 "cells": [
  {
   "cell_type": "markdown",
   "metadata": {},
   "source": [
    "# 1. Introduction"
   ]
  },
  {
   "cell_type": "markdown",
   "metadata": {},
   "source": [
    "* Procedural Programming,its simplest definition, procedural programming involves writing code in a number of sequential steps — and sometimes we combine these steps into commands called functions."
   ]
  },
  {
   "cell_type": "markdown",
   "metadata": {},
   "source": [
    "In OOP, objects have types, but instead of \"type\" we use the word class. So far, we've been using the word \"type\" to describe different variables:\n",
    "\n",
    "* String type\n",
    "* List type\n",
    "* Dictionary type\n",
    "\n",
    "Technically, the correct name for each of these is:\n",
    "\n",
    "* String class\n",
    "* List class\n",
    "* Dictionary class"
   ]
  },
  {
   "cell_type": "code",
   "execution_count": 1,
   "metadata": {},
   "outputs": [
    {
     "name": "stdout",
     "output_type": "stream",
     "text": [
      "<class 'str'>\n",
      "<class 'int'>\n"
     ]
    }
   ],
   "source": [
    "s='anshu'\n",
    "i=21\n",
    "print(type(s))\n",
    "print(type(i))"
   ]
  },
  {
   "cell_type": "markdown",
   "metadata": {},
   "source": [
    "# 2. Classes and Objects"
   ]
  },
  {
   "cell_type": "markdown",
   "metadata": {},
   "source": [
    "This helps us understand that \"type\" and \"class\" are used interchangeably. Because of this, it becomes clear that we've been using classes for some time already:\n",
    "\n",
    "* Python lists are objects of the list class.\n",
    "* Python strings are objects of the str class.\n",
    "* Python dictionaries are objects of the dict class."
   ]
  },
  {
   "cell_type": "markdown",
   "metadata": {},
   "source": [
    "* An object is an entity that stores data.\n",
    "* An object's class defines specific properties objects of that class will have."
   ]
  },
  {
   "cell_type": "markdown",
   "metadata": {},
   "source": [
    "There are hundreds of thousands of Tesla cars around the world. Each car is similar in that it is a Tesla — it's not a Ford or Toyota — but at the same time, it is not necessarily identical to other Teslas. We would say that each of the cars are objects that belong to the Tesla class.\n",
    "\n",
    "Tesla has a blueprint — or plan — for making their cars. The blueprint defines what the car is, what it does, and how — everything that makes the car unique. That said, the blueprint isn't a car, it's just all the information needed to create the car. Similarly, in Python, we have code blueprints for classes. These blueprints are class definitions."
   ]
  },
  {
   "cell_type": "markdown",
   "metadata": {},
   "source": [
    "# 3. Defining a Class"
   ]
  },
  {
   "cell_type": "markdown",
   "metadata": {},
   "source": [
    "The rules for naming classes are the same as they are for naming functions and variables:\n",
    "\n",
    "* We must use only letters, numbers, or underscores.\n",
    "* We cannot use apostrophes, hyphens, whitespace characters, etc.\n",
    "* Class names can't start with a number."
   ]
  },
  {
   "cell_type": "markdown",
   "metadata": {},
   "source": [
    "* There is a convention used for variables and functions in Python called `Snake Case`, where all lowercase letters are used with underscores between: like_this.\n",
    "* With classes, the convention is to use` Pascal Case`, where no underscores are used between words, and the first letter of each word is capitalized: LikeThis."
   ]
  },
  {
   "cell_type": "code",
   "execution_count": 2,
   "metadata": {},
   "outputs": [],
   "source": [
    "class MyClass():\n",
    "    pass\n",
    "\n",
    "#The pass statement doesn't do anything, but it lets us define an empty code block."
   ]
  },
  {
   "cell_type": "markdown",
   "metadata": {},
   "source": [
    "#### The pass statement is useful if you're building something complex and you want to create a placeholder for a function that you will build out later without causing your code to error. "
   ]
  },
  {
   "cell_type": "markdown",
   "metadata": {},
   "source": [
    "# 4. Instantiating a Class"
   ]
  },
  {
   "cell_type": "markdown",
   "metadata": {},
   "source": [
    "* In OOP, we use instance to describe each different object. "
   ]
  },
  {
   "attachments": {
    "image.png": {
     "image/png": "[encoded data removed]"
    }
   },
   "cell_type": "markdown",
   "metadata": {},
   "source": [
    "![image.png](attachment:image.png)"
   ]
  },
  {
   "cell_type": "markdown",
   "metadata": {},
   "source": [
    "Once we have defined our class, we can create an object of that class, which is known as instantiation. If you create an object of a particular class, the technical phrase for what you did is to \"Instantiate an object of that class"
   ]
  },
  {
   "attachments": {
    "image.png": {
     "image/png": "[encoded data removed]"
    }
   },
   "cell_type": "markdown",
   "metadata": {},
   "source": [
    "![image.png](attachment:image.png)"
   ]
  },
  {
   "cell_type": "markdown",
   "metadata": {},
   "source": [
    "# 5. Creating Methods"
   ]
  },
  {
   "cell_type": "markdown",
   "metadata": {},
   "source": [
    "* Methods allow objects to perform actions.\n",
    "* methods like special functions that belong to a particular class. This is why we call the replace method str.replace()— because the method belongs to the str class.\n",
    "* While a function can be used with any object, each class has its own set of methods."
   ]
  },
  {
   "cell_type": "code",
   "execution_count": 3,
   "metadata": {},
   "outputs": [
    {
     "name": "stdout",
     "output_type": "stream",
     "text": [
      "<__main__.NewList object at 0x0000018E22385CF8>\n"
     ]
    }
   ],
   "source": [
    "class NewList:\n",
    "     def first_method():\n",
    "            return \"This is my first method\"\n",
    "    \n",
    "instance=NewList()\n",
    "print(instance)"
   ]
  },
  {
   "cell_type": "code",
   "execution_count": 4,
   "metadata": {},
   "outputs": [
    {
     "ename": "TypeError",
     "evalue": "first_method() takes 0 positional arguments but 1 was given",
     "output_type": "error",
     "traceback": [
      "\u001b[1;31m---------------------------------------------------------------------------\u001b[0m",
      "\u001b[1;31mTypeError\u001b[0m                                 Traceback (most recent call last)",
      "\u001b[1;32m<ipython-input-4-9234a9c537f6>\u001b[0m in \u001b[0;36m<module>\u001b[1;34m\u001b[0m\n\u001b[1;32m----> 1\u001b[1;33m \u001b[0minstance\u001b[0m\u001b[1;33m.\u001b[0m\u001b[0mfirst_method\u001b[0m\u001b[1;33m(\u001b[0m\u001b[1;33m)\u001b[0m\u001b[1;33m\u001b[0m\u001b[1;33m\u001b[0m\u001b[0m\n\u001b[0m",
      "\u001b[1;31mTypeError\u001b[0m: first_method() takes 0 positional arguments but 1 was given"
     ]
    }
   ],
   "source": [
    "instance.first_method()"
   ]
  },
  {
   "cell_type": "markdown",
   "metadata": {},
   "source": [
    "# 6. Understanding 'self'"
   ]
  },
  {
   "cell_type": "markdown",
   "metadata": {},
   "source": [
    "When we call the first_method() method belonging to the instance object, Python interprets that syntax and adds in an argument representing the instance we're calling the method on:\n",
    "\n"
   ]
  },
  {
   "attachments": {
    "image.png": {
     "image/png": "[encoded data removed]"
    }
   },
   "cell_type": "markdown",
   "metadata": {},
   "source": [
    "![image.png](attachment:image.png)"
   ]
  },
  {
   "cell_type": "code",
   "execution_count": 5,
   "metadata": {},
   "outputs": [
    {
     "name": "stdout",
     "output_type": "stream",
     "text": [
      "My String\n",
      "My String\n"
     ]
    }
   ],
   "source": [
    "# create a str object\n",
    "s = \"MY STRING\"\n",
    "\n",
    "# call `str.title() directly\n",
    "# instead of `s.title()`\n",
    "\n",
    "print(str.title(s))\n",
    "\n",
    "print(s.title())"
   ]
  },
  {
   "cell_type": "code",
   "execution_count": 6,
   "metadata": {},
   "outputs": [
    {
     "name": "stdout",
     "output_type": "stream",
     "text": [
      "<__main__.MyClass object at 0x0000018E224363C8>\n"
     ]
    }
   ],
   "source": [
    "class MyClass():\n",
    "    def print_self(self):\n",
    "        print(self)\n",
    "\n",
    "mc = MyClass()\n",
    "print(mc)"
   ]
  },
  {
   "cell_type": "code",
   "execution_count": 7,
   "metadata": {},
   "outputs": [
    {
     "name": "stdout",
     "output_type": "stream",
     "text": [
      "<__main__.MyClass object at 0x0000018E224363C8>\n"
     ]
    }
   ],
   "source": [
    "mc.print_self()"
   ]
  },
  {
   "cell_type": "markdown",
   "metadata": {},
   "source": [
    "The same output was displayed both when we printed the object using the syntax print(mc) and when we printed the object inside the method using print_self() — which proves that this \"phantom\" argument is the object itself!"
   ]
  },
  {
   "cell_type": "markdown",
   "metadata": {},
   "source": [
    "Technically, we can give this first argument — which is passed to every method — any parameter name we like. However, the convention is to call the parameter self. This is an important convention, as without it class definitions can get confusing."
   ]
  },
  {
   "cell_type": "markdown",
   "metadata": {},
   "source": [
    "# 7. Creating a Method That Accepts an Argument"
   ]
  },
  {
   "cell_type": "markdown",
   "metadata": {},
   "source": [
    "* Methods have a \"phantom\" argument that gets passed to them when they are called.\n",
    "* The \"phantom\" argument is actually the object itself.\n",
    "* We need to include that in our method definition.\n",
    "* The convention is to call the \"phantom\" argument self."
   ]
  },
  {
   "cell_type": "code",
   "execution_count": 8,
   "metadata": {},
   "outputs": [],
   "source": [
    "class MyClass():\n",
    "    def return_string(self, string):\n",
    "        return string"
   ]
  },
  {
   "cell_type": "code",
   "execution_count": 9,
   "metadata": {},
   "outputs": [
    {
     "name": "stdout",
     "output_type": "stream",
     "text": [
      "Hey there!\n"
     ]
    }
   ],
   "source": [
    "mc = MyClass()\n",
    "result = mc.return_string(\"Hey there!\")\n",
    "print(result)"
   ]
  },
  {
   "cell_type": "code",
   "execution_count": 10,
   "metadata": {},
   "outputs": [
    {
     "data": {
      "text/plain": [
       "[1, 2, 3]"
      ]
     },
     "execution_count": 10,
     "metadata": {},
     "output_type": "execute_result"
    }
   ],
   "source": [
    "class NewList():\n",
    "    def return_list(self,input_list):\n",
    "        return input_list\n",
    "newlist=NewList()\n",
    "result=newlist.return_list([1,2,3])  \n",
    "result"
   ]
  },
  {
   "cell_type": "markdown",
   "metadata": {},
   "source": [
    "# 8. Attributes and the Init Method"
   ]
  },
  {
   "cell_type": "markdown",
   "metadata": {},
   "source": [
    "### The power of objects is in their ability to store data, and data is stored inside objects using attributes."
   ]
  },
  {
   "cell_type": "markdown",
   "metadata": {},
   "source": [
    "Attributes let us store specific values about each instance of our class."
   ]
  },
  {
   "cell_type": "code",
   "execution_count": 11,
   "metadata": {},
   "outputs": [],
   "source": [
    "my_int=int('3')\n",
    "\n",
    "# When we used int(), we provided the argument \"3\", which was converted and stored inside the object. \n",
    "# We define what is done with any arguments provided at instantiation using the init method."
   ]
  },
  {
   "cell_type": "markdown",
   "metadata": {},
   "source": [
    "### * The init method — also called a constructor — is a special method that runs when an instance is created so we can perform any tasks to set up the instance."
   ]
  },
  {
   "cell_type": "markdown",
   "metadata": {},
   "source": [
    "* The init method has a special name that starts and ends with two underscores: __init__()."
   ]
  },
  {
   "cell_type": "markdown",
   "metadata": {},
   "source": [
    "<code><pre> Purpose\t        Similar to\t              Example Syntax\n",
    "* Attribute  \tStores data Variable\t       object.attribute\n",
    "* Method\t   Performs actions Function\t    object.method() <code></pre>"
   ]
  },
  {
   "cell_type": "markdown",
   "metadata": {},
   "source": [
    "* The power of objects is in their ability to store data.\n",
    "* Data is stored as attributes inside objects.\n",
    "* We access attributes using dot notation.\n",
    "* To give attributes values when we instantiate objects, we pass them as arguments to a special method called __init__(), which runs when we instantiate an object."
   ]
  },
  {
   "cell_type": "code",
   "execution_count": 12,
   "metadata": {},
   "outputs": [
    {
     "name": "stdout",
     "output_type": "stream",
     "text": [
      "[1, 2, 3, 4, 5]\n"
     ]
    }
   ],
   "source": [
    "class NewList():\n",
    "    \"\"\"\n",
    "    A Python list with some extras!\n",
    "    \"\"\"\n",
    "    def __init__(self, initial_state):\n",
    "        self.data = initial_state\n",
    "\n",
    "my_list = NewList([1, 2, 3, 4, 5])\n",
    "print(my_list.data)"
   ]
  },
  {
   "cell_type": "markdown",
   "metadata": {},
   "source": [
    "# 9. Creating an Append Method"
   ]
  },
  {
   "cell_type": "code",
   "execution_count": 13,
   "metadata": {},
   "outputs": [
    {
     "name": "stdout",
     "output_type": "stream",
     "text": [
      "[1, 2, 3, 4, 5]\n",
      "[1, 2, 3, 4, 5, 6]\n"
     ]
    }
   ],
   "source": [
    "class NewList():\n",
    "    \"\"\"\n",
    "     A Python list with some extras!\n",
    "     \"\"\"\n",
    "    def __init__(self, initial_state):\n",
    "        self.data = initial_state\n",
    "    def append(self,argument):\n",
    "        self.data=self.data + [argument]\n",
    "my_list=NewList([1,2,3,4,5])\n",
    "print(my_list.data)\n",
    "my_list.append(6)\n",
    "print(my_list.data)"
   ]
  },
  {
   "cell_type": "markdown",
   "metadata": {},
   "source": [
    "# 10. Creating and Updating an Attribute"
   ]
  },
  {
   "cell_type": "code",
   "execution_count": 14,
   "metadata": {},
   "outputs": [
    {
     "name": "stdout",
     "output_type": "stream",
     "text": [
      "5\n",
      "6\n"
     ]
    }
   ],
   "source": [
    "class NewList():\n",
    "    \"\"\"\n",
    "#     A Python list with some extras!\n",
    "#     \"\"\"\n",
    "    def __init__(self, initial_state):\n",
    "        self.data = initial_state\n",
    "        self.calc_length()\n",
    "    def calc_length(self):\n",
    "        \"\"\"\n",
    "        hdh\n",
    "        \"\"\"\n",
    "        length=0\n",
    "        for item in self.data:\n",
    "            length+=1\n",
    "        self.length=length\n",
    "    def append(self, new_item):\n",
    "        \"\"\"\n",
    "#         Append `new_item` to the NewList\n",
    "#         \"\"\"\n",
    "        self.data = self.data + [new_item]\n",
    "        self.calc_length()\n",
    "fibonacci=NewList([1,1,2,3,5])\n",
    "print(fibonacci.length)\n",
    "\n",
    "fibonacci.append(8)\n",
    "print(fibonacci.length)"
   ]
  },
  {
   "cell_type": "markdown",
   "metadata": {},
   "source": [
    "Congratulations, you've completed the mission! In this mission, we learned:\n",
    "\n",
    "* What objects, classes, methods, and attributes are.\n",
    "* How to create a class and instantiate a new object.\n",
    "* How to store attributes inside objects using the init method.\n",
    "* How to create methods to transform data and update attributes."
   ]
  }
 ],
 "metadata": {
  "kernelspec": {
   "display_name": "Python 3",
   "language": "python",
   "name": "python3"
  },
  "language_info": {
   "codemirror_mode": {
    "name": "ipython",
    "version": 3
   },
   "file_extension": ".py",
   "mimetype": "text/x-python",
   "name": "python",
   "nbconvert_exporter": "python",
   "pygments_lexer": "ipython3",
   "version": "3.7.3"
  }
 },
 "nbformat": 4,
 "nbformat_minor": 2
}
