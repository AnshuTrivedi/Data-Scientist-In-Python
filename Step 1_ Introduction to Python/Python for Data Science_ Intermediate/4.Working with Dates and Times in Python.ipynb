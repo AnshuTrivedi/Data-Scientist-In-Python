{
 "cells": [
  {
   "cell_type": "markdown",
   "metadata": {},
   "source": [
    "# 1. Introduction"
   ]
  },
  {
   "cell_type": "markdown",
   "metadata": {},
   "source": [
    "Working with date and times is a vital skill, because many data include date/time information, including:\n",
    "\n",
    "* Weather data with dates and/or times.\n",
    "* Computer logs with the timestamp for each event.\n",
    "* Sales data with date/time range included."
   ]
  },
  {
   "cell_type": "code",
   "execution_count": 1,
   "metadata": {},
   "outputs": [
    {
     "name": "stdout",
     "output_type": "stream",
     "text": [
      "[['Joshua T. Blanton', '2014-12-18T00:00:00', '1/6/15 9:30', '1/6/15 23:59', '', 'potus', 'west wing', 'JointService Military Honor Guard'], ['Jack T. Gutting', '2014-12-18T00:00:00', '1/6/15 9:30', '1/6/15 23:59', '', 'potus', 'west wing', 'JointService Military Honor Guard'], ['Bradley T. Guiles', '2014-12-18T00:00:00', '1/6/15 9:30', '1/6/15 23:59', '', 'potus', 'west wing', 'JointService Military Honor Guard'], ['Loryn F. Grieb', '2014-12-18T00:00:00', '1/6/15 9:30', '1/6/15 23:59', '', 'potus', 'west wing', 'JointService Military Honor Guard'], ['Travis D. Gordon', '2014-12-18T00:00:00', '1/6/15 9:30', '1/6/15 23:59', '', 'potus', 'west wing', 'JointService Military Honor Guard']]\n",
      "[['name', 'appt_made_date', 'appt_start_date', 'appt_end_date', 'visitee_namelast', 'visitee_namefirst', 'meeting_room', 'description']]\n"
     ]
    }
   ],
   "source": [
    "#open and read dataset file\n",
    "\n",
    "from csv import reader\n",
    "potus=list(reader(open('C:/Users/krishna/Desktop/GITHUB~1/DATA-A~2/Datasets/step_1/C2/potus_visitors_2015.csv')))\n",
    "potus_header=potus[:1]\n",
    "potus=potus[1:]\n",
    "print(potus[:5])\n",
    "print(potus_header)"
   ]
  },
  {
   "cell_type": "markdown",
   "metadata": {},
   "source": [
    "# 2. Importing Modules"
   ]
  },
  {
   "cell_type": "markdown",
   "metadata": {},
   "source": [
    "* In Python, a module is simply a collection of variables, functions, and/or classes (which we'll collectively call 'definitions') that can be imported into a Python script.\n",
    "* Python contains many standard modules that help us perform various tasks, such as performing advanced mathematical operations, working with specific file formats and databases, and working with dates and times.\n",
    "* Whenever we use definitions from a module, we first need to import those definitions. There are a number of ways we can import modules and their definitions using the import statement:"
   ]
  },
  {
   "cell_type": "markdown",
   "metadata": {},
   "source": [
    "## 1. Import the whole module by name. This is the most common method for importing a module.\n",
    "\n",
    "###  import the module\n",
    "import csv\n",
    "​\n",
    "### definitions are available using the format\n",
    "### module_name.definition_name\n",
    "csv.reader()\n",
    "\n",
    "## 2. Import the whole module with an alias. This is especially useful if a module is long and we need to type it a lot.\n",
    "\n",
    "### import the module with an alias\n",
    "import csv as c\n",
    "​\n",
    "### definitions are available using the format\n",
    "###  alias.definition_name\n",
    "c.reader()\n",
    "\n",
    "## 3. Import one or more definitions from the module by name. This is the technique we've used so far. This technique is useful if you want only a single or select definitions and don't want to import everything.\n",
    "\n",
    "### import a single definition\n",
    "from csv import reader\n",
    "​\n",
    "### the definition you imported is available by name\n",
    "\n",
    "reader()\n",
    "###  import multiple definitions\n",
    "from csv import reader, writer\n",
    "​\n",
    "### the definitions you imported are available\n",
    "###  using the format definition_name\n",
    "reader()\n",
    "writer()\n",
    "\n",
    "## 4. Import all definitions with a wildcard. This is useful if you want to import and use many definitions from a module.\n",
    "\n",
    "### import all definitions\n",
    "from csv import *\n",
    "​\n",
    "###  all definitions from the module are\n",
    "###  available using the format definition_name\n",
    "reader()\n",
    "writer()\n",
    "get_dialect()\n",
    "Choosing which option to use when importing is often a matter of taste, but it's good to keep in mind how each choice can affect the readability of your code:\n",
    "\n",
    "* If we're importing a long-name module by name and using it often, our code can become harder to read.\n",
    "* If we use an uncommon alias, it may not be clear in our code which module we are using.\n",
    "* If we use the specific definition or wildcard approach, and the script is long or complex, it may not be immediately clear where a definition comes from. This can also be a problem if we use this approach with multiple modules.\n",
    "* If we use the specific definition or wildcard approach, it's easier to accidentally overwrite an imported definition."
   ]
  },
  {
   "cell_type": "markdown",
   "metadata": {},
   "source": [
    "# 3. The Datetime Module"
   ]
  },
  {
   "cell_type": "markdown",
   "metadata": {},
   "source": [
    "Python has three standard modules that are designed to help working with dates and times:\n",
    "\n",
    "* The calendar module\n",
    "* The time module\n",
    "* The datetime module"
   ]
  },
  {
   "cell_type": "markdown",
   "metadata": {},
   "source": [
    "The datetime module contains a number of classes, including:\n",
    "\n",
    "* datetime.datetime: For working with date and time data.\n",
    "* datetime.time: For working with time data only.\n",
    "* datetime.timedelta: For representing time periods."
   ]
  },
  {
   "cell_type": "code",
   "execution_count": 2,
   "metadata": {},
   "outputs": [],
   "source": [
    "import datetime as dt"
   ]
  },
  {
   "cell_type": "markdown",
   "metadata": {},
   "source": [
    "# 4. The Datetime Class"
   ]
  },
  {
   "cell_type": "markdown",
   "metadata": {},
   "source": [
    "The datetime.datetime class is the most commonly-used class from the datetime module, and has attributes and methods designed to work with data containing both the date and time. The signature of the class is below (with some lesser used parameters omitted):\n",
    "\n",
    "`datetime.datetime(year, month, day, hour=0, minute=0, second=0)`"
   ]
  },
  {
   "cell_type": "code",
   "execution_count": 3,
   "metadata": {},
   "outputs": [
    {
     "data": {
      "text/plain": [
       "datetime.datetime(1998, 8, 4, 0, 0)"
      ]
     },
     "execution_count": 3,
     "metadata": {},
     "output_type": "execute_result"
    }
   ],
   "source": [
    "import datetime as dt\n",
    "\n",
    "birthdate=dt.datetime(1998,8,4)\n",
    "birthdate"
   ]
  },
  {
   "cell_type": "code",
   "execution_count": 4,
   "metadata": {},
   "outputs": [
    {
     "name": "stdout",
     "output_type": "stream",
     "text": [
      "1998-08-04 00:00:00\n"
     ]
    }
   ],
   "source": [
    "print(birthdate)"
   ]
  },
  {
   "cell_type": "markdown",
   "metadata": {},
   "source": [
    "# 5. Using Strptime to Parse Strings as Dates"
   ]
  },
  {
   "cell_type": "code",
   "execution_count": 5,
   "metadata": {},
   "outputs": [
    {
     "name": "stdout",
     "output_type": "stream",
     "text": [
      "2014-12-18T00:00:00\n",
      "2014-12-18T00:00:00\n",
      "2014-12-18T00:00:00\n",
      "2014-12-18T00:00:00\n",
      "2014-12-18T00:00:00\n",
      "2014-12-18T00:00:00\n",
      "2014-12-18T00:00:00\n",
      "2014-12-18T00:00:00\n",
      "2014-12-18T00:00:00\n",
      "2014-12-18T00:00:00\n",
      "2014-12-18T00:00:00\n",
      "2014-12-18T00:00:00\n",
      "2014-12-18T00:00:00\n",
      "2014-12-18T00:00:00\n",
      "2014-12-18T00:00:00\n"
     ]
    }
   ],
   "source": [
    "for row in potus[:15]:\n",
    "    print(row[1])"
   ]
  },
  {
   "cell_type": "code",
   "execution_count": 6,
   "metadata": {},
   "outputs": [
    {
     "name": "stdout",
     "output_type": "stream",
     "text": [
      "1/6/15 9:30\n",
      "1/6/15 9:30\n",
      "1/6/15 9:30\n",
      "1/6/15 9:30\n",
      "1/6/15 9:30\n"
     ]
    }
   ],
   "source": [
    "for row in potus[:5]:\n",
    "    print(row[2])"
   ]
  },
  {
   "cell_type": "markdown",
   "metadata": {},
   "source": [
    "From the first five rows, we can determine that the values contain a date followed by a time, but it's unclear from the specific dates whether the date is in month/day/year versus day/month/year format. The lack of an \"a.m.\" or \"p.m.\" indicates that the time is likely in 24-hour format."
   ]
  },
  {
   "cell_type": "code",
   "execution_count": 7,
   "metadata": {},
   "outputs": [
    {
     "name": "stdout",
     "output_type": "stream",
     "text": [
      "1/6/15 23:59\n",
      "1/6/15 23:59\n",
      "1/6/15 23:59\n",
      "1/6/15 23:59\n",
      "1/6/15 23:59\n"
     ]
    }
   ],
   "source": [
    "for row in potus[:5]:\n",
    "    print(row[3])"
   ]
  },
  {
   "cell_type": "markdown",
   "metadata": {},
   "source": [
    "* Above are string formats for storing date "
   ]
  },
  {
   "cell_type": "markdown",
   "metadata": {},
   "source": [
    "The datetime.strptime() constructor returns a datetime object defined using a special syntax system to describe date and time formats called strftime"
   ]
  },
  {
   "attachments": {
    "image.png": {
     "image/png": "[encoded data removed]"
    }
   },
   "cell_type": "markdown",
   "metadata": {},
   "source": [
    "![image.png](attachment:image.png)"
   ]
  },
  {
   "cell_type": "markdown",
   "metadata": {},
   "source": [
    "* The first argument of the datetime.strptime() constructor is the string we want to parse, and the second argument is a string that specifies the format."
   ]
  },
  {
   "cell_type": "markdown",
   "metadata": {},
   "source": [
    "### various string formats for date parsing"
   ]
  },
  {
   "cell_type": "markdown",
   "metadata": {},
   "source": [
    "<code><pre>\n",
    "Strftime Code\t                 Meaning\t                              Examples\n",
    "%d\t              Day of the month as a zero-padded number\t               04\n",
    "%A\t              Day of the week as a word\t                               Monday\n",
    "%m\t              Month as a zero-padded number\t                           09\n",
    "%Y\t              Year as a four-digit number\t                           1901\n",
    "%y\t             Year as a two-digit number with zero-padding,             01 (2001) 88 (1988)\n",
    "%B\t              Month as a word\t                                       September\n",
    "%H\t              Hour in 24 hour time as zero-padded number\t           05 (5 a.m.)15 (3 p.m.)\n",
    "%p\t                a.m. or p.m.\t                                       AM\n",
    "%I\t              Hour in 12 hour time as zero-padded number\t           05 (5 a.m., or 5 p.m. if AM/PM indicates otherwise)\n",
    "%M\t                 Minute as a zero-padded number               \t        07\n",
    "\n",
    "</code></pre>"
   ]
  },
  {
   "cell_type": "code",
   "execution_count": 8,
   "metadata": {},
   "outputs": [
    {
     "name": "stdout",
     "output_type": "stream",
     "text": [
      "2015-01-06 09:30:00\n",
      "2015-01-06 09:30:00\n",
      "2015-01-06 09:30:00\n",
      "2015-01-06 09:30:00\n",
      "2015-01-06 09:30:00\n"
     ]
    }
   ],
   "source": [
    "date_format=\"%m/%d/%y %H:%M\"\n",
    "for row in potus:\n",
    "    date=row[2]\n",
    "    d=dt.datetime.strptime(date,date_format)\n",
    "    row[2]=d\n",
    "for row in potus[:5]:\n",
    "    print(row[2])"
   ]
  },
  {
   "cell_type": "markdown",
   "metadata": {},
   "source": [
    "# 6. Using Strftime to format dates"
   ]
  },
  {
   "cell_type": "markdown",
   "metadata": {},
   "source": [
    "The datetime class has a number of attributes which make it easy to retrieve the various parts that make up the date stored within the object:\n",
    "\n",
    "* datetime.day: The day of the month.\n",
    "* datetime.month: The month of the year.\n",
    "* datetime.year: The year.\n",
    "* datetime.hour: The hour of the day.\n",
    "* datetime.minute: The minute of the hour."
   ]
  },
  {
   "cell_type": "markdown",
   "metadata": {},
   "source": [
    "the datetime class has a datetime.strftime() method which will return a string representation of the date using the strftime syntax "
   ]
  },
  {
   "cell_type": "markdown",
   "metadata": {},
   "source": [
    "* strptime >> str-p-time >> string parse time\n",
    "* strftime >> str-f-time >> string format time\n",
    "* With the strftime() method we can use %d, %m, and %Y to represent the date, month, and year."
   ]
  },
  {
   "cell_type": "code",
   "execution_count": 9,
   "metadata": {},
   "outputs": [],
   "source": [
    "visitors_per_month={}\n",
    "for row in potus:\n",
    "    date=row[2]\n",
    "    d=dt.datetime.strftime(date,\"%B, %Y\")\n",
    "    if d not in visitors_per_month:\n",
    "        visitors_per_month[d]=1\n",
    "    else:\n",
    "        visitors_per_month[d] +=1"
   ]
  },
  {
   "cell_type": "code",
   "execution_count": 10,
   "metadata": {},
   "outputs": [
    {
     "data": {
      "text/plain": [
       "{'January, 2015': 1248,\n",
       " 'February, 2015': 2165,\n",
       " 'March, 2015': 2262,\n",
       " 'April, 2015': 4996,\n",
       " 'May, 2015': 3013,\n",
       " 'June, 2015': 7743,\n",
       " 'July, 2015': 2930,\n",
       " 'August, 2015': 1350,\n",
       " 'September, 2015': 4416,\n",
       " 'October, 2015': 3669,\n",
       " 'November, 2015': 1133,\n",
       " 'December, 2015': 13029}"
      ]
     },
     "execution_count": 10,
     "metadata": {},
     "output_type": "execute_result"
    }
   ],
   "source": [
    "visitors_per_month"
   ]
  },
  {
   "cell_type": "markdown",
   "metadata": {},
   "source": [
    "# 7. The Time Class"
   ]
  },
  {
   "cell_type": "markdown",
   "metadata": {},
   "source": [
    "we're going to analyze presidential appointment times. To achieve this, we're going to use the datetime.time class."
   ]
  },
  {
   "cell_type": "markdown",
   "metadata": {},
   "source": [
    "The syntax to instantiate a time object is as follows:\n",
    "\n",
    "`datetime.time(hour=0, minute=0, second=0, microsecond=0)`"
   ]
  },
  {
   "cell_type": "code",
   "execution_count": 11,
   "metadata": {},
   "outputs": [],
   "source": [
    "appt_times=[]\n",
    "for row in potus:\n",
    "    d=row[2]\n",
    "    d1=d.time()\n",
    "    appt_times.append(d1)"
   ]
  },
  {
   "cell_type": "code",
   "execution_count": 15,
   "metadata": {},
   "outputs": [
    {
     "name": "stdout",
     "output_type": "stream",
     "text": [
      "[datetime.time(9, 30), datetime.time(9, 30), datetime.time(9, 30), datetime.time(9, 30), datetime.time(9, 30), datetime.time(9, 30), datetime.time(9, 30), datetime.time(9, 30), datetime.time(9, 30), datetime.time(9, 30)]\n"
     ]
    }
   ],
   "source": [
    "print(appt_times[:10])"
   ]
  },
  {
   "cell_type": "markdown",
   "metadata": {},
   "source": [
    "# 8. Comparing time objects"
   ]
  },
  {
   "cell_type": "markdown",
   "metadata": {},
   "source": [
    "A useful feature of time objects is that they support comparisons. We can test if one time is greater — or later — than another:"
   ]
  },
  {
   "cell_type": "code",
   "execution_count": 16,
   "metadata": {},
   "outputs": [],
   "source": [
    "min_time=min(appt_times)\n",
    "max_time=max(appt_times)"
   ]
  },
  {
   "cell_type": "code",
   "execution_count": 17,
   "metadata": {},
   "outputs": [
    {
     "data": {
      "text/plain": [
       "datetime.time(6, 0)"
      ]
     },
     "execution_count": 17,
     "metadata": {},
     "output_type": "execute_result"
    }
   ],
   "source": [
    "min_time"
   ]
  },
  {
   "cell_type": "markdown",
   "metadata": {},
   "source": [
    "# 9. Calculations with Dates and Times"
   ]
  },
  {
   "cell_type": "markdown",
   "metadata": {},
   "source": [
    "Just like time objects, datetime objects support comparison operators like > and <."
   ]
  },
  {
   "cell_type": "markdown",
   "metadata": {},
   "source": [
    "<code><pre>\n",
    "     Operation\t                                 Explanation\t                     Resultant Type\n",
    "datetime - datetime\t          Calculate the time between two specific dates/times\t     timedelta\n",
    "datetime - timedelta\t      Subtract a time period from a date or time.\t              datetime\n",
    "datetime + timedelta\t      Add a time period to a date or time.\t                      datetime\n",
    "timedelta + timedelta\t      Add two periods of time together\t                           timedelta\n",
    "timedelta - timedelta\t      Calculate the difference between two time periods.\t       timedelta\n",
    "\n",
    "<code></pre>"
   ]
  },
  {
   "cell_type": "markdown",
   "metadata": {},
   "source": [
    "`datetime.timedelta(days=0, seconds=0, microseconds=0,\n",
    "                   milliseconds=0, minutes=0, hours=0, weeks=0)'"
   ]
  },
  {
   "cell_type": "code",
   "execution_count": 18,
   "metadata": {},
   "outputs": [],
   "source": [
    "dt_1 = dt.datetime(1981, 1, 31)\n",
    "dt_2 = dt.datetime(1984, 6, 28)\n",
    "dt_3 = dt.datetime(2016, 5, 24)\n",
    "dt_4 = dt.datetime(2001, 1, 1, 8, 24, 13)\n",
    "answer_1=dt_2 - dt_1\n",
    "answer_2=dt_3 + dt.timedelta(days=56)\n",
    "answer_3= dt_4 - dt.timedelta(seconds=3600)"
   ]
  },
  {
   "cell_type": "code",
   "execution_count": 21,
   "metadata": {},
   "outputs": [
    {
     "name": "stdout",
     "output_type": "stream",
     "text": [
      "<class 'datetime.timedelta'>\n",
      "<class 'datetime.datetime'>\n",
      "<class 'datetime.datetime'>\n"
     ]
    }
   ],
   "source": [
    "print(type(answer_1))\n",
    "print(type(answer_2))\n",
    "print(type(answer_3))"
   ]
  },
  {
   "cell_type": "markdown",
   "metadata": {},
   "source": [
    "# 10. Summarizing Appointment Lengths"
   ]
  },
  {
   "cell_type": "markdown",
   "metadata": {},
   "source": [
    "* Create a frequency table of the meeting times.\n",
    "* Calculate the minimum and maximum value for the appointment lengths."
   ]
  },
  {
   "cell_type": "code",
   "execution_count": 22,
   "metadata": {},
   "outputs": [],
   "source": [
    "for row in potus:\n",
    "    end_date = row[3]\n",
    "    end_date = dt.datetime.strptime(end_date, \"%m/%d/%y %H:%M\")\n",
    "    row[3] = end_date\n",
    "appt_lengths={}\n",
    "for row in potus:\n",
    "    ap1=row[2] \n",
    "    ap2=row[3]\n",
    "    length=ap2 - ap1\n",
    "    if length not in appt_lengths:\n",
    "        appt_lengths[length]=1\n",
    "    else:\n",
    "        appt_lengths[length] +=1\n",
    "min_length=min(appt_lengths)\n",
    "max_length=max(appt_lengths)"
   ]
  },
  {
   "cell_type": "code",
   "execution_count": 23,
   "metadata": {},
   "outputs": [
    {
     "name": "stdout",
     "output_type": "stream",
     "text": [
      "2:29:00\n"
     ]
    }
   ],
   "source": [
    "print(min_length)"
   ]
  },
  {
   "cell_type": "code",
   "execution_count": 25,
   "metadata": {},
   "outputs": [
    {
     "name": "stdout",
     "output_type": "stream",
     "text": [
      "16 days, 12:59:00\n"
     ]
    }
   ],
   "source": [
    "print(max_length)"
   ]
  },
  {
   "cell_type": "markdown",
   "metadata": {},
   "source": [
    "In this mission, we learned how to use the datetime module to work with date and time data. If you'd like some more practice, you can extend the work we did with this data set by:\n",
    "\n",
    "* Thinking about the maximum and minimum appointment time values, and exploring the data to explain why these values are larger than you might expect.\n",
    "* Find the visitor who spent the most amount of time at the White House.\n",
    "* Finding who visited the White House the most each month."
   ]
  }
 ],
 "metadata": {
  "kernelspec": {
   "display_name": "Python 3",
   "language": "python",
   "name": "python3"
  },
  "language_info": {
   "codemirror_mode": {
    "name": "ipython",
    "version": 3
   },
   "file_extension": ".py",
   "mimetype": "text/x-python",
   "name": "python",
   "nbconvert_exporter": "python",
   "pygments_lexer": "ipython3",
   "version": "3.7.3"
  }
 },
 "nbformat": 4,
 "nbformat_minor": 2
}
