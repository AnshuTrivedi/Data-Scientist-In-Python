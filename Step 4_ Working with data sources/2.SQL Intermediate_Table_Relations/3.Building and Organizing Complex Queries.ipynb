{
 "cells": [
  {
   "cell_type": "markdown",
   "metadata": {},
   "source": [
    "# 1. Introduction"
   ]
  },
  {
   "cell_type": "markdown",
   "metadata": {},
   "source": [
    "In this mission, we're going to continue to practice constructing complex joins, while also learning how to:\n",
    "\n",
    "* Build and format your queries for readability\n",
    "* Creating named subqueries and views\n",
    "* Combining data using set operations."
   ]
  },
  {
   "cell_type": "markdown",
   "metadata": {},
   "source": [
    "# 2. Writing Readable Queries"
   ]
  },
  {
   "cell_type": "markdown",
   "metadata": {},
   "source": [
    " Taking the time to write your queries to be more easily understood will take a little extra time now, but will save you time when you come back to old queries that you have written, and help your colleagues when you're working in a data team.\n",
    "\n",
    "One obvious area when it comes to writing queries is the use of **capitalization and whitespace**. Because white space doesn't have any meaning in SQL, it can be used to help convey meaning in a complex query."
   ]
  },
  {
   "cell_type": "markdown",
   "metadata": {},
   "source": [
    "**As you can see, a little time put into whitespace and capitalization pays off. A few tips to help make your queries more readable:**\n",
    "\n",
    "* If a select statement has more than one column, put each on a new line, indented from the select statement.\n",
    "* Always capitalize SQL function names and keywords\n",
    "* Put each clause of your query on a new line.\n",
    "* Use indenting to make subqueries appear logically separate."
   ]
  },
  {
   "cell_type": "markdown",
   "metadata": {},
   "source": [
    "Another important consideration when writing readable queries is the use of **alias names and shortcuts**. Name aliases should be clear– a common convention is using the first letter of the table name, however if you feel that a query is complex you should consider using more explicit aliases."
   ]
  },
  {
   "cell_type": "markdown",
   "metadata": {},
   "source": [
    "`If you work in a team, you might consider a` [SQL style guide](http://www.sqlstyle.guide/)`— a great guide is available at SQL style guide, but remember that readability is more important than consistency. If you have a complex query and you think breaking the style guide will make it more readable, you should do it.`"
   ]
  },
  {
   "cell_type": "markdown",
   "metadata": {},
   "source": [
    "# 3. The With Clause"
   ]
  },
  {
   "cell_type": "markdown",
   "metadata": {},
   "source": [
    "When constructing complex queries, it's useful to create an intermediate table to produce our final results. You can use subqueries to create these intermediate tables. Unfortunately, the way subqueries are written makes it harder to read— the person reading the query needs to find the subquery and read from the inside-out.\n",
    "\n",
    "`One way to alleviate this is to use a with clause`. WITH clauses allow you to define one or more named subqueries before the start of the main query. The main query then refers to the subquery by it's alias name, just as if it's a table in the database."
   ]
  },
  {
   "cell_type": "markdown",
   "metadata": {},
   "source": [
    "The syntax for the WITH clause is relatively straight-forward.\n",
    "\n",
    "`WITH [alias_name] AS ([subquery])\n",
    "SELECT [main_query]`"
   ]
  },
  {
   "cell_type": "markdown",
   "metadata": {},
   "source": [
    "## TODO:\n",
    "* Create a query that shows summary data for every playlist in the Chinook database:\n",
    "* Use a WITH clause to create a named subquery with the following info:\n",
    "  * The unique ID for the playlist.\n",
    "  * The name of the playlist.\n",
    "  * The name of each track from the playlist.\n",
    "  * The length of each track in seconds.\n",
    "* Your final table should have the following columns, in order:\n",
    "  * playlist_id - the unique ID for the playlist.\n",
    "  * playlist_name - The name of the playlist.\n",
    "  * number_of_tracks - A count of the number of tracks in the playlist.\n",
    "  * length_seconds - The sum of the length of the playlist in seconds.\n",
    "* The results should be sorted by playlist_id in ascending order."
   ]
  },
  {
   "cell_type": "code",
   "execution_count": 1,
   "metadata": {},
   "outputs": [],
   "source": [
    "%load_ext sql\n",
    "\n",
    "%sql sqlite:///chinook.db"
   ]
  },
  {
   "cell_type": "code",
   "execution_count": 2,
   "metadata": {},
   "outputs": [
    {
     "name": "stdout",
     "output_type": "stream",
     "text": [
      " * sqlite:///chinook.db\n",
      "Done.\n"
     ]
    },
    {
     "data": {
      "text/html": [
       "<table>\n",
       "    <tr>\n",
       "        <th>playlist_id</th>\n",
       "        <th>playlist_name</th>\n",
       "        <th>number_of_tracks</th>\n",
       "        <th>length_seconds</th>\n",
       "    </tr>\n",
       "    <tr>\n",
       "        <td>1</td>\n",
       "        <td>Music</td>\n",
       "        <td>3290</td>\n",
       "        <td>876049</td>\n",
       "    </tr>\n",
       "    <tr>\n",
       "        <td>2</td>\n",
       "        <td>Movies</td>\n",
       "        <td>0</td>\n",
       "        <td>None</td>\n",
       "    </tr>\n",
       "    <tr>\n",
       "        <td>3</td>\n",
       "        <td>TV Shows</td>\n",
       "        <td>213</td>\n",
       "        <td>500987</td>\n",
       "    </tr>\n",
       "    <tr>\n",
       "        <td>4</td>\n",
       "        <td>Audiobooks</td>\n",
       "        <td>0</td>\n",
       "        <td>None</td>\n",
       "    </tr>\n",
       "    <tr>\n",
       "        <td>5</td>\n",
       "        <td>90’s Music</td>\n",
       "        <td>1477</td>\n",
       "        <td>397970</td>\n",
       "    </tr>\n",
       "    <tr>\n",
       "        <td>6</td>\n",
       "        <td>Audiobooks</td>\n",
       "        <td>0</td>\n",
       "        <td>None</td>\n",
       "    </tr>\n",
       "    <tr>\n",
       "        <td>7</td>\n",
       "        <td>Movies</td>\n",
       "        <td>0</td>\n",
       "        <td>None</td>\n",
       "    </tr>\n",
       "    <tr>\n",
       "        <td>8</td>\n",
       "        <td>Music</td>\n",
       "        <td>3290</td>\n",
       "        <td>876049</td>\n",
       "    </tr>\n",
       "    <tr>\n",
       "        <td>9</td>\n",
       "        <td>Music Videos</td>\n",
       "        <td>1</td>\n",
       "        <td>294</td>\n",
       "    </tr>\n",
       "    <tr>\n",
       "        <td>10</td>\n",
       "        <td>TV Shows</td>\n",
       "        <td>213</td>\n",
       "        <td>500987</td>\n",
       "    </tr>\n",
       "    <tr>\n",
       "        <td>11</td>\n",
       "        <td>Brazilian Music</td>\n",
       "        <td>39</td>\n",
       "        <td>9464</td>\n",
       "    </tr>\n",
       "    <tr>\n",
       "        <td>12</td>\n",
       "        <td>Classical</td>\n",
       "        <td>75</td>\n",
       "        <td>21736</td>\n",
       "    </tr>\n",
       "    <tr>\n",
       "        <td>13</td>\n",
       "        <td>Classical 101 - Deep Cuts</td>\n",
       "        <td>25</td>\n",
       "        <td>6742</td>\n",
       "    </tr>\n",
       "    <tr>\n",
       "        <td>14</td>\n",
       "        <td>Classical 101 - Next Steps</td>\n",
       "        <td>25</td>\n",
       "        <td>7565</td>\n",
       "    </tr>\n",
       "    <tr>\n",
       "        <td>15</td>\n",
       "        <td>Classical 101 - The Basics</td>\n",
       "        <td>25</td>\n",
       "        <td>7429</td>\n",
       "    </tr>\n",
       "    <tr>\n",
       "        <td>16</td>\n",
       "        <td>Grunge</td>\n",
       "        <td>15</td>\n",
       "        <td>4114</td>\n",
       "    </tr>\n",
       "    <tr>\n",
       "        <td>17</td>\n",
       "        <td>Heavy Metal Classic</td>\n",
       "        <td>26</td>\n",
       "        <td>8189</td>\n",
       "    </tr>\n",
       "    <tr>\n",
       "        <td>18</td>\n",
       "        <td>On-The-Go 1</td>\n",
       "        <td>1</td>\n",
       "        <td>197</td>\n",
       "    </tr>\n",
       "</table>"
      ],
      "text/plain": [
       "[(1, 'Music', 3290, 876049),\n",
       " (2, 'Movies', 0, None),\n",
       " (3, 'TV Shows', 213, 500987),\n",
       " (4, 'Audiobooks', 0, None),\n",
       " (5, '90’s Music', 1477, 397970),\n",
       " (6, 'Audiobooks', 0, None),\n",
       " (7, 'Movies', 0, None),\n",
       " (8, 'Music', 3290, 876049),\n",
       " (9, 'Music Videos', 1, 294),\n",
       " (10, 'TV Shows', 213, 500987),\n",
       " (11, 'Brazilian Music', 39, 9464),\n",
       " (12, 'Classical', 75, 21736),\n",
       " (13, 'Classical 101 - Deep Cuts', 25, 6742),\n",
       " (14, 'Classical 101 - Next Steps', 25, 7565),\n",
       " (15, 'Classical 101 - The Basics', 25, 7429),\n",
       " (16, 'Grunge', 15, 4114),\n",
       " (17, 'Heavy Metal Classic', 26, 8189),\n",
       " (18, 'On-The-Go 1', 1, 197)]"
      ]
     },
     "execution_count": 2,
     "metadata": {},
     "output_type": "execute_result"
    }
   ],
   "source": [
    "%%sql\n",
    "\n",
    "WITH playlist_info AS\n",
    "    (\n",
    "     SELECT\n",
    "         p.playlist_id,\n",
    "         p.name playlist_name,\n",
    "         t.name track_name,\n",
    "         (t.milliseconds / 1000) length_seconds\n",
    "     FROM playlist p\n",
    "     LEFT JOIN playlist_track pt ON pt.playlist_id = p.playlist_id\n",
    "     LEFT JOIN track t ON t.track_id = pt.track_id\n",
    "    )\n",
    "\n",
    "SELECT\n",
    "    playlist_id,\n",
    "    playlist_name,\n",
    "    COUNT(track_name) number_of_tracks,\n",
    "    SUM(length_seconds) length_seconds\n",
    "FROM playlist_info\n",
    "GROUP BY 1, 2\n",
    "ORDER BY 1;"
   ]
  },
  {
   "cell_type": "markdown",
   "metadata": {},
   "source": [
    "# 4. Creating Views"
   ]
  },
  {
   "cell_type": "markdown",
   "metadata": {},
   "source": [
    "When we use the WITH clause, we're creating a temporary named subquery that we can use only within that query. But what if we find ourselves using the same WITH with lots of different queries? It would be nice to permanently define a subquery that we can use again and again.\n",
    "\n",
    "We do this by creating a view, which we can then use in all future queries. An easy way to think of this is the WITH clause creates a temporary view. The syntax for creating a view"
   ]
  },
  {
   "cell_type": "markdown",
   "metadata": {},
   "source": [
    "`CREATE VIEW database.view_name AS\n",
    "    SELECT * FROM database.table;`"
   ]
  },
  {
   "cell_type": "markdown",
   "metadata": {},
   "source": [
    "## TODO:\n",
    "* Create a view called customer_gt_90_dollars:\n",
    "  * The view should contain the columns from customers, in their original order.\n",
    "  * The view should contain only customers who have purchased more than $90 in tracks from the store.\n",
    "* After the SQL query that creates the view, write a second query to display your newly created view: SELECT * FROM chinook.customer_gt_90_dollars;.\n",
    "   * Make sure you use a semicolon (;) to indicate the end of each que"
   ]
  },
  {
   "cell_type": "code",
   "execution_count": 3,
   "metadata": {},
   "outputs": [
    {
     "name": "stdout",
     "output_type": "stream",
     "text": [
      " * sqlite:///chinook.db\n",
      "(sqlite3.OperationalError) unknown database chinook\n",
      "[SQL: CREATE VIEW chinook.customer_gt_90_dollars AS \n",
      "    SELECT\n",
      "        c.*\n",
      "    FROM chinook.invoice i\n",
      "    INNER JOIN chinook.customer c ON i.customer_id = c.customer_id\n",
      "    GROUP BY 1\n",
      "    HAVING SUM(i.total) > 90;]\n",
      "(Background on this error at: http://sqlalche.me/e/e3q8)\n"
     ]
    }
   ],
   "source": [
    "%%sql \n",
    "\n",
    "CREATE VIEW chinook.customer_gt_90_dollars AS \n",
    "    SELECT\n",
    "        c.*\n",
    "    FROM chinook.invoice i\n",
    "    INNER JOIN chinook.customer c ON i.customer_id = c.customer_id\n",
    "    GROUP BY 1\n",
    "    HAVING SUM(i.total) > 90;\n",
    "SELECT * FROM chinook.customer_gt_90_dollars;"
   ]
  },
  {
   "cell_type": "markdown",
   "metadata": {},
   "source": [
    "# 5. Combining Rows With Union"
   ]
  },
  {
   "cell_type": "markdown",
   "metadata": {},
   "source": [
    "We have now created two views: customer_usa and customer_gt_90_dollars. How can we find customers who are in different permutations of these two views:\n",
    "\n",
    "* Customers in the USA **or have** spent more than $90\n",
    "\n",
    "* Customers in the USA **and have** spent more than $90\n",
    "\n",
    "* Customers in the USA **and have** not spent more than $90"
   ]
  },
  {
   "cell_type": "markdown",
   "metadata": {},
   "source": [
    "Where regular joins are used to join columns, the **union operator** is used to join rows from tables and/or views.\n",
    "\n"
   ]
  },
  {
   "cell_type": "markdown",
   "metadata": {},
   "source": [
    "`[select_statement_one]\n",
    "UNION\n",
    "[select_statement_two]`"
   ]
  },
  {
   "cell_type": "markdown",
   "metadata": {},
   "source": [
    "## TODO:\n",
    "Use UNION to produce a table of customers in the USA or have spent more than $90, using the customer_usa and customer_gt_90_dollars views:\n",
    "  * The result should contain the columns from customers, in their original order."
   ]
  },
  {
   "cell_type": "code",
   "execution_count": 4,
   "metadata": {},
   "outputs": [
    {
     "name": "stdout",
     "output_type": "stream",
     "text": [
      " * sqlite:///chinook.db\n",
      "(sqlite3.OperationalError) no such table: customer_gt_90_dollars\n",
      "[SQL: SELECT * from customer_usa\n",
      "\n",
      "UNION\n",
      "\n",
      "SELECT * from customer_gt_90_dollars;]\n",
      "(Background on this error at: http://sqlalche.me/e/e3q8)\n"
     ]
    }
   ],
   "source": [
    "%%sql\n",
    "\n",
    "SELECT * from customer_usa\n",
    "\n",
    "UNION\n",
    "\n",
    "SELECT * from customer_gt_90_dollars;"
   ]
  },
  {
   "cell_type": "markdown",
   "metadata": {},
   "source": [
    "# 6. Combining Rows Using Intersect and Except"
   ]
  },
  {
   "cell_type": "markdown",
   "metadata": {},
   "source": [
    "## TODO:\n",
    "Write a query that works out how many customers that are in the USA and have purchased more than $90 are assigned to each sales support agent. For the purposes of this exercise, no two employees have the same name.\n",
    "\n",
    "* Your result should have the following columns, in order:\n",
    "* mployee_name - The first_name and last_name of the employee separated by a space, eg Luke Skywalker.\n",
    "* customers_usa_gt_90 - The number of customer assigned to that employee that are both from the USA and have have purchased more than $90 worth of tracks.\n",
    "* The result should include all employees with the title \"Sales Support Agent\", but not employees with any other title.\n",
    "* Order your results by the employee_name column."
   ]
  },
  {
   "cell_type": "code",
   "execution_count": 5,
   "metadata": {},
   "outputs": [
    {
     "name": "stdout",
     "output_type": "stream",
     "text": [
      " * sqlite:///chinook.db\n",
      "(sqlite3.OperationalError) no such table: customer_gt_90_dollars\n",
      "[SQL: WITH customers_usa_gt_90 AS (\n",
      "     SELECT * FROM customer_usa\n",
      "\n",
      "     INTERSECT\n",
      "\n",
      "     SELECT * FROM customer_gt_90_dollars\n",
      "    )\n",
      "\n",
      "SELECT\n",
      "    e.first_name || \" \" || e.last_name employee_name,\n",
      "    COUNT(c.customer_id) customers_usa_gt_90\n",
      "FROM employee e\n",
      "LEFT JOIN customers_usa_gt_90 c ON c.support_rep_id = e.employee_id\n",
      "WHERE e.title = 'Sales Support Agent'\n",
      "GROUP BY 1 ORDER BY 1;]\n",
      "(Background on this error at: http://sqlalche.me/e/e3q8)\n"
     ]
    }
   ],
   "source": [
    "%%sql\n",
    "\n",
    "WITH customers_usa_gt_90 AS\n",
    "    (\n",
    "     SELECT * FROM customer_usa\n",
    "\n",
    "     INTERSECT\n",
    "\n",
    "     SELECT * FROM customer_gt_90_dollars\n",
    "    )\n",
    "\n",
    "SELECT\n",
    "    e.first_name || \" \" || e.last_name employee_name,\n",
    "    COUNT(c.customer_id) customers_usa_gt_90\n",
    "FROM employee e\n",
    "LEFT JOIN customers_usa_gt_90 c ON c.support_rep_id = e.employee_id\n",
    "WHERE e.title = 'Sales Support Agent'\n",
    "GROUP BY 1 ORDER BY 1;"
   ]
  },
  {
   "cell_type": "markdown",
   "metadata": {},
   "source": [
    "# 7. Multiple Named Subqueries"
   ]
  },
  {
   "cell_type": "markdown",
   "metadata": {},
   "source": [
    "When we learned about WITH, we said with clauses allow you to define one or more named subqueries, but we didn't show you the syntax for creating more than one named subquery. To do this, you use a single WITH clause and multiple, comma-separated alias/subquery pairs:"
   ]
  },
  {
   "cell_type": "markdown",
   "metadata": {},
   "source": [
    "`WITH\n",
    "    [alias_name] AS ([subquery]),\n",
    "    [alias_name_2] AS ([subquery_2]),\n",
    "    [alias_name_3] AS ([subquery_3])\n",
    "​\n",
    "SELECT [main_query]`"
   ]
  },
  {
   "cell_type": "markdown",
   "metadata": {},
   "source": [
    "## TODO:\n",
    "Write a query that uses multiple named subqueries in a WITH clause to gather total sales data on customers from India:\n",
    "* The first named subquery should return all customers that are from India.\n",
    "* The second named subquery should calculate the sum total for every customer.\n",
    "* The main query should join the two named subqueries, resulting in the following final columns:\n",
    "   * customer_name - The first_name and last_name of the customer, separated by a space, eg Luke Skywalker.\n",
    "   * total_purchases - The total amount spent on purchases by that customer.\n",
    "* The results should be sorted by the customer_name column in alphabetical order."
   ]
  },
  {
   "cell_type": "code",
   "execution_count": 6,
   "metadata": {},
   "outputs": [
    {
     "name": "stdout",
     "output_type": "stream",
     "text": [
      " * sqlite:///chinook.db\n",
      "Done.\n"
     ]
    },
    {
     "data": {
      "text/html": [
       "<table>\n",
       "    <tr>\n",
       "        <th>customer_name</th>\n",
       "        <th>total_purchases</th>\n",
       "    </tr>\n",
       "    <tr>\n",
       "        <td>Manoj Pareek</td>\n",
       "        <td>111.86999999999999</td>\n",
       "    </tr>\n",
       "    <tr>\n",
       "        <td>Puja Srivastava</td>\n",
       "        <td>71.28</td>\n",
       "    </tr>\n",
       "</table>"
      ],
      "text/plain": [
       "[('Manoj Pareek', 111.86999999999999), ('Puja Srivastava', 71.28)]"
      ]
     },
     "execution_count": 6,
     "metadata": {},
     "output_type": "execute_result"
    }
   ],
   "source": [
    "%%sql\n",
    "\n",
    "WITH\n",
    "    customers_india AS\n",
    "        (\n",
    "        SELECT * FROM customer\n",
    "        WHERE country = \"India\"\n",
    "        ),\n",
    "    sales_per_customer AS\n",
    "        (\n",
    "         SELECT\n",
    "             customer_id,\n",
    "             SUM(total) total\n",
    "         FROM invoice\n",
    "         GROUP BY 1\n",
    "        )\n",
    "\n",
    "SELECT\n",
    "    ci.first_name || \" \" || ci.last_name customer_name,\n",
    "    spc.total total_purchases\n",
    "FROM customers_india ci\n",
    "INNER JOIN sales_per_customer spc ON ci.customer_id = spc.customer_id\n",
    "ORDER BY 1;"
   ]
  },
  {
   "cell_type": "markdown",
   "metadata": {},
   "source": [
    "# 8. Challenge: Each Country's Best Customer"
   ]
  },
  {
   "cell_type": "markdown",
   "metadata": {},
   "source": [
    "Create a query to find the customer from each country that has spent the most money at our store, ordered alphabetically by country. Your query should return the following columns, in order:\n",
    "* country - The name of each country that we have a customer from.\n",
    "* customer_name - The first_name and last_name of the customer from that country with the most total purchases, separated by a space, eg Luke Skywalker.\n",
    "* total_purchased - The total dollar amount that customer has purchased"
   ]
  },
  {
   "cell_type": "code",
   "execution_count": 7,
   "metadata": {},
   "outputs": [
    {
     "name": "stdout",
     "output_type": "stream",
     "text": [
      " * sqlite:///chinook.db\n",
      "Done.\n"
     ]
    },
    {
     "data": {
      "text/html": [
       "<table>\n",
       "    <tr>\n",
       "        <th>country</th>\n",
       "        <th>customer_name</th>\n",
       "        <th>total_purchased</th>\n",
       "    </tr>\n",
       "    <tr>\n",
       "        <td>Argentina</td>\n",
       "        <td>Diego Gutiérrez</td>\n",
       "        <td>39.6</td>\n",
       "    </tr>\n",
       "    <tr>\n",
       "        <td>Australia</td>\n",
       "        <td>Mark Taylor</td>\n",
       "        <td>81.18</td>\n",
       "    </tr>\n",
       "    <tr>\n",
       "        <td>Austria</td>\n",
       "        <td>Astrid Gruber</td>\n",
       "        <td>69.3</td>\n",
       "    </tr>\n",
       "    <tr>\n",
       "        <td>Belgium</td>\n",
       "        <td>Daan Peeters</td>\n",
       "        <td>60.38999999999999</td>\n",
       "    </tr>\n",
       "    <tr>\n",
       "        <td>Brazil</td>\n",
       "        <td>Luís Gonçalves</td>\n",
       "        <td>108.89999999999998</td>\n",
       "    </tr>\n",
       "    <tr>\n",
       "        <td>Canada</td>\n",
       "        <td>François Tremblay</td>\n",
       "        <td>99.99</td>\n",
       "    </tr>\n",
       "    <tr>\n",
       "        <td>Chile</td>\n",
       "        <td>Luis Rojas</td>\n",
       "        <td>97.02000000000001</td>\n",
       "    </tr>\n",
       "    <tr>\n",
       "        <td>Czech Republic</td>\n",
       "        <td>František Wichterlová</td>\n",
       "        <td>144.54000000000002</td>\n",
       "    </tr>\n",
       "    <tr>\n",
       "        <td>Denmark</td>\n",
       "        <td>Kara Nielsen</td>\n",
       "        <td>37.61999999999999</td>\n",
       "    </tr>\n",
       "    <tr>\n",
       "        <td>Finland</td>\n",
       "        <td>Terhi Hämäläinen</td>\n",
       "        <td>79.2</td>\n",
       "    </tr>\n",
       "    <tr>\n",
       "        <td>France</td>\n",
       "        <td>Wyatt Girard</td>\n",
       "        <td>99.99</td>\n",
       "    </tr>\n",
       "    <tr>\n",
       "        <td>Germany</td>\n",
       "        <td>Fynn Zimmermann</td>\n",
       "        <td>94.05000000000001</td>\n",
       "    </tr>\n",
       "    <tr>\n",
       "        <td>Hungary</td>\n",
       "        <td>Ladislav Kovács</td>\n",
       "        <td>78.21</td>\n",
       "    </tr>\n",
       "    <tr>\n",
       "        <td>India</td>\n",
       "        <td>Manoj Pareek</td>\n",
       "        <td>111.86999999999999</td>\n",
       "    </tr>\n",
       "    <tr>\n",
       "        <td>Ireland</td>\n",
       "        <td>Hugh O&#x27;Reilly</td>\n",
       "        <td>114.83999999999997</td>\n",
       "    </tr>\n",
       "    <tr>\n",
       "        <td>Italy</td>\n",
       "        <td>Lucas Mancini</td>\n",
       "        <td>50.49</td>\n",
       "    </tr>\n",
       "    <tr>\n",
       "        <td>Netherlands</td>\n",
       "        <td>Johannes Van der Berg</td>\n",
       "        <td>65.34</td>\n",
       "    </tr>\n",
       "    <tr>\n",
       "        <td>Norway</td>\n",
       "        <td>Bjørn Hansen</td>\n",
       "        <td>72.27000000000001</td>\n",
       "    </tr>\n",
       "    <tr>\n",
       "        <td>Poland</td>\n",
       "        <td>Stanisław Wójcik</td>\n",
       "        <td>76.22999999999999</td>\n",
       "    </tr>\n",
       "    <tr>\n",
       "        <td>Portugal</td>\n",
       "        <td>João Fernandes</td>\n",
       "        <td>102.96000000000001</td>\n",
       "    </tr>\n",
       "    <tr>\n",
       "        <td>Spain</td>\n",
       "        <td>Enrique Muñoz</td>\n",
       "        <td>98.01</td>\n",
       "    </tr>\n",
       "    <tr>\n",
       "        <td>Sweden</td>\n",
       "        <td>Joakim Johansson</td>\n",
       "        <td>75.24</td>\n",
       "    </tr>\n",
       "    <tr>\n",
       "        <td>USA</td>\n",
       "        <td>Jack Smith</td>\n",
       "        <td>98.01</td>\n",
       "    </tr>\n",
       "    <tr>\n",
       "        <td>United Kingdom</td>\n",
       "        <td>Phil Hughes</td>\n",
       "        <td>98.01</td>\n",
       "    </tr>\n",
       "</table>"
      ],
      "text/plain": [
       "[('Argentina', 'Diego Gutiérrez', 39.6),\n",
       " ('Australia', 'Mark Taylor', 81.18),\n",
       " ('Austria', 'Astrid Gruber', 69.3),\n",
       " ('Belgium', 'Daan Peeters', 60.38999999999999),\n",
       " ('Brazil', 'Luís Gonçalves', 108.89999999999998),\n",
       " ('Canada', 'François Tremblay', 99.99),\n",
       " ('Chile', 'Luis Rojas', 97.02000000000001),\n",
       " ('Czech Republic', 'František Wichterlová', 144.54000000000002),\n",
       " ('Denmark', 'Kara Nielsen', 37.61999999999999),\n",
       " ('Finland', 'Terhi Hämäläinen', 79.2),\n",
       " ('France', 'Wyatt Girard', 99.99),\n",
       " ('Germany', 'Fynn Zimmermann', 94.05000000000001),\n",
       " ('Hungary', 'Ladislav Kovács', 78.21),\n",
       " ('India', 'Manoj Pareek', 111.86999999999999),\n",
       " ('Ireland', \"Hugh O'Reilly\", 114.83999999999997),\n",
       " ('Italy', 'Lucas Mancini', 50.49),\n",
       " ('Netherlands', 'Johannes Van der Berg', 65.34),\n",
       " ('Norway', 'Bjørn Hansen', 72.27000000000001),\n",
       " ('Poland', 'Stanisław Wójcik', 76.22999999999999),\n",
       " ('Portugal', 'João Fernandes', 102.96000000000001),\n",
       " ('Spain', 'Enrique Muñoz', 98.01),\n",
       " ('Sweden', 'Joakim Johansson', 75.24),\n",
       " ('USA', 'Jack Smith', 98.01),\n",
       " ('United Kingdom', 'Phil Hughes', 98.01)]"
      ]
     },
     "execution_count": 7,
     "metadata": {},
     "output_type": "execute_result"
    }
   ],
   "source": [
    "%%sql\n",
    "\n",
    "WITH\n",
    "    customer_country_purchases AS\n",
    "        (\n",
    "         SELECT\n",
    "             i.customer_id,\n",
    "             c.country,\n",
    "             SUM(i.total) total_purchases\n",
    "         FROM invoice i\n",
    "         INNER JOIN customer c ON i.customer_id = c.customer_id\n",
    "         GROUP BY 1, 2\n",
    "        ),\n",
    "    country_max_purchase AS\n",
    "        (\n",
    "         SELECT\n",
    "             country,\n",
    "             MAX(total_purchases) max_purchase\n",
    "         FROM customer_country_purchases\n",
    "         GROUP BY 1\n",
    "        ),\n",
    "    country_best_customer AS\n",
    "        (\n",
    "         SELECT\n",
    "            cmp.country,\n",
    "            cmp.max_purchase,\n",
    "            (\n",
    "             SELECT ccp.customer_id\n",
    "             FROM customer_country_purchases ccp\n",
    "             WHERE ccp.country = cmp.country AND cmp.max_purchase = ccp.total_purchases\n",
    "            ) customer_id\n",
    "         FROM country_max_purchase cmp\n",
    "        )\n",
    "SELECT\n",
    "    cbc.country country,\n",
    "    c.first_name || \" \" || c.last_name customer_name,\n",
    "    cbc.max_purchase total_purchased\n",
    "FROM customer c\n",
    "INNER JOIN country_best_customer cbc ON cbc.customer_id = c.customer_id\n",
    "ORDER BY 1 ASC"
   ]
  },
  {
   "cell_type": "markdown",
   "metadata": {},
   "source": [
    "Well done on completing the challenge - that was a tough one! In this mission we've:\n",
    "\n",
    "* continued to practice working with complex joins to answer queries\n",
    "* learned how to use formatting and whitespace to make our queries more readable\n",
    "* learned how to use WITH and VIEW to make temporary and permanent views\n",
    "* learned how to perform set operations in SQL using UNION, INTERSECT, and EXCEPT"
   ]
  }
 ],
 "metadata": {
  "kernelspec": {
   "display_name": "Python 3",
   "language": "python",
   "name": "python3"
  },
  "language_info": {
   "codemirror_mode": {
    "name": "ipython",
    "version": 3
   },
   "file_extension": ".py",
   "mimetype": "text/x-python",
   "name": "python",
   "nbconvert_exporter": "python",
   "pygments_lexer": "ipython3",
   "version": "3.7.7"
  }
 },
 "nbformat": 4,
 "nbformat_minor": 4
}
