{
 "cells": [
  {
   "cell_type": "markdown",
   "metadata": {},
   "source": [
    "# 1. Overview"
   ]
  },
  {
   "cell_type": "markdown",
   "metadata": {},
   "source": [
    " In this mission, we'll explore how to interact with a SQLite database in Python so you can start to incorporate databases into your data science workflow."
   ]
  },
  {
   "cell_type": "markdown",
   "metadata": {},
   "source": [
    "`SQLite is a database that doesn't require a standalone server; it stores the entire database as a file on disk. This makes it ideal for working with larger datasets that can fit on disk but not in memory.`"
   ]
  },
  {
   "cell_type": "markdown",
   "metadata": {},
   "source": [
    "Python loads the entire data set we're working with into memory, making SQLite a compelling alternative for working with data sets larger than 8 gigabytes (which is roughly the amount of memory modern computers contain). `The fact that we can contain an entire database in a single file makes them easy to share; some data sets are available online as SQLite database files (using the extension .db).`"
   ]
  },
  {
   "cell_type": "markdown",
   "metadata": {},
   "source": [
    "We can interact with a SQLite database in two main ways:\n",
    "\n",
    "* Through the [sqlite3 Python module](https://docs.python.org/3/library/sqlite3.html)\n",
    "* Through the [SQLite shell](https://sqlite.org/cli.html)"
   ]
  },
  {
   "cell_type": "markdown",
   "metadata": {},
   "source": [
    "# 2. Introduction to the Data"
   ]
  },
  {
   "cell_type": "markdown",
   "metadata": {},
   "source": [
    "We'll continue to work with the American Community Survey data on college majors and job outcomes"
   ]
  },
  {
   "cell_type": "markdown",
   "metadata": {},
   "source": [
    "The full table has many more columns than the ones we've displayed above (21 to be specific). You can learn about all of them in [FiveThirtyEight's GitHub repository.](https://github.com/fivethirtyeight/data/tree/master/college-majors)"
   ]
  },
  {
   "cell_type": "markdown",
   "metadata": {},
   "source": [
    "Here are the descriptions for the columns in the preview:\n",
    "\n",
    "* Rank: The major's rank by median earnings\n",
    "* Major_code: The major's code or ID\n",
    "* Major: The name of the major\n",
    "* Major_category: The broader category the major belongs to\n",
    "* Total: The total number of people who studied the major\n",
    "* Sample_size: The sample size (unweighted) of graduates with full time jobs\n",
    "* Men: The number of male graduates\n",
    "* Women: The number of female graduates\n",
    "* ShareWomen: Women as a proportion of the total number of graduates (a number ranging from 0 to 1)\n",
    "* Employed: The number of employed graduates"
   ]
  },
  {
   "cell_type": "markdown",
   "metadata": {},
   "source": [
    "# 3. Connecting to the Database"
   ]
  },
  {
   "cell_type": "markdown",
   "metadata": {},
   "source": [
    "Specifically, we'll work with the sqlite3 Python module, which was developed to work with SQLite version 3."
   ]
  },
  {
   "cell_type": "markdown",
   "metadata": {},
   "source": [
    "* We can import it into our environment using this command:\n",
    "\n",
    "`import sqlite3`\n",
    "\n",
    "* Once we import the module, we connect to the database we want to query using the `connect()` function. This function requires a single parameter, which is the database we want to connect to. Because the database we're working with exists as a file on disk, we need to pass in the file name.\n",
    "`sqlite3.connect('jobs.db')`\n",
    "  * The connect() function returns a Connection instance, which maintains the connection to the database we want to work with."
   ]
  },
  {
   "cell_type": "code",
   "execution_count": 1,
   "metadata": {},
   "outputs": [],
   "source": [
    "import sqlite3\n",
    "conn=sqlite3.connect('jobs.db')"
   ]
  },
  {
   "cell_type": "markdown",
   "metadata": {},
   "source": [
    "# 4. Introduction to Cursor Objects and Tuples"
   ]
  },
  {
   "cell_type": "markdown",
   "metadata": {},
   "source": [
    "Before we can execute a query,` we need to express our SQL query as a string`. While `we use the Connection class `to represent the database we're working with, `we use the Cursor class to`:\n",
    "\n",
    "* Run a query against the database\n",
    "* Parse the results from the database\n",
    "* Convert the results to native Python objects\n",
    "* Store the results within the Cursor instance as a local variable\n",
    "\n",
    "After running a query and converting the results to a list of tuples, the` Cursor instance stores the list as a local variable`. Before diving into the syntax of querying the database, let's revise some of what we previously learned about tuples."
   ]
  },
  {
   "cell_type": "markdown",
   "metadata": {},
   "source": [
    "# 5. Working With Sequences of Values as Tuples"
   ]
  },
  {
   "cell_type": "markdown",
   "metadata": {},
   "source": [
    "A tuple is a core data structure that Python uses to represent a sequence of values, similar to a list. Unlike lists, tuples are immutable, which means we can't modify existing ones. `Python represents each row in the results set as a tuple.`"
   ]
  },
  {
   "cell_type": "code",
   "execution_count": 2,
   "metadata": {},
   "outputs": [],
   "source": [
    "# To create an empty tuple, assign a pair of empty parentheses to a variable:\n",
    "t = ()"
   ]
  },
  {
   "cell_type": "code",
   "execution_count": 3,
   "metadata": {},
   "outputs": [],
   "source": [
    "# Python indexes Tuples from 0 to n-1, just like it does with lists. We access the values in a tuple using bracket notation.\n",
    "t = ('Apple', 'Banana')\n",
    "apple = t[0] \n",
    "banana = t[1]"
   ]
  },
  {
   "cell_type": "markdown",
   "metadata": {},
   "source": [
    "\n",
    "\n",
    "**`Tuples are faster than lists, so they're helpful with larger databases and larger results sets.`**"
   ]
  },
  {
   "cell_type": "markdown",
   "metadata": {},
   "source": [
    "# 6. Creating a Cursor and Running a Query"
   ]
  },
  {
   "cell_type": "markdown",
   "metadata": {},
   "source": [
    "We need to use the `Connection instance method cursor() to return a Cursor instance `corresponding to the database we want to query."
   ]
  },
  {
   "cell_type": "markdown",
   "metadata": {},
   "source": [
    "`cursor = conn.cursor()`"
   ]
  },
  {
   "cell_type": "markdown",
   "metadata": {},
   "source": [
    "## TODO:\n",
    "* Write a query that returns all of the values in the Major column from the recent_grads table.\n",
    "* Store the full results set (a list of tuples) in majors.\n",
    "* Then, print the first three tuples in majors."
   ]
  },
  {
   "cell_type": "code",
   "execution_count": 4,
   "metadata": {},
   "outputs": [],
   "source": [
    "import sqlite3\n",
    "conn=sqlite3.connect('jobs.db')\n",
    "\n",
    "cursor=conn.cursor()  # connection instance method cursor\n",
    "\n",
    "query=\"SELECT Major FROM recent_grads\"\n",
    "\n",
    "cursor.execute(query)\n",
    "\n",
    "majors=cursor.fetchall()\n",
    "print(majors[0:2])\n"
   ]
  },
  {
   "cell_type": "markdown",
   "metadata": {},
   "source": [
    "# 7. Execute as a Shortcut for Running a Query"
   ]
  },
  {
   "cell_type": "markdown",
   "metadata": {},
   "source": [
    "So far, we've run queries by creating a Cursor instance, and then calling the execute method on the instance. The SQLite library actually allows us to skip creating a Cursor altogether by using the execute method within the Connection object itself. SQLite will create a Cursor instance for us under the hood and run our query against the database, allowing us to skip a step. Here's what the code looks like:"
   ]
  },
  {
   "cell_type": "code",
   "execution_count": 5,
   "metadata": {},
   "outputs": [
    {
     "data": {
      "text/plain": [
       "[('PETROLEUM ENGINEERING',),\n",
       " ('MINING AND MINERAL ENGINEERING',),\n",
       " ('METALLURGICAL ENGINEERING',),\n",
       " ('NAVAL ARCHITECTURE AND MARINE ENGINEERING',),\n",
       " ('CHEMICAL ENGINEERING',),\n",
       " ('NUCLEAR ENGINEERING',),\n",
       " ('ACTUARIAL SCIENCE',),\n",
       " ('ASTRONOMY AND ASTROPHYSICS',),\n",
       " ('MECHANICAL ENGINEERING',),\n",
       " ('ELECTRICAL ENGINEERING',),\n",
       " ('COMPUTER ENGINEERING',),\n",
       " ('AEROSPACE ENGINEERING',),\n",
       " ('BIOMEDICAL ENGINEERING',),\n",
       " ('MATERIALS SCIENCE',),\n",
       " ('ENGINEERING MECHANICS PHYSICS AND SCIENCE',),\n",
       " ('BIOLOGICAL ENGINEERING',),\n",
       " ('INDUSTRIAL AND MANUFACTURING ENGINEERING',),\n",
       " ('GENERAL ENGINEERING',),\n",
       " ('ARCHITECTURAL ENGINEERING',),\n",
       " ('COURT REPORTING',),\n",
       " ('COMPUTER SCIENCE',),\n",
       " ('FOOD SCIENCE',),\n",
       " ('ELECTRICAL ENGINEERING TECHNOLOGY',),\n",
       " ('MATERIALS ENGINEERING AND MATERIALS SCIENCE',),\n",
       " ('MANAGEMENT INFORMATION SYSTEMS AND STATISTICS',),\n",
       " ('CIVIL ENGINEERING',),\n",
       " ('CONSTRUCTION SERVICES',),\n",
       " ('OPERATIONS LOGISTICS AND E-COMMERCE',),\n",
       " ('MISCELLANEOUS ENGINEERING',),\n",
       " ('PUBLIC POLICY',),\n",
       " ('ENVIRONMENTAL ENGINEERING',),\n",
       " ('ENGINEERING TECHNOLOGIES',),\n",
       " ('MISCELLANEOUS FINE ARTS',),\n",
       " ('GEOLOGICAL AND GEOPHYSICAL ENGINEERING',),\n",
       " ('NURSING',),\n",
       " ('FINANCE',),\n",
       " ('ECONOMICS',),\n",
       " ('BUSINESS ECONOMICS',),\n",
       " ('INDUSTRIAL PRODUCTION TECHNOLOGIES',),\n",
       " ('NUCLEAR, INDUSTRIAL RADIOLOGY, AND BIOLOGICAL TECHNOLOGIES',),\n",
       " ('ACCOUNTING',),\n",
       " ('MATHEMATICS',),\n",
       " ('COMPUTER AND INFORMATION SYSTEMS',),\n",
       " ('PHYSICS',),\n",
       " ('MEDICAL TECHNOLOGIES TECHNICIANS',),\n",
       " ('INFORMATION SCIENCES',),\n",
       " ('STATISTICS AND DECISION SCIENCE',),\n",
       " ('APPLIED MATHEMATICS',),\n",
       " ('PHARMACOLOGY',),\n",
       " ('OCEANOGRAPHY',),\n",
       " ('ENGINEERING AND INDUSTRIAL MANAGEMENT',),\n",
       " ('MEDICAL ASSISTING SERVICES',),\n",
       " ('MATHEMATICS AND COMPUTER SCIENCE',),\n",
       " ('COMPUTER PROGRAMMING AND DATA PROCESSING',),\n",
       " ('COGNITIVE SCIENCE AND BIOPSYCHOLOGY',),\n",
       " ('SCHOOL STUDENT COUNSELING',),\n",
       " ('INTERNATIONAL RELATIONS',),\n",
       " ('GENERAL BUSINESS',),\n",
       " ('ARCHITECTURE',),\n",
       " ('INTERNATIONAL BUSINESS',),\n",
       " ('PHARMACY PHARMACEUTICAL SCIENCES AND ADMINISTRATION',),\n",
       " ('MOLECULAR BIOLOGY',),\n",
       " ('MISCELLANEOUS BUSINESS & MEDICAL ADMINISTRATION',),\n",
       " ('AGRICULTURE PRODUCTION AND MANAGEMENT',),\n",
       " ('GENERAL AGRICULTURE',),\n",
       " ('MISCELLANEOUS ENGINEERING TECHNOLOGIES',),\n",
       " ('MECHANICAL ENGINEERING RELATED TECHNOLOGIES',),\n",
       " ('GENETICS',),\n",
       " ('MISCELLANEOUS SOCIAL SCIENCES',),\n",
       " ('UNITED STATES HISTORY',),\n",
       " ('INDUSTRIAL AND ORGANIZATIONAL PSYCHOLOGY',),\n",
       " ('AGRICULTURAL ECONOMICS',),\n",
       " ('PHYSICAL SCIENCES',),\n",
       " ('MILITARY TECHNOLOGIES',),\n",
       " ('CHEMISTRY',),\n",
       " ('ELECTRICAL, MECHANICAL, AND PRECISION TECHNOLOGIES AND PRODUCTION',),\n",
       " ('BUSINESS MANAGEMENT AND ADMINISTRATION',),\n",
       " ('MARKETING AND MARKETING RESEARCH',),\n",
       " ('POLITICAL SCIENCE AND GOVERNMENT',),\n",
       " ('GEOGRAPHY',),\n",
       " ('MICROBIOLOGY',),\n",
       " ('COMPUTER ADMINISTRATION MANAGEMENT AND SECURITY',),\n",
       " ('BIOCHEMICAL SCIENCES',),\n",
       " ('BOTANY',),\n",
       " ('COMPUTER NETWORKING AND TELECOMMUNICATIONS',),\n",
       " ('GEOLOGY AND EARTH SCIENCE',),\n",
       " ('HUMAN RESOURCES AND PERSONNEL MANAGEMENT',),\n",
       " ('PRE-LAW AND LEGAL STUDIES',),\n",
       " ('MISCELLANEOUS HEALTH MEDICAL PROFESSIONS',),\n",
       " ('PUBLIC ADMINISTRATION',),\n",
       " ('GEOSCIENCES',),\n",
       " ('SOCIAL PSYCHOLOGY',),\n",
       " ('ENVIRONMENTAL SCIENCE',),\n",
       " ('COMMUNICATIONS',),\n",
       " ('CRIMINAL JUSTICE AND FIRE PROTECTION',),\n",
       " ('COMMERCIAL ART AND GRAPHIC DESIGN',),\n",
       " ('JOURNALISM',),\n",
       " ('MULTI-DISCIPLINARY OR GENERAL SCIENCE',),\n",
       " ('ADVERTISING AND PUBLIC RELATIONS',),\n",
       " ('AREA ETHNIC AND CIVILIZATION STUDIES',),\n",
       " ('SPECIAL NEEDS EDUCATION',),\n",
       " ('PHYSIOLOGY',),\n",
       " ('CRIMINOLOGY',),\n",
       " ('NUTRITION SCIENCES',),\n",
       " ('HEALTH AND MEDICAL ADMINISTRATIVE SERVICES',),\n",
       " ('COMMUNICATION TECHNOLOGIES',),\n",
       " ('TRANSPORTATION SCIENCES AND TECHNOLOGIES',),\n",
       " ('NATURAL RESOURCES MANAGEMENT',),\n",
       " ('NEUROSCIENCE',),\n",
       " ('MULTI/INTERDISCIPLINARY STUDIES',),\n",
       " ('ATMOSPHERIC SCIENCES AND METEOROLOGY',),\n",
       " ('FORESTRY',),\n",
       " ('SOIL SCIENCE',),\n",
       " ('GENERAL EDUCATION',),\n",
       " ('HISTORY',),\n",
       " ('FRENCH GERMAN LATIN AND OTHER COMMON FOREIGN LANGUAGE STUDIES',),\n",
       " ('INTERCULTURAL AND INTERNATIONAL STUDIES',),\n",
       " ('SOCIAL SCIENCE OR HISTORY TEACHER EDUCATION',),\n",
       " ('COMMUNITY AND PUBLIC HEALTH',),\n",
       " ('MATHEMATICS TEACHER EDUCATION',),\n",
       " ('EDUCATIONAL ADMINISTRATION AND SUPERVISION',),\n",
       " ('HEALTH AND MEDICAL PREPARATORY PROGRAMS',),\n",
       " ('MISCELLANEOUS BIOLOGY',),\n",
       " ('BIOLOGY',),\n",
       " ('SOCIOLOGY',),\n",
       " ('MASS MEDIA',),\n",
       " ('TREATMENT THERAPY PROFESSIONS',),\n",
       " ('HOSPITALITY MANAGEMENT',),\n",
       " ('LANGUAGE AND DRAMA EDUCATION',),\n",
       " ('LINGUISTICS AND COMPARATIVE LANGUAGE AND LITERATURE',),\n",
       " ('MISCELLANEOUS EDUCATION',),\n",
       " ('INTERDISCIPLINARY SOCIAL SCIENCES',),\n",
       " ('ECOLOGY',),\n",
       " ('SECONDARY TEACHER EDUCATION',),\n",
       " ('GENERAL MEDICAL AND HEALTH SERVICES',),\n",
       " ('PHILOSOPHY AND RELIGIOUS STUDIES',),\n",
       " ('ART AND MUSIC EDUCATION',),\n",
       " ('ENGLISH LANGUAGE AND LITERATURE',),\n",
       " ('ELEMENTARY EDUCATION',),\n",
       " ('PHYSICAL FITNESS PARKS RECREATION AND LEISURE',),\n",
       " ('LIBERAL ARTS',),\n",
       " ('FILM VIDEO AND PHOTOGRAPHIC ARTS',),\n",
       " ('GENERAL SOCIAL SCIENCES',),\n",
       " ('PLANT SCIENCE AND AGRONOMY',),\n",
       " ('SCIENCE AND COMPUTER TEACHER EDUCATION',),\n",
       " ('PSYCHOLOGY',),\n",
       " ('MUSIC',),\n",
       " ('PHYSICAL AND HEALTH EDUCATION TEACHING',),\n",
       " ('ART HISTORY AND CRITICISM',),\n",
       " ('FINE ARTS',),\n",
       " ('FAMILY AND CONSUMER SCIENCES',),\n",
       " ('SOCIAL WORK',),\n",
       " ('ANIMAL SCIENCES',),\n",
       " ('VISUAL AND PERFORMING ARTS',),\n",
       " ('TEACHER EDUCATION: MULTIPLE LEVELS',),\n",
       " ('MISCELLANEOUS PSYCHOLOGY',),\n",
       " ('HUMAN SERVICES AND COMMUNITY ORGANIZATION',),\n",
       " ('HUMANITIES',),\n",
       " ('THEOLOGY AND RELIGIOUS VOCATIONS',),\n",
       " ('STUDIO ARTS',),\n",
       " ('COSMETOLOGY SERVICES AND CULINARY ARTS',),\n",
       " ('MISCELLANEOUS AGRICULTURE',),\n",
       " ('ANTHROPOLOGY AND ARCHEOLOGY',),\n",
       " ('COMMUNICATION DISORDERS SCIENCES AND SERVICES',),\n",
       " ('EARLY CHILDHOOD EDUCATION',),\n",
       " ('OTHER FOREIGN LANGUAGES',),\n",
       " ('DRAMA AND THEATER ARTS',),\n",
       " ('COMPOSITION AND RHETORIC',),\n",
       " ('ZOOLOGY',),\n",
       " ('EDUCATIONAL PSYCHOLOGY',),\n",
       " ('CLINICAL PSYCHOLOGY',),\n",
       " ('COUNSELING PSYCHOLOGY',),\n",
       " ('LIBRARY SCIENCE',)]"
      ]
     },
     "execution_count": 5,
     "metadata": {},
     "output_type": "execute_result"
    }
   ],
   "source": [
    "conn=sqlite3.connect('jobs.db')\n",
    "query=\"SELECT Major FROM recent_grads\"\n",
    "conn.execute(query).fetchall()"
   ]
  },
  {
   "cell_type": "markdown",
   "metadata": {},
   "source": [
    "`Notice that we didn't explicitly create a separate Cursor instance ourselves in this code example.`"
   ]
  },
  {
   "cell_type": "markdown",
   "metadata": {},
   "source": [
    "# 8. Fetching a Specific Number of Results"
   ]
  },
  {
   "cell_type": "markdown",
   "metadata": {},
   "source": [
    "To make it easier to work with large results sets, the Cursor class allows us to control the number of results we want to retrieve at any given time.` To return a single result (as a tuple), we use the Cursor method fetchone(). To return n results, we use the Cursor method `fetchmany()`."
   ]
  },
  {
   "cell_type": "markdown",
   "metadata": {},
   "source": [
    "Each Cursor instance contains an internal counter that updates every time we retrieve results. When we call the fetchone() method, the Cursor instance will return a single result, and then increment its internal counter by 1. This means that if we call fetchone() again, the Cursor instance will actually return the second tuple in the results set (and increment by 1 again).\n",
    "\n",
    "The fetchmany() method takes in an integer (n) and returns the corresponding results, starting from the current position. It then increments the Cursor instance's counter by n. In the following code, we return the first two results using the fetchone() method, then the next five results using the fetchmany() method."
   ]
  },
  {
   "cell_type": "markdown",
   "metadata": {},
   "source": [
    "## TODO:\n",
    "* Write and run a query that returns the Major and Major_category columns from recent_grads.\n",
    "* Then, fetch the first five results and store them as five_results"
   ]
  },
  {
   "cell_type": "code",
   "execution_count": 6,
   "metadata": {},
   "outputs": [
    {
     "data": {
      "text/plain": [
       "[('PETROLEUM ENGINEERING', 'Engineering'),\n",
       " ('MINING AND MINERAL ENGINEERING', 'Engineering'),\n",
       " ('METALLURGICAL ENGINEERING', 'Engineering'),\n",
       " ('NAVAL ARCHITECTURE AND MARINE ENGINEERING', 'Engineering'),\n",
       " ('CHEMICAL ENGINEERING', 'Engineering')]"
      ]
     },
     "execution_count": 6,
     "metadata": {},
     "output_type": "execute_result"
    }
   ],
   "source": [
    "con=sqlite3.connect('jobs.db')\n",
    "cur=con.cursor()\n",
    "query=\"SELECT Major,Major_category FROM recent_grads \"\n",
    "five_results=cur.execute(query).fetchmany(5)\n",
    "five_results"
   ]
  },
  {
   "cell_type": "markdown",
   "metadata": {},
   "source": [
    "# 9. Closing the Database Connection"
   ]
  },
  {
   "cell_type": "markdown",
   "metadata": {},
   "source": [
    "`To close a connection to a database, use the Connection instance method close().`"
   ]
  },
  {
   "cell_type": "code",
   "execution_count": 7,
   "metadata": {},
   "outputs": [],
   "source": [
    "con.close()"
   ]
  },
  {
   "cell_type": "markdown",
   "metadata": {},
   "source": [
    "## TODO:\n",
    "* Connect to the database jobs2.db, which contains the same data as jobs.db.\n",
    "* Write and execute a query that returns all of the majors (Major) in reverse alphabetical order (Z to A).\n",
    "* Assign the full result set to reverse_alphabetical.\n",
    "* Finally, close the connection to the database."
   ]
  },
  {
   "cell_type": "code",
   "execution_count": 8,
   "metadata": {},
   "outputs": [
    {
     "data": {
      "text/plain": [
       "[('ZOOLOGY',),\n",
       " ('VISUAL AND PERFORMING ARTS',),\n",
       " ('UNITED STATES HISTORY',),\n",
       " ('TREATMENT THERAPY PROFESSIONS',),\n",
       " ('TRANSPORTATION SCIENCES AND TECHNOLOGIES',),\n",
       " ('THEOLOGY AND RELIGIOUS VOCATIONS',),\n",
       " ('TEACHER EDUCATION: MULTIPLE LEVELS',),\n",
       " ('STUDIO ARTS',),\n",
       " ('STATISTICS AND DECISION SCIENCE',),\n",
       " ('SPECIAL NEEDS EDUCATION',),\n",
       " ('SOIL SCIENCE',),\n",
       " ('SOCIOLOGY',),\n",
       " ('SOCIAL WORK',),\n",
       " ('SOCIAL SCIENCE OR HISTORY TEACHER EDUCATION',),\n",
       " ('SOCIAL PSYCHOLOGY',),\n",
       " ('SECONDARY TEACHER EDUCATION',),\n",
       " ('SCIENCE AND COMPUTER TEACHER EDUCATION',),\n",
       " ('SCHOOL STUDENT COUNSELING',),\n",
       " ('PUBLIC POLICY',),\n",
       " ('PUBLIC ADMINISTRATION',),\n",
       " ('PSYCHOLOGY',),\n",
       " ('PRE-LAW AND LEGAL STUDIES',),\n",
       " ('POLITICAL SCIENCE AND GOVERNMENT',),\n",
       " ('PLANT SCIENCE AND AGRONOMY',),\n",
       " ('PHYSIOLOGY',),\n",
       " ('PHYSICS',),\n",
       " ('PHYSICAL SCIENCES',),\n",
       " ('PHYSICAL FITNESS PARKS RECREATION AND LEISURE',),\n",
       " ('PHYSICAL AND HEALTH EDUCATION TEACHING',),\n",
       " ('PHILOSOPHY AND RELIGIOUS STUDIES',),\n",
       " ('PHARMACY PHARMACEUTICAL SCIENCES AND ADMINISTRATION',),\n",
       " ('PHARMACOLOGY',),\n",
       " ('PETROLEUM ENGINEERING',),\n",
       " ('OTHER FOREIGN LANGUAGES',),\n",
       " ('OPERATIONS LOGISTICS AND E-COMMERCE',),\n",
       " ('OCEANOGRAPHY',),\n",
       " ('NUTRITION SCIENCES',),\n",
       " ('NURSING',),\n",
       " ('NUCLEAR, INDUSTRIAL RADIOLOGY, AND BIOLOGICAL TECHNOLOGIES',),\n",
       " ('NUCLEAR ENGINEERING',),\n",
       " ('NEUROSCIENCE',),\n",
       " ('NAVAL ARCHITECTURE AND MARINE ENGINEERING',),\n",
       " ('NATURAL RESOURCES MANAGEMENT',),\n",
       " ('MUSIC',),\n",
       " ('MULTI/INTERDISCIPLINARY STUDIES',),\n",
       " ('MULTI-DISCIPLINARY OR GENERAL SCIENCE',),\n",
       " ('MOLECULAR BIOLOGY',),\n",
       " ('MISCELLANEOUS SOCIAL SCIENCES',),\n",
       " ('MISCELLANEOUS PSYCHOLOGY',),\n",
       " ('MISCELLANEOUS HEALTH MEDICAL PROFESSIONS',),\n",
       " ('MISCELLANEOUS FINE ARTS',),\n",
       " ('MISCELLANEOUS ENGINEERING TECHNOLOGIES',),\n",
       " ('MISCELLANEOUS ENGINEERING',),\n",
       " ('MISCELLANEOUS EDUCATION',),\n",
       " ('MISCELLANEOUS BUSINESS & MEDICAL ADMINISTRATION',),\n",
       " ('MISCELLANEOUS BIOLOGY',),\n",
       " ('MISCELLANEOUS AGRICULTURE',),\n",
       " ('MINING AND MINERAL ENGINEERING',),\n",
       " ('MILITARY TECHNOLOGIES',),\n",
       " ('MICROBIOLOGY',),\n",
       " ('METALLURGICAL ENGINEERING',),\n",
       " ('MEDICAL TECHNOLOGIES TECHNICIANS',),\n",
       " ('MEDICAL ASSISTING SERVICES',),\n",
       " ('MECHANICAL ENGINEERING RELATED TECHNOLOGIES',),\n",
       " ('MECHANICAL ENGINEERING',),\n",
       " ('MATHEMATICS TEACHER EDUCATION',),\n",
       " ('MATHEMATICS AND COMPUTER SCIENCE',),\n",
       " ('MATHEMATICS',),\n",
       " ('MATERIALS SCIENCE',),\n",
       " ('MATERIALS ENGINEERING AND MATERIALS SCIENCE',),\n",
       " ('MASS MEDIA',),\n",
       " ('MARKETING AND MARKETING RESEARCH',),\n",
       " ('MANAGEMENT INFORMATION SYSTEMS AND STATISTICS',),\n",
       " ('LINGUISTICS AND COMPARATIVE LANGUAGE AND LITERATURE',),\n",
       " ('LIBRARY SCIENCE',),\n",
       " ('LIBERAL ARTS',),\n",
       " ('LANGUAGE AND DRAMA EDUCATION',),\n",
       " ('JOURNALISM',),\n",
       " ('INTERNATIONAL RELATIONS',),\n",
       " ('INTERNATIONAL BUSINESS',),\n",
       " ('INTERDISCIPLINARY SOCIAL SCIENCES',),\n",
       " ('INTERCULTURAL AND INTERNATIONAL STUDIES',),\n",
       " ('INFORMATION SCIENCES',),\n",
       " ('INDUSTRIAL PRODUCTION TECHNOLOGIES',),\n",
       " ('INDUSTRIAL AND ORGANIZATIONAL PSYCHOLOGY',),\n",
       " ('INDUSTRIAL AND MANUFACTURING ENGINEERING',),\n",
       " ('HUMANITIES',),\n",
       " ('HUMAN SERVICES AND COMMUNITY ORGANIZATION',),\n",
       " ('HUMAN RESOURCES AND PERSONNEL MANAGEMENT',),\n",
       " ('HOSPITALITY MANAGEMENT',),\n",
       " ('HISTORY',),\n",
       " ('HEALTH AND MEDICAL PREPARATORY PROGRAMS',),\n",
       " ('HEALTH AND MEDICAL ADMINISTRATIVE SERVICES',),\n",
       " ('GEOSCIENCES',),\n",
       " ('GEOLOGY AND EARTH SCIENCE',),\n",
       " ('GEOLOGICAL AND GEOPHYSICAL ENGINEERING',),\n",
       " ('GEOGRAPHY',),\n",
       " ('GENETICS',),\n",
       " ('GENERAL SOCIAL SCIENCES',),\n",
       " ('GENERAL MEDICAL AND HEALTH SERVICES',),\n",
       " ('GENERAL ENGINEERING',),\n",
       " ('GENERAL EDUCATION',),\n",
       " ('GENERAL BUSINESS',),\n",
       " ('GENERAL AGRICULTURE',),\n",
       " ('FRENCH GERMAN LATIN AND OTHER COMMON FOREIGN LANGUAGE STUDIES',),\n",
       " ('FORESTRY',),\n",
       " ('FOOD SCIENCE',),\n",
       " ('FINE ARTS',),\n",
       " ('FINANCE',),\n",
       " ('FILM VIDEO AND PHOTOGRAPHIC ARTS',),\n",
       " ('FAMILY AND CONSUMER SCIENCES',),\n",
       " ('ENVIRONMENTAL SCIENCE',),\n",
       " ('ENVIRONMENTAL ENGINEERING',),\n",
       " ('ENGLISH LANGUAGE AND LITERATURE',),\n",
       " ('ENGINEERING TECHNOLOGIES',),\n",
       " ('ENGINEERING MECHANICS PHYSICS AND SCIENCE',),\n",
       " ('ENGINEERING AND INDUSTRIAL MANAGEMENT',),\n",
       " ('ELEMENTARY EDUCATION',),\n",
       " ('ELECTRICAL, MECHANICAL, AND PRECISION TECHNOLOGIES AND PRODUCTION',),\n",
       " ('ELECTRICAL ENGINEERING TECHNOLOGY',),\n",
       " ('ELECTRICAL ENGINEERING',),\n",
       " ('EDUCATIONAL PSYCHOLOGY',),\n",
       " ('EDUCATIONAL ADMINISTRATION AND SUPERVISION',),\n",
       " ('ECONOMICS',),\n",
       " ('ECOLOGY',),\n",
       " ('EARLY CHILDHOOD EDUCATION',),\n",
       " ('DRAMA AND THEATER ARTS',),\n",
       " ('CRIMINOLOGY',),\n",
       " ('CRIMINAL JUSTICE AND FIRE PROTECTION',),\n",
       " ('COURT REPORTING',),\n",
       " ('COUNSELING PSYCHOLOGY',),\n",
       " ('COSMETOLOGY SERVICES AND CULINARY ARTS',),\n",
       " ('CONSTRUCTION SERVICES',),\n",
       " ('COMPUTER SCIENCE',),\n",
       " ('COMPUTER PROGRAMMING AND DATA PROCESSING',),\n",
       " ('COMPUTER NETWORKING AND TELECOMMUNICATIONS',),\n",
       " ('COMPUTER ENGINEERING',),\n",
       " ('COMPUTER AND INFORMATION SYSTEMS',),\n",
       " ('COMPUTER ADMINISTRATION MANAGEMENT AND SECURITY',),\n",
       " ('COMPOSITION AND RHETORIC',),\n",
       " ('COMMUNITY AND PUBLIC HEALTH',),\n",
       " ('COMMUNICATIONS',),\n",
       " ('COMMUNICATION TECHNOLOGIES',),\n",
       " ('COMMUNICATION DISORDERS SCIENCES AND SERVICES',),\n",
       " ('COMMERCIAL ART AND GRAPHIC DESIGN',),\n",
       " ('COGNITIVE SCIENCE AND BIOPSYCHOLOGY',),\n",
       " ('CLINICAL PSYCHOLOGY',),\n",
       " ('CIVIL ENGINEERING',),\n",
       " ('CHEMISTRY',),\n",
       " ('CHEMICAL ENGINEERING',),\n",
       " ('BUSINESS MANAGEMENT AND ADMINISTRATION',),\n",
       " ('BUSINESS ECONOMICS',),\n",
       " ('BOTANY',),\n",
       " ('BIOMEDICAL ENGINEERING',),\n",
       " ('BIOLOGY',),\n",
       " ('BIOLOGICAL ENGINEERING',),\n",
       " ('BIOCHEMICAL SCIENCES',),\n",
       " ('ATMOSPHERIC SCIENCES AND METEOROLOGY',),\n",
       " ('ASTRONOMY AND ASTROPHYSICS',),\n",
       " ('ART HISTORY AND CRITICISM',),\n",
       " ('ART AND MUSIC EDUCATION',),\n",
       " ('AREA ETHNIC AND CIVILIZATION STUDIES',),\n",
       " ('ARCHITECTURE',),\n",
       " ('ARCHITECTURAL ENGINEERING',),\n",
       " ('APPLIED MATHEMATICS',),\n",
       " ('ANTHROPOLOGY AND ARCHEOLOGY',),\n",
       " ('ANIMAL SCIENCES',),\n",
       " ('AGRICULTURE PRODUCTION AND MANAGEMENT',),\n",
       " ('AGRICULTURAL ECONOMICS',),\n",
       " ('AEROSPACE ENGINEERING',),\n",
       " ('ADVERTISING AND PUBLIC RELATIONS',),\n",
       " ('ACTUARIAL SCIENCE',),\n",
       " ('ACCOUNTING',)]"
      ]
     },
     "execution_count": 8,
     "metadata": {},
     "output_type": "execute_result"
    }
   ],
   "source": [
    "import sqlite3 \n",
    "conn=sqlite3.connect('jobs2.db')\n",
    "cursor=conn.cursor()\n",
    "query=\"SELECT Major FROM recent_grads ORDER BY Major desc \"\n",
    "reverse_alphabetical=cursor.execute(query).fetchall()\n",
    "conn.close()\n",
    "reverse_alphabetical"
   ]
  }
 ],
 "metadata": {
  "kernelspec": {
   "display_name": "Python 3",
   "language": "python",
   "name": "python3"
  },
  "language_info": {
   "codemirror_mode": {
    "name": "ipython",
    "version": 3
   },
   "file_extension": ".py",
   "mimetype": "text/x-python",
   "name": "python",
   "nbconvert_exporter": "python",
   "pygments_lexer": "ipython3",
   "version": "3.7.3"
  }
 },
 "nbformat": 4,
 "nbformat_minor": 2
}
