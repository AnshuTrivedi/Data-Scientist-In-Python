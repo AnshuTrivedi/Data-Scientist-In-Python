{
 "cells": [
  {
   "cell_type": "markdown",
   "metadata": {},
   "source": [
    "# 1. The SQLite Shell"
   ]
  },
  {
   "cell_type": "markdown",
   "metadata": {},
   "source": [
    "Rather than working with a SQL editor, `in this mission we'll be working with the SQLite shell — a command-line interface to interact with SQLite.`"
   ]
  },
  {
   "cell_type": "markdown",
   "metadata": {},
   "source": [
    "A command-line interface is a text only program through which users interact with computers by typing text instructions. "
   ]
  },
  {
   "cell_type": "markdown",
   "metadata": {},
   "source": [
    "`As a result, unlike any of the places you've written SQL queries so far, including a semicolon (;) is necessary in the SQLite shell`"
   ]
  },
  {
   "cell_type": "markdown",
   "metadata": {},
   "source": [
    "There are several other dot commands you'll use often:\n",
    "\n",
    "* .help - Displays help text showing all dot commands and their function.\n",
    "* .tables - Displays a list of all tables and views in the current database.\n",
    "* .shell [command] - Run a command like ls or clear in the system shell.\n",
    "* .quit - Quits the SQLite shell."
   ]
  },
  {
   "cell_type": "markdown",
   "metadata": {},
   "source": [
    "# 2. Creating Tables"
   ]
  },
  {
   "cell_type": "markdown",
   "metadata": {},
   "source": [
    "`qlite3 new_database.db\n",
    "  sqlite3> CREATE TABLE user (\n",
    "      ...> user_id INTEGER,\n",
    "      ...> first_name TEXT,\n",
    "      ...> last_name TEXT\n",
    "      ...> );\n",
    "  sqlite3> .schema user\n",
    "  sqlite3> .quit`"
   ]
  },
  {
   "cell_type": "markdown",
   "metadata": {},
   "source": [
    "# 3. Primary and Foreign Keys"
   ]
  },
  {
   "cell_type": "markdown",
   "metadata": {},
   "source": [
    "`A primary key is a unique identifier for each row - you cannot have two rows in a table with the same value for the primary key column(s).`"
   ]
  },
  {
   "cell_type": "markdown",
   "metadata": {},
   "source": [
    "`By defining a foreign key, our database engine will prevent us from adding rows where the foreign key value doesn't exist in the other table, which helps to prevent errors in our data `"
   ]
  },
  {
   "cell_type": "markdown",
   "metadata": {},
   "source": [
    "`sqlite3 chinook.db\n",
    "  sqlite3> CREATE TABLE wishlist (\n",
    "      ...> wishlist_id INTEGER PRIMARY KEY,\n",
    "      ...> customer_id INTEGER,\n",
    "      ...> name TEXT,\n",
    "      ...> FOREIGN KEY (customer_id) REFERENCES customer(customer_id)\n",
    "      ...> );\n",
    "  sqlite3> .quit`"
   ]
  },
  {
   "cell_type": "markdown",
   "metadata": {},
   "source": [
    "# 4. Database Normalization"
   ]
  },
  {
   "cell_type": "markdown",
   "metadata": {},
   "source": [
    "When we created our wishlist table, we didn't include a track_id column to store which tracks are in the users wishlist. To understand why, let's take a look at what the table might look like if we stored all the data in a single table."
   ]
  },
  {
   "cell_type": "markdown",
   "metadata": {},
   "source": [
    "\n",
    "|wishlist_id|\tcustomer_id\t|name\t|track_id|\n",
    "|----|------|-------|------|\n",
    "|1\t|34|\tJoao's awesome wishlist\t|1158|\n",
    "|1\t|34|\tJoao's awesome wishlist\t|2646|\n",
    "|1\t|34\t|Joao's awesome wishlist\t|1990|\n",
    "|2\t|18\t|Amy loves pop\t|3272|\n",
    "|2\t|18\t|Amy loves pop\t|3470|"
   ]
  },
  {
   "cell_type": "markdown",
   "metadata": {},
   "source": [
    "There are are some drawbacks to storing the data this way:\n",
    "\n",
    "* **Data Duplication** - we are storing the name of each wishlist multiple times.\n",
    "* **Data Modification** - if we want to change the name of one of the wishlists, we have to modify multiple rows.\n",
    "* **Data Integrity** - There is nothing to stop a row being added with the wrong wishlist name, and if that happened we wouldn't know which was the correct name."
   ]
  },
  {
   "cell_type": "markdown",
   "metadata": {},
   "source": [
    "`When two or more columns combine to form a primary key it is called a compound primary key.`"
   ]
  },
  {
   "cell_type": "markdown",
   "metadata": {},
   "source": [
    "`sqlite3 chinook.db\n",
    "sqlite3> CREATE TABLE wishlist_track (\n",
    "      ...> wishlist_id INTEGER,\n",
    "      ...> track_id INTEGER,\n",
    "      ...> PRIMARY KEY (wishlist_id, track_id),\n",
    "      ...> FOREIGN KEY (wishlist_id) REFERENCES wishlist(wishlist_id),\n",
    "      ...> FOREIGN KEY (track_id) REFERENCES track(track_id)\n",
    "      ...> );\n",
    "  sqlite3> .quit`"
   ]
  },
  {
   "cell_type": "markdown",
   "metadata": {},
   "source": [
    "# 5. Inserting and Deleting Rows"
   ]
  },
  {
   "cell_type": "markdown",
   "metadata": {},
   "source": [
    "To add rows to a SQL table, we'll use the INSERT statement:\n",
    "\n",
    "`INSERT INTO [table_name] (\n",
    "    [column1_name],\n",
    "    [column2_name],\n",
    "    [column3_name]\n",
    ") VALUES (\n",
    "    [value1],\n",
    "    [value2],\n",
    "    [value3]\n",
    ");`"
   ]
  },
  {
   "cell_type": "markdown",
   "metadata": {},
   "source": [
    "`sqlite3 chinook.db\n",
    "  sqlite3> INSERT INTO wishlist\n",
    "      ...> VALUES\n",
    "      ...>     (1, 34, \"Joao's awesome wishlist\"),\n",
    "      ...>     (2, 18, \"Amy loves pop\");\n",
    "  sqlite3> INSERT INTO wishlist_track\n",
    "      ...> VALUES\n",
    "      ...>     (1, 1158),\n",
    "      ...>     (1, 2646),\n",
    "      ...>     (1, 1990),\n",
    "      ...>     (2, 3272),\n",
    "      ...>     (2, 3470);\n",
    "  sqlite3> .quit`"
   ]
  },
  {
   "cell_type": "markdown",
   "metadata": {},
   "source": [
    "# 6. Adding Columns to a Table"
   ]
  },
  {
   "cell_type": "markdown",
   "metadata": {},
   "source": [
    "We'll need to add a column to each of our tables. We can use the ALTER statement to do this."
   ]
  },
  {
   "cell_type": "markdown",
   "metadata": {},
   "source": [
    "`ALTER TABLE [table_name]\n",
    "ADD COLUMN [column_name] [column_type];`"
   ]
  },
  {
   "cell_type": "markdown",
   "metadata": {},
   "source": [
    "`sqlite3 chinook.db\n",
    "sqlite3> ALTER TABLE wishlist\n",
    "     ...> ADD COLUMN active NUMERIC;\n",
    " sqlite3> ALTER TABLE wishlist_track\n",
    "     ...> ADD COLUMN active NUMERIC;\n",
    "  sqlite3> .quit`"
   ]
  },
  {
   "cell_type": "markdown",
   "metadata": {},
   "source": [
    "# 7. Adding Values to Existing Rows"
   ]
  },
  {
   "cell_type": "markdown",
   "metadata": {},
   "source": [
    "We've added our columns to both wishlist tables, but currently they don't have any data in them. To change values for existing rows, we use the UPDATE statement:"
   ]
  },
  {
   "cell_type": "markdown",
   "metadata": {},
   "source": [
    "`UPDATE [table_name]\n",
    "SET [column_name] = [expression]\n",
    "WHERE [expression]`"
   ]
  },
  {
   "cell_type": "markdown",
   "metadata": {},
   "source": [
    "We can use a subquery **that returns a single value**:"
   ]
  },
  {
   "cell_type": "markdown",
   "metadata": {},
   "source": [
    "`UPDATE track\n",
    "SET unit_price = (\n",
    "                    SELECT AVG(unit_price)\n",
    "                    FROM track\n",
    "                 )`"
   ]
  },
  {
   "cell_type": "markdown",
   "metadata": {},
   "source": [
    "We can use a **column, or function on an existing column**:"
   ]
  },
  {
   "cell_type": "markdown",
   "metadata": {},
   "source": [
    "`UPDATE track\n",
    "SET unit_price = unit_price * 1.1`"
   ]
  },
  {
   "cell_type": "markdown",
   "metadata": {},
   "source": [
    "Lastly, we can **set more than one column at once:**"
   ]
  },
  {
   "cell_type": "markdown",
   "metadata": {},
   "source": [
    "`UPDATE wishlist_track\n",
    "SET\n",
    "    active = 1,\n",
    "    purchased = 0;`"
   ]
  },
  {
   "cell_type": "markdown",
   "metadata": {},
   "source": [
    "`sqlite3 chinook.db\n",
    " sqlite3> UPDATE wishlist\n",
    "      ...> SET active = 1;\n",
    "  sqlite3> UPDATE wishlist_track\n",
    "      ...> SET active = 1;\n",
    "  sqlite3> .quit`"
   ]
  },
  {
   "cell_type": "markdown",
   "metadata": {},
   "source": [
    "# 8. Challenge: Adding Sales Tax Capabilities"
   ]
  },
  {
   "cell_type": "markdown",
   "metadata": {},
   "source": [
    "## TODO:\n",
    "* Launch the SQLite shell, connected to the chinook.db database.\n",
    "* Add two new columns, with values, to the invoice table:\n",
    "* tax, with type NUMERIC.\n",
    "  * The value for all existing rows should be 0.\n",
    "* subtotal, with type NUMERIC.\n",
    "  * The value for each row should be the same as that row's value for total.\n",
    "* Quit the SQLite shell."
   ]
  },
  {
   "cell_type": "markdown",
   "metadata": {},
   "source": [
    "`ALTER TABLE invoice\n",
    "     ...> ADD COLUMN tax NUMERIC;\n",
    "  sqlite3> ALTER TABLE invoice\n",
    "      ...> ADD COLUMN subtotal NUMERIC;\n",
    "  sqlite3> UPDATE invoice\n",
    "      ...> SET\n",
    "      ...>     tax = 0,\n",
    "      ...>     subtotal = total;\n",
    "  sqlite3> .quit\n",
    "`"
   ]
  },
  {
   "cell_type": "markdown",
   "metadata": {},
   "source": [
    "In this mission, we learned:\n",
    "* How to work with the SQLite shell.\n",
    "* How to create new tables and assign primary and foreign keys.\n",
    "* Basic concepts of database normalization.\n",
    "* How to insert new rows into tables.\n",
    "* How to add new columns to existing tables.\n",
    "* How to update existing data in tables."
   ]
  }
 ],
 "metadata": {
  "kernelspec": {
   "display_name": "Python 3",
   "language": "python",
   "name": "python3"
  },
  "language_info": {
   "codemirror_mode": {
    "name": "ipython",
    "version": 3
   },
   "file_extension": ".py",
   "mimetype": "text/x-python",
   "name": "python",
   "nbconvert_exporter": "python",
   "pygments_lexer": "ipython3",
   "version": "3.7.7"
  }
 },
 "nbformat": 4,
 "nbformat_minor": 2
}
